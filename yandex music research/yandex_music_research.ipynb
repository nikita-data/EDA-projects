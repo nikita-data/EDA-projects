{
  "cells": [
    {
      "cell_type": "markdown",
      "metadata": {
        "deletable": false,
        "editable": false,
        "id": "E0vqbgi9ay0H"
      },
      "source": [
        "# Исследование пользователей сервиса Яндекс Музыка"
      ]
    },
    {
      "cell_type": "markdown",
      "metadata": {
        "deletable": false,
        "editable": false,
        "id": "VUC88oWjTJw2"
      },
      "source": [
        "**Описание проекта**\n",
        "\n",
        "Сравнение Москвы и Петербурга окружено мифами. Например:\n",
        " * Москва — мегаполис, подчинённый жёсткому ритму рабочей недели;\n",
        " * Петербург — культурная столица, со своими вкусами.\n",
        "\n",
        "На данных Яндекс Музыки мы сравним поведение пользователей двух столиц.\n",
        "\n",
        "**Предоставленные файлы**\n",
        "\n",
        "  `yandex_music_project.csv`- данные о поведении пользователей\n",
        "\n",
        "**Цель исследования** — проверить несколько гипотез:\n",
        "\n",
        "1. Активность пользователей зависит от дня недели. Причём в Москве и Петербурге это проявляется по-разному.\n",
        "2. В понедельник утром в Москве преобладают одни жанры, а в Петербурге — другие. Так же и вечером пятницы преобладают разные жанры — в зависимости от города.\n",
        "3. Москва и Петербург предпочитают разные жанры музыки. В Москве чаще слушают поп-музыку, в Петербурге — русский рэп.\n",
        "\n",
        "**Основные шаги**\n",
        "\n",
        " 1. Обзор данных\n",
        " 2. Предобработка данных\n",
        " 3. Проверка гипотез\n",
        " 4. Общий вывод\n",
        "\n"
      ]
    },
    {
      "cell_type": "markdown",
      "metadata": {
        "deletable": false,
        "editable": false,
        "id": "Ml1hmfXC_Zcs"
      },
      "source": [
        "## Обзор данных\n",
        "\n",
        "Составим первое представление о данных Яндекс Музыки.\n",
        "\n",
        "\n"
      ]
    },
    {
      "cell_type": "code",
      "execution_count": 1,
      "metadata": {
        "deletable": false,
        "id": "AXN7PHPN_Zcs"
      },
      "outputs": [],
      "source": [
        "# импорт библиотек\n",
        "import pandas as pd"
      ]
    },
    {
      "cell_type": "markdown",
      "metadata": {
        "deletable": false,
        "editable": false,
        "id": "SG23P8tt_Zcs",
        "tags": [
          "start_task"
        ]
      },
      "source": [
        "Прочитаем файл `yandex_music_project.csv` из папки `/datasets` и сохраним его в переменной `df`:"
      ]
    },
    {
      "cell_type": "code",
      "execution_count": 2,
      "metadata": {
        "deletable": false,
        "id": "fFVu7vqh_Zct"
      },
      "outputs": [],
      "source": [
        "try:\n",
        "    df = pd.read_csv('https://code.s3.yandex.net//datasets/yandex_music_project.csv')\n",
        "except:\n",
        "    df = pd.read_csv('D:\\myuser\\YandexPracticumfilesproject\\yandex_music_project (2).csv')"
      ]
    },
    {
      "cell_type": "markdown",
      "metadata": {
        "deletable": false,
        "editable": false,
        "id": "rDoOMd3uTqnZ",
        "tags": [
          "start_task"
        ]
      },
      "source": [
        "Выведем на экран первые десять строк таблицы:"
      ]
    },
    {
      "cell_type": "code",
      "execution_count": 3,
      "metadata": {
        "deletable": false,
        "id": "oWTVX3gW_Zct",
        "colab": {
          "base_uri": "https://localhost:8080/",
          "height": 363
        },
        "outputId": "d373e21d-16c1-4f20-e714-582c41fa9ffd"
      },
      "outputs": [
        {
          "output_type": "execute_result",
          "data": {
            "text/plain": [
              "     userID                        Track            artist   genre  \\\n",
              "0  FFB692EC            Kamigata To Boots  The Mass Missile    rock   \n",
              "1  55204538  Delayed Because of Accident  Andreas Rönnberg    rock   \n",
              "2    20EC38            Funiculì funiculà       Mario Lanza     pop   \n",
              "3  A3DD03C9        Dragons in the Sunset        Fire + Ice    folk   \n",
              "4  E2DC1FAE                  Soul People        Space Echo   dance   \n",
              "5  842029A1                    Преданная         IMPERVTOR  rusrap   \n",
              "6  4CB90AA5                         True      Roman Messer   dance   \n",
              "7  F03E1C1F             Feeling This Way   Polina Griffith   dance   \n",
              "8  8FA1D3BE     И вновь продолжается бой               NaN  ruspop   \n",
              "9  E772D5C0                    Pessimist               NaN   dance   \n",
              "\n",
              "             City        time        Day  \n",
              "0  Saint-Petersburg  20:28:33  Wednesday  \n",
              "1            Moscow  14:07:09     Friday  \n",
              "2  Saint-Petersburg  20:58:07  Wednesday  \n",
              "3  Saint-Petersburg  08:37:09     Monday  \n",
              "4            Moscow  08:34:34     Monday  \n",
              "5  Saint-Petersburg  13:09:41     Friday  \n",
              "6            Moscow  13:00:07  Wednesday  \n",
              "7            Moscow  20:47:49  Wednesday  \n",
              "8            Moscow  09:17:40     Friday  \n",
              "9  Saint-Petersburg  21:20:49  Wednesday  "
            ],
            "text/html": [
              "\n",
              "  <div id=\"df-1b103825-4fb5-446c-8e47-996e3abe5116\" class=\"colab-df-container\">\n",
              "    <div>\n",
              "<style scoped>\n",
              "    .dataframe tbody tr th:only-of-type {\n",
              "        vertical-align: middle;\n",
              "    }\n",
              "\n",
              "    .dataframe tbody tr th {\n",
              "        vertical-align: top;\n",
              "    }\n",
              "\n",
              "    .dataframe thead th {\n",
              "        text-align: right;\n",
              "    }\n",
              "</style>\n",
              "<table border=\"1\" class=\"dataframe\">\n",
              "  <thead>\n",
              "    <tr style=\"text-align: right;\">\n",
              "      <th></th>\n",
              "      <th>userID</th>\n",
              "      <th>Track</th>\n",
              "      <th>artist</th>\n",
              "      <th>genre</th>\n",
              "      <th>City</th>\n",
              "      <th>time</th>\n",
              "      <th>Day</th>\n",
              "    </tr>\n",
              "  </thead>\n",
              "  <tbody>\n",
              "    <tr>\n",
              "      <th>0</th>\n",
              "      <td>FFB692EC</td>\n",
              "      <td>Kamigata To Boots</td>\n",
              "      <td>The Mass Missile</td>\n",
              "      <td>rock</td>\n",
              "      <td>Saint-Petersburg</td>\n",
              "      <td>20:28:33</td>\n",
              "      <td>Wednesday</td>\n",
              "    </tr>\n",
              "    <tr>\n",
              "      <th>1</th>\n",
              "      <td>55204538</td>\n",
              "      <td>Delayed Because of Accident</td>\n",
              "      <td>Andreas Rönnberg</td>\n",
              "      <td>rock</td>\n",
              "      <td>Moscow</td>\n",
              "      <td>14:07:09</td>\n",
              "      <td>Friday</td>\n",
              "    </tr>\n",
              "    <tr>\n",
              "      <th>2</th>\n",
              "      <td>20EC38</td>\n",
              "      <td>Funiculì funiculà</td>\n",
              "      <td>Mario Lanza</td>\n",
              "      <td>pop</td>\n",
              "      <td>Saint-Petersburg</td>\n",
              "      <td>20:58:07</td>\n",
              "      <td>Wednesday</td>\n",
              "    </tr>\n",
              "    <tr>\n",
              "      <th>3</th>\n",
              "      <td>A3DD03C9</td>\n",
              "      <td>Dragons in the Sunset</td>\n",
              "      <td>Fire + Ice</td>\n",
              "      <td>folk</td>\n",
              "      <td>Saint-Petersburg</td>\n",
              "      <td>08:37:09</td>\n",
              "      <td>Monday</td>\n",
              "    </tr>\n",
              "    <tr>\n",
              "      <th>4</th>\n",
              "      <td>E2DC1FAE</td>\n",
              "      <td>Soul People</td>\n",
              "      <td>Space Echo</td>\n",
              "      <td>dance</td>\n",
              "      <td>Moscow</td>\n",
              "      <td>08:34:34</td>\n",
              "      <td>Monday</td>\n",
              "    </tr>\n",
              "    <tr>\n",
              "      <th>5</th>\n",
              "      <td>842029A1</td>\n",
              "      <td>Преданная</td>\n",
              "      <td>IMPERVTOR</td>\n",
              "      <td>rusrap</td>\n",
              "      <td>Saint-Petersburg</td>\n",
              "      <td>13:09:41</td>\n",
              "      <td>Friday</td>\n",
              "    </tr>\n",
              "    <tr>\n",
              "      <th>6</th>\n",
              "      <td>4CB90AA5</td>\n",
              "      <td>True</td>\n",
              "      <td>Roman Messer</td>\n",
              "      <td>dance</td>\n",
              "      <td>Moscow</td>\n",
              "      <td>13:00:07</td>\n",
              "      <td>Wednesday</td>\n",
              "    </tr>\n",
              "    <tr>\n",
              "      <th>7</th>\n",
              "      <td>F03E1C1F</td>\n",
              "      <td>Feeling This Way</td>\n",
              "      <td>Polina Griffith</td>\n",
              "      <td>dance</td>\n",
              "      <td>Moscow</td>\n",
              "      <td>20:47:49</td>\n",
              "      <td>Wednesday</td>\n",
              "    </tr>\n",
              "    <tr>\n",
              "      <th>8</th>\n",
              "      <td>8FA1D3BE</td>\n",
              "      <td>И вновь продолжается бой</td>\n",
              "      <td>NaN</td>\n",
              "      <td>ruspop</td>\n",
              "      <td>Moscow</td>\n",
              "      <td>09:17:40</td>\n",
              "      <td>Friday</td>\n",
              "    </tr>\n",
              "    <tr>\n",
              "      <th>9</th>\n",
              "      <td>E772D5C0</td>\n",
              "      <td>Pessimist</td>\n",
              "      <td>NaN</td>\n",
              "      <td>dance</td>\n",
              "      <td>Saint-Petersburg</td>\n",
              "      <td>21:20:49</td>\n",
              "      <td>Wednesday</td>\n",
              "    </tr>\n",
              "  </tbody>\n",
              "</table>\n",
              "</div>\n",
              "    <div class=\"colab-df-buttons\">\n",
              "\n",
              "  <div class=\"colab-df-container\">\n",
              "    <button class=\"colab-df-convert\" onclick=\"convertToInteractive('df-1b103825-4fb5-446c-8e47-996e3abe5116')\"\n",
              "            title=\"Convert this dataframe to an interactive table.\"\n",
              "            style=\"display:none;\">\n",
              "\n",
              "  <svg xmlns=\"http://www.w3.org/2000/svg\" height=\"24px\" viewBox=\"0 -960 960 960\">\n",
              "    <path d=\"M120-120v-720h720v720H120Zm60-500h600v-160H180v160Zm220 220h160v-160H400v160Zm0 220h160v-160H400v160ZM180-400h160v-160H180v160Zm440 0h160v-160H620v160ZM180-180h160v-160H180v160Zm440 0h160v-160H620v160Z\"/>\n",
              "  </svg>\n",
              "    </button>\n",
              "\n",
              "  <style>\n",
              "    .colab-df-container {\n",
              "      display:flex;\n",
              "      gap: 12px;\n",
              "    }\n",
              "\n",
              "    .colab-df-convert {\n",
              "      background-color: #E8F0FE;\n",
              "      border: none;\n",
              "      border-radius: 50%;\n",
              "      cursor: pointer;\n",
              "      display: none;\n",
              "      fill: #1967D2;\n",
              "      height: 32px;\n",
              "      padding: 0 0 0 0;\n",
              "      width: 32px;\n",
              "    }\n",
              "\n",
              "    .colab-df-convert:hover {\n",
              "      background-color: #E2EBFA;\n",
              "      box-shadow: 0px 1px 2px rgba(60, 64, 67, 0.3), 0px 1px 3px 1px rgba(60, 64, 67, 0.15);\n",
              "      fill: #174EA6;\n",
              "    }\n",
              "\n",
              "    .colab-df-buttons div {\n",
              "      margin-bottom: 4px;\n",
              "    }\n",
              "\n",
              "    [theme=dark] .colab-df-convert {\n",
              "      background-color: #3B4455;\n",
              "      fill: #D2E3FC;\n",
              "    }\n",
              "\n",
              "    [theme=dark] .colab-df-convert:hover {\n",
              "      background-color: #434B5C;\n",
              "      box-shadow: 0px 1px 3px 1px rgba(0, 0, 0, 0.15);\n",
              "      filter: drop-shadow(0px 1px 2px rgba(0, 0, 0, 0.3));\n",
              "      fill: #FFFFFF;\n",
              "    }\n",
              "  </style>\n",
              "\n",
              "    <script>\n",
              "      const buttonEl =\n",
              "        document.querySelector('#df-1b103825-4fb5-446c-8e47-996e3abe5116 button.colab-df-convert');\n",
              "      buttonEl.style.display =\n",
              "        google.colab.kernel.accessAllowed ? 'block' : 'none';\n",
              "\n",
              "      async function convertToInteractive(key) {\n",
              "        const element = document.querySelector('#df-1b103825-4fb5-446c-8e47-996e3abe5116');\n",
              "        const dataTable =\n",
              "          await google.colab.kernel.invokeFunction('convertToInteractive',\n",
              "                                                    [key], {});\n",
              "        if (!dataTable) return;\n",
              "\n",
              "        const docLinkHtml = 'Like what you see? Visit the ' +\n",
              "          '<a target=\"_blank\" href=https://colab.research.google.com/notebooks/data_table.ipynb>data table notebook</a>'\n",
              "          + ' to learn more about interactive tables.';\n",
              "        element.innerHTML = '';\n",
              "        dataTable['output_type'] = 'display_data';\n",
              "        await google.colab.output.renderOutput(dataTable, element);\n",
              "        const docLink = document.createElement('div');\n",
              "        docLink.innerHTML = docLinkHtml;\n",
              "        element.appendChild(docLink);\n",
              "      }\n",
              "    </script>\n",
              "  </div>\n",
              "\n",
              "\n",
              "<div id=\"df-feb421b6-6f2d-4f25-b4c5-fc9994c6f96e\">\n",
              "  <button class=\"colab-df-quickchart\" onclick=\"quickchart('df-feb421b6-6f2d-4f25-b4c5-fc9994c6f96e')\"\n",
              "            title=\"Suggest charts\"\n",
              "            style=\"display:none;\">\n",
              "\n",
              "<svg xmlns=\"http://www.w3.org/2000/svg\" height=\"24px\"viewBox=\"0 0 24 24\"\n",
              "     width=\"24px\">\n",
              "    <g>\n",
              "        <path d=\"M19 3H5c-1.1 0-2 .9-2 2v14c0 1.1.9 2 2 2h14c1.1 0 2-.9 2-2V5c0-1.1-.9-2-2-2zM9 17H7v-7h2v7zm4 0h-2V7h2v10zm4 0h-2v-4h2v4z\"/>\n",
              "    </g>\n",
              "</svg>\n",
              "  </button>\n",
              "\n",
              "<style>\n",
              "  .colab-df-quickchart {\n",
              "      --bg-color: #E8F0FE;\n",
              "      --fill-color: #1967D2;\n",
              "      --hover-bg-color: #E2EBFA;\n",
              "      --hover-fill-color: #174EA6;\n",
              "      --disabled-fill-color: #AAA;\n",
              "      --disabled-bg-color: #DDD;\n",
              "  }\n",
              "\n",
              "  [theme=dark] .colab-df-quickchart {\n",
              "      --bg-color: #3B4455;\n",
              "      --fill-color: #D2E3FC;\n",
              "      --hover-bg-color: #434B5C;\n",
              "      --hover-fill-color: #FFFFFF;\n",
              "      --disabled-bg-color: #3B4455;\n",
              "      --disabled-fill-color: #666;\n",
              "  }\n",
              "\n",
              "  .colab-df-quickchart {\n",
              "    background-color: var(--bg-color);\n",
              "    border: none;\n",
              "    border-radius: 50%;\n",
              "    cursor: pointer;\n",
              "    display: none;\n",
              "    fill: var(--fill-color);\n",
              "    height: 32px;\n",
              "    padding: 0;\n",
              "    width: 32px;\n",
              "  }\n",
              "\n",
              "  .colab-df-quickchart:hover {\n",
              "    background-color: var(--hover-bg-color);\n",
              "    box-shadow: 0 1px 2px rgba(60, 64, 67, 0.3), 0 1px 3px 1px rgba(60, 64, 67, 0.15);\n",
              "    fill: var(--button-hover-fill-color);\n",
              "  }\n",
              "\n",
              "  .colab-df-quickchart-complete:disabled,\n",
              "  .colab-df-quickchart-complete:disabled:hover {\n",
              "    background-color: var(--disabled-bg-color);\n",
              "    fill: var(--disabled-fill-color);\n",
              "    box-shadow: none;\n",
              "  }\n",
              "\n",
              "  .colab-df-spinner {\n",
              "    border: 2px solid var(--fill-color);\n",
              "    border-color: transparent;\n",
              "    border-bottom-color: var(--fill-color);\n",
              "    animation:\n",
              "      spin 1s steps(1) infinite;\n",
              "  }\n",
              "\n",
              "  @keyframes spin {\n",
              "    0% {\n",
              "      border-color: transparent;\n",
              "      border-bottom-color: var(--fill-color);\n",
              "      border-left-color: var(--fill-color);\n",
              "    }\n",
              "    20% {\n",
              "      border-color: transparent;\n",
              "      border-left-color: var(--fill-color);\n",
              "      border-top-color: var(--fill-color);\n",
              "    }\n",
              "    30% {\n",
              "      border-color: transparent;\n",
              "      border-left-color: var(--fill-color);\n",
              "      border-top-color: var(--fill-color);\n",
              "      border-right-color: var(--fill-color);\n",
              "    }\n",
              "    40% {\n",
              "      border-color: transparent;\n",
              "      border-right-color: var(--fill-color);\n",
              "      border-top-color: var(--fill-color);\n",
              "    }\n",
              "    60% {\n",
              "      border-color: transparent;\n",
              "      border-right-color: var(--fill-color);\n",
              "    }\n",
              "    80% {\n",
              "      border-color: transparent;\n",
              "      border-right-color: var(--fill-color);\n",
              "      border-bottom-color: var(--fill-color);\n",
              "    }\n",
              "    90% {\n",
              "      border-color: transparent;\n",
              "      border-bottom-color: var(--fill-color);\n",
              "    }\n",
              "  }\n",
              "</style>\n",
              "\n",
              "  <script>\n",
              "    async function quickchart(key) {\n",
              "      const quickchartButtonEl =\n",
              "        document.querySelector('#' + key + ' button');\n",
              "      quickchartButtonEl.disabled = true;  // To prevent multiple clicks.\n",
              "      quickchartButtonEl.classList.add('colab-df-spinner');\n",
              "      try {\n",
              "        const charts = await google.colab.kernel.invokeFunction(\n",
              "            'suggestCharts', [key], {});\n",
              "      } catch (error) {\n",
              "        console.error('Error during call to suggestCharts:', error);\n",
              "      }\n",
              "      quickchartButtonEl.classList.remove('colab-df-spinner');\n",
              "      quickchartButtonEl.classList.add('colab-df-quickchart-complete');\n",
              "    }\n",
              "    (() => {\n",
              "      let quickchartButtonEl =\n",
              "        document.querySelector('#df-feb421b6-6f2d-4f25-b4c5-fc9994c6f96e button');\n",
              "      quickchartButtonEl.style.display =\n",
              "        google.colab.kernel.accessAllowed ? 'block' : 'none';\n",
              "    })();\n",
              "  </script>\n",
              "</div>\n",
              "    </div>\n",
              "  </div>\n"
            ],
            "application/vnd.google.colaboratory.intrinsic+json": {
              "type": "dataframe",
              "variable_name": "df",
              "summary": "{\n  \"name\": \"df\",\n  \"rows\": 65079,\n  \"fields\": [\n    {\n      \"column\": \"  userID\",\n      \"properties\": {\n        \"dtype\": \"string\",\n        \"num_unique_values\": 41748,\n        \"samples\": [\n          \"8ECFAD5A\",\n          \"64C7383F\",\n          \"4179A5A2\"\n        ],\n        \"semantic_type\": \"\",\n        \"description\": \"\"\n      }\n    },\n    {\n      \"column\": \"Track\",\n      \"properties\": {\n        \"dtype\": \"string\",\n        \"num_unique_values\": 47245,\n        \"samples\": [\n          \"\\u0421\\u0435\\u043d\\u044c\\u0439\\u043e\\u0440\\u0430\",\n          \"Vivaldi: Gloria in D R.589 - Qui tollis\",\n          \"Satellite Of Love\"\n        ],\n        \"semantic_type\": \"\",\n        \"description\": \"\"\n      }\n    },\n    {\n      \"column\": \"artist\",\n      \"properties\": {\n        \"dtype\": \"string\",\n        \"num_unique_values\": 43605,\n        \"samples\": [\n          \"John Cale\",\n          \"Kube\",\n          \"Headcornerstone feat. Uwe Banton\"\n        ],\n        \"semantic_type\": \"\",\n        \"description\": \"\"\n      }\n    },\n    {\n      \"column\": \"genre\",\n      \"properties\": {\n        \"dtype\": \"category\",\n        \"num_unique_values\": 289,\n        \"samples\": [\n          \"film\",\n          \"electropop\",\n          \"neue\"\n        ],\n        \"semantic_type\": \"\",\n        \"description\": \"\"\n      }\n    },\n    {\n      \"column\": \"  City  \",\n      \"properties\": {\n        \"dtype\": \"category\",\n        \"num_unique_values\": 2,\n        \"samples\": [\n          \"Moscow\",\n          \"Saint-Petersburg\"\n        ],\n        \"semantic_type\": \"\",\n        \"description\": \"\"\n      }\n    },\n    {\n      \"column\": \"time\",\n      \"properties\": {\n        \"dtype\": \"object\",\n        \"num_unique_values\": 20392,\n        \"samples\": [\n          \"20:48:00\",\n          \"09:55:02\"\n        ],\n        \"semantic_type\": \"\",\n        \"description\": \"\"\n      }\n    },\n    {\n      \"column\": \"Day\",\n      \"properties\": {\n        \"dtype\": \"category\",\n        \"num_unique_values\": 3,\n        \"samples\": [\n          \"Wednesday\",\n          \"Friday\"\n        ],\n        \"semantic_type\": \"\",\n        \"description\": \"\"\n      }\n    }\n  ]\n}"
            }
          },
          "metadata": {},
          "execution_count": 3
        }
      ],
      "source": [
        "df.head(10)"
      ]
    },
    {
      "cell_type": "markdown",
      "metadata": {
        "deletable": false,
        "editable": false,
        "id": "EO73Kwic_Zct",
        "tags": [
          "start_task"
        ]
      },
      "source": [
        "\n",
        "Получим общую информацию о таблице c помощью метода `info()`:"
      ]
    },
    {
      "cell_type": "code",
      "execution_count": 4,
      "metadata": {
        "deletable": false,
        "id": "DSf2kIb-_Zct",
        "scrolled": true,
        "colab": {
          "base_uri": "https://localhost:8080/"
        },
        "outputId": "5a5a0af3-bdaf-47fd-df5d-1a42310aaa42"
      },
      "outputs": [
        {
          "output_type": "stream",
          "name": "stdout",
          "text": [
            "<class 'pandas.core.frame.DataFrame'>\n",
            "RangeIndex: 65079 entries, 0 to 65078\n",
            "Data columns (total 7 columns):\n",
            " #   Column    Non-Null Count  Dtype \n",
            "---  ------    --------------  ----- \n",
            " 0     userID  65079 non-null  object\n",
            " 1   Track     63848 non-null  object\n",
            " 2   artist    57876 non-null  object\n",
            " 3   genre     63881 non-null  object\n",
            " 4     City    65079 non-null  object\n",
            " 5   time      65079 non-null  object\n",
            " 6   Day       65079 non-null  object\n",
            "dtypes: object(7)\n",
            "memory usage: 3.5+ MB\n"
          ]
        }
      ],
      "source": [
        "df.info()"
      ]
    },
    {
      "cell_type": "markdown",
      "metadata": {
        "deletable": false,
        "editable": false,
        "id": "TaQ2Iwbr_Zct"
      },
      "source": [
        "Итак, в таблице семь столбцов. Тип данных во всех столбцах — `object`.\n",
        "\n",
        "Согласно документации к данным:\n",
        "* `userID` — идентификатор пользователя;\n",
        "* `Track` — название трека;  \n",
        "* `artist` — имя исполнителя;\n",
        "* `genre` — название жанра;\n",
        "* `City` — город пользователя;\n",
        "* `time` — время начала прослушивания;\n",
        "* `Day` — день недели.\n",
        "\n",
        "Количество значений в столбцах различается. Значит, в данных есть пропущенные значения."
      ]
    },
    {
      "cell_type": "markdown",
      "metadata": {
        "deletable": false,
        "editable": false,
        "id": "MCB6-dXG_Zct"
      },
      "source": [
        "**Выводы**\n",
        "\n",
        "В каждой строке таблицы — данные о прослушанном треке. Часть колонок описывает саму композицию: название, исполнителя и жанр. Остальные данные рассказывают о пользователе: из какого он города, когда он слушал музыку.\n",
        "\n",
        "Предварительно можно утверждать, что данных достаточно для проверки гипотез. Но встречаются пропуски в данных, а в названиях колонок — расхождения с хорошим стилем.\n",
        "\n",
        "Чтобы двигаться дальше, нужно устранить проблемы в данных."
      ]
    },
    {
      "cell_type": "markdown",
      "metadata": {
        "deletable": false,
        "editable": false,
        "id": "SjYF6Ub9_Zct"
      },
      "source": [
        "## Предобработка данных\n",
        "Исправим стиль в заголовках столбцов, исключим пропуски. Затем проверим данные на дубликаты."
      ]
    },
    {
      "cell_type": "markdown",
      "metadata": {
        "deletable": false,
        "editable": false,
        "id": "dIaKXr29_Zct",
        "tags": [
          "start_task"
        ]
      },
      "source": [
        "### Стиль заголовков\n",
        "\n",
        "Выведем на экран названия столбцов:"
      ]
    },
    {
      "cell_type": "code",
      "execution_count": 6,
      "metadata": {
        "deletable": false,
        "id": "oKOTdF_Q_Zct",
        "colab": {
          "base_uri": "https://localhost:8080/"
        },
        "outputId": "6cad6a21-5030-487e-d65b-9d002b3f8a55"
      },
      "outputs": [
        {
          "output_type": "execute_result",
          "data": {
            "text/plain": [
              "Index(['  userID', 'Track', 'artist', 'genre', '  City  ', 'time', 'Day'], dtype='object')"
            ]
          },
          "metadata": {},
          "execution_count": 6
        }
      ],
      "source": [
        "df.columns  # перечень названий столбцов таблицы df"
      ]
    },
    {
      "cell_type": "markdown",
      "metadata": {
        "deletable": false,
        "editable": false,
        "id": "zj5534cv_Zct",
        "tags": [
          "start_task"
        ]
      },
      "source": [
        "Приведём названия в соответствие с хорошим стилем:\n",
        "* несколько слов в названии запишем в «змеином_регистре»,\n",
        "* все символы сделаем строчными,\n",
        "* устраним пробелы.\n"
      ]
    },
    {
      "cell_type": "code",
      "execution_count": 7,
      "metadata": {
        "deletable": false,
        "id": "ISlFqs5y_Zct"
      },
      "outputs": [],
      "source": [
        "df = df.rename(columns = {'  userID': 'user_id','Track': 'track','  City  ': 'city','Day':'day'})"
      ]
    },
    {
      "cell_type": "markdown",
      "metadata": {
        "deletable": false,
        "editable": false,
        "id": "1dqbh00J_Zct",
        "tags": [
          "start_task"
        ]
      },
      "source": [
        "Проверим результат. Для этого ещё раз выведем на экран названия столбцов."
      ]
    },
    {
      "cell_type": "code",
      "execution_count": 8,
      "metadata": {
        "deletable": false,
        "id": "d4NOAmTW_Zct",
        "colab": {
          "base_uri": "https://localhost:8080/"
        },
        "outputId": "6b79ad46-6adf-4f79-ff6c-153857e8dd8c"
      },
      "outputs": [
        {
          "output_type": "execute_result",
          "data": {
            "text/plain": [
              "Index(['user_id', 'track', 'artist', 'genre', 'city', 'time', 'day'], dtype='object')"
            ]
          },
          "metadata": {},
          "execution_count": 8
        }
      ],
      "source": [
        "df.columns"
      ]
    },
    {
      "cell_type": "markdown",
      "metadata": {
        "deletable": false,
        "editable": false,
        "id": "5ISfbcfY_Zct",
        "tags": [
          "start_task"
        ]
      },
      "source": [
        "### Пропуски значений\n",
        "\n",
        "Сначала посчитаем, сколько в таблице пропущенных значений."
      ]
    },
    {
      "cell_type": "code",
      "execution_count": 9,
      "metadata": {
        "deletable": false,
        "id": "RskX29qr_Zct",
        "colab": {
          "base_uri": "https://localhost:8080/"
        },
        "outputId": "a7b25a12-0ae5-494a-eb6b-667ce163bdf0"
      },
      "outputs": [
        {
          "output_type": "execute_result",
          "data": {
            "text/plain": [
              "user_id       0\n",
              "track      1231\n",
              "artist     7203\n",
              "genre      1198\n",
              "city          0\n",
              "time          0\n",
              "day           0\n",
              "dtype: int64"
            ]
          },
          "metadata": {},
          "execution_count": 9
        }
      ],
      "source": [
        "df.isna().sum()"
      ]
    },
    {
      "cell_type": "markdown",
      "metadata": {
        "deletable": false,
        "editable": false,
        "id": "qubhgnlO_Zct"
      },
      "source": [
        "Не все пропущенные значения влияют на исследование. Так в `track` и `artist` пропуски не важны для вашей работы. Достаточно заменить их явными обозначениями.\n",
        "\n",
        "Но пропуски в `genre` могут помешать сравнению музыкальных вкусов в Москве и Санкт-Петербурге. На практике было бы правильно установить причину пропусков и восстановить данные. Такой возможности у нас нет. Придётся:\n",
        "* заполнить и эти пропуски явными обозначениями;\n",
        "* оценить, насколько они повредят расчётам."
      ]
    },
    {
      "cell_type": "markdown",
      "metadata": {
        "deletable": false,
        "editable": false,
        "id": "fSv2laPA_Zct",
        "tags": [
          "start_task"
        ]
      },
      "source": [
        "Заменим пропущенные значения в столбцах `track`, `artist` и `genre` на строку `'unknown'`. Для этого создадим список `columns_to_replace` и  переберём его элементы циклом `for` и для каждого столбца выполним замену пропущенных значений."
      ]
    },
    {
      "cell_type": "code",
      "execution_count": 10,
      "metadata": {
        "deletable": false,
        "id": "KplB5qWs_Zct"
      },
      "outputs": [],
      "source": [
        "columns_to_replace = ['track','artist','genre']\n",
        "for index in columns_to_replace:\n",
        "    df[index]= df[index].fillna('unknown')\n",
        "# перебор названий столбцов в цикле и замена пропущенных значений на 'unknown'"
      ]
    },
    {
      "cell_type": "markdown",
      "metadata": {
        "deletable": false,
        "editable": false,
        "id": "Ilsm-MZo_Zct",
        "tags": [
          "start_task"
        ]
      },
      "source": [
        "Убедимся, что в таблице не осталось пропусков. Для этого ещё раз посчитаем пропущенные значения."
      ]
    },
    {
      "cell_type": "code",
      "execution_count": 11,
      "metadata": {
        "deletable": false,
        "id": "Tq4nYRX4_Zct",
        "colab": {
          "base_uri": "https://localhost:8080/"
        },
        "outputId": "877a71da-5342-4224-846f-aba7b9f1b06a"
      },
      "outputs": [
        {
          "output_type": "execute_result",
          "data": {
            "text/plain": [
              "user_id    0\n",
              "track      0\n",
              "artist     0\n",
              "genre      0\n",
              "city       0\n",
              "time       0\n",
              "day        0\n",
              "dtype: int64"
            ]
          },
          "metadata": {},
          "execution_count": 11
        }
      ],
      "source": [
        "df.isna().sum()"
      ]
    },
    {
      "cell_type": "markdown",
      "metadata": {
        "deletable": false,
        "editable": false,
        "id": "BWKRtBJ3_Zct",
        "tags": [
          "start_task"
        ]
      },
      "source": [
        "### Дубликаты\n",
        "\n",
        "Посчитаем явные дубликаты в таблице"
      ]
    },
    {
      "cell_type": "code",
      "execution_count": 12,
      "metadata": {
        "deletable": false,
        "id": "36eES_S0_Zct",
        "scrolled": true,
        "colab": {
          "base_uri": "https://localhost:8080/"
        },
        "outputId": "2f72fb73-204e-481c-acff-e577569211f4"
      },
      "outputs": [
        {
          "output_type": "execute_result",
          "data": {
            "text/plain": [
              "3826"
            ]
          },
          "metadata": {},
          "execution_count": 12
        }
      ],
      "source": [
        "df.duplicated().sum()"
      ]
    },
    {
      "cell_type": "markdown",
      "metadata": {
        "deletable": false,
        "editable": false,
        "id": "Ot25h6XR_Zct",
        "tags": [
          "start_task"
        ]
      },
      "source": [
        "Удалим явные дубликаты"
      ]
    },
    {
      "cell_type": "code",
      "execution_count": 13,
      "metadata": {
        "deletable": false,
        "id": "exFHq6tt_Zct"
      },
      "outputs": [],
      "source": [
        "df = df.drop_duplicates()"
      ]
    },
    {
      "cell_type": "markdown",
      "metadata": {
        "deletable": false,
        "editable": false,
        "id": "Im2YwBEG_Zct",
        "tags": [
          "start_task"
        ]
      },
      "source": [
        "Проверка после удаления"
      ]
    },
    {
      "cell_type": "code",
      "execution_count": 14,
      "metadata": {
        "deletable": false,
        "id": "-8PuNWQ0_Zct",
        "colab": {
          "base_uri": "https://localhost:8080/"
        },
        "outputId": "52c6e3b0-2066-415b-8d59-905224f2575a"
      },
      "outputs": [
        {
          "output_type": "execute_result",
          "data": {
            "text/plain": [
              "0"
            ]
          },
          "metadata": {},
          "execution_count": 14
        }
      ],
      "source": [
        "df.duplicated().sum()   # проверка на отсутствие дубликатов"
      ]
    },
    {
      "cell_type": "markdown",
      "metadata": {
        "deletable": false,
        "editable": false,
        "id": "QlFBsxAr_Zct"
      },
      "source": [
        "Теперь избавимся от неявных дубликатов в колонке `genre`. Например, название одного и того же жанра может быть записано немного по-разному. Такие ошибки тоже повлияют на результат исследования."
      ]
    },
    {
      "cell_type": "markdown",
      "metadata": {
        "deletable": false,
        "editable": false,
        "id": "eSjWwsOh_Zct",
        "tags": [
          "start_task"
        ]
      },
      "source": [
        "Выведем на экран список уникальных названий жанров, отсортированный в алфавитном порядке. Для этого:\n",
        "\n",
        "1. извлечем нужный столбец датафрейма;\n",
        "2. применим к нему метод сортировки;\n",
        "3. для отсортированного столбца вызовем метод, который вернёт уникальные значения из столбца."
      ]
    },
    {
      "cell_type": "code",
      "execution_count": 15,
      "metadata": {
        "deletable": false,
        "id": "JIUcqzZN_Zct",
        "colab": {
          "base_uri": "https://localhost:8080/"
        },
        "outputId": "325a04a4-df43-412d-ffd8-5d3f18361886"
      },
      "outputs": [
        {
          "output_type": "execute_result",
          "data": {
            "text/plain": [
              "array(['acid', 'acoustic', 'action', 'adult', 'africa', 'afrikaans',\n",
              "       'alternative', 'alternativepunk', 'ambient', 'americana',\n",
              "       'animated', 'anime', 'arabesk', 'arabic', 'arena',\n",
              "       'argentinetango', 'art', 'audiobook', 'author', 'avantgarde',\n",
              "       'axé', 'baile', 'balkan', 'beats', 'bigroom', 'black', 'bluegrass',\n",
              "       'blues', 'bollywood', 'bossa', 'brazilian', 'breakbeat', 'breaks',\n",
              "       'broadway', 'cantautori', 'cantopop', 'canzone', 'caribbean',\n",
              "       'caucasian', 'celtic', 'chamber', 'chanson', 'children', 'chill',\n",
              "       'chinese', 'choral', 'christian', 'christmas', 'classical',\n",
              "       'classicmetal', 'club', 'colombian', 'comedy', 'conjazz',\n",
              "       'contemporary', 'country', 'cuban', 'dance', 'dancehall',\n",
              "       'dancepop', 'dark', 'death', 'deep', 'deutschrock', 'deutschspr',\n",
              "       'dirty', 'disco', 'dnb', 'documentary', 'downbeat', 'downtempo',\n",
              "       'drum', 'dub', 'dubstep', 'eastern', 'easy', 'electronic',\n",
              "       'electropop', 'emo', 'entehno', 'epicmetal', 'estrada', 'ethnic',\n",
              "       'eurofolk', 'european', 'experimental', 'extrememetal', 'fado',\n",
              "       'fairytail', 'film', 'fitness', 'flamenco', 'folk', 'folklore',\n",
              "       'folkmetal', 'folkrock', 'folktronica', 'forró', 'frankreich',\n",
              "       'französisch', 'french', 'funk', 'future', 'gangsta', 'garage',\n",
              "       'german', 'ghazal', 'gitarre', 'glitch', 'gospel', 'gothic',\n",
              "       'grime', 'grunge', 'gypsy', 'handsup', \"hard'n'heavy\", 'hardcore',\n",
              "       'hardstyle', 'hardtechno', 'hip', 'hip-hop', 'hiphop',\n",
              "       'historisch', 'holiday', 'hop', 'horror', 'house', 'hymn', 'idm',\n",
              "       'independent', 'indian', 'indie', 'indipop', 'industrial',\n",
              "       'inspirational', 'instrumental', 'international', 'irish', 'jam',\n",
              "       'japanese', 'jazz', 'jewish', 'jpop', 'jungle', 'k-pop',\n",
              "       'karadeniz', 'karaoke', 'kayokyoku', 'korean', 'laiko', 'latin',\n",
              "       'latino', 'leftfield', 'local', 'lounge', 'loungeelectronic',\n",
              "       'lovers', 'malaysian', 'mandopop', 'marschmusik', 'meditative',\n",
              "       'mediterranean', 'melodic', 'metal', 'metalcore', 'mexican',\n",
              "       'middle', 'minimal', 'miscellaneous', 'modern', 'mood', 'mpb',\n",
              "       'muslim', 'native', 'neoklassik', 'neue', 'new', 'newage',\n",
              "       'newwave', 'nu', 'nujazz', 'numetal', 'oceania', 'old', 'opera',\n",
              "       'orchestral', 'other', 'piano', 'podcasts', 'pop', 'popdance',\n",
              "       'popelectronic', 'popeurodance', 'poprussian', 'post',\n",
              "       'posthardcore', 'postrock', 'power', 'progmetal', 'progressive',\n",
              "       'psychedelic', 'punjabi', 'punk', 'quebecois', 'ragga', 'ram',\n",
              "       'rancheras', 'rap', 'rave', 'reggae', 'reggaeton', 'regional',\n",
              "       'relax', 'religious', 'retro', 'rhythm', 'rnb', 'rnr', 'rock',\n",
              "       'rockabilly', 'rockalternative', 'rockindie', 'rockother',\n",
              "       'romance', 'roots', 'ruspop', 'rusrap', 'rusrock', 'russian',\n",
              "       'salsa', 'samba', 'scenic', 'schlager', 'self', 'sertanejo',\n",
              "       'shanson', 'shoegazing', 'showtunes', 'singer', 'ska', 'skarock',\n",
              "       'slow', 'smooth', 'soft', 'soul', 'soulful', 'sound', 'soundtrack',\n",
              "       'southern', 'specialty', 'speech', 'spiritual', 'sport',\n",
              "       'stonerrock', 'surf', 'swing', 'synthpop', 'synthrock',\n",
              "       'sängerportrait', 'tango', 'tanzorchester', 'taraftar', 'tatar',\n",
              "       'tech', 'techno', 'teen', 'thrash', 'top', 'traditional',\n",
              "       'tradjazz', 'trance', 'tribal', 'trip', 'triphop', 'tropical',\n",
              "       'türk', 'türkçe', 'ukrrock', 'unknown', 'urban', 'uzbek',\n",
              "       'variété', 'vi', 'videogame', 'vocal', 'western', 'world',\n",
              "       'worldbeat', 'ïîï', 'электроника'], dtype=object)"
            ]
          },
          "metadata": {},
          "execution_count": 15
        }
      ],
      "source": [
        "df_sorted = df.sort_values(by='genre',ascending = True )\n",
        "df_sorted['genre'].unique()"
      ]
    },
    {
      "cell_type": "markdown",
      "metadata": {
        "deletable": false,
        "editable": false,
        "id": "qej-Qmuo_Zct",
        "tags": [
          "start_task"
        ]
      },
      "source": [
        "Просмотрим на  список и найдём неявные дубликаты.\n",
        "\n",
        "Мы обнаружили следующие неявные дубликаты:\n",
        "* *hip*,\n",
        "* *hop*,\n",
        "* *hip-hop*.\n",
        "\n",
        "Это могут быть названия с ошибками или альтернативные названия того же жанра.\n",
        "\n",
        "\n",
        "Чтобы очистить от них таблицу используем метод `replace()` с двумя аргументами: списком строк-дубликатов (включащий *hip*, *hop* и *hip-hop*) и строкой с правильным значением. Нам нужно исправить колонку `genre` в таблице `df`: заменить каждое значение из списка дубликатов на верное. Вместо `hip`, `hop` и `hip-hop` в таблице должно быть значение `hiphop`:"
      ]
    },
    {
      "cell_type": "code",
      "execution_count": 16,
      "metadata": {
        "deletable": false,
        "id": "ErNDkmns_Zct"
      },
      "outputs": [],
      "source": [
        "df['genre'] = df['genre'].replace('hip','hiphop')\n",
        "df['genre'] = df['genre'].replace('hop','hiphop')\n",
        "df['genre'] = df['genre'].replace('hip-hop','hiphop')"
      ]
    },
    {
      "cell_type": "markdown",
      "metadata": {
        "deletable": false,
        "editable": false,
        "id": "zQKF16_RG15m",
        "tags": [
          "start_task"
        ]
      },
      "source": [
        "Проверка после замены\n"
      ]
    },
    {
      "cell_type": "code",
      "execution_count": 17,
      "metadata": {
        "deletable": false,
        "id": "wvixALnFG15m",
        "colab": {
          "base_uri": "https://localhost:8080/"
        },
        "outputId": "06d95b7d-1088-4326-e844-961e55999723"
      },
      "outputs": [
        {
          "output_type": "execute_result",
          "data": {
            "text/plain": [
              "array(['acid', 'acoustic', 'action', 'adult', 'africa', 'afrikaans',\n",
              "       'alternative', 'alternativepunk', 'ambient', 'americana',\n",
              "       'animated', 'anime', 'arabesk', 'arabic', 'arena',\n",
              "       'argentinetango', 'art', 'audiobook', 'author', 'avantgarde',\n",
              "       'axé', 'baile', 'balkan', 'beats', 'bigroom', 'black', 'bluegrass',\n",
              "       'blues', 'bollywood', 'bossa', 'brazilian', 'breakbeat', 'breaks',\n",
              "       'broadway', 'cantautori', 'cantopop', 'canzone', 'caribbean',\n",
              "       'caucasian', 'celtic', 'chamber', 'chanson', 'children', 'chill',\n",
              "       'chinese', 'choral', 'christian', 'christmas', 'classical',\n",
              "       'classicmetal', 'club', 'colombian', 'comedy', 'conjazz',\n",
              "       'contemporary', 'country', 'cuban', 'dance', 'dancehall',\n",
              "       'dancepop', 'dark', 'death', 'deep', 'deutschrock', 'deutschspr',\n",
              "       'dirty', 'disco', 'dnb', 'documentary', 'downbeat', 'downtempo',\n",
              "       'drum', 'dub', 'dubstep', 'eastern', 'easy', 'electronic',\n",
              "       'electropop', 'emo', 'entehno', 'epicmetal', 'estrada', 'ethnic',\n",
              "       'eurofolk', 'european', 'experimental', 'extrememetal', 'fado',\n",
              "       'fairytail', 'film', 'fitness', 'flamenco', 'folk', 'folklore',\n",
              "       'folkmetal', 'folkrock', 'folktronica', 'forró', 'frankreich',\n",
              "       'französisch', 'french', 'funk', 'future', 'gangsta', 'garage',\n",
              "       'german', 'ghazal', 'gitarre', 'glitch', 'gospel', 'gothic',\n",
              "       'grime', 'grunge', 'gypsy', 'handsup', \"hard'n'heavy\", 'hardcore',\n",
              "       'hardstyle', 'hardtechno', 'hiphop', 'historisch', 'holiday',\n",
              "       'horror', 'house', 'hymn', 'idm', 'independent', 'indian', 'indie',\n",
              "       'indipop', 'industrial', 'inspirational', 'instrumental',\n",
              "       'international', 'irish', 'jam', 'japanese', 'jazz', 'jewish',\n",
              "       'jpop', 'jungle', 'k-pop', 'karadeniz', 'karaoke', 'kayokyoku',\n",
              "       'korean', 'laiko', 'latin', 'latino', 'leftfield', 'local',\n",
              "       'lounge', 'loungeelectronic', 'lovers', 'malaysian', 'mandopop',\n",
              "       'marschmusik', 'meditative', 'mediterranean', 'melodic', 'metal',\n",
              "       'metalcore', 'mexican', 'middle', 'minimal', 'miscellaneous',\n",
              "       'modern', 'mood', 'mpb', 'muslim', 'native', 'neoklassik', 'neue',\n",
              "       'new', 'newage', 'newwave', 'nu', 'nujazz', 'numetal', 'oceania',\n",
              "       'old', 'opera', 'orchestral', 'other', 'piano', 'podcasts', 'pop',\n",
              "       'popdance', 'popelectronic', 'popeurodance', 'poprussian', 'post',\n",
              "       'posthardcore', 'postrock', 'power', 'progmetal', 'progressive',\n",
              "       'psychedelic', 'punjabi', 'punk', 'quebecois', 'ragga', 'ram',\n",
              "       'rancheras', 'rap', 'rave', 'reggae', 'reggaeton', 'regional',\n",
              "       'relax', 'religious', 'retro', 'rhythm', 'rnb', 'rnr', 'rock',\n",
              "       'rockabilly', 'rockalternative', 'rockindie', 'rockother',\n",
              "       'romance', 'roots', 'ruspop', 'rusrap', 'rusrock', 'russian',\n",
              "       'salsa', 'samba', 'scenic', 'schlager', 'self', 'sertanejo',\n",
              "       'shanson', 'shoegazing', 'showtunes', 'singer', 'ska', 'skarock',\n",
              "       'slow', 'smooth', 'soft', 'soul', 'soulful', 'sound', 'soundtrack',\n",
              "       'southern', 'specialty', 'speech', 'spiritual', 'sport',\n",
              "       'stonerrock', 'surf', 'swing', 'synthpop', 'synthrock',\n",
              "       'sängerportrait', 'tango', 'tanzorchester', 'taraftar', 'tatar',\n",
              "       'tech', 'techno', 'teen', 'thrash', 'top', 'traditional',\n",
              "       'tradjazz', 'trance', 'tribal', 'trip', 'triphop', 'tropical',\n",
              "       'türk', 'türkçe', 'ukrrock', 'unknown', 'urban', 'uzbek',\n",
              "       'variété', 'vi', 'videogame', 'vocal', 'western', 'world',\n",
              "       'worldbeat', 'ïîï', 'электроника'], dtype=object)"
            ]
          },
          "metadata": {},
          "execution_count": 17
        }
      ],
      "source": [
        "genre_sorted = df.sort_values(by= 'genre', ascending = True)\n",
        "genre_sorted['genre'].unique()   # Проверка на неявные дубликаты"
      ]
    },
    {
      "cell_type": "markdown",
      "metadata": {
        "deletable": false,
        "editable": false,
        "id": "jz6a9-7HQUDd"
      },
      "source": [
        "**Выводы**\n",
        "\n",
        "Предобработка обнаружила три проблемы в данных:\n",
        "\n",
        "- нарушения в стиле заголовков,\n",
        "- пропущенные значения,\n",
        "- дубликаты — явные и неявные.\n",
        "\n",
        "Мы исправили заголовки, чтобы упростить работу с таблицей. Без дубликатов исследование станет более точным.\n",
        "\n",
        "Пропущенные значения мы заменили на `'unknown'`. Ещё предстоит увидеть, не повредят ли исследованию пропуски в колонке `genre`.\n",
        "\n",
        "Теперь можно перейти к проверке гипотез."
      ]
    },
    {
      "cell_type": "markdown",
      "metadata": {
        "deletable": false,
        "editable": false,
        "id": "WttZHXH0SqKk"
      },
      "source": [
        "## Проверка гипотез"
      ]
    },
    {
      "cell_type": "markdown",
      "metadata": {
        "deletable": false,
        "editable": false,
        "id": "Im936VVi_Zcu"
      },
      "source": [
        "### Сравнение поведения пользователей двух столиц"
      ]
    },
    {
      "cell_type": "markdown",
      "metadata": {
        "deletable": false,
        "editable": false,
        "id": "nwt_MuaL_Zcu"
      },
      "source": [
        "Первая гипотеза утверждает, что пользователи по-разному слушают музыку в Москве и Санкт-Петербурге. Проверим это предположение по данным о трёх днях недели — понедельнике, среде и пятнице. Для этого:\n",
        "\n",
        "* Разделим пользователей Москвы и Санкт-Петербурга.\n",
        "* Сравним, сколько треков послушала каждая группа пользователей в понедельник, среду и пятницу.\n"
      ]
    },
    {
      "cell_type": "markdown",
      "metadata": {
        "deletable": false,
        "editable": false,
        "id": "8Dw_YMmT_Zcu",
        "tags": [
          "start_task"
        ]
      },
      "source": [
        "Оценим активность пользователей в каждом городе. Сгруппируем данные по городу и посчитаем прослушивания в каждой группе.\n",
        "\n"
      ]
    },
    {
      "cell_type": "code",
      "execution_count": 18,
      "metadata": {
        "deletable": false,
        "id": "0_Qs96oh_Zcu",
        "colab": {
          "base_uri": "https://localhost:8080/"
        },
        "outputId": "f87fac63-78cd-49c1-8994-2971ee4ad37a"
      },
      "outputs": [
        {
          "output_type": "execute_result",
          "data": {
            "text/plain": [
              "city\n",
              "Moscow              42741\n",
              "Saint-Petersburg    18512\n",
              "Name: genre, dtype: int64"
            ]
          },
          "metadata": {},
          "execution_count": 18
        }
      ],
      "source": [
        "df.groupby('city')['genre'].count()"
      ]
    },
    {
      "cell_type": "markdown",
      "metadata": {
        "deletable": false,
        "editable": false,
        "id": "dzli3w8o_Zcu",
        "tags": [
          "start_task"
        ]
      },
      "source": [
        "В Москве прослушиваний больше, чем в Петербурге. Из этого не следует, что московские пользователи чаще слушают музыку. Просто самих пользователей в Москве больше.\n",
        "\n",
        "\n",
        "\n",
        "Теперь сгруппируем данные по дню недели и посчитаем прослушивания в понедельник, среду и пятницу. Учтём, что в данных есть информация о прослушиваниях только за эти дни.\n"
      ]
    },
    {
      "cell_type": "code",
      "execution_count": 19,
      "metadata": {
        "deletable": false,
        "id": "uZMKjiJz_Zcu",
        "colab": {
          "base_uri": "https://localhost:8080/"
        },
        "outputId": "e65d0c92-1e8a-4744-c004-d1cebf59f9bd"
      },
      "outputs": [
        {
          "output_type": "execute_result",
          "data": {
            "text/plain": [
              "day\n",
              "Friday       21840\n",
              "Monday       21354\n",
              "Wednesday    18059\n",
              "Name: genre, dtype: int64"
            ]
          },
          "metadata": {},
          "execution_count": 19
        }
      ],
      "source": [
        "df.groupby('day')['genre'].count() # Подсчёт прослушиваний в каждый из трёх дней"
      ]
    },
    {
      "cell_type": "markdown",
      "metadata": {
        "deletable": false,
        "editable": false,
        "id": "cC2tNrlL_Zcu"
      },
      "source": [
        "В среднем пользователи из двух городов менее активны по средам. Но картина может измениться, если рассмотреть каждый город в отдельности."
      ]
    },
    {
      "cell_type": "markdown",
      "metadata": {
        "deletable": false,
        "editable": false,
        "id": "POzs8bGa_Zcu",
        "tags": [
          "start_task"
        ]
      },
      "source": [
        "Мы видели, как работает группировка по городу и по дням недели. Теперь напишем функцию, которая объединит два эти расчёта.\n",
        "\n",
        "Создадим функцию `number_tracks()`, которая посчитает прослушивания для заданного дня и города. Ей понадобятся два параметра:\n",
        "* день недели,\n",
        "* название города.\n",
        "\n",
        "В функции сохраним в переменную строки исходной таблицы, у которых значение:\n",
        "  * в колонке `day` равно параметру `day`,\n",
        "  * в колонке `city` равно параметру `city`.\n",
        "\n",
        "Для этого применим последовательную фильтрацию с логической индексацией.\n",
        "\n",
        "Затем посчитаем значения в столбце `user_id` получившейся таблицы. Результат сохраним в новую переменную. Вернём эту переменную из функции."
      ]
    },
    {
      "cell_type": "code",
      "execution_count": 20,
      "metadata": {
        "deletable": false,
        "id": "Nz3GdQB1_Zcu"
      },
      "outputs": [],
      "source": [
        "def number_tracks(day,city):\n",
        "    filtred_df = df[df['day'] == day]\n",
        "    filtred_df = filtred_df[filtred_df['city'] == city]\n",
        "    count_data = filtred_df['user_id'].count()\n",
        "    return  count_data\n",
        ""
      ]
    },
    {
      "cell_type": "markdown",
      "metadata": {
        "deletable": false,
        "editable": false,
        "id": "ytf7xFrFJQ2r",
        "tags": [
          "start_task"
        ]
      },
      "source": [
        "Вызовем `number_tracks()` шесть раз, меняя значение параметров — так, чтобы получить данные для каждого города в каждый из трёх дней."
      ]
    },
    {
      "cell_type": "code",
      "execution_count": 21,
      "metadata": {
        "deletable": false,
        "id": "rJcRATNQ_Zcu",
        "colab": {
          "base_uri": "https://localhost:8080/"
        },
        "outputId": "58980813-f0ca-47e0-81b1-af606c45b710"
      },
      "outputs": [
        {
          "output_type": "execute_result",
          "data": {
            "text/plain": [
              "15740"
            ]
          },
          "metadata": {},
          "execution_count": 21
        }
      ],
      "source": [
        "number_tracks ('Monday','Moscow') # количество прослушиваний в Москве по понедельникам"
      ]
    },
    {
      "cell_type": "code",
      "execution_count": 22,
      "metadata": {
        "deletable": false,
        "id": "hq_ncZ5T_Zcu",
        "colab": {
          "base_uri": "https://localhost:8080/"
        },
        "outputId": "61cc6cd5-9545-4479-ea49-d12899ff737d"
      },
      "outputs": [
        {
          "output_type": "execute_result",
          "data": {
            "text/plain": [
              "5614"
            ]
          },
          "metadata": {},
          "execution_count": 22
        }
      ],
      "source": [
        "number_tracks('Monday','Saint-Petersburg') # количество прослушиваний в Санкт-Петербурге по понедельникам"
      ]
    },
    {
      "cell_type": "code",
      "execution_count": 23,
      "metadata": {
        "deletable": false,
        "id": "_NTy2VPU_Zcu",
        "colab": {
          "base_uri": "https://localhost:8080/"
        },
        "outputId": "34e9d1eb-c613-4ef1-8442-f2a81f422a68"
      },
      "outputs": [
        {
          "output_type": "execute_result",
          "data": {
            "text/plain": [
              "11056"
            ]
          },
          "metadata": {},
          "execution_count": 23
        }
      ],
      "source": [
        "number_tracks('Wednesday','Moscow') # количество прослушиваний в Москве по средам"
      ]
    },
    {
      "cell_type": "code",
      "execution_count": 24,
      "metadata": {
        "deletable": false,
        "id": "j2y3TAwo_Zcu",
        "colab": {
          "base_uri": "https://localhost:8080/"
        },
        "outputId": "f4080ace-7e36-4f15-dacd-020002c7c952"
      },
      "outputs": [
        {
          "output_type": "execute_result",
          "data": {
            "text/plain": [
              "7003"
            ]
          },
          "metadata": {},
          "execution_count": 24
        }
      ],
      "source": [
        "number_tracks('Wednesday','Saint-Petersburg') # количество прослушиваний в Санкт-Петербурге по средам"
      ]
    },
    {
      "cell_type": "code",
      "execution_count": 25,
      "metadata": {
        "deletable": false,
        "id": "vYDw5u_K_Zcu",
        "colab": {
          "base_uri": "https://localhost:8080/"
        },
        "outputId": "c961a802-9bf0-4d79-e3fa-24e03f9f249e"
      },
      "outputs": [
        {
          "output_type": "execute_result",
          "data": {
            "text/plain": [
              "15945"
            ]
          },
          "metadata": {},
          "execution_count": 25
        }
      ],
      "source": [
        "number_tracks('Friday','Moscow') # количество прослушиваний в Москве по пятницам"
      ]
    },
    {
      "cell_type": "code",
      "execution_count": 26,
      "metadata": {
        "deletable": false,
        "id": "8_yzFtW3_Zcu",
        "colab": {
          "base_uri": "https://localhost:8080/"
        },
        "outputId": "66f42f09-5145-48d3-8e21-7f92e647abcb"
      },
      "outputs": [
        {
          "output_type": "execute_result",
          "data": {
            "text/plain": [
              "5895"
            ]
          },
          "metadata": {},
          "execution_count": 26
        }
      ],
      "source": [
        "number_tracks('Friday','Saint-Petersburg') # количество прослушиваний в Санкт-Петербурге по пятницам"
      ]
    },
    {
      "cell_type": "markdown",
      "metadata": {
        "deletable": false,
        "editable": false,
        "id": "7QXffbO-_Zcu",
        "tags": [
          "start_task"
        ]
      },
      "source": [
        "Создадим c помощью конструктора `pd.DataFrame` таблицу, где\n",
        "* названия колонок — `['city', 'monday', 'wednesday', 'friday']`;\n",
        "* данные — результаты, которые мы получили с помощью `number_tracks`."
      ]
    },
    {
      "cell_type": "code",
      "execution_count": 27,
      "metadata": {
        "deletable": false,
        "id": "APAcLpOr_Zcu"
      },
      "outputs": [],
      "source": [
        "info = pd.DataFrame(data=[['Москва',15740 , 11056, 15945], ['Санкт-Петербург',5614 , 7003, 5895]] ,columns=['city', 'monday', 'wednesday', 'friday'])"
      ]
    },
    {
      "cell_type": "markdown",
      "metadata": {
        "deletable": false,
        "editable": false,
        "id": "-EgPIHYu_Zcu"
      },
      "source": [
        "**Выводы**\n",
        "\n",
        "Данные показывают разницу поведения пользователей:\n",
        "\n",
        "- В Москве пик прослушиваний приходится на понедельник и пятницу, а в среду заметен спад.\n",
        "- В Петербурге, наоборот, больше слушают музыку по средам. Активность в понедельник и пятницу здесь почти в равной мере уступает среде.\n",
        "\n",
        "Значит, данные говорят в пользу первой гипотезы."
      ]
    },
    {
      "cell_type": "markdown",
      "metadata": {
        "deletable": false,
        "editable": false,
        "id": "atZAxtq4_Zcu"
      },
      "source": [
        "### Музыка в начале и в конце недели"
      ]
    },
    {
      "cell_type": "markdown",
      "metadata": {
        "deletable": false,
        "editable": false,
        "id": "eXrQqXFH_Zcu"
      },
      "source": [
        "Согласно второй гипотезе, утром в понедельник в Москве преобладают одни жанры, а в Петербурге — другие. Так же и вечером пятницы преобладают разные жанры — в зависимости от города."
      ]
    },
    {
      "cell_type": "markdown",
      "metadata": {
        "deletable": false,
        "editable": false,
        "id": "S8UcW6Hw_Zcu",
        "tags": [
          "start_task"
        ]
      },
      "source": [
        "Сохраним таблицы с данными в две переменные:\n",
        "* по Москве — в `moscow_general`;\n",
        "* по Санкт-Петербургу — в `spb_general`."
      ]
    },
    {
      "cell_type": "code",
      "execution_count": 28,
      "metadata": {
        "deletable": false,
        "id": "qeaFfM_P_Zcu"
      },
      "outputs": [],
      "source": [
        "moscow_general = df[df['city'] == 'Moscow'] # получение таблицы moscow_general из тех строк таблицы df,\n",
        "# для которых значение в столбце 'city' равно 'Moscow'\n"
      ]
    },
    {
      "cell_type": "code",
      "execution_count": 29,
      "metadata": {
        "deletable": false,
        "id": "ORaVRKto_Zcu"
      },
      "outputs": [],
      "source": [
        "spb_general = df[df['city'] == 'Saint-Petersburg']  # получение таблицы spb_general из тех строк таблицы df,\n",
        "# для которых значение в столбце 'city' равно 'Saint-Petersburg'\n"
      ]
    },
    {
      "cell_type": "markdown",
      "metadata": {
        "deletable": false,
        "editable": false,
        "id": "MEJV-CX2_Zcu",
        "tags": [
          "start_task"
        ]
      },
      "source": [
        "Создадим функцию `genre_weekday()` с четырьмя параметрами:\n",
        "* таблица (датафрейм) с данными,\n",
        "* день недели,\n",
        "* начальная временная метка в формате 'hh:mm',\n",
        "* последняя временная метка в формате 'hh:mm'.\n",
        "\n",
        "Функция должна вернуть информацию о топ-10 жанров тех треков, которые прослушивали в указанный день, в промежутке между двумя отметками времени."
      ]
    },
    {
      "cell_type": "code",
      "execution_count": 30,
      "metadata": {
        "deletable": false,
        "id": "laJT9BYl_Zcu"
      },
      "outputs": [],
      "source": [
        "# Объявление функции genre_weekday() с параметрами table, day, time1, time2,\n",
        "# которая возвращает информацию о самых популярных жанрах в указанный день в\n",
        "# заданное время:\n",
        "# 1) в переменную genre_df сохраняются те строки переданного датафрейма table, для\n",
        "#    которых одновременно:\n",
        "#    - значение в столбце day равно значению аргумента day\n",
        "#    - значение в столбце time больше значения аргумента time1\n",
        "#    - значение в столбце time меньше значения аргумента time2\n",
        "#    Используйте последовательную фильтрацию с помощью логической индексации.\n",
        "# 2) сгруппировать датафрейм genre_df по столбцу genre, взять один из его\n",
        "#    столбцов и посчитать методом count() количество записей для каждого из\n",
        "#    присутствующих жанров, получившийся Series записать в переменную\n",
        "#    genre_df_count\n",
        "# 3) отсортировать genre_df_count по убыванию встречаемости и сохранить\n",
        "#    в переменную genre_df_sorted\n",
        "# 4) вернуть Series из 10 первых значений genre_df_sorted, это будут топ-10\n",
        "#    популярных жанров (в указанный день, в заданное время)\n",
        "\n",
        "def genre_weekday(df, day, time1, time2):\n",
        "    # последовательная фильтрация\n",
        "    # оставляем в genre_df только те строки df, у которых день равен day\n",
        "    genre_df = df[df['day'] == day] # ваш код здесь\n",
        "    # оставляем в genre_df только те строки genre_df, у которых время меньше time2\n",
        "    genre_df = genre_df [genre_df ['time'] < time2]  # ваш код здесь\n",
        "    # оставляем в genre_df только те строки genre_df, у которых время больше time1\n",
        "    genre_df = genre_df [genre_df ['time'] > time1]  # ваш код здесь\n",
        "    # сгруппируем отфильтрованный датафрейм по столбцу с названиями жанров, возьмём столбец genre и посчитаем кол-во строк для каждого жанра методом count()\n",
        "    genre_df_grouped = genre_df.groupby('genre')['genre'].count() # ваш код здесь\n",
        "    # отсортируем результат по убыванию (чтобы в начале Series оказались самые популярные жанры)\n",
        "    genre_df_sorted = genre_df_grouped.sort_values(ascending=False)  # ваш код здесь\n",
        "    # вернём Series с 10 самыми популярными жанрами в указанный отрезок времени заданного дня\n",
        "    return genre_df_sorted[:10]"
      ]
    },
    {
      "cell_type": "markdown",
      "metadata": {
        "deletable": false,
        "editable": false,
        "id": "la2s2_PF_Zcu",
        "tags": [
          "start_task"
        ]
      },
      "source": [
        "Cравним результаты функции `genre_weekday()` для Москвы и Санкт-Петербурга в понедельник утром (с 7:00 до 11:00) и в пятницу вечером (с 17:00 до 23:00):"
      ]
    },
    {
      "cell_type": "code",
      "execution_count": 31,
      "metadata": {
        "deletable": false,
        "id": "yz7itPUQ_Zcu",
        "scrolled": false,
        "colab": {
          "base_uri": "https://localhost:8080/"
        },
        "outputId": "cd49842c-bb96-4979-82a9-3fb9b28eda5c"
      },
      "outputs": [
        {
          "output_type": "execute_result",
          "data": {
            "text/plain": [
              "genre\n",
              "pop            781\n",
              "dance          549\n",
              "electronic     480\n",
              "rock           474\n",
              "hiphop         286\n",
              "ruspop         186\n",
              "world          181\n",
              "rusrap         175\n",
              "alternative    164\n",
              "unknown        161\n",
              "Name: genre, dtype: int64"
            ]
          },
          "metadata": {},
          "execution_count": 31
        }
      ],
      "source": [
        "genre_weekday(moscow_general,'Monday','07:00','11:00') # вызов функции для утра понедельника в Москве (вместо df — таблица moscow_general)\n",
        "# объекты, хранящие время, являются строками и сравниваются как строки\n",
        "# пример вызова: genre_weekday(moscow_general, 'Monday', '07:00', '11:00')"
      ]
    },
    {
      "cell_type": "code",
      "execution_count": 32,
      "metadata": {
        "deletable": false,
        "id": "kwUcHPdy_Zcu",
        "colab": {
          "base_uri": "https://localhost:8080/"
        },
        "outputId": "b738337c-8602-4575-d398-5a39c48c570f"
      },
      "outputs": [
        {
          "output_type": "execute_result",
          "data": {
            "text/plain": [
              "genre\n",
              "pop            218\n",
              "dance          182\n",
              "rock           162\n",
              "electronic     147\n",
              "hiphop          80\n",
              "ruspop          64\n",
              "alternative     58\n",
              "rusrap          55\n",
              "jazz            44\n",
              "classical       40\n",
              "Name: genre, dtype: int64"
            ]
          },
          "metadata": {},
          "execution_count": 32
        }
      ],
      "source": [
        "genre_weekday(spb_general,'Monday','07:00','11:00')  # вызов функции для утра понедельника в Петербурге (вместо df — таблица spb_general)"
      ]
    },
    {
      "cell_type": "code",
      "execution_count": 33,
      "metadata": {
        "deletable": false,
        "id": "EzXVRE1o_Zcu",
        "colab": {
          "base_uri": "https://localhost:8080/"
        },
        "outputId": "c69c5f5a-7534-494b-cfae-9fffa94e77a9"
      },
      "outputs": [
        {
          "output_type": "execute_result",
          "data": {
            "text/plain": [
              "genre\n",
              "pop            713\n",
              "rock           517\n",
              "dance          495\n",
              "electronic     482\n",
              "hiphop         273\n",
              "world          208\n",
              "ruspop         170\n",
              "alternative    163\n",
              "classical      163\n",
              "rusrap         142\n",
              "Name: genre, dtype: int64"
            ]
          },
          "metadata": {},
          "execution_count": 33
        }
      ],
      "source": [
        "genre_weekday(moscow_general,'Friday','17:00','23:00')# вызов функции для вечера пятницы в Москве"
      ]
    },
    {
      "cell_type": "code",
      "execution_count": 34,
      "metadata": {
        "deletable": false,
        "id": "JZaEKu5v_Zcu",
        "colab": {
          "base_uri": "https://localhost:8080/"
        },
        "outputId": "903d37f5-0416-41d9-d377-17f4744bf339"
      },
      "outputs": [
        {
          "output_type": "execute_result",
          "data": {
            "text/plain": [
              "genre\n",
              "pop            256\n",
              "electronic     216\n",
              "rock           216\n",
              "dance          210\n",
              "hiphop          97\n",
              "alternative     63\n",
              "jazz            61\n",
              "classical       60\n",
              "rusrap          59\n",
              "world           54\n",
              "Name: genre, dtype: int64"
            ]
          },
          "metadata": {},
          "execution_count": 34
        }
      ],
      "source": [
        "genre_weekday(spb_general,'Friday','17:00','23:00')   # вызов функции для вечера пятницы в Петербурге"
      ]
    },
    {
      "cell_type": "markdown",
      "metadata": {
        "deletable": false,
        "editable": false,
        "id": "wrCe4MNX_Zcu"
      },
      "source": [
        "**Выводы**\n",
        "\n",
        "Если сравнить топ-10 жанров в понедельник утром, можно сделать такие выводы:\n",
        "\n",
        "1. В Москве и Петербурге слушают похожую музыку. Единственное отличие — в московский рейтинг вошёл жанр “world”, а в петербургский — джаз и классика.\n",
        "\n",
        "2. В Москве пропущенных значений оказалось так много, что значение `'unknown'` заняло десятое место среди самых популярных жанров. Значит, пропущенные значения занимают существенную долю в данных и угрожают достоверности исследования.\n",
        "\n",
        "Вечер пятницы не меняет эту картину. Некоторые жанры поднимаются немного выше, другие спускаются, но в целом топ-10 остаётся тем же самым.\n",
        "\n",
        "Таким образом, вторая гипотеза подтвердилась лишь частично:\n",
        "* Пользователи слушают похожую музыку в начале недели и в конце.\n",
        "* Разница между Москвой и Петербургом не слишком выражена. В Москве чаще слушают русскую популярную музыку, в Петербурге — джаз.\n",
        "\n",
        "Однако пропуски в данных ставят под сомнение этот результат. В Москве их так много, что рейтинг топ-10 мог бы выглядеть иначе, если бы не утерянные  данные о жанрах."
      ]
    },
    {
      "cell_type": "markdown",
      "metadata": {
        "deletable": false,
        "editable": false,
        "id": "JolODAqr_Zcu"
      },
      "source": [
        "### Жанровые предпочтения в Москве и Петербурге\n",
        "\n",
        "Гипотеза: Петербург — столица рэпа, музыку этого жанра там слушают чаще, чем в Москве.  А Москва — город контрастов, в котором, тем не менее, преобладает поп-музыка."
      ]
    },
    {
      "cell_type": "markdown",
      "metadata": {
        "deletable": false,
        "editable": false,
        "id": "DlegSvaT_Zcu",
        "tags": [
          "start_task"
        ]
      },
      "source": [
        "Сгруппируем таблицу `moscow_general` по жанру и посчитаем прослушивания треков каждого жанра методом `count()`. Затем отсортируем результат в порядке убывания и сохраним его в таблице `moscow_genres`."
      ]
    },
    {
      "cell_type": "code",
      "execution_count": 35,
      "metadata": {
        "deletable": false,
        "id": "r19lIPke_Zcu"
      },
      "outputs": [],
      "source": [
        "moscow_genres = moscow_general.groupby('genre')['genre'].count().sort_values(ascending = False)  # одной строкой: группировка таблицы moscow_general по столбцу 'genre',\n",
        "# подсчёт числа значений 'genre' в этой группировке методом count(),\n",
        "# сортировка получившегося Series в порядке убывания и сохранение в moscow_genres"
      ]
    },
    {
      "cell_type": "markdown",
      "metadata": {
        "deletable": false,
        "editable": false,
        "id": "6kMuomxTiIr8",
        "tags": [
          "start_task"
        ]
      },
      "source": [
        "Выведем на экран первые десять строк `moscow_genres`:"
      ]
    },
    {
      "cell_type": "code",
      "execution_count": 36,
      "metadata": {
        "deletable": false,
        "id": "WhCSooF8_Zcv",
        "colab": {
          "base_uri": "https://localhost:8080/"
        },
        "outputId": "f00aa239-7845-44bd-84ae-3df1f4b7183d"
      },
      "outputs": [
        {
          "output_type": "execute_result",
          "data": {
            "text/plain": [
              "genre\n",
              "pop            5892\n",
              "dance          4435\n",
              "rock           3965\n",
              "electronic     3786\n",
              "hiphop         2096\n",
              "classical      1616\n",
              "world          1432\n",
              "alternative    1379\n",
              "ruspop         1372\n",
              "rusrap         1161\n",
              "Name: genre, dtype: int64"
            ]
          },
          "metadata": {},
          "execution_count": 36
        }
      ],
      "source": [
        "moscow_genres.head(10)"
      ]
    },
    {
      "cell_type": "markdown",
      "metadata": {
        "deletable": false,
        "editable": false,
        "id": "cnPG2vnN_Zcv",
        "tags": [
          "start_task"
        ]
      },
      "source": [
        "Теперь повторим то же и для Петербурга.\n"
      ]
    },
    {
      "cell_type": "code",
      "execution_count": 37,
      "metadata": {
        "deletable": false,
        "id": "gluLIpE7_Zcv"
      },
      "outputs": [],
      "source": [
        "spb_genres =  spb_general.groupby('genre')['track'].count().sort_values(ascending = False)   # одной строкой: группировка таблицы spb_general по столбцу 'genre',\n",
        "# подсчёт числа значений 'genre' в этой группировке методом count(),\n",
        "# сортировка получившегося Series в порядке убывания и сохранение в spb_genres"
      ]
    },
    {
      "cell_type": "markdown",
      "metadata": {
        "deletable": false,
        "editable": false,
        "id": "5Doha_ODgyQ8",
        "tags": [
          "start_task"
        ]
      },
      "source": [
        "Выведем на экран первые десять строк `spb_genres`:"
      ]
    },
    {
      "cell_type": "code",
      "execution_count": 38,
      "metadata": {
        "deletable": false,
        "id": "uaGJHjVU_Zcv",
        "colab": {
          "base_uri": "https://localhost:8080/"
        },
        "outputId": "48185c19-25f7-4328-b8e8-2340219ec472"
      },
      "outputs": [
        {
          "output_type": "execute_result",
          "data": {
            "text/plain": [
              "genre\n",
              "pop            2431\n",
              "dance          1932\n",
              "rock           1879\n",
              "electronic     1736\n",
              "hiphop          960\n",
              "alternative     649\n",
              "classical       646\n",
              "rusrap          564\n",
              "ruspop          538\n",
              "world           515\n",
              "Name: track, dtype: int64"
            ]
          },
          "metadata": {},
          "execution_count": 38
        }
      ],
      "source": [
        "spb_genres.head(10)"
      ]
    },
    {
      "cell_type": "markdown",
      "metadata": {
        "deletable": false,
        "editable": false,
        "id": "RY51YJYu_Zcv"
      },
      "source": [
        "**Выводы**"
      ]
    },
    {
      "cell_type": "markdown",
      "metadata": {
        "deletable": false,
        "editable": false,
        "id": "nVhnJEm__Zcv"
      },
      "source": [
        "Гипотеза частично подтвердилась:\n",
        "* Поп-музыка — самый популярный жанр в Москве, как и предполагала гипотеза. Более того, в топ-10 жанров встречается близкий жанр — русская популярная музыка.\n",
        "* Вопреки ожиданиям, рэп одинаково популярен в Москве и Петербурге.\n"
      ]
    },
    {
      "cell_type": "markdown",
      "metadata": {
        "deletable": false,
        "editable": false,
        "id": "ykKQ0N65_Zcv"
      },
      "source": [
        "## Итоги исследования"
      ]
    },
    {
      "cell_type": "markdown",
      "metadata": {
        "deletable": false,
        "editable": false,
        "id": "tjUwbHb3_Zcv"
      },
      "source": [
        "Мы проверили три гипотезы и установили:\n",
        "\n",
        "1. День недели по-разному влияет на активность пользователей в Москве и Петербурге.\n",
        "\n",
        "Первая гипотеза полностью подтвердилась.\n",
        "\n",
        "2. Музыкальные предпочтения не сильно меняются в течение недели — будь то Москва или Петербург. Небольшие различия заметны в начале недели, по понедельникам:\n",
        "* в Москве слушают музыку жанра “world”,\n",
        "* в Петербурге — джаз и классику.\n",
        "\n",
        "Таким образом, вторая гипотеза подтвердилась лишь отчасти. Этот результат мог оказаться иным, если бы не пропуски в данных.\n",
        "\n",
        "3. Во вкусах пользователей Москвы и Петербурга больше общего чем различий. Вопреки ожиданиям, предпочтения жанров в Петербурге напоминают московские.\n",
        "\n",
        "Третья гипотеза не подтвердилась. Если различия в предпочтениях и существуют, на основной массе пользователей они незаметны.\n"
      ]
    }
  ],
  "metadata": {
    "ExecuteTimeLog": [
      {
        "duration": 423,
        "start_time": "2022-10-22T13:02:28.163Z"
      },
      {
        "duration": 105,
        "start_time": "2022-10-22T13:22:51.567Z"
      },
      {
        "duration": 9,
        "start_time": "2022-10-22T13:23:09.666Z"
      },
      {
        "duration": 8,
        "start_time": "2022-10-22T17:32:06.154Z"
      },
      {
        "duration": 8,
        "start_time": "2022-10-22T17:32:12.794Z"
      },
      {
        "duration": 7,
        "start_time": "2022-10-22T17:33:50.613Z"
      },
      {
        "duration": 8,
        "start_time": "2022-10-22T17:33:52.819Z"
      },
      {
        "duration": 10,
        "start_time": "2022-10-22T17:33:54.923Z"
      },
      {
        "duration": 10,
        "start_time": "2022-10-22T17:33:56.629Z"
      },
      {
        "duration": 10,
        "start_time": "2022-10-22T17:34:38.459Z"
      },
      {
        "duration": 8,
        "start_time": "2022-10-22T17:36:44.147Z"
      },
      {
        "duration": 4,
        "start_time": "2022-10-22T17:38:47.018Z"
      },
      {
        "duration": 16,
        "start_time": "2022-10-22T17:38:51.761Z"
      },
      {
        "duration": 2,
        "start_time": "2022-10-22T17:40:10.294Z"
      },
      {
        "duration": 241,
        "start_time": "2022-10-22T17:40:10.299Z"
      },
      {
        "duration": 18,
        "start_time": "2022-10-22T17:40:10.542Z"
      },
      {
        "duration": 31,
        "start_time": "2022-10-22T17:40:10.562Z"
      },
      {
        "duration": 3,
        "start_time": "2022-10-22T17:40:10.594Z"
      },
      {
        "duration": 10,
        "start_time": "2022-10-22T17:40:10.599Z"
      },
      {
        "duration": 45,
        "start_time": "2022-10-22T17:40:10.611Z"
      },
      {
        "duration": 6,
        "start_time": "2022-10-22T17:40:10.658Z"
      },
      {
        "duration": 36,
        "start_time": "2022-10-22T17:40:10.666Z"
      },
      {
        "duration": 51,
        "start_time": "2022-10-22T17:40:10.704Z"
      },
      {
        "duration": 44,
        "start_time": "2022-10-22T17:40:10.757Z"
      },
      {
        "duration": 91,
        "start_time": "2022-10-22T17:40:10.804Z"
      },
      {
        "duration": 100,
        "start_time": "2022-10-22T17:40:10.897Z"
      },
      {
        "duration": 90,
        "start_time": "2022-10-22T17:40:10.999Z"
      },
      {
        "duration": 51,
        "start_time": "2022-10-22T17:40:11.090Z"
      },
      {
        "duration": 13,
        "start_time": "2022-10-22T17:40:11.154Z"
      },
      {
        "duration": 91,
        "start_time": "2022-10-22T17:40:11.170Z"
      },
      {
        "duration": 17,
        "start_time": "2022-10-22T17:40:11.264Z"
      },
      {
        "duration": 17,
        "start_time": "2022-10-22T17:40:11.283Z"
      },
      {
        "duration": 6,
        "start_time": "2022-10-22T17:40:11.311Z"
      },
      {
        "duration": 13,
        "start_time": "2022-10-22T17:40:15.710Z"
      },
      {
        "duration": 9,
        "start_time": "2022-10-22T17:40:24.466Z"
      },
      {
        "duration": 13,
        "start_time": "2022-10-22T17:40:29.102Z"
      },
      {
        "duration": 10,
        "start_time": "2022-10-22T17:43:17.300Z"
      },
      {
        "duration": 19,
        "start_time": "2022-10-22T17:44:00.853Z"
      },
      {
        "duration": 20,
        "start_time": "2022-10-22T17:44:03.225Z"
      },
      {
        "duration": 22,
        "start_time": "2022-10-22T17:44:04.473Z"
      },
      {
        "duration": 21,
        "start_time": "2022-10-22T17:44:05.046Z"
      },
      {
        "duration": 24,
        "start_time": "2022-10-22T17:44:05.799Z"
      },
      {
        "duration": 22,
        "start_time": "2022-10-22T17:44:07.114Z"
      },
      {
        "duration": 7,
        "start_time": "2022-10-22T18:03:01.171Z"
      },
      {
        "duration": 11,
        "start_time": "2022-10-22T19:44:14.711Z"
      },
      {
        "duration": 10,
        "start_time": "2022-10-22T19:44:37.243Z"
      },
      {
        "duration": 9,
        "start_time": "2022-10-22T19:44:39.108Z"
      },
      {
        "duration": 5,
        "start_time": "2022-10-22T19:47:44.391Z"
      },
      {
        "duration": 601,
        "start_time": "2022-10-22T19:47:50.195Z"
      },
      {
        "duration": 7,
        "start_time": "2022-10-22T19:48:30.245Z"
      },
      {
        "duration": 5,
        "start_time": "2022-10-22T19:48:32.837Z"
      },
      {
        "duration": 539,
        "start_time": "2022-10-22T19:48:36.253Z"
      },
      {
        "duration": 7,
        "start_time": "2022-10-22T19:48:59.111Z"
      },
      {
        "duration": 7,
        "start_time": "2022-10-22T19:50:35.731Z"
      },
      {
        "duration": 502,
        "start_time": "2022-10-22T19:50:43.058Z"
      },
      {
        "duration": 3,
        "start_time": "2022-10-22T19:50:45.996Z"
      },
      {
        "duration": 7,
        "start_time": "2022-10-22T19:52:02.160Z"
      },
      {
        "duration": 674,
        "start_time": "2022-10-22T19:52:05.323Z"
      },
      {
        "duration": 7,
        "start_time": "2022-10-22T19:55:03.182Z"
      },
      {
        "duration": 582,
        "start_time": "2022-10-22T19:55:06.965Z"
      },
      {
        "duration": 4,
        "start_time": "2022-10-22T19:55:29.942Z"
      },
      {
        "duration": 262,
        "start_time": "2022-10-22T19:55:29.948Z"
      },
      {
        "duration": 18,
        "start_time": "2022-10-22T19:55:30.215Z"
      },
      {
        "duration": 52,
        "start_time": "2022-10-22T19:55:30.235Z"
      },
      {
        "duration": 8,
        "start_time": "2022-10-22T19:55:30.291Z"
      },
      {
        "duration": 25,
        "start_time": "2022-10-22T19:55:30.301Z"
      },
      {
        "duration": 33,
        "start_time": "2022-10-22T19:55:30.329Z"
      },
      {
        "duration": 35,
        "start_time": "2022-10-22T19:55:30.365Z"
      },
      {
        "duration": 67,
        "start_time": "2022-10-22T19:55:30.403Z"
      },
      {
        "duration": 72,
        "start_time": "2022-10-22T19:55:30.473Z"
      },
      {
        "duration": 77,
        "start_time": "2022-10-22T19:55:30.550Z"
      },
      {
        "duration": 129,
        "start_time": "2022-10-22T19:55:30.630Z"
      },
      {
        "duration": 158,
        "start_time": "2022-10-22T19:55:30.762Z"
      },
      {
        "duration": 143,
        "start_time": "2022-10-22T19:55:30.924Z"
      },
      {
        "duration": 60,
        "start_time": "2022-10-22T19:55:31.069Z"
      },
      {
        "duration": 30,
        "start_time": "2022-10-22T19:55:31.131Z"
      },
      {
        "duration": 100,
        "start_time": "2022-10-22T19:55:31.164Z"
      },
      {
        "duration": 20,
        "start_time": "2022-10-22T19:55:31.267Z"
      },
      {
        "duration": 23,
        "start_time": "2022-10-22T19:55:31.290Z"
      },
      {
        "duration": 11,
        "start_time": "2022-10-22T19:55:31.316Z"
      },
      {
        "duration": 63,
        "start_time": "2022-10-22T19:55:31.353Z"
      },
      {
        "duration": 27,
        "start_time": "2022-10-22T19:55:31.418Z"
      },
      {
        "duration": 109,
        "start_time": "2022-10-22T19:55:31.447Z"
      },
      {
        "duration": 45,
        "start_time": "2022-10-22T19:55:31.558Z"
      },
      {
        "duration": 77,
        "start_time": "2022-10-22T19:55:31.608Z"
      },
      {
        "duration": 73,
        "start_time": "2022-10-22T19:55:31.687Z"
      },
      {
        "duration": 77,
        "start_time": "2022-10-22T19:55:31.762Z"
      },
      {
        "duration": 35,
        "start_time": "2022-10-22T19:55:31.841Z"
      },
      {
        "duration": 66,
        "start_time": "2022-10-22T19:55:31.882Z"
      },
      {
        "duration": 55,
        "start_time": "2022-10-22T19:55:31.951Z"
      },
      {
        "duration": 3,
        "start_time": "2022-10-22T19:55:40.929Z"
      },
      {
        "duration": 303,
        "start_time": "2022-10-22T19:55:40.935Z"
      },
      {
        "duration": 18,
        "start_time": "2022-10-22T19:55:41.240Z"
      },
      {
        "duration": 55,
        "start_time": "2022-10-22T19:55:41.261Z"
      },
      {
        "duration": 4,
        "start_time": "2022-10-22T19:55:41.319Z"
      },
      {
        "duration": 31,
        "start_time": "2022-10-22T19:55:41.325Z"
      },
      {
        "duration": 22,
        "start_time": "2022-10-22T19:55:41.359Z"
      },
      {
        "duration": 22,
        "start_time": "2022-10-22T19:55:41.384Z"
      },
      {
        "duration": 59,
        "start_time": "2022-10-22T19:55:41.411Z"
      },
      {
        "duration": 48,
        "start_time": "2022-10-22T19:55:41.474Z"
      },
      {
        "duration": 80,
        "start_time": "2022-10-22T19:55:41.526Z"
      },
      {
        "duration": 125,
        "start_time": "2022-10-22T19:55:41.608Z"
      },
      {
        "duration": 124,
        "start_time": "2022-10-22T19:55:41.734Z"
      },
      {
        "duration": 108,
        "start_time": "2022-10-22T19:55:41.861Z"
      },
      {
        "duration": 83,
        "start_time": "2022-10-22T19:55:41.971Z"
      },
      {
        "duration": 16,
        "start_time": "2022-10-22T19:55:42.059Z"
      },
      {
        "duration": 86,
        "start_time": "2022-10-22T19:55:42.077Z"
      },
      {
        "duration": 23,
        "start_time": "2022-10-22T19:55:42.169Z"
      },
      {
        "duration": 33,
        "start_time": "2022-10-22T19:55:42.197Z"
      },
      {
        "duration": 17,
        "start_time": "2022-10-22T19:55:42.233Z"
      },
      {
        "duration": 69,
        "start_time": "2022-10-22T19:55:42.253Z"
      },
      {
        "duration": 20,
        "start_time": "2022-10-22T19:55:42.325Z"
      },
      {
        "duration": 67,
        "start_time": "2022-10-22T19:55:42.348Z"
      },
      {
        "duration": 23,
        "start_time": "2022-10-22T19:55:42.421Z"
      },
      {
        "duration": 27,
        "start_time": "2022-10-22T19:55:42.446Z"
      },
      {
        "duration": 27,
        "start_time": "2022-10-22T19:55:42.476Z"
      },
      {
        "duration": 13,
        "start_time": "2022-10-22T19:55:42.505Z"
      },
      {
        "duration": 39,
        "start_time": "2022-10-22T19:55:42.520Z"
      },
      {
        "duration": 20,
        "start_time": "2022-10-22T19:55:42.561Z"
      },
      {
        "duration": 15,
        "start_time": "2022-10-22T19:55:42.584Z"
      },
      {
        "duration": 42,
        "start_time": "2022-10-22T19:55:42.601Z"
      },
      {
        "duration": 10,
        "start_time": "2022-10-22T19:55:42.648Z"
      },
      {
        "duration": 61,
        "start_time": "2022-10-22T19:55:42.662Z"
      },
      {
        "duration": 6,
        "start_time": "2022-10-22T19:55:42.725Z"
      },
      {
        "duration": 31,
        "start_time": "2022-10-22T19:55:42.733Z"
      },
      {
        "duration": 24,
        "start_time": "2022-10-22T19:55:42.768Z"
      },
      {
        "duration": 14,
        "start_time": "2022-10-22T19:55:42.795Z"
      },
      {
        "duration": 12,
        "start_time": "2022-10-22T19:55:42.812Z"
      },
      {
        "duration": 3,
        "start_time": "2022-10-22T19:56:39.593Z"
      },
      {
        "duration": 224,
        "start_time": "2022-10-22T19:56:39.602Z"
      },
      {
        "duration": 15,
        "start_time": "2022-10-22T19:56:39.829Z"
      },
      {
        "duration": 60,
        "start_time": "2022-10-22T19:56:39.846Z"
      },
      {
        "duration": 7,
        "start_time": "2022-10-22T19:56:39.909Z"
      },
      {
        "duration": 11,
        "start_time": "2022-10-22T19:56:39.919Z"
      },
      {
        "duration": 30,
        "start_time": "2022-10-22T19:56:39.932Z"
      },
      {
        "duration": 6,
        "start_time": "2022-10-22T19:56:39.965Z"
      },
      {
        "duration": 45,
        "start_time": "2022-10-22T19:56:39.972Z"
      },
      {
        "duration": 37,
        "start_time": "2022-10-22T19:56:40.019Z"
      },
      {
        "duration": 41,
        "start_time": "2022-10-22T19:56:40.059Z"
      },
      {
        "duration": 106,
        "start_time": "2022-10-22T19:56:40.103Z"
      },
      {
        "duration": 126,
        "start_time": "2022-10-22T19:56:40.212Z"
      },
      {
        "duration": 85,
        "start_time": "2022-10-22T19:56:40.341Z"
      },
      {
        "duration": 74,
        "start_time": "2022-10-22T19:56:40.429Z"
      },
      {
        "duration": 12,
        "start_time": "2022-10-22T19:56:40.505Z"
      },
      {
        "duration": 74,
        "start_time": "2022-10-22T19:56:40.519Z"
      },
      {
        "duration": 14,
        "start_time": "2022-10-22T19:56:40.595Z"
      },
      {
        "duration": 21,
        "start_time": "2022-10-22T19:56:40.611Z"
      },
      {
        "duration": 19,
        "start_time": "2022-10-22T19:56:40.635Z"
      },
      {
        "duration": 50,
        "start_time": "2022-10-22T19:56:40.657Z"
      },
      {
        "duration": 19,
        "start_time": "2022-10-22T19:56:40.709Z"
      },
      {
        "duration": 19,
        "start_time": "2022-10-22T19:56:40.730Z"
      },
      {
        "duration": 24,
        "start_time": "2022-10-22T19:56:40.751Z"
      },
      {
        "duration": 29,
        "start_time": "2022-10-22T19:56:40.778Z"
      },
      {
        "duration": 19,
        "start_time": "2022-10-22T19:56:40.809Z"
      },
      {
        "duration": 25,
        "start_time": "2022-10-22T19:56:40.830Z"
      },
      {
        "duration": 23,
        "start_time": "2022-10-22T19:56:40.858Z"
      },
      {
        "duration": 17,
        "start_time": "2022-10-22T19:56:40.884Z"
      },
      {
        "duration": 5,
        "start_time": "2022-10-22T19:56:40.904Z"
      },
      {
        "duration": 55,
        "start_time": "2022-10-22T19:56:40.911Z"
      },
      {
        "duration": 3,
        "start_time": "2022-10-22T19:56:40.969Z"
      },
      {
        "duration": 17,
        "start_time": "2022-10-22T19:56:40.974Z"
      },
      {
        "duration": 10,
        "start_time": "2022-10-22T19:56:40.993Z"
      },
      {
        "duration": 8,
        "start_time": "2022-10-22T19:56:41.005Z"
      },
      {
        "duration": 11,
        "start_time": "2022-10-22T19:56:41.015Z"
      },
      {
        "duration": 6,
        "start_time": "2022-10-22T19:56:41.028Z"
      },
      {
        "duration": 11,
        "start_time": "2022-10-22T19:56:41.036Z"
      },
      {
        "duration": 18,
        "start_time": "2022-10-22T19:58:26.514Z"
      },
      {
        "duration": 19,
        "start_time": "2022-10-22T19:58:30.279Z"
      },
      {
        "duration": 8,
        "start_time": "2022-10-22T19:59:23.257Z"
      },
      {
        "duration": 24,
        "start_time": "2022-10-22T19:59:26.717Z"
      },
      {
        "duration": 28,
        "start_time": "2022-10-22T19:59:29.370Z"
      },
      {
        "duration": 5,
        "start_time": "2022-10-22T20:00:54.131Z"
      },
      {
        "duration": 27,
        "start_time": "2022-10-22T20:00:55.700Z"
      },
      {
        "duration": 6,
        "start_time": "2022-10-22T20:01:04.371Z"
      },
      {
        "duration": 6,
        "start_time": "2022-10-22T20:02:02.095Z"
      },
      {
        "duration": 18,
        "start_time": "2022-10-22T20:02:04.094Z"
      },
      {
        "duration": 19,
        "start_time": "2022-10-22T20:02:07.609Z"
      },
      {
        "duration": 7,
        "start_time": "2022-10-22T20:03:19.338Z"
      },
      {
        "duration": 24,
        "start_time": "2022-10-22T20:13:16.989Z"
      },
      {
        "duration": 14,
        "start_time": "2022-10-22T20:13:19.153Z"
      },
      {
        "duration": 5,
        "start_time": "2022-10-22T20:14:11.052Z"
      },
      {
        "duration": 16,
        "start_time": "2022-10-22T20:15:13.995Z"
      },
      {
        "duration": 440,
        "start_time": "2022-10-22T20:15:59.368Z"
      },
      {
        "duration": 170,
        "start_time": "2022-10-22T20:15:59.810Z"
      },
      {
        "duration": 18,
        "start_time": "2022-10-22T20:15:59.982Z"
      },
      {
        "duration": 32,
        "start_time": "2022-10-22T20:16:00.003Z"
      },
      {
        "duration": 19,
        "start_time": "2022-10-22T20:16:00.037Z"
      },
      {
        "duration": 21,
        "start_time": "2022-10-22T20:16:00.058Z"
      },
      {
        "duration": 30,
        "start_time": "2022-10-22T20:16:00.081Z"
      },
      {
        "duration": 22,
        "start_time": "2022-10-22T20:16:00.113Z"
      },
      {
        "duration": 39,
        "start_time": "2022-10-22T20:16:00.137Z"
      },
      {
        "duration": 38,
        "start_time": "2022-10-22T20:16:00.180Z"
      },
      {
        "duration": 35,
        "start_time": "2022-10-22T20:16:00.220Z"
      },
      {
        "duration": 80,
        "start_time": "2022-10-22T20:16:00.257Z"
      },
      {
        "duration": 84,
        "start_time": "2022-10-22T20:16:00.339Z"
      },
      {
        "duration": 84,
        "start_time": "2022-10-22T20:16:00.425Z"
      },
      {
        "duration": 61,
        "start_time": "2022-10-22T20:16:00.511Z"
      },
      {
        "duration": 11,
        "start_time": "2022-10-22T20:16:00.573Z"
      },
      {
        "duration": 78,
        "start_time": "2022-10-22T20:16:00.585Z"
      },
      {
        "duration": 12,
        "start_time": "2022-10-22T20:16:00.665Z"
      },
      {
        "duration": 28,
        "start_time": "2022-10-22T20:16:00.679Z"
      },
      {
        "duration": 29,
        "start_time": "2022-10-22T20:16:00.709Z"
      },
      {
        "duration": 58,
        "start_time": "2022-10-22T20:16:00.740Z"
      },
      {
        "duration": 47,
        "start_time": "2022-10-22T20:16:00.800Z"
      },
      {
        "duration": 45,
        "start_time": "2022-10-22T20:16:00.848Z"
      },
      {
        "duration": 43,
        "start_time": "2022-10-22T20:16:00.894Z"
      },
      {
        "duration": 34,
        "start_time": "2022-10-22T20:16:00.939Z"
      },
      {
        "duration": 29,
        "start_time": "2022-10-22T20:16:00.975Z"
      },
      {
        "duration": 25,
        "start_time": "2022-10-22T20:16:01.006Z"
      },
      {
        "duration": 46,
        "start_time": "2022-10-22T20:16:01.034Z"
      },
      {
        "duration": 40,
        "start_time": "2022-10-22T20:16:01.082Z"
      },
      {
        "duration": 25,
        "start_time": "2022-10-22T20:16:01.124Z"
      },
      {
        "duration": 65,
        "start_time": "2022-10-22T20:16:01.151Z"
      },
      {
        "duration": 28,
        "start_time": "2022-10-22T20:16:01.219Z"
      },
      {
        "duration": 62,
        "start_time": "2022-10-22T20:16:01.249Z"
      },
      {
        "duration": 28,
        "start_time": "2022-10-22T20:16:01.313Z"
      },
      {
        "duration": 26,
        "start_time": "2022-10-22T20:16:01.343Z"
      },
      {
        "duration": 21,
        "start_time": "2022-10-22T20:16:01.371Z"
      },
      {
        "duration": 31,
        "start_time": "2022-10-22T20:16:01.394Z"
      },
      {
        "duration": 46,
        "start_time": "2022-10-22T20:16:01.427Z"
      },
      {
        "duration": 20,
        "start_time": "2022-10-22T20:18:37.424Z"
      },
      {
        "duration": 15,
        "start_time": "2022-10-22T20:18:39.677Z"
      },
      {
        "duration": 53,
        "start_time": "2022-10-22T20:39:59.592Z"
      },
      {
        "duration": 58,
        "start_time": "2022-10-22T20:40:09.322Z"
      },
      {
        "duration": 55,
        "start_time": "2022-10-22T20:40:15.255Z"
      },
      {
        "duration": 49,
        "start_time": "2022-10-23T10:21:14.985Z"
      },
      {
        "duration": 8,
        "start_time": "2022-10-23T10:23:45.715Z"
      },
      {
        "duration": 8,
        "start_time": "2022-10-23T10:23:47.830Z"
      },
      {
        "duration": 449,
        "start_time": "2022-10-23T10:23:54.964Z"
      },
      {
        "duration": 258,
        "start_time": "2022-10-23T10:23:55.415Z"
      },
      {
        "duration": 20,
        "start_time": "2022-10-23T10:23:55.675Z"
      },
      {
        "duration": 30,
        "start_time": "2022-10-23T10:23:55.697Z"
      },
      {
        "duration": 3,
        "start_time": "2022-10-23T10:23:55.729Z"
      },
      {
        "duration": 21,
        "start_time": "2022-10-23T10:23:55.734Z"
      },
      {
        "duration": 17,
        "start_time": "2022-10-23T10:23:55.757Z"
      },
      {
        "duration": 22,
        "start_time": "2022-10-23T10:23:55.776Z"
      },
      {
        "duration": 33,
        "start_time": "2022-10-23T10:23:55.800Z"
      },
      {
        "duration": 30,
        "start_time": "2022-10-23T10:23:55.837Z"
      },
      {
        "duration": 24,
        "start_time": "2022-10-23T10:23:55.869Z"
      },
      {
        "duration": 89,
        "start_time": "2022-10-23T10:23:55.894Z"
      },
      {
        "duration": 85,
        "start_time": "2022-10-23T10:23:55.985Z"
      },
      {
        "duration": 81,
        "start_time": "2022-10-23T10:23:56.072Z"
      },
      {
        "duration": 50,
        "start_time": "2022-10-23T10:23:56.156Z"
      },
      {
        "duration": 10,
        "start_time": "2022-10-23T10:23:56.208Z"
      },
      {
        "duration": 70,
        "start_time": "2022-10-23T10:23:56.220Z"
      },
      {
        "duration": 13,
        "start_time": "2022-10-23T10:23:56.292Z"
      },
      {
        "duration": 11,
        "start_time": "2022-10-23T10:23:56.306Z"
      },
      {
        "duration": 4,
        "start_time": "2022-10-23T10:23:56.319Z"
      },
      {
        "duration": 48,
        "start_time": "2022-10-23T10:23:56.325Z"
      },
      {
        "duration": 14,
        "start_time": "2022-10-23T10:23:56.375Z"
      },
      {
        "duration": 37,
        "start_time": "2022-10-23T10:23:56.391Z"
      },
      {
        "duration": 24,
        "start_time": "2022-10-23T10:23:56.430Z"
      },
      {
        "duration": 23,
        "start_time": "2022-10-23T10:23:56.456Z"
      },
      {
        "duration": 20,
        "start_time": "2022-10-23T10:23:56.481Z"
      },
      {
        "duration": 7,
        "start_time": "2022-10-23T10:23:56.503Z"
      },
      {
        "duration": 23,
        "start_time": "2022-10-23T10:23:56.514Z"
      },
      {
        "duration": 25,
        "start_time": "2022-10-23T10:23:56.539Z"
      },
      {
        "duration": 7,
        "start_time": "2022-10-23T10:23:56.566Z"
      },
      {
        "duration": 40,
        "start_time": "2022-10-23T10:23:56.575Z"
      },
      {
        "duration": 12,
        "start_time": "2022-10-23T10:23:56.617Z"
      },
      {
        "duration": 41,
        "start_time": "2022-10-23T10:23:56.631Z"
      },
      {
        "duration": 15,
        "start_time": "2022-10-23T10:23:56.674Z"
      },
      {
        "duration": 70,
        "start_time": "2022-10-23T10:23:56.691Z"
      },
      {
        "duration": 2,
        "start_time": "2022-10-23T10:23:56.763Z"
      },
      {
        "duration": 7,
        "start_time": "2022-10-23T10:23:56.767Z"
      },
      {
        "duration": 16,
        "start_time": "2022-10-23T10:23:56.776Z"
      },
      {
        "duration": 52,
        "start_time": "2022-10-23T10:24:11.039Z"
      },
      {
        "duration": 84,
        "start_time": "2022-10-23T10:24:13.145Z"
      },
      {
        "duration": 14,
        "start_time": "2022-10-23T10:27:19.116Z"
      },
      {
        "duration": 78,
        "start_time": "2022-10-23T10:36:07.152Z"
      },
      {
        "duration": 10,
        "start_time": "2022-10-23T10:52:57.512Z"
      },
      {
        "duration": 8,
        "start_time": "2022-10-23T10:52:59.754Z"
      },
      {
        "duration": 3,
        "start_time": "2022-10-23T10:53:06.710Z"
      },
      {
        "duration": 175,
        "start_time": "2022-10-23T10:53:06.715Z"
      },
      {
        "duration": 12,
        "start_time": "2022-10-23T10:53:06.892Z"
      },
      {
        "duration": 28,
        "start_time": "2022-10-23T10:53:06.905Z"
      },
      {
        "duration": 2,
        "start_time": "2022-10-23T10:53:06.936Z"
      },
      {
        "duration": 5,
        "start_time": "2022-10-23T10:53:06.953Z"
      },
      {
        "duration": 20,
        "start_time": "2022-10-23T10:53:06.959Z"
      },
      {
        "duration": 7,
        "start_time": "2022-10-23T10:53:06.981Z"
      },
      {
        "duration": 26,
        "start_time": "2022-10-23T10:53:06.989Z"
      },
      {
        "duration": 17,
        "start_time": "2022-10-23T10:53:07.017Z"
      },
      {
        "duration": 37,
        "start_time": "2022-10-23T10:53:07.036Z"
      },
      {
        "duration": 65,
        "start_time": "2022-10-23T10:53:07.075Z"
      },
      {
        "duration": 62,
        "start_time": "2022-10-23T10:53:07.153Z"
      },
      {
        "duration": 64,
        "start_time": "2022-10-23T10:53:07.217Z"
      },
      {
        "duration": 46,
        "start_time": "2022-10-23T10:53:07.283Z"
      },
      {
        "duration": 24,
        "start_time": "2022-10-23T10:53:07.331Z"
      },
      {
        "duration": 53,
        "start_time": "2022-10-23T10:53:07.356Z"
      },
      {
        "duration": 11,
        "start_time": "2022-10-23T10:53:07.411Z"
      },
      {
        "duration": 10,
        "start_time": "2022-10-23T10:53:07.424Z"
      },
      {
        "duration": 4,
        "start_time": "2022-10-23T10:53:07.453Z"
      },
      {
        "duration": 23,
        "start_time": "2022-10-23T10:53:07.458Z"
      },
      {
        "duration": 24,
        "start_time": "2022-10-23T10:53:07.482Z"
      },
      {
        "duration": 17,
        "start_time": "2022-10-23T10:53:07.507Z"
      },
      {
        "duration": 13,
        "start_time": "2022-10-23T10:53:07.526Z"
      },
      {
        "duration": 16,
        "start_time": "2022-10-23T10:53:07.554Z"
      },
      {
        "duration": 16,
        "start_time": "2022-10-23T10:53:07.571Z"
      },
      {
        "duration": 13,
        "start_time": "2022-10-23T10:53:07.588Z"
      },
      {
        "duration": 17,
        "start_time": "2022-10-23T10:53:07.603Z"
      },
      {
        "duration": 18,
        "start_time": "2022-10-23T10:53:07.624Z"
      },
      {
        "duration": 10,
        "start_time": "2022-10-23T10:53:07.644Z"
      },
      {
        "duration": 31,
        "start_time": "2022-10-23T10:53:07.655Z"
      },
      {
        "duration": 18,
        "start_time": "2022-10-23T10:53:07.688Z"
      },
      {
        "duration": 24,
        "start_time": "2022-10-23T10:53:07.707Z"
      },
      {
        "duration": 12,
        "start_time": "2022-10-23T10:53:07.733Z"
      },
      {
        "duration": 23,
        "start_time": "2022-10-23T10:53:07.746Z"
      },
      {
        "duration": 0,
        "start_time": "2022-10-23T10:53:07.771Z"
      },
      {
        "duration": 0,
        "start_time": "2022-10-23T10:53:07.772Z"
      },
      {
        "duration": 0,
        "start_time": "2022-10-23T10:53:07.773Z"
      },
      {
        "duration": 350,
        "start_time": "2022-10-23T10:53:27.700Z"
      },
      {
        "duration": 160,
        "start_time": "2022-10-23T10:53:28.054Z"
      },
      {
        "duration": 17,
        "start_time": "2022-10-23T10:53:28.216Z"
      },
      {
        "duration": 39,
        "start_time": "2022-10-23T10:53:28.235Z"
      },
      {
        "duration": 4,
        "start_time": "2022-10-23T10:53:28.276Z"
      },
      {
        "duration": 13,
        "start_time": "2022-10-23T10:53:28.282Z"
      },
      {
        "duration": 15,
        "start_time": "2022-10-23T10:53:28.297Z"
      },
      {
        "duration": 25,
        "start_time": "2022-10-23T10:53:28.313Z"
      },
      {
        "duration": 27,
        "start_time": "2022-10-23T10:53:28.340Z"
      },
      {
        "duration": 19,
        "start_time": "2022-10-23T10:53:28.371Z"
      },
      {
        "duration": 25,
        "start_time": "2022-10-23T10:53:28.392Z"
      },
      {
        "duration": 87,
        "start_time": "2022-10-23T10:53:28.418Z"
      },
      {
        "duration": 82,
        "start_time": "2022-10-23T10:53:28.507Z"
      },
      {
        "duration": 74,
        "start_time": "2022-10-23T10:53:28.591Z"
      },
      {
        "duration": 49,
        "start_time": "2022-10-23T10:53:28.667Z"
      },
      {
        "duration": 9,
        "start_time": "2022-10-23T10:53:28.718Z"
      },
      {
        "duration": 66,
        "start_time": "2022-10-23T10:53:28.729Z"
      },
      {
        "duration": 11,
        "start_time": "2022-10-23T10:53:28.797Z"
      },
      {
        "duration": 12,
        "start_time": "2022-10-23T10:53:28.810Z"
      },
      {
        "duration": 3,
        "start_time": "2022-10-23T10:53:28.824Z"
      },
      {
        "duration": 16,
        "start_time": "2022-10-23T10:53:28.855Z"
      },
      {
        "duration": 15,
        "start_time": "2022-10-23T10:53:28.873Z"
      },
      {
        "duration": 27,
        "start_time": "2022-10-23T10:53:28.889Z"
      },
      {
        "duration": 22,
        "start_time": "2022-10-23T10:53:28.917Z"
      },
      {
        "duration": 46,
        "start_time": "2022-10-23T10:53:28.941Z"
      },
      {
        "duration": 14,
        "start_time": "2022-10-23T10:53:28.988Z"
      },
      {
        "duration": 6,
        "start_time": "2022-10-23T10:53:29.003Z"
      },
      {
        "duration": 13,
        "start_time": "2022-10-23T10:53:29.012Z"
      },
      {
        "duration": 10,
        "start_time": "2022-10-23T10:53:29.027Z"
      },
      {
        "duration": 9,
        "start_time": "2022-10-23T10:53:29.038Z"
      },
      {
        "duration": 25,
        "start_time": "2022-10-23T10:53:29.048Z"
      },
      {
        "duration": 13,
        "start_time": "2022-10-23T10:53:29.075Z"
      },
      {
        "duration": 23,
        "start_time": "2022-10-23T10:53:29.090Z"
      },
      {
        "duration": 13,
        "start_time": "2022-10-23T10:53:29.114Z"
      },
      {
        "duration": 95,
        "start_time": "2022-10-23T10:53:29.129Z"
      },
      {
        "duration": 0,
        "start_time": "2022-10-23T10:53:29.226Z"
      },
      {
        "duration": 0,
        "start_time": "2022-10-23T10:53:29.229Z"
      },
      {
        "duration": 0,
        "start_time": "2022-10-23T10:53:29.230Z"
      },
      {
        "duration": 11,
        "start_time": "2022-10-23T10:55:16.149Z"
      },
      {
        "duration": 9,
        "start_time": "2022-10-23T10:55:19.349Z"
      },
      {
        "duration": 5,
        "start_time": "2022-10-23T10:56:35.091Z"
      },
      {
        "duration": 59,
        "start_time": "2023-03-27T10:56:40.144Z"
      },
      {
        "duration": 14,
        "start_time": "2023-03-27T10:57:18.233Z"
      },
      {
        "duration": 15,
        "start_time": "2023-03-27T10:57:48.066Z"
      },
      {
        "duration": 357,
        "start_time": "2023-03-27T10:58:06.456Z"
      },
      {
        "duration": 3,
        "start_time": "2023-03-27T10:58:21.651Z"
      },
      {
        "duration": 3,
        "start_time": "2023-03-27T10:58:29.628Z"
      },
      {
        "duration": 766,
        "start_time": "2023-03-27T10:58:34.402Z"
      },
      {
        "duration": 3,
        "start_time": "2023-03-27T10:58:37.807Z"
      },
      {
        "duration": 691,
        "start_time": "2023-03-27T10:58:37.812Z"
      },
      {
        "duration": 17,
        "start_time": "2023-03-27T10:58:38.505Z"
      },
      {
        "duration": 24,
        "start_time": "2023-03-27T10:58:38.524Z"
      },
      {
        "duration": 11,
        "start_time": "2023-03-27T10:58:38.550Z"
      },
      {
        "duration": 36,
        "start_time": "2023-03-27T10:58:38.562Z"
      },
      {
        "duration": 11,
        "start_time": "2023-03-27T10:58:38.600Z"
      },
      {
        "duration": 17,
        "start_time": "2023-03-27T10:58:38.613Z"
      },
      {
        "duration": 31,
        "start_time": "2023-03-27T10:58:38.632Z"
      },
      {
        "duration": 56,
        "start_time": "2023-03-27T10:58:38.665Z"
      },
      {
        "duration": 25,
        "start_time": "2023-03-27T10:58:38.723Z"
      },
      {
        "duration": 89,
        "start_time": "2023-03-27T10:58:38.750Z"
      },
      {
        "duration": 72,
        "start_time": "2023-03-27T10:58:38.842Z"
      },
      {
        "duration": 97,
        "start_time": "2023-03-27T10:58:38.916Z"
      },
      {
        "duration": 49,
        "start_time": "2023-03-27T10:58:39.018Z"
      },
      {
        "duration": 29,
        "start_time": "2023-03-27T10:58:39.069Z"
      },
      {
        "duration": 58,
        "start_time": "2023-03-27T10:58:39.102Z"
      },
      {
        "duration": 35,
        "start_time": "2023-03-27T10:58:39.161Z"
      },
      {
        "duration": 12,
        "start_time": "2023-03-27T10:58:39.200Z"
      },
      {
        "duration": 4,
        "start_time": "2023-03-27T10:58:39.213Z"
      },
      {
        "duration": 21,
        "start_time": "2023-03-27T10:58:39.218Z"
      },
      {
        "duration": 15,
        "start_time": "2023-03-27T10:58:39.240Z"
      },
      {
        "duration": 14,
        "start_time": "2023-03-27T10:58:39.257Z"
      },
      {
        "duration": 42,
        "start_time": "2023-03-27T10:58:39.279Z"
      },
      {
        "duration": 15,
        "start_time": "2023-03-27T10:58:39.323Z"
      },
      {
        "duration": 14,
        "start_time": "2023-03-27T10:58:39.340Z"
      },
      {
        "duration": 4,
        "start_time": "2023-03-27T10:58:39.356Z"
      },
      {
        "duration": 31,
        "start_time": "2023-03-27T10:58:39.362Z"
      },
      {
        "duration": 23,
        "start_time": "2023-03-27T10:58:39.398Z"
      },
      {
        "duration": 6,
        "start_time": "2023-03-27T10:58:39.423Z"
      },
      {
        "duration": 20,
        "start_time": "2023-03-27T10:58:39.431Z"
      },
      {
        "duration": 10,
        "start_time": "2023-03-27T10:58:39.453Z"
      },
      {
        "duration": 28,
        "start_time": "2023-03-27T10:58:39.464Z"
      },
      {
        "duration": 13,
        "start_time": "2023-03-27T10:58:39.507Z"
      },
      {
        "duration": 9,
        "start_time": "2023-03-27T10:58:39.521Z"
      },
      {
        "duration": 10,
        "start_time": "2023-03-27T10:58:39.532Z"
      },
      {
        "duration": 9,
        "start_time": "2023-03-27T10:58:39.546Z"
      },
      {
        "duration": 9,
        "start_time": "2023-03-27T10:58:39.556Z"
      },
      {
        "duration": 427,
        "start_time": "2023-03-30T12:12:24.567Z"
      },
      {
        "duration": 945,
        "start_time": "2023-03-30T12:12:24.996Z"
      },
      {
        "duration": 17,
        "start_time": "2023-03-30T12:12:25.943Z"
      },
      {
        "duration": 47,
        "start_time": "2023-03-30T12:12:25.962Z"
      },
      {
        "duration": 16,
        "start_time": "2023-03-30T12:12:26.011Z"
      },
      {
        "duration": 13,
        "start_time": "2023-03-30T12:12:26.029Z"
      },
      {
        "duration": 25,
        "start_time": "2023-03-30T12:12:26.044Z"
      },
      {
        "duration": 13,
        "start_time": "2023-03-30T12:12:26.071Z"
      },
      {
        "duration": 41,
        "start_time": "2023-03-30T12:12:26.086Z"
      },
      {
        "duration": 28,
        "start_time": "2023-03-30T12:12:26.129Z"
      },
      {
        "duration": 30,
        "start_time": "2023-03-30T12:12:26.159Z"
      },
      {
        "duration": 92,
        "start_time": "2023-03-30T12:12:26.191Z"
      },
      {
        "duration": 78,
        "start_time": "2023-03-30T12:12:26.285Z"
      },
      {
        "duration": 72,
        "start_time": "2023-03-30T12:12:26.365Z"
      },
      {
        "duration": 52,
        "start_time": "2023-03-30T12:12:26.440Z"
      },
      {
        "duration": 29,
        "start_time": "2023-03-30T12:12:26.494Z"
      },
      {
        "duration": 50,
        "start_time": "2023-03-30T12:12:26.525Z"
      },
      {
        "duration": 13,
        "start_time": "2023-03-30T12:12:26.577Z"
      },
      {
        "duration": 31,
        "start_time": "2023-03-30T12:12:26.592Z"
      },
      {
        "duration": 4,
        "start_time": "2023-03-30T12:12:26.625Z"
      },
      {
        "duration": 42,
        "start_time": "2023-03-30T12:12:26.631Z"
      },
      {
        "duration": 22,
        "start_time": "2023-03-30T12:12:26.675Z"
      },
      {
        "duration": 18,
        "start_time": "2023-03-30T12:12:26.699Z"
      },
      {
        "duration": 31,
        "start_time": "2023-03-30T12:12:26.720Z"
      },
      {
        "duration": 36,
        "start_time": "2023-03-30T12:12:26.753Z"
      },
      {
        "duration": 16,
        "start_time": "2023-03-30T12:12:26.791Z"
      },
      {
        "duration": 40,
        "start_time": "2023-03-30T12:12:26.809Z"
      },
      {
        "duration": 22,
        "start_time": "2023-03-30T12:12:26.853Z"
      },
      {
        "duration": 41,
        "start_time": "2023-03-30T12:12:26.877Z"
      },
      {
        "duration": 28,
        "start_time": "2023-03-30T12:12:26.920Z"
      },
      {
        "duration": 57,
        "start_time": "2023-03-30T12:12:26.950Z"
      },
      {
        "duration": 16,
        "start_time": "2023-03-30T12:12:27.008Z"
      },
      {
        "duration": 37,
        "start_time": "2023-03-30T12:12:27.025Z"
      },
      {
        "duration": 31,
        "start_time": "2023-03-30T12:12:27.064Z"
      },
      {
        "duration": 32,
        "start_time": "2023-03-30T12:12:27.097Z"
      },
      {
        "duration": 22,
        "start_time": "2023-03-30T12:12:27.131Z"
      },
      {
        "duration": 20,
        "start_time": "2023-03-30T12:12:27.155Z"
      },
      {
        "duration": 23,
        "start_time": "2023-03-30T12:12:27.177Z"
      },
      {
        "duration": 53,
        "start_time": "2023-03-30T12:14:46.641Z"
      },
      {
        "duration": 8,
        "start_time": "2023-03-30T12:14:56.649Z"
      },
      {
        "duration": 366,
        "start_time": "2023-03-30T12:15:03.378Z"
      },
      {
        "duration": 613,
        "start_time": "2023-03-30T12:15:03.746Z"
      },
      {
        "duration": 19,
        "start_time": "2023-03-30T12:15:04.362Z"
      },
      {
        "duration": 3,
        "start_time": "2023-03-30T12:15:18.705Z"
      },
      {
        "duration": 736,
        "start_time": "2023-03-30T12:15:18.768Z"
      },
      {
        "duration": 11,
        "start_time": "2023-03-30T12:15:19.506Z"
      },
      {
        "duration": 89,
        "start_time": "2023-03-30T12:15:19.519Z"
      },
      {
        "duration": 27,
        "start_time": "2023-03-30T12:27:30.457Z"
      },
      {
        "duration": 33,
        "start_time": "2023-03-30T12:27:49.334Z"
      },
      {
        "duration": 47,
        "start_time": "2023-03-30T12:27:54.172Z"
      },
      {
        "duration": 26,
        "start_time": "2023-03-30T12:28:12.789Z"
      },
      {
        "duration": 76,
        "start_time": "2023-03-30T12:40:47.303Z"
      },
      {
        "duration": 77,
        "start_time": "2023-03-30T12:41:36.939Z"
      },
      {
        "duration": 86,
        "start_time": "2023-03-30T12:41:41.945Z"
      },
      {
        "duration": 67,
        "start_time": "2023-03-30T12:41:59.997Z"
      },
      {
        "duration": 53,
        "start_time": "2023-04-02T08:34:10.996Z"
      },
      {
        "duration": 6,
        "start_time": "2023-04-02T08:34:23.211Z"
      },
      {
        "duration": 0,
        "start_time": "2023-04-02T08:34:23.218Z"
      },
      {
        "duration": 0,
        "start_time": "2023-04-02T08:34:23.219Z"
      },
      {
        "duration": 0,
        "start_time": "2023-04-02T08:34:23.220Z"
      },
      {
        "duration": 0,
        "start_time": "2023-04-02T08:34:23.221Z"
      },
      {
        "duration": 4,
        "start_time": "2023-04-02T08:34:23.223Z"
      },
      {
        "duration": 33,
        "start_time": "2023-04-02T08:34:23.229Z"
      },
      {
        "duration": 0,
        "start_time": "2023-04-02T08:34:23.263Z"
      },
      {
        "duration": 0,
        "start_time": "2023-04-02T08:34:23.265Z"
      },
      {
        "duration": 0,
        "start_time": "2023-04-02T08:34:23.266Z"
      },
      {
        "duration": 0,
        "start_time": "2023-04-02T08:34:23.267Z"
      },
      {
        "duration": 0,
        "start_time": "2023-04-02T08:34:23.268Z"
      },
      {
        "duration": 1,
        "start_time": "2023-04-02T08:34:23.268Z"
      },
      {
        "duration": 0,
        "start_time": "2023-04-02T08:34:23.269Z"
      },
      {
        "duration": 0,
        "start_time": "2023-04-02T08:34:23.270Z"
      },
      {
        "duration": 5,
        "start_time": "2023-04-02T08:34:23.280Z"
      },
      {
        "duration": 9,
        "start_time": "2023-04-02T08:34:23.287Z"
      },
      {
        "duration": 0,
        "start_time": "2023-04-02T08:34:23.298Z"
      },
      {
        "duration": 0,
        "start_time": "2023-04-02T08:34:23.299Z"
      },
      {
        "duration": 0,
        "start_time": "2023-04-02T08:34:23.300Z"
      },
      {
        "duration": 0,
        "start_time": "2023-04-02T08:34:23.301Z"
      },
      {
        "duration": 0,
        "start_time": "2023-04-02T08:34:23.302Z"
      },
      {
        "duration": 0,
        "start_time": "2023-04-02T08:34:23.303Z"
      },
      {
        "duration": 0,
        "start_time": "2023-04-02T08:34:23.305Z"
      },
      {
        "duration": 7,
        "start_time": "2023-04-02T08:34:35.303Z"
      },
      {
        "duration": 6,
        "start_time": "2023-04-02T08:34:41.623Z"
      },
      {
        "duration": 0,
        "start_time": "2023-04-02T08:34:41.630Z"
      },
      {
        "duration": 0,
        "start_time": "2023-04-02T08:34:41.631Z"
      },
      {
        "duration": 0,
        "start_time": "2023-04-02T08:34:41.632Z"
      },
      {
        "duration": 3,
        "start_time": "2023-04-02T08:34:41.640Z"
      },
      {
        "duration": 11,
        "start_time": "2023-04-02T08:34:41.644Z"
      },
      {
        "duration": 0,
        "start_time": "2023-04-02T08:34:41.657Z"
      },
      {
        "duration": 0,
        "start_time": "2023-04-02T08:34:41.657Z"
      },
      {
        "duration": 0,
        "start_time": "2023-04-02T08:34:41.658Z"
      },
      {
        "duration": 0,
        "start_time": "2023-04-02T08:34:41.659Z"
      },
      {
        "duration": 6,
        "start_time": "2023-04-02T08:34:41.673Z"
      },
      {
        "duration": 0,
        "start_time": "2023-04-02T08:34:41.680Z"
      },
      {
        "duration": 0,
        "start_time": "2023-04-02T08:34:41.681Z"
      },
      {
        "duration": 0,
        "start_time": "2023-04-02T08:34:41.682Z"
      },
      {
        "duration": 0,
        "start_time": "2023-04-02T08:34:41.683Z"
      },
      {
        "duration": 4,
        "start_time": "2023-04-02T08:34:41.690Z"
      },
      {
        "duration": 0,
        "start_time": "2023-04-02T08:34:41.696Z"
      },
      {
        "duration": 0,
        "start_time": "2023-04-02T08:34:41.697Z"
      },
      {
        "duration": 0,
        "start_time": "2023-04-02T08:34:41.698Z"
      },
      {
        "duration": 0,
        "start_time": "2023-04-02T08:34:41.699Z"
      },
      {
        "duration": 0,
        "start_time": "2023-04-02T08:34:41.700Z"
      },
      {
        "duration": 0,
        "start_time": "2023-04-02T08:34:41.700Z"
      },
      {
        "duration": 0,
        "start_time": "2023-04-02T08:34:41.701Z"
      },
      {
        "duration": 5,
        "start_time": "2023-04-02T08:35:04.270Z"
      },
      {
        "duration": 334,
        "start_time": "2023-04-02T08:35:26.118Z"
      },
      {
        "duration": 590,
        "start_time": "2023-04-02T08:35:26.454Z"
      },
      {
        "duration": 16,
        "start_time": "2023-04-02T08:35:27.045Z"
      },
      {
        "duration": 39,
        "start_time": "2023-04-02T08:35:27.063Z"
      },
      {
        "duration": 3,
        "start_time": "2023-04-02T08:35:27.103Z"
      },
      {
        "duration": 9,
        "start_time": "2023-04-02T08:35:27.107Z"
      },
      {
        "duration": 10,
        "start_time": "2023-04-02T08:35:27.118Z"
      },
      {
        "duration": 6,
        "start_time": "2023-04-02T08:35:27.129Z"
      },
      {
        "duration": 22,
        "start_time": "2023-04-02T08:35:27.136Z"
      },
      {
        "duration": 19,
        "start_time": "2023-04-02T08:35:27.160Z"
      },
      {
        "duration": 20,
        "start_time": "2023-04-02T08:35:27.180Z"
      },
      {
        "duration": 72,
        "start_time": "2023-04-02T08:35:27.201Z"
      },
      {
        "duration": 61,
        "start_time": "2023-04-02T08:35:27.275Z"
      },
      {
        "duration": 67,
        "start_time": "2023-04-02T08:35:27.337Z"
      },
      {
        "duration": 40,
        "start_time": "2023-04-02T08:35:27.406Z"
      },
      {
        "duration": 9,
        "start_time": "2023-04-02T08:42:15.096Z"
      },
      {
        "duration": 8,
        "start_time": "2023-04-02T08:42:18.628Z"
      },
      {
        "duration": 3,
        "start_time": "2023-04-02T08:44:52.336Z"
      },
      {
        "duration": 731,
        "start_time": "2023-04-02T08:44:52.341Z"
      },
      {
        "duration": 12,
        "start_time": "2023-04-02T08:44:53.074Z"
      },
      {
        "duration": 33,
        "start_time": "2023-04-02T08:44:53.089Z"
      },
      {
        "duration": 6,
        "start_time": "2023-04-02T08:44:53.124Z"
      },
      {
        "duration": 11,
        "start_time": "2023-04-02T08:44:53.132Z"
      },
      {
        "duration": 31,
        "start_time": "2023-04-02T08:44:53.145Z"
      },
      {
        "duration": 5,
        "start_time": "2023-04-02T08:44:53.178Z"
      },
      {
        "duration": 48,
        "start_time": "2023-04-02T08:44:53.185Z"
      },
      {
        "duration": 32,
        "start_time": "2023-04-02T08:44:53.236Z"
      },
      {
        "duration": 40,
        "start_time": "2023-04-02T08:44:53.272Z"
      },
      {
        "duration": 85,
        "start_time": "2023-04-02T08:44:53.313Z"
      },
      {
        "duration": 72,
        "start_time": "2023-04-02T08:44:53.399Z"
      },
      {
        "duration": 57,
        "start_time": "2023-04-02T08:44:53.472Z"
      },
      {
        "duration": 61,
        "start_time": "2023-04-02T08:44:53.531Z"
      },
      {
        "duration": 10,
        "start_time": "2023-04-02T08:44:53.593Z"
      },
      {
        "duration": 11,
        "start_time": "2023-04-02T09:21:15.418Z"
      },
      {
        "duration": 12,
        "start_time": "2023-04-02T09:26:25.130Z"
      },
      {
        "duration": 85,
        "start_time": "2023-04-02T10:15:11.251Z"
      },
      {
        "duration": 72,
        "start_time": "2023-04-02T10:15:28.866Z"
      },
      {
        "duration": 4,
        "start_time": "2023-04-02T10:15:48.975Z"
      },
      {
        "duration": 3,
        "start_time": "2023-04-02T10:15:52.649Z"
      },
      {
        "duration": 3,
        "start_time": "2023-04-02T10:19:06.786Z"
      },
      {
        "duration": 23,
        "start_time": "2023-04-02T10:22:01.231Z"
      },
      {
        "duration": 18,
        "start_time": "2023-04-02T10:22:13.823Z"
      },
      {
        "duration": 18,
        "start_time": "2023-04-02T10:22:15.213Z"
      },
      {
        "duration": 16,
        "start_time": "2023-04-02T10:22:15.979Z"
      },
      {
        "duration": 3,
        "start_time": "2023-04-02T10:23:18.732Z"
      },
      {
        "duration": 69,
        "start_time": "2023-04-02T10:28:10.078Z"
      },
      {
        "duration": 31,
        "start_time": "2023-04-02T10:28:11.453Z"
      },
      {
        "duration": 33,
        "start_time": "2023-04-02T10:30:52.683Z"
      },
      {
        "duration": 4,
        "start_time": "2023-04-02T10:34:02.517Z"
      },
      {
        "duration": 21,
        "start_time": "2023-04-02T10:38:57.349Z"
      },
      {
        "duration": 20,
        "start_time": "2023-04-02T10:39:17.988Z"
      },
      {
        "duration": 18,
        "start_time": "2023-04-02T10:39:23.180Z"
      },
      {
        "duration": 19,
        "start_time": "2023-04-02T10:39:32.919Z"
      },
      {
        "duration": 16,
        "start_time": "2023-04-02T10:39:36.578Z"
      },
      {
        "duration": 20,
        "start_time": "2023-04-02T10:39:39.902Z"
      },
      {
        "duration": 17,
        "start_time": "2023-04-02T10:39:41.538Z"
      },
      {
        "duration": 19,
        "start_time": "2023-04-02T10:42:02.254Z"
      },
      {
        "duration": 17,
        "start_time": "2023-04-02T10:42:05.279Z"
      },
      {
        "duration": 21,
        "start_time": "2023-04-02T10:42:06.952Z"
      },
      {
        "duration": 16,
        "start_time": "2023-04-02T10:42:08.469Z"
      },
      {
        "duration": 19,
        "start_time": "2023-04-02T10:42:09.701Z"
      },
      {
        "duration": 20,
        "start_time": "2023-04-02T10:42:10.822Z"
      },
      {
        "duration": 20,
        "start_time": "2023-04-02T10:42:32.843Z"
      },
      {
        "duration": 18,
        "start_time": "2023-04-02T10:42:33.732Z"
      },
      {
        "duration": 3,
        "start_time": "2023-04-02T10:42:42.880Z"
      },
      {
        "duration": 530,
        "start_time": "2023-04-02T10:42:42.884Z"
      },
      {
        "duration": 10,
        "start_time": "2023-04-02T10:42:43.416Z"
      },
      {
        "duration": 29,
        "start_time": "2023-04-02T10:42:43.428Z"
      },
      {
        "duration": 3,
        "start_time": "2023-04-02T10:42:43.459Z"
      },
      {
        "duration": 5,
        "start_time": "2023-04-02T10:42:43.463Z"
      },
      {
        "duration": 10,
        "start_time": "2023-04-02T10:42:43.469Z"
      },
      {
        "duration": 4,
        "start_time": "2023-04-02T10:42:43.481Z"
      },
      {
        "duration": 23,
        "start_time": "2023-04-02T10:42:43.486Z"
      },
      {
        "duration": 18,
        "start_time": "2023-04-02T10:42:43.510Z"
      },
      {
        "duration": 39,
        "start_time": "2023-04-02T10:42:43.529Z"
      },
      {
        "duration": 55,
        "start_time": "2023-04-02T10:42:43.569Z"
      },
      {
        "duration": 64,
        "start_time": "2023-04-02T10:42:43.625Z"
      },
      {
        "duration": 52,
        "start_time": "2023-04-02T10:42:43.692Z"
      },
      {
        "duration": 60,
        "start_time": "2023-04-02T10:42:43.746Z"
      },
      {
        "duration": 9,
        "start_time": "2023-04-02T10:42:43.808Z"
      },
      {
        "duration": 53,
        "start_time": "2023-04-02T10:42:43.818Z"
      },
      {
        "duration": 10,
        "start_time": "2023-04-02T10:42:43.873Z"
      },
      {
        "duration": 10,
        "start_time": "2023-04-02T10:42:43.885Z"
      },
      {
        "duration": 16,
        "start_time": "2023-04-02T10:42:43.896Z"
      },
      {
        "duration": 14,
        "start_time": "2023-04-02T10:42:43.913Z"
      },
      {
        "duration": 12,
        "start_time": "2023-04-02T10:42:43.928Z"
      },
      {
        "duration": 11,
        "start_time": "2023-04-02T10:42:43.941Z"
      },
      {
        "duration": 9,
        "start_time": "2023-04-02T10:42:43.969Z"
      },
      {
        "duration": 21,
        "start_time": "2023-04-02T10:42:43.979Z"
      },
      {
        "duration": 9,
        "start_time": "2023-04-02T10:42:44.002Z"
      },
      {
        "duration": 4,
        "start_time": "2023-04-02T10:43:18.784Z"
      },
      {
        "duration": 2,
        "start_time": "2023-04-02T10:44:34.469Z"
      },
      {
        "duration": 19,
        "start_time": "2023-04-02T10:44:38.130Z"
      },
      {
        "duration": 17,
        "start_time": "2023-04-02T10:44:39.141Z"
      },
      {
        "duration": 22,
        "start_time": "2023-04-02T10:44:39.773Z"
      },
      {
        "duration": 17,
        "start_time": "2023-04-02T10:44:40.421Z"
      },
      {
        "duration": 68,
        "start_time": "2023-04-02T10:45:16.134Z"
      },
      {
        "duration": 65,
        "start_time": "2023-04-02T10:45:43.282Z"
      },
      {
        "duration": 92,
        "start_time": "2023-04-02T10:46:03.288Z"
      },
      {
        "duration": 69,
        "start_time": "2023-04-02T10:46:27.511Z"
      },
      {
        "duration": 3,
        "start_time": "2023-04-02T10:46:40.621Z"
      },
      {
        "duration": 21,
        "start_time": "2023-04-02T10:46:42.483Z"
      },
      {
        "duration": 16,
        "start_time": "2023-04-02T10:46:51.242Z"
      },
      {
        "duration": 4,
        "start_time": "2023-04-02T10:48:24.247Z"
      },
      {
        "duration": 37,
        "start_time": "2023-04-02T10:48:25.536Z"
      },
      {
        "duration": 29,
        "start_time": "2023-04-02T10:48:28.095Z"
      },
      {
        "duration": 3,
        "start_time": "2023-04-02T10:48:55.318Z"
      },
      {
        "duration": 23,
        "start_time": "2023-04-02T10:48:56.533Z"
      },
      {
        "duration": 19,
        "start_time": "2023-04-02T10:48:57.321Z"
      },
      {
        "duration": 20,
        "start_time": "2023-04-02T10:48:58.400Z"
      },
      {
        "duration": 20,
        "start_time": "2023-04-02T10:48:58.569Z"
      },
      {
        "duration": 23,
        "start_time": "2023-04-02T10:48:58.778Z"
      },
      {
        "duration": 21,
        "start_time": "2023-04-02T10:48:58.988Z"
      },
      {
        "duration": 4,
        "start_time": "2023-04-02T11:30:12.272Z"
      },
      {
        "duration": 9,
        "start_time": "2023-04-02T16:48:51.105Z"
      },
      {
        "duration": 44,
        "start_time": "2023-04-02T16:48:55.656Z"
      },
      {
        "duration": 4,
        "start_time": "2023-04-02T16:55:28.206Z"
      },
      {
        "duration": 6,
        "start_time": "2023-04-02T16:55:29.558Z"
      },
      {
        "duration": 4,
        "start_time": "2023-04-02T17:04:00.028Z"
      },
      {
        "duration": 5,
        "start_time": "2023-04-02T17:04:01.912Z"
      },
      {
        "duration": 7,
        "start_time": "2023-04-02T17:04:02.999Z"
      },
      {
        "duration": 420,
        "start_time": "2023-04-02T17:04:17.376Z"
      },
      {
        "duration": 650,
        "start_time": "2023-04-02T17:04:17.798Z"
      },
      {
        "duration": 26,
        "start_time": "2023-04-02T17:04:18.450Z"
      },
      {
        "duration": 40,
        "start_time": "2023-04-02T17:04:18.479Z"
      },
      {
        "duration": 3,
        "start_time": "2023-04-02T17:04:18.521Z"
      },
      {
        "duration": 12,
        "start_time": "2023-04-02T17:04:18.526Z"
      },
      {
        "duration": 35,
        "start_time": "2023-04-02T17:04:18.540Z"
      },
      {
        "duration": 10,
        "start_time": "2023-04-02T17:04:18.577Z"
      },
      {
        "duration": 53,
        "start_time": "2023-04-02T17:04:18.588Z"
      },
      {
        "duration": 17,
        "start_time": "2023-04-02T17:04:18.644Z"
      },
      {
        "duration": 23,
        "start_time": "2023-04-02T17:04:18.663Z"
      },
      {
        "duration": 65,
        "start_time": "2023-04-02T17:04:18.688Z"
      },
      {
        "duration": 84,
        "start_time": "2023-04-02T17:04:18.755Z"
      },
      {
        "duration": 72,
        "start_time": "2023-04-02T17:04:18.841Z"
      },
      {
        "duration": 45,
        "start_time": "2023-04-02T17:04:18.915Z"
      },
      {
        "duration": 24,
        "start_time": "2023-04-02T17:04:18.961Z"
      },
      {
        "duration": 50,
        "start_time": "2023-04-02T17:04:18.987Z"
      },
      {
        "duration": 36,
        "start_time": "2023-04-02T17:04:19.040Z"
      },
      {
        "duration": 11,
        "start_time": "2023-04-02T17:04:19.078Z"
      },
      {
        "duration": 4,
        "start_time": "2023-04-02T17:04:19.091Z"
      },
      {
        "duration": 19,
        "start_time": "2023-04-02T17:04:19.097Z"
      },
      {
        "duration": 26,
        "start_time": "2023-04-02T17:04:19.118Z"
      },
      {
        "duration": 23,
        "start_time": "2023-04-02T17:04:19.176Z"
      },
      {
        "duration": 16,
        "start_time": "2023-04-02T17:04:19.202Z"
      },
      {
        "duration": 17,
        "start_time": "2023-04-02T17:04:19.220Z"
      },
      {
        "duration": 45,
        "start_time": "2023-04-02T17:04:19.239Z"
      },
      {
        "duration": 4,
        "start_time": "2023-04-02T17:04:19.285Z"
      },
      {
        "duration": 11,
        "start_time": "2023-04-02T17:04:19.292Z"
      },
      {
        "duration": 11,
        "start_time": "2023-04-02T17:04:19.305Z"
      },
      {
        "duration": 4,
        "start_time": "2023-04-02T17:04:19.318Z"
      },
      {
        "duration": 53,
        "start_time": "2023-04-02T17:04:19.323Z"
      },
      {
        "duration": 12,
        "start_time": "2023-04-02T17:06:33.024Z"
      },
      {
        "duration": 33,
        "start_time": "2023-04-02T17:25:21.007Z"
      },
      {
        "duration": 21,
        "start_time": "2023-04-02T17:25:21.882Z"
      },
      {
        "duration": 9,
        "start_time": "2023-04-02T17:31:33.696Z"
      },
      {
        "duration": 5,
        "start_time": "2023-04-02T17:31:59.635Z"
      },
      {
        "duration": 7,
        "start_time": "2023-04-02T17:35:27.176Z"
      },
      {
        "duration": 4,
        "start_time": "2023-04-02T17:35:29.204Z"
      },
      {
        "duration": 9,
        "start_time": "2023-04-02T17:40:00.476Z"
      },
      {
        "duration": 12,
        "start_time": "2023-04-02T17:40:06.053Z"
      },
      {
        "duration": 10,
        "start_time": "2023-04-02T17:40:06.650Z"
      }
    ],
    "colab": {
      "provenance": []
    },
    "kernelspec": {
      "display_name": "Python 3 (ipykernel)",
      "language": "python",
      "name": "python3"
    },
    "language_info": {
      "codemirror_mode": {
        "name": "ipython",
        "version": 3
      },
      "file_extension": ".py",
      "mimetype": "text/x-python",
      "name": "python",
      "nbconvert_exporter": "python",
      "pygments_lexer": "ipython3",
      "version": "3.9.16"
    },
    "toc": {
      "base_numbering": 1,
      "nav_menu": {
        "height": "215px",
        "width": "403px"
      },
      "number_sections": true,
      "sideBar": true,
      "skip_h1_title": true,
      "title_cell": "Table of Contents",
      "title_sidebar": "Contents",
      "toc_cell": false,
      "toc_position": {
        "height": "calc(100% - 180px)",
        "left": "10px",
        "top": "150px",
        "width": "285.825px"
      },
      "toc_section_display": true,
      "toc_window_display": false
    }
  },
  "nbformat": 4,
  "nbformat_minor": 0
}