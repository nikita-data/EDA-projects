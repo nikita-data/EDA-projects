{
  "cells": [
    {
      "cell_type": "markdown",
      "id": "386f2ae7",
      "metadata": {
        "deletable": false,
        "editable": false,
        "id": "386f2ae7"
      },
      "source": [
        "# Исследование надежности заемщиков\n"
      ]
    },
    {
      "cell_type": "markdown",
      "id": "bdd157b6",
      "metadata": {
        "id": "bdd157b6"
      },
      "source": [
        "**Описание проекта**"
      ]
    },
    {
      "cell_type": "markdown",
      "id": "1574ec27",
      "metadata": {
        "id": "1574ec27"
      },
      "source": [
        "Заказчик — кредитный отдел банка. Нужно разобраться, влияет ли семейное положение и количество детей клиента на факт погашения кредита в срок. Входные данные от банка — статистика о платёжеспособности клиентов.\n",
        "\n",
        "Результаты исследования будут учтены при построении модели кредитного скоринга — специальной системы, которая оценивает способность потенциального заёмщика вернуть кредит банку.По представленным статистическим данным о платежеспособности клиентов банка необходимо провести исследование- влияет ли семейное положение и количество детей клиента на факт погашения кредита в срок. Результаты исследования будут учтены при построении модели кредитного скоринга — специальной системы, которая оценивает способность потенциального заёмщика вернуть кредит банку.\n",
        "\n",
        "**Цель исследования — проверить гипотезы:**\n",
        "\n",
        "Существует ли зависимость:\n",
        "\n",
        "- между наличием детей и возвратом кредита в срок;\n",
        "- между семейным положением и возвратом кредита в срок;\n",
        "- между уровнем дохода и возвратом кредита в срок;\n",
        "- между целью кредита и его возврат в срок.\n",
        "\n",
        "\n",
        "**Предоставленные файлы**\n",
        "\n",
        "`/datasets/data.csv` - данные о поведении пользователей (статистика о платёжеспособности клиентов)\n",
        "\n",
        "\n",
        "**Основные шаги**\n",
        "\n",
        "1. Обзор данных\n",
        "2. Предобработка данных\n",
        "3. Исследовательский анализ\n",
        "4. Общий вывод"
      ]
    },
    {
      "cell_type": "markdown",
      "id": "26613308",
      "metadata": {
        "deletable": false,
        "editable": false,
        "id": "26613308"
      },
      "source": [
        "## Обзор данных"
      ]
    },
    {
      "cell_type": "code",
      "execution_count": 1,
      "id": "3ceab204",
      "metadata": {
        "id": "3ceab204"
      },
      "outputs": [],
      "source": [
        "# импорт библиотек\n",
        "import pandas as pd"
      ]
    },
    {
      "cell_type": "markdown",
      "source": [
        "Считаем CSV-файл с данными"
      ],
      "metadata": {
        "id": "g_VBjcJtYUQQ"
      },
      "id": "g_VBjcJtYUQQ"
    },
    {
      "cell_type": "code",
      "execution_count": 2,
      "id": "77a68a90",
      "metadata": {
        "deletable": false,
        "id": "77a68a90"
      },
      "outputs": [],
      "source": [
        "try:\n",
        "    data = pd.read_csv('https://code.s3.yandex.net//datasets/data.csv')\n",
        "except:\n",
        "    data = pd.read_csv('D:\\myuser\\YandexPracticumfilesproject\\data (2).csv')"
      ]
    },
    {
      "cell_type": "markdown",
      "id": "45365635",
      "metadata": {
        "deletable": false,
        "editable": false,
        "id": "45365635"
      },
      "source": [
        "Выведем первые 20 строчек датафрейма `data` на экран."
      ]
    },
    {
      "cell_type": "code",
      "execution_count": 3,
      "id": "b0451a9a",
      "metadata": {
        "deletable": false,
        "id": "b0451a9a",
        "outputId": "4d5c59c3-2325-49ce-8b2c-667da7154c4c",
        "colab": {
          "base_uri": "https://localhost:8080/",
          "height": 850
        }
      },
      "outputs": [
        {
          "output_type": "execute_result",
          "data": {
            "text/plain": [
              "    children  days_employed  dob_years            education  education_id  \\\n",
              "0          1   -8437.673028         42               высшее             0   \n",
              "1          1   -4024.803754         36              среднее             1   \n",
              "2          0   -5623.422610         33              Среднее             1   \n",
              "3          3   -4124.747207         32              среднее             1   \n",
              "4          0  340266.072047         53              среднее             1   \n",
              "5          0    -926.185831         27               высшее             0   \n",
              "6          0   -2879.202052         43               высшее             0   \n",
              "7          0    -152.779569         50              СРЕДНЕЕ             1   \n",
              "8          2   -6929.865299         35               ВЫСШЕЕ             0   \n",
              "9          0   -2188.756445         41              среднее             1   \n",
              "10         2   -4171.483647         36               высшее             0   \n",
              "11         0    -792.701887         40              среднее             1   \n",
              "12         0            NaN         65              среднее             1   \n",
              "13         0   -1846.641941         54  неоконченное высшее             2   \n",
              "14         0   -1844.956182         56               высшее             0   \n",
              "15         1    -972.364419         26              среднее             1   \n",
              "16         0   -1719.934226         35              среднее             1   \n",
              "17         0   -2369.999720         33               высшее             0   \n",
              "18         0  400281.136913         53              среднее             1   \n",
              "19         0  -10038.818549         48              СРЕДНЕЕ             1   \n",
              "\n",
              "       family_status  family_status_id gender income_type  debt  \\\n",
              "0    женат / замужем                 0      F   сотрудник     0   \n",
              "1    женат / замужем                 0      F   сотрудник     0   \n",
              "2    женат / замужем                 0      M   сотрудник     0   \n",
              "3    женат / замужем                 0      M   сотрудник     0   \n",
              "4   гражданский брак                 1      F   пенсионер     0   \n",
              "5   гражданский брак                 1      M   компаньон     0   \n",
              "6    женат / замужем                 0      F   компаньон     0   \n",
              "7    женат / замужем                 0      M   сотрудник     0   \n",
              "8   гражданский брак                 1      F   сотрудник     0   \n",
              "9    женат / замужем                 0      M   сотрудник     0   \n",
              "10   женат / замужем                 0      M   компаньон     0   \n",
              "11   женат / замужем                 0      F   сотрудник     0   \n",
              "12  гражданский брак                 1      M   пенсионер     0   \n",
              "13   женат / замужем                 0      F   сотрудник     0   \n",
              "14  гражданский брак                 1      F   компаньон     1   \n",
              "15   женат / замужем                 0      F   сотрудник     0   \n",
              "16   женат / замужем                 0      F   сотрудник     0   \n",
              "17  гражданский брак                 1      M   сотрудник     0   \n",
              "18    вдовец / вдова                 2      F   пенсионер     0   \n",
              "19         в разводе                 3      F   сотрудник     0   \n",
              "\n",
              "     total_income                                 purpose  \n",
              "0   253875.639453                           покупка жилья  \n",
              "1   112080.014102                 приобретение автомобиля  \n",
              "2   145885.952297                           покупка жилья  \n",
              "3   267628.550329              дополнительное образование  \n",
              "4   158616.077870                         сыграть свадьбу  \n",
              "5   255763.565419                           покупка жилья  \n",
              "6   240525.971920                       операции с жильем  \n",
              "7   135823.934197                             образование  \n",
              "8    95856.832424                   на проведение свадьбы  \n",
              "9   144425.938277                 покупка жилья для семьи  \n",
              "10  113943.491460                    покупка недвижимости  \n",
              "11   77069.234271       покупка коммерческой недвижимости  \n",
              "12            NaN                         сыграть свадьбу  \n",
              "13  130458.228857                 приобретение автомобиля  \n",
              "14  165127.911772              покупка жилой недвижимости  \n",
              "15  116820.904450  строительство собственной недвижимости  \n",
              "16  289202.704229                            недвижимость  \n",
              "17   90410.586745              строительство недвижимости  \n",
              "18   56823.777243      на покупку подержанного автомобиля  \n",
              "19  242831.107982            на покупку своего автомобиля  "
            ],
            "text/html": [
              "\n",
              "  <div id=\"df-f240a852-cdbb-452a-82a1-847b6fed57ed\" class=\"colab-df-container\">\n",
              "    <div>\n",
              "<style scoped>\n",
              "    .dataframe tbody tr th:only-of-type {\n",
              "        vertical-align: middle;\n",
              "    }\n",
              "\n",
              "    .dataframe tbody tr th {\n",
              "        vertical-align: top;\n",
              "    }\n",
              "\n",
              "    .dataframe thead th {\n",
              "        text-align: right;\n",
              "    }\n",
              "</style>\n",
              "<table border=\"1\" class=\"dataframe\">\n",
              "  <thead>\n",
              "    <tr style=\"text-align: right;\">\n",
              "      <th></th>\n",
              "      <th>children</th>\n",
              "      <th>days_employed</th>\n",
              "      <th>dob_years</th>\n",
              "      <th>education</th>\n",
              "      <th>education_id</th>\n",
              "      <th>family_status</th>\n",
              "      <th>family_status_id</th>\n",
              "      <th>gender</th>\n",
              "      <th>income_type</th>\n",
              "      <th>debt</th>\n",
              "      <th>total_income</th>\n",
              "      <th>purpose</th>\n",
              "    </tr>\n",
              "  </thead>\n",
              "  <tbody>\n",
              "    <tr>\n",
              "      <th>0</th>\n",
              "      <td>1</td>\n",
              "      <td>-8437.673028</td>\n",
              "      <td>42</td>\n",
              "      <td>высшее</td>\n",
              "      <td>0</td>\n",
              "      <td>женат / замужем</td>\n",
              "      <td>0</td>\n",
              "      <td>F</td>\n",
              "      <td>сотрудник</td>\n",
              "      <td>0</td>\n",
              "      <td>253875.639453</td>\n",
              "      <td>покупка жилья</td>\n",
              "    </tr>\n",
              "    <tr>\n",
              "      <th>1</th>\n",
              "      <td>1</td>\n",
              "      <td>-4024.803754</td>\n",
              "      <td>36</td>\n",
              "      <td>среднее</td>\n",
              "      <td>1</td>\n",
              "      <td>женат / замужем</td>\n",
              "      <td>0</td>\n",
              "      <td>F</td>\n",
              "      <td>сотрудник</td>\n",
              "      <td>0</td>\n",
              "      <td>112080.014102</td>\n",
              "      <td>приобретение автомобиля</td>\n",
              "    </tr>\n",
              "    <tr>\n",
              "      <th>2</th>\n",
              "      <td>0</td>\n",
              "      <td>-5623.422610</td>\n",
              "      <td>33</td>\n",
              "      <td>Среднее</td>\n",
              "      <td>1</td>\n",
              "      <td>женат / замужем</td>\n",
              "      <td>0</td>\n",
              "      <td>M</td>\n",
              "      <td>сотрудник</td>\n",
              "      <td>0</td>\n",
              "      <td>145885.952297</td>\n",
              "      <td>покупка жилья</td>\n",
              "    </tr>\n",
              "    <tr>\n",
              "      <th>3</th>\n",
              "      <td>3</td>\n",
              "      <td>-4124.747207</td>\n",
              "      <td>32</td>\n",
              "      <td>среднее</td>\n",
              "      <td>1</td>\n",
              "      <td>женат / замужем</td>\n",
              "      <td>0</td>\n",
              "      <td>M</td>\n",
              "      <td>сотрудник</td>\n",
              "      <td>0</td>\n",
              "      <td>267628.550329</td>\n",
              "      <td>дополнительное образование</td>\n",
              "    </tr>\n",
              "    <tr>\n",
              "      <th>4</th>\n",
              "      <td>0</td>\n",
              "      <td>340266.072047</td>\n",
              "      <td>53</td>\n",
              "      <td>среднее</td>\n",
              "      <td>1</td>\n",
              "      <td>гражданский брак</td>\n",
              "      <td>1</td>\n",
              "      <td>F</td>\n",
              "      <td>пенсионер</td>\n",
              "      <td>0</td>\n",
              "      <td>158616.077870</td>\n",
              "      <td>сыграть свадьбу</td>\n",
              "    </tr>\n",
              "    <tr>\n",
              "      <th>5</th>\n",
              "      <td>0</td>\n",
              "      <td>-926.185831</td>\n",
              "      <td>27</td>\n",
              "      <td>высшее</td>\n",
              "      <td>0</td>\n",
              "      <td>гражданский брак</td>\n",
              "      <td>1</td>\n",
              "      <td>M</td>\n",
              "      <td>компаньон</td>\n",
              "      <td>0</td>\n",
              "      <td>255763.565419</td>\n",
              "      <td>покупка жилья</td>\n",
              "    </tr>\n",
              "    <tr>\n",
              "      <th>6</th>\n",
              "      <td>0</td>\n",
              "      <td>-2879.202052</td>\n",
              "      <td>43</td>\n",
              "      <td>высшее</td>\n",
              "      <td>0</td>\n",
              "      <td>женат / замужем</td>\n",
              "      <td>0</td>\n",
              "      <td>F</td>\n",
              "      <td>компаньон</td>\n",
              "      <td>0</td>\n",
              "      <td>240525.971920</td>\n",
              "      <td>операции с жильем</td>\n",
              "    </tr>\n",
              "    <tr>\n",
              "      <th>7</th>\n",
              "      <td>0</td>\n",
              "      <td>-152.779569</td>\n",
              "      <td>50</td>\n",
              "      <td>СРЕДНЕЕ</td>\n",
              "      <td>1</td>\n",
              "      <td>женат / замужем</td>\n",
              "      <td>0</td>\n",
              "      <td>M</td>\n",
              "      <td>сотрудник</td>\n",
              "      <td>0</td>\n",
              "      <td>135823.934197</td>\n",
              "      <td>образование</td>\n",
              "    </tr>\n",
              "    <tr>\n",
              "      <th>8</th>\n",
              "      <td>2</td>\n",
              "      <td>-6929.865299</td>\n",
              "      <td>35</td>\n",
              "      <td>ВЫСШЕЕ</td>\n",
              "      <td>0</td>\n",
              "      <td>гражданский брак</td>\n",
              "      <td>1</td>\n",
              "      <td>F</td>\n",
              "      <td>сотрудник</td>\n",
              "      <td>0</td>\n",
              "      <td>95856.832424</td>\n",
              "      <td>на проведение свадьбы</td>\n",
              "    </tr>\n",
              "    <tr>\n",
              "      <th>9</th>\n",
              "      <td>0</td>\n",
              "      <td>-2188.756445</td>\n",
              "      <td>41</td>\n",
              "      <td>среднее</td>\n",
              "      <td>1</td>\n",
              "      <td>женат / замужем</td>\n",
              "      <td>0</td>\n",
              "      <td>M</td>\n",
              "      <td>сотрудник</td>\n",
              "      <td>0</td>\n",
              "      <td>144425.938277</td>\n",
              "      <td>покупка жилья для семьи</td>\n",
              "    </tr>\n",
              "    <tr>\n",
              "      <th>10</th>\n",
              "      <td>2</td>\n",
              "      <td>-4171.483647</td>\n",
              "      <td>36</td>\n",
              "      <td>высшее</td>\n",
              "      <td>0</td>\n",
              "      <td>женат / замужем</td>\n",
              "      <td>0</td>\n",
              "      <td>M</td>\n",
              "      <td>компаньон</td>\n",
              "      <td>0</td>\n",
              "      <td>113943.491460</td>\n",
              "      <td>покупка недвижимости</td>\n",
              "    </tr>\n",
              "    <tr>\n",
              "      <th>11</th>\n",
              "      <td>0</td>\n",
              "      <td>-792.701887</td>\n",
              "      <td>40</td>\n",
              "      <td>среднее</td>\n",
              "      <td>1</td>\n",
              "      <td>женат / замужем</td>\n",
              "      <td>0</td>\n",
              "      <td>F</td>\n",
              "      <td>сотрудник</td>\n",
              "      <td>0</td>\n",
              "      <td>77069.234271</td>\n",
              "      <td>покупка коммерческой недвижимости</td>\n",
              "    </tr>\n",
              "    <tr>\n",
              "      <th>12</th>\n",
              "      <td>0</td>\n",
              "      <td>NaN</td>\n",
              "      <td>65</td>\n",
              "      <td>среднее</td>\n",
              "      <td>1</td>\n",
              "      <td>гражданский брак</td>\n",
              "      <td>1</td>\n",
              "      <td>M</td>\n",
              "      <td>пенсионер</td>\n",
              "      <td>0</td>\n",
              "      <td>NaN</td>\n",
              "      <td>сыграть свадьбу</td>\n",
              "    </tr>\n",
              "    <tr>\n",
              "      <th>13</th>\n",
              "      <td>0</td>\n",
              "      <td>-1846.641941</td>\n",
              "      <td>54</td>\n",
              "      <td>неоконченное высшее</td>\n",
              "      <td>2</td>\n",
              "      <td>женат / замужем</td>\n",
              "      <td>0</td>\n",
              "      <td>F</td>\n",
              "      <td>сотрудник</td>\n",
              "      <td>0</td>\n",
              "      <td>130458.228857</td>\n",
              "      <td>приобретение автомобиля</td>\n",
              "    </tr>\n",
              "    <tr>\n",
              "      <th>14</th>\n",
              "      <td>0</td>\n",
              "      <td>-1844.956182</td>\n",
              "      <td>56</td>\n",
              "      <td>высшее</td>\n",
              "      <td>0</td>\n",
              "      <td>гражданский брак</td>\n",
              "      <td>1</td>\n",
              "      <td>F</td>\n",
              "      <td>компаньон</td>\n",
              "      <td>1</td>\n",
              "      <td>165127.911772</td>\n",
              "      <td>покупка жилой недвижимости</td>\n",
              "    </tr>\n",
              "    <tr>\n",
              "      <th>15</th>\n",
              "      <td>1</td>\n",
              "      <td>-972.364419</td>\n",
              "      <td>26</td>\n",
              "      <td>среднее</td>\n",
              "      <td>1</td>\n",
              "      <td>женат / замужем</td>\n",
              "      <td>0</td>\n",
              "      <td>F</td>\n",
              "      <td>сотрудник</td>\n",
              "      <td>0</td>\n",
              "      <td>116820.904450</td>\n",
              "      <td>строительство собственной недвижимости</td>\n",
              "    </tr>\n",
              "    <tr>\n",
              "      <th>16</th>\n",
              "      <td>0</td>\n",
              "      <td>-1719.934226</td>\n",
              "      <td>35</td>\n",
              "      <td>среднее</td>\n",
              "      <td>1</td>\n",
              "      <td>женат / замужем</td>\n",
              "      <td>0</td>\n",
              "      <td>F</td>\n",
              "      <td>сотрудник</td>\n",
              "      <td>0</td>\n",
              "      <td>289202.704229</td>\n",
              "      <td>недвижимость</td>\n",
              "    </tr>\n",
              "    <tr>\n",
              "      <th>17</th>\n",
              "      <td>0</td>\n",
              "      <td>-2369.999720</td>\n",
              "      <td>33</td>\n",
              "      <td>высшее</td>\n",
              "      <td>0</td>\n",
              "      <td>гражданский брак</td>\n",
              "      <td>1</td>\n",
              "      <td>M</td>\n",
              "      <td>сотрудник</td>\n",
              "      <td>0</td>\n",
              "      <td>90410.586745</td>\n",
              "      <td>строительство недвижимости</td>\n",
              "    </tr>\n",
              "    <tr>\n",
              "      <th>18</th>\n",
              "      <td>0</td>\n",
              "      <td>400281.136913</td>\n",
              "      <td>53</td>\n",
              "      <td>среднее</td>\n",
              "      <td>1</td>\n",
              "      <td>вдовец / вдова</td>\n",
              "      <td>2</td>\n",
              "      <td>F</td>\n",
              "      <td>пенсионер</td>\n",
              "      <td>0</td>\n",
              "      <td>56823.777243</td>\n",
              "      <td>на покупку подержанного автомобиля</td>\n",
              "    </tr>\n",
              "    <tr>\n",
              "      <th>19</th>\n",
              "      <td>0</td>\n",
              "      <td>-10038.818549</td>\n",
              "      <td>48</td>\n",
              "      <td>СРЕДНЕЕ</td>\n",
              "      <td>1</td>\n",
              "      <td>в разводе</td>\n",
              "      <td>3</td>\n",
              "      <td>F</td>\n",
              "      <td>сотрудник</td>\n",
              "      <td>0</td>\n",
              "      <td>242831.107982</td>\n",
              "      <td>на покупку своего автомобиля</td>\n",
              "    </tr>\n",
              "  </tbody>\n",
              "</table>\n",
              "</div>\n",
              "    <div class=\"colab-df-buttons\">\n",
              "\n",
              "  <div class=\"colab-df-container\">\n",
              "    <button class=\"colab-df-convert\" onclick=\"convertToInteractive('df-f240a852-cdbb-452a-82a1-847b6fed57ed')\"\n",
              "            title=\"Convert this dataframe to an interactive table.\"\n",
              "            style=\"display:none;\">\n",
              "\n",
              "  <svg xmlns=\"http://www.w3.org/2000/svg\" height=\"24px\" viewBox=\"0 -960 960 960\">\n",
              "    <path d=\"M120-120v-720h720v720H120Zm60-500h600v-160H180v160Zm220 220h160v-160H400v160Zm0 220h160v-160H400v160ZM180-400h160v-160H180v160Zm440 0h160v-160H620v160ZM180-180h160v-160H180v160Zm440 0h160v-160H620v160Z\"/>\n",
              "  </svg>\n",
              "    </button>\n",
              "\n",
              "  <style>\n",
              "    .colab-df-container {\n",
              "      display:flex;\n",
              "      gap: 12px;\n",
              "    }\n",
              "\n",
              "    .colab-df-convert {\n",
              "      background-color: #E8F0FE;\n",
              "      border: none;\n",
              "      border-radius: 50%;\n",
              "      cursor: pointer;\n",
              "      display: none;\n",
              "      fill: #1967D2;\n",
              "      height: 32px;\n",
              "      padding: 0 0 0 0;\n",
              "      width: 32px;\n",
              "    }\n",
              "\n",
              "    .colab-df-convert:hover {\n",
              "      background-color: #E2EBFA;\n",
              "      box-shadow: 0px 1px 2px rgba(60, 64, 67, 0.3), 0px 1px 3px 1px rgba(60, 64, 67, 0.15);\n",
              "      fill: #174EA6;\n",
              "    }\n",
              "\n",
              "    .colab-df-buttons div {\n",
              "      margin-bottom: 4px;\n",
              "    }\n",
              "\n",
              "    [theme=dark] .colab-df-convert {\n",
              "      background-color: #3B4455;\n",
              "      fill: #D2E3FC;\n",
              "    }\n",
              "\n",
              "    [theme=dark] .colab-df-convert:hover {\n",
              "      background-color: #434B5C;\n",
              "      box-shadow: 0px 1px 3px 1px rgba(0, 0, 0, 0.15);\n",
              "      filter: drop-shadow(0px 1px 2px rgba(0, 0, 0, 0.3));\n",
              "      fill: #FFFFFF;\n",
              "    }\n",
              "  </style>\n",
              "\n",
              "    <script>\n",
              "      const buttonEl =\n",
              "        document.querySelector('#df-f240a852-cdbb-452a-82a1-847b6fed57ed button.colab-df-convert');\n",
              "      buttonEl.style.display =\n",
              "        google.colab.kernel.accessAllowed ? 'block' : 'none';\n",
              "\n",
              "      async function convertToInteractive(key) {\n",
              "        const element = document.querySelector('#df-f240a852-cdbb-452a-82a1-847b6fed57ed');\n",
              "        const dataTable =\n",
              "          await google.colab.kernel.invokeFunction('convertToInteractive',\n",
              "                                                    [key], {});\n",
              "        if (!dataTable) return;\n",
              "\n",
              "        const docLinkHtml = 'Like what you see? Visit the ' +\n",
              "          '<a target=\"_blank\" href=https://colab.research.google.com/notebooks/data_table.ipynb>data table notebook</a>'\n",
              "          + ' to learn more about interactive tables.';\n",
              "        element.innerHTML = '';\n",
              "        dataTable['output_type'] = 'display_data';\n",
              "        await google.colab.output.renderOutput(dataTable, element);\n",
              "        const docLink = document.createElement('div');\n",
              "        docLink.innerHTML = docLinkHtml;\n",
              "        element.appendChild(docLink);\n",
              "      }\n",
              "    </script>\n",
              "  </div>\n",
              "\n",
              "\n",
              "<div id=\"df-8374a70e-a0a8-429b-9940-eefcf02dbee2\">\n",
              "  <button class=\"colab-df-quickchart\" onclick=\"quickchart('df-8374a70e-a0a8-429b-9940-eefcf02dbee2')\"\n",
              "            title=\"Suggest charts\"\n",
              "            style=\"display:none;\">\n",
              "\n",
              "<svg xmlns=\"http://www.w3.org/2000/svg\" height=\"24px\"viewBox=\"0 0 24 24\"\n",
              "     width=\"24px\">\n",
              "    <g>\n",
              "        <path d=\"M19 3H5c-1.1 0-2 .9-2 2v14c0 1.1.9 2 2 2h14c1.1 0 2-.9 2-2V5c0-1.1-.9-2-2-2zM9 17H7v-7h2v7zm4 0h-2V7h2v10zm4 0h-2v-4h2v4z\"/>\n",
              "    </g>\n",
              "</svg>\n",
              "  </button>\n",
              "\n",
              "<style>\n",
              "  .colab-df-quickchart {\n",
              "      --bg-color: #E8F0FE;\n",
              "      --fill-color: #1967D2;\n",
              "      --hover-bg-color: #E2EBFA;\n",
              "      --hover-fill-color: #174EA6;\n",
              "      --disabled-fill-color: #AAA;\n",
              "      --disabled-bg-color: #DDD;\n",
              "  }\n",
              "\n",
              "  [theme=dark] .colab-df-quickchart {\n",
              "      --bg-color: #3B4455;\n",
              "      --fill-color: #D2E3FC;\n",
              "      --hover-bg-color: #434B5C;\n",
              "      --hover-fill-color: #FFFFFF;\n",
              "      --disabled-bg-color: #3B4455;\n",
              "      --disabled-fill-color: #666;\n",
              "  }\n",
              "\n",
              "  .colab-df-quickchart {\n",
              "    background-color: var(--bg-color);\n",
              "    border: none;\n",
              "    border-radius: 50%;\n",
              "    cursor: pointer;\n",
              "    display: none;\n",
              "    fill: var(--fill-color);\n",
              "    height: 32px;\n",
              "    padding: 0;\n",
              "    width: 32px;\n",
              "  }\n",
              "\n",
              "  .colab-df-quickchart:hover {\n",
              "    background-color: var(--hover-bg-color);\n",
              "    box-shadow: 0 1px 2px rgba(60, 64, 67, 0.3), 0 1px 3px 1px rgba(60, 64, 67, 0.15);\n",
              "    fill: var(--button-hover-fill-color);\n",
              "  }\n",
              "\n",
              "  .colab-df-quickchart-complete:disabled,\n",
              "  .colab-df-quickchart-complete:disabled:hover {\n",
              "    background-color: var(--disabled-bg-color);\n",
              "    fill: var(--disabled-fill-color);\n",
              "    box-shadow: none;\n",
              "  }\n",
              "\n",
              "  .colab-df-spinner {\n",
              "    border: 2px solid var(--fill-color);\n",
              "    border-color: transparent;\n",
              "    border-bottom-color: var(--fill-color);\n",
              "    animation:\n",
              "      spin 1s steps(1) infinite;\n",
              "  }\n",
              "\n",
              "  @keyframes spin {\n",
              "    0% {\n",
              "      border-color: transparent;\n",
              "      border-bottom-color: var(--fill-color);\n",
              "      border-left-color: var(--fill-color);\n",
              "    }\n",
              "    20% {\n",
              "      border-color: transparent;\n",
              "      border-left-color: var(--fill-color);\n",
              "      border-top-color: var(--fill-color);\n",
              "    }\n",
              "    30% {\n",
              "      border-color: transparent;\n",
              "      border-left-color: var(--fill-color);\n",
              "      border-top-color: var(--fill-color);\n",
              "      border-right-color: var(--fill-color);\n",
              "    }\n",
              "    40% {\n",
              "      border-color: transparent;\n",
              "      border-right-color: var(--fill-color);\n",
              "      border-top-color: var(--fill-color);\n",
              "    }\n",
              "    60% {\n",
              "      border-color: transparent;\n",
              "      border-right-color: var(--fill-color);\n",
              "    }\n",
              "    80% {\n",
              "      border-color: transparent;\n",
              "      border-right-color: var(--fill-color);\n",
              "      border-bottom-color: var(--fill-color);\n",
              "    }\n",
              "    90% {\n",
              "      border-color: transparent;\n",
              "      border-bottom-color: var(--fill-color);\n",
              "    }\n",
              "  }\n",
              "</style>\n",
              "\n",
              "  <script>\n",
              "    async function quickchart(key) {\n",
              "      const quickchartButtonEl =\n",
              "        document.querySelector('#' + key + ' button');\n",
              "      quickchartButtonEl.disabled = true;  // To prevent multiple clicks.\n",
              "      quickchartButtonEl.classList.add('colab-df-spinner');\n",
              "      try {\n",
              "        const charts = await google.colab.kernel.invokeFunction(\n",
              "            'suggestCharts', [key], {});\n",
              "      } catch (error) {\n",
              "        console.error('Error during call to suggestCharts:', error);\n",
              "      }\n",
              "      quickchartButtonEl.classList.remove('colab-df-spinner');\n",
              "      quickchartButtonEl.classList.add('colab-df-quickchart-complete');\n",
              "    }\n",
              "    (() => {\n",
              "      let quickchartButtonEl =\n",
              "        document.querySelector('#df-8374a70e-a0a8-429b-9940-eefcf02dbee2 button');\n",
              "      quickchartButtonEl.style.display =\n",
              "        google.colab.kernel.accessAllowed ? 'block' : 'none';\n",
              "    })();\n",
              "  </script>\n",
              "</div>\n",
              "    </div>\n",
              "  </div>\n"
            ],
            "application/vnd.google.colaboratory.intrinsic+json": {
              "type": "dataframe",
              "variable_name": "data",
              "summary": "{\n  \"name\": \"data\",\n  \"rows\": 21525,\n  \"fields\": [\n    {\n      \"column\": \"children\",\n      \"properties\": {\n        \"dtype\": \"number\",\n        \"std\": 1,\n        \"min\": -1,\n        \"max\": 20,\n        \"num_unique_values\": 8,\n        \"samples\": [\n          0,\n          4,\n          1\n        ],\n        \"semantic_type\": \"\",\n        \"description\": \"\"\n      }\n    },\n    {\n      \"column\": \"days_employed\",\n      \"properties\": {\n        \"dtype\": \"number\",\n        \"std\": 140827.3119743168,\n        \"min\": -18388.949900568383,\n        \"max\": 401755.40047533,\n        \"num_unique_values\": 19351,\n        \"samples\": [\n          -4144.711271868319,\n          -1963.4835351775944,\n          -106.69195506879056\n        ],\n        \"semantic_type\": \"\",\n        \"description\": \"\"\n      }\n    },\n    {\n      \"column\": \"dob_years\",\n      \"properties\": {\n        \"dtype\": \"number\",\n        \"std\": 12,\n        \"min\": 0,\n        \"max\": 75,\n        \"num_unique_values\": 58,\n        \"samples\": [\n          42,\n          27,\n          64\n        ],\n        \"semantic_type\": \"\",\n        \"description\": \"\"\n      }\n    },\n    {\n      \"column\": \"education\",\n      \"properties\": {\n        \"dtype\": \"category\",\n        \"num_unique_values\": 15,\n        \"samples\": [\n          \"\\u041d\\u0435\\u043e\\u043a\\u043e\\u043d\\u0447\\u0435\\u043d\\u043d\\u043e\\u0435 \\u0432\\u044b\\u0441\\u0448\\u0435\\u0435\",\n          \"\\u041d\\u0430\\u0447\\u0430\\u043b\\u044c\\u043d\\u043e\\u0435\",\n          \"\\u0432\\u044b\\u0441\\u0448\\u0435\\u0435\"\n        ],\n        \"semantic_type\": \"\",\n        \"description\": \"\"\n      }\n    },\n    {\n      \"column\": \"education_id\",\n      \"properties\": {\n        \"dtype\": \"number\",\n        \"std\": 0,\n        \"min\": 0,\n        \"max\": 4,\n        \"num_unique_values\": 5,\n        \"samples\": [\n          1,\n          4,\n          2\n        ],\n        \"semantic_type\": \"\",\n        \"description\": \"\"\n      }\n    },\n    {\n      \"column\": \"family_status\",\n      \"properties\": {\n        \"dtype\": \"category\",\n        \"num_unique_values\": 5,\n        \"samples\": [\n          \"\\u0433\\u0440\\u0430\\u0436\\u0434\\u0430\\u043d\\u0441\\u043a\\u0438\\u0439 \\u0431\\u0440\\u0430\\u043a\",\n          \"\\u041d\\u0435 \\u0436\\u0435\\u043d\\u0430\\u0442 / \\u043d\\u0435 \\u0437\\u0430\\u043c\\u0443\\u0436\\u0435\\u043c\",\n          \"\\u0432\\u0434\\u043e\\u0432\\u0435\\u0446 / \\u0432\\u0434\\u043e\\u0432\\u0430\"\n        ],\n        \"semantic_type\": \"\",\n        \"description\": \"\"\n      }\n    },\n    {\n      \"column\": \"family_status_id\",\n      \"properties\": {\n        \"dtype\": \"number\",\n        \"std\": 1,\n        \"min\": 0,\n        \"max\": 4,\n        \"num_unique_values\": 5,\n        \"samples\": [\n          1,\n          4,\n          2\n        ],\n        \"semantic_type\": \"\",\n        \"description\": \"\"\n      }\n    },\n    {\n      \"column\": \"gender\",\n      \"properties\": {\n        \"dtype\": \"category\",\n        \"num_unique_values\": 3,\n        \"samples\": [\n          \"F\",\n          \"M\",\n          \"XNA\"\n        ],\n        \"semantic_type\": \"\",\n        \"description\": \"\"\n      }\n    },\n    {\n      \"column\": \"income_type\",\n      \"properties\": {\n        \"dtype\": \"category\",\n        \"num_unique_values\": 8,\n        \"samples\": [\n          \"\\u043f\\u0435\\u043d\\u0441\\u0438\\u043e\\u043d\\u0435\\u0440\",\n          \"\\u043f\\u0440\\u0435\\u0434\\u043f\\u0440\\u0438\\u043d\\u0438\\u043c\\u0430\\u0442\\u0435\\u043b\\u044c\",\n          \"\\u0441\\u043e\\u0442\\u0440\\u0443\\u0434\\u043d\\u0438\\u043a\"\n        ],\n        \"semantic_type\": \"\",\n        \"description\": \"\"\n      }\n    },\n    {\n      \"column\": \"debt\",\n      \"properties\": {\n        \"dtype\": \"number\",\n        \"std\": 0,\n        \"min\": 0,\n        \"max\": 1,\n        \"num_unique_values\": 2,\n        \"samples\": [\n          1,\n          0\n        ],\n        \"semantic_type\": \"\",\n        \"description\": \"\"\n      }\n    },\n    {\n      \"column\": \"total_income\",\n      \"properties\": {\n        \"dtype\": \"number\",\n        \"std\": 102971.56644797762,\n        \"min\": 20667.26379327158,\n        \"max\": 2265604.028722744,\n        \"num_unique_values\": 19351,\n        \"samples\": [\n          264985.90849759005,\n          145521.97728763806\n        ],\n        \"semantic_type\": \"\",\n        \"description\": \"\"\n      }\n    },\n    {\n      \"column\": \"purpose\",\n      \"properties\": {\n        \"dtype\": \"category\",\n        \"num_unique_values\": 38,\n        \"samples\": [\n          \"\\u0432\\u044b\\u0441\\u0448\\u0435\\u0435 \\u043e\\u0431\\u0440\\u0430\\u0437\\u043e\\u0432\\u0430\\u043d\\u0438\\u0435\",\n          \"\\u0440\\u0435\\u043c\\u043e\\u043d\\u0442 \\u0436\\u0438\\u043b\\u044c\\u044e\"\n        ],\n        \"semantic_type\": \"\",\n        \"description\": \"\"\n      }\n    }\n  ]\n}"
            }
          },
          "metadata": {},
          "execution_count": 3
        }
      ],
      "source": [
        "data.head(20)"
      ]
    },
    {
      "cell_type": "markdown",
      "source": [
        "В таблице 12 столбцов:\n",
        "- **children** — количество детей в семье\n",
        "- **days_employed** — общий трудовой стаж в днях\n",
        "- **dob_years** — возраст клиента в годах\n",
        "- **education** — уровень образования клиента\n",
        "- **education_id** — идентификатор уровня образования\n",
        "- **family_status** — семейное положение\n",
        "- **family_status_id** — идентификатор семейного положения\n",
        "- **gender** — пол клиента\n",
        "- **income_type** — тип занятости\n",
        "- **debt** — имел ли задолженность по возврату кредитов\n",
        "- **total_income** — ежемесячный доход\n",
        "- **purpose** — цель получения кредита"
      ],
      "metadata": {
        "id": "Jsjro7ZJ82Uq"
      },
      "id": "Jsjro7ZJ82Uq"
    },
    {
      "cell_type": "markdown",
      "id": "0ed8f27f",
      "metadata": {
        "deletable": false,
        "editable": false,
        "id": "0ed8f27f"
      },
      "source": [
        "Выведем основную информацию о датафрейме с помощью метода `info()`."
      ]
    },
    {
      "cell_type": "code",
      "execution_count": 4,
      "id": "ab3f863b",
      "metadata": {
        "deletable": false,
        "id": "ab3f863b",
        "outputId": "e8a67cf8-f7f8-42b5-b958-62297cafc3c5",
        "colab": {
          "base_uri": "https://localhost:8080/"
        }
      },
      "outputs": [
        {
          "output_type": "stream",
          "name": "stdout",
          "text": [
            "<class 'pandas.core.frame.DataFrame'>\n",
            "RangeIndex: 21525 entries, 0 to 21524\n",
            "Data columns (total 12 columns):\n",
            " #   Column            Non-Null Count  Dtype  \n",
            "---  ------            --------------  -----  \n",
            " 0   children          21525 non-null  int64  \n",
            " 1   days_employed     19351 non-null  float64\n",
            " 2   dob_years         21525 non-null  int64  \n",
            " 3   education         21525 non-null  object \n",
            " 4   education_id      21525 non-null  int64  \n",
            " 5   family_status     21525 non-null  object \n",
            " 6   family_status_id  21525 non-null  int64  \n",
            " 7   gender            21525 non-null  object \n",
            " 8   income_type       21525 non-null  object \n",
            " 9   debt              21525 non-null  int64  \n",
            " 10  total_income      19351 non-null  float64\n",
            " 11  purpose           21525 non-null  object \n",
            "dtypes: float64(2), int64(5), object(5)\n",
            "memory usage: 2.0+ MB\n"
          ]
        }
      ],
      "source": [
        "data.info()"
      ]
    },
    {
      "cell_type": "markdown",
      "source": [
        "В представленном для анализа файле - данные о поведении пользователей (статистика о платёжеспособности клиентов). Предварительно данных достаточно для анализа.\n",
        "\n",
        "По полученной информации и первичном анализе видно следующее:\n",
        "- В столбцах: (`days_employed,total_income`) имеются пропущенные значения. Придётся рассмотреть все столбцы и заполнить пропуски где это будет необходимо и возможно.\n",
        "- Необходимо добавление столбцов `total_income_category` и `purpose_category` с категориями значений\n",
        "- В столбце `total_income` неверный тип данных, в процессе предобработки изменим тип данных на формат целого числа int.\n",
        "- Наименование столбцов стилистически верное."
      ],
      "metadata": {
        "id": "ZHcfPQBwZC9o"
      },
      "id": "ZHcfPQBwZC9o"
    },
    {
      "cell_type": "markdown",
      "id": "60e3e22d",
      "metadata": {
        "deletable": false,
        "editable": false,
        "id": "60e3e22d"
      },
      "source": [
        "## Предобработка данных"
      ]
    },
    {
      "cell_type": "markdown",
      "id": "03dc170c",
      "metadata": {
        "deletable": false,
        "editable": false,
        "id": "03dc170c"
      },
      "source": [
        "### Обработка пропусков"
      ]
    },
    {
      "cell_type": "markdown",
      "id": "a4f54eef",
      "metadata": {
        "deletable": false,
        "editable": false,
        "id": "a4f54eef"
      },
      "source": [
        "Выведем количество пропущенных значений для каждого столбца. Используем комбинацию двух методов."
      ]
    },
    {
      "cell_type": "code",
      "execution_count": 5,
      "id": "2dc372b2",
      "metadata": {
        "deletable": false,
        "id": "2dc372b2",
        "outputId": "25513de8-000f-44e2-8b9f-1aaf8c67fde4",
        "colab": {
          "base_uri": "https://localhost:8080/"
        }
      },
      "outputs": [
        {
          "output_type": "execute_result",
          "data": {
            "text/plain": [
              "children               0\n",
              "days_employed       2174\n",
              "dob_years              0\n",
              "education              0\n",
              "education_id           0\n",
              "family_status          0\n",
              "family_status_id       0\n",
              "gender                 0\n",
              "income_type            0\n",
              "debt                   0\n",
              "total_income        2174\n",
              "purpose                0\n",
              "dtype: int64"
            ]
          },
          "metadata": {},
          "execution_count": 5
        }
      ],
      "source": [
        "data.isna().sum()"
      ]
    },
    {
      "cell_type": "code",
      "execution_count": 6,
      "id": "21c4fb45",
      "metadata": {
        "colab": {
          "base_uri": "https://localhost:8080/",
          "height": 475
        },
        "id": "21c4fb45",
        "outputId": "3375aa14-2131-4426-f6c9-b19f3914eeaf"
      },
      "outputs": [
        {
          "output_type": "execute_result",
          "data": {
            "text/plain": [
              "       children  days_employed  dob_years education  education_id  \\\n",
              "12            0            NaN         65   среднее             1   \n",
              "26            0            NaN         41   среднее             1   \n",
              "29            0            NaN         63   среднее             1   \n",
              "41            0            NaN         50   среднее             1   \n",
              "55            0            NaN         54   среднее             1   \n",
              "...         ...            ...        ...       ...           ...   \n",
              "21489         2            NaN         47   Среднее             1   \n",
              "21495         1            NaN         50   среднее             1   \n",
              "21497         0            NaN         48    ВЫСШЕЕ             0   \n",
              "21502         1            NaN         42   среднее             1   \n",
              "21510         2            NaN         28   среднее             1   \n",
              "\n",
              "               family_status  family_status_id gender  income_type  debt  \\\n",
              "12          гражданский брак                 1      M    пенсионер     0   \n",
              "26           женат / замужем                 0      M  госслужащий     0   \n",
              "29     Не женат / не замужем                 4      F    пенсионер     0   \n",
              "41           женат / замужем                 0      F  госслужащий     0   \n",
              "55          гражданский брак                 1      F    пенсионер     1   \n",
              "...                      ...               ...    ...          ...   ...   \n",
              "21489        женат / замужем                 0      M    компаньон     0   \n",
              "21495       гражданский брак                 1      F    сотрудник     0   \n",
              "21497        женат / замужем                 0      F    компаньон     0   \n",
              "21502        женат / замужем                 0      F    сотрудник     0   \n",
              "21510        женат / замужем                 0      F    сотрудник     0   \n",
              "\n",
              "       total_income                           purpose  \n",
              "12              NaN                   сыграть свадьбу  \n",
              "26              NaN                       образование  \n",
              "29              NaN  строительство жилой недвижимости  \n",
              "41              NaN  сделка с подержанным автомобилем  \n",
              "55              NaN                   сыграть свадьбу  \n",
              "...             ...                               ...  \n",
              "21489           NaN              сделка с автомобилем  \n",
              "21495           NaN                           свадьба  \n",
              "21497           NaN        строительство недвижимости  \n",
              "21502           NaN  строительство жилой недвижимости  \n",
              "21510           NaN           приобретение автомобиля  \n",
              "\n",
              "[2174 rows x 12 columns]"
            ],
            "text/html": [
              "\n",
              "  <div id=\"df-6a6e778a-96af-48ba-a6b3-996053fb90ad\" class=\"colab-df-container\">\n",
              "    <div>\n",
              "<style scoped>\n",
              "    .dataframe tbody tr th:only-of-type {\n",
              "        vertical-align: middle;\n",
              "    }\n",
              "\n",
              "    .dataframe tbody tr th {\n",
              "        vertical-align: top;\n",
              "    }\n",
              "\n",
              "    .dataframe thead th {\n",
              "        text-align: right;\n",
              "    }\n",
              "</style>\n",
              "<table border=\"1\" class=\"dataframe\">\n",
              "  <thead>\n",
              "    <tr style=\"text-align: right;\">\n",
              "      <th></th>\n",
              "      <th>children</th>\n",
              "      <th>days_employed</th>\n",
              "      <th>dob_years</th>\n",
              "      <th>education</th>\n",
              "      <th>education_id</th>\n",
              "      <th>family_status</th>\n",
              "      <th>family_status_id</th>\n",
              "      <th>gender</th>\n",
              "      <th>income_type</th>\n",
              "      <th>debt</th>\n",
              "      <th>total_income</th>\n",
              "      <th>purpose</th>\n",
              "    </tr>\n",
              "  </thead>\n",
              "  <tbody>\n",
              "    <tr>\n",
              "      <th>12</th>\n",
              "      <td>0</td>\n",
              "      <td>NaN</td>\n",
              "      <td>65</td>\n",
              "      <td>среднее</td>\n",
              "      <td>1</td>\n",
              "      <td>гражданский брак</td>\n",
              "      <td>1</td>\n",
              "      <td>M</td>\n",
              "      <td>пенсионер</td>\n",
              "      <td>0</td>\n",
              "      <td>NaN</td>\n",
              "      <td>сыграть свадьбу</td>\n",
              "    </tr>\n",
              "    <tr>\n",
              "      <th>26</th>\n",
              "      <td>0</td>\n",
              "      <td>NaN</td>\n",
              "      <td>41</td>\n",
              "      <td>среднее</td>\n",
              "      <td>1</td>\n",
              "      <td>женат / замужем</td>\n",
              "      <td>0</td>\n",
              "      <td>M</td>\n",
              "      <td>госслужащий</td>\n",
              "      <td>0</td>\n",
              "      <td>NaN</td>\n",
              "      <td>образование</td>\n",
              "    </tr>\n",
              "    <tr>\n",
              "      <th>29</th>\n",
              "      <td>0</td>\n",
              "      <td>NaN</td>\n",
              "      <td>63</td>\n",
              "      <td>среднее</td>\n",
              "      <td>1</td>\n",
              "      <td>Не женат / не замужем</td>\n",
              "      <td>4</td>\n",
              "      <td>F</td>\n",
              "      <td>пенсионер</td>\n",
              "      <td>0</td>\n",
              "      <td>NaN</td>\n",
              "      <td>строительство жилой недвижимости</td>\n",
              "    </tr>\n",
              "    <tr>\n",
              "      <th>41</th>\n",
              "      <td>0</td>\n",
              "      <td>NaN</td>\n",
              "      <td>50</td>\n",
              "      <td>среднее</td>\n",
              "      <td>1</td>\n",
              "      <td>женат / замужем</td>\n",
              "      <td>0</td>\n",
              "      <td>F</td>\n",
              "      <td>госслужащий</td>\n",
              "      <td>0</td>\n",
              "      <td>NaN</td>\n",
              "      <td>сделка с подержанным автомобилем</td>\n",
              "    </tr>\n",
              "    <tr>\n",
              "      <th>55</th>\n",
              "      <td>0</td>\n",
              "      <td>NaN</td>\n",
              "      <td>54</td>\n",
              "      <td>среднее</td>\n",
              "      <td>1</td>\n",
              "      <td>гражданский брак</td>\n",
              "      <td>1</td>\n",
              "      <td>F</td>\n",
              "      <td>пенсионер</td>\n",
              "      <td>1</td>\n",
              "      <td>NaN</td>\n",
              "      <td>сыграть свадьбу</td>\n",
              "    </tr>\n",
              "    <tr>\n",
              "      <th>...</th>\n",
              "      <td>...</td>\n",
              "      <td>...</td>\n",
              "      <td>...</td>\n",
              "      <td>...</td>\n",
              "      <td>...</td>\n",
              "      <td>...</td>\n",
              "      <td>...</td>\n",
              "      <td>...</td>\n",
              "      <td>...</td>\n",
              "      <td>...</td>\n",
              "      <td>...</td>\n",
              "      <td>...</td>\n",
              "    </tr>\n",
              "    <tr>\n",
              "      <th>21489</th>\n",
              "      <td>2</td>\n",
              "      <td>NaN</td>\n",
              "      <td>47</td>\n",
              "      <td>Среднее</td>\n",
              "      <td>1</td>\n",
              "      <td>женат / замужем</td>\n",
              "      <td>0</td>\n",
              "      <td>M</td>\n",
              "      <td>компаньон</td>\n",
              "      <td>0</td>\n",
              "      <td>NaN</td>\n",
              "      <td>сделка с автомобилем</td>\n",
              "    </tr>\n",
              "    <tr>\n",
              "      <th>21495</th>\n",
              "      <td>1</td>\n",
              "      <td>NaN</td>\n",
              "      <td>50</td>\n",
              "      <td>среднее</td>\n",
              "      <td>1</td>\n",
              "      <td>гражданский брак</td>\n",
              "      <td>1</td>\n",
              "      <td>F</td>\n",
              "      <td>сотрудник</td>\n",
              "      <td>0</td>\n",
              "      <td>NaN</td>\n",
              "      <td>свадьба</td>\n",
              "    </tr>\n",
              "    <tr>\n",
              "      <th>21497</th>\n",
              "      <td>0</td>\n",
              "      <td>NaN</td>\n",
              "      <td>48</td>\n",
              "      <td>ВЫСШЕЕ</td>\n",
              "      <td>0</td>\n",
              "      <td>женат / замужем</td>\n",
              "      <td>0</td>\n",
              "      <td>F</td>\n",
              "      <td>компаньон</td>\n",
              "      <td>0</td>\n",
              "      <td>NaN</td>\n",
              "      <td>строительство недвижимости</td>\n",
              "    </tr>\n",
              "    <tr>\n",
              "      <th>21502</th>\n",
              "      <td>1</td>\n",
              "      <td>NaN</td>\n",
              "      <td>42</td>\n",
              "      <td>среднее</td>\n",
              "      <td>1</td>\n",
              "      <td>женат / замужем</td>\n",
              "      <td>0</td>\n",
              "      <td>F</td>\n",
              "      <td>сотрудник</td>\n",
              "      <td>0</td>\n",
              "      <td>NaN</td>\n",
              "      <td>строительство жилой недвижимости</td>\n",
              "    </tr>\n",
              "    <tr>\n",
              "      <th>21510</th>\n",
              "      <td>2</td>\n",
              "      <td>NaN</td>\n",
              "      <td>28</td>\n",
              "      <td>среднее</td>\n",
              "      <td>1</td>\n",
              "      <td>женат / замужем</td>\n",
              "      <td>0</td>\n",
              "      <td>F</td>\n",
              "      <td>сотрудник</td>\n",
              "      <td>0</td>\n",
              "      <td>NaN</td>\n",
              "      <td>приобретение автомобиля</td>\n",
              "    </tr>\n",
              "  </tbody>\n",
              "</table>\n",
              "<p>2174 rows × 12 columns</p>\n",
              "</div>\n",
              "    <div class=\"colab-df-buttons\">\n",
              "\n",
              "  <div class=\"colab-df-container\">\n",
              "    <button class=\"colab-df-convert\" onclick=\"convertToInteractive('df-6a6e778a-96af-48ba-a6b3-996053fb90ad')\"\n",
              "            title=\"Convert this dataframe to an interactive table.\"\n",
              "            style=\"display:none;\">\n",
              "\n",
              "  <svg xmlns=\"http://www.w3.org/2000/svg\" height=\"24px\" viewBox=\"0 -960 960 960\">\n",
              "    <path d=\"M120-120v-720h720v720H120Zm60-500h600v-160H180v160Zm220 220h160v-160H400v160Zm0 220h160v-160H400v160ZM180-400h160v-160H180v160Zm440 0h160v-160H620v160ZM180-180h160v-160H180v160Zm440 0h160v-160H620v160Z\"/>\n",
              "  </svg>\n",
              "    </button>\n",
              "\n",
              "  <style>\n",
              "    .colab-df-container {\n",
              "      display:flex;\n",
              "      gap: 12px;\n",
              "    }\n",
              "\n",
              "    .colab-df-convert {\n",
              "      background-color: #E8F0FE;\n",
              "      border: none;\n",
              "      border-radius: 50%;\n",
              "      cursor: pointer;\n",
              "      display: none;\n",
              "      fill: #1967D2;\n",
              "      height: 32px;\n",
              "      padding: 0 0 0 0;\n",
              "      width: 32px;\n",
              "    }\n",
              "\n",
              "    .colab-df-convert:hover {\n",
              "      background-color: #E2EBFA;\n",
              "      box-shadow: 0px 1px 2px rgba(60, 64, 67, 0.3), 0px 1px 3px 1px rgba(60, 64, 67, 0.15);\n",
              "      fill: #174EA6;\n",
              "    }\n",
              "\n",
              "    .colab-df-buttons div {\n",
              "      margin-bottom: 4px;\n",
              "    }\n",
              "\n",
              "    [theme=dark] .colab-df-convert {\n",
              "      background-color: #3B4455;\n",
              "      fill: #D2E3FC;\n",
              "    }\n",
              "\n",
              "    [theme=dark] .colab-df-convert:hover {\n",
              "      background-color: #434B5C;\n",
              "      box-shadow: 0px 1px 3px 1px rgba(0, 0, 0, 0.15);\n",
              "      filter: drop-shadow(0px 1px 2px rgba(0, 0, 0, 0.3));\n",
              "      fill: #FFFFFF;\n",
              "    }\n",
              "  </style>\n",
              "\n",
              "    <script>\n",
              "      const buttonEl =\n",
              "        document.querySelector('#df-6a6e778a-96af-48ba-a6b3-996053fb90ad button.colab-df-convert');\n",
              "      buttonEl.style.display =\n",
              "        google.colab.kernel.accessAllowed ? 'block' : 'none';\n",
              "\n",
              "      async function convertToInteractive(key) {\n",
              "        const element = document.querySelector('#df-6a6e778a-96af-48ba-a6b3-996053fb90ad');\n",
              "        const dataTable =\n",
              "          await google.colab.kernel.invokeFunction('convertToInteractive',\n",
              "                                                    [key], {});\n",
              "        if (!dataTable) return;\n",
              "\n",
              "        const docLinkHtml = 'Like what you see? Visit the ' +\n",
              "          '<a target=\"_blank\" href=https://colab.research.google.com/notebooks/data_table.ipynb>data table notebook</a>'\n",
              "          + ' to learn more about interactive tables.';\n",
              "        element.innerHTML = '';\n",
              "        dataTable['output_type'] = 'display_data';\n",
              "        await google.colab.output.renderOutput(dataTable, element);\n",
              "        const docLink = document.createElement('div');\n",
              "        docLink.innerHTML = docLinkHtml;\n",
              "        element.appendChild(docLink);\n",
              "      }\n",
              "    </script>\n",
              "  </div>\n",
              "\n",
              "\n",
              "<div id=\"df-ad6f5ef5-c64d-4a8f-8b45-225c78de020d\">\n",
              "  <button class=\"colab-df-quickchart\" onclick=\"quickchart('df-ad6f5ef5-c64d-4a8f-8b45-225c78de020d')\"\n",
              "            title=\"Suggest charts\"\n",
              "            style=\"display:none;\">\n",
              "\n",
              "<svg xmlns=\"http://www.w3.org/2000/svg\" height=\"24px\"viewBox=\"0 0 24 24\"\n",
              "     width=\"24px\">\n",
              "    <g>\n",
              "        <path d=\"M19 3H5c-1.1 0-2 .9-2 2v14c0 1.1.9 2 2 2h14c1.1 0 2-.9 2-2V5c0-1.1-.9-2-2-2zM9 17H7v-7h2v7zm4 0h-2V7h2v10zm4 0h-2v-4h2v4z\"/>\n",
              "    </g>\n",
              "</svg>\n",
              "  </button>\n",
              "\n",
              "<style>\n",
              "  .colab-df-quickchart {\n",
              "      --bg-color: #E8F0FE;\n",
              "      --fill-color: #1967D2;\n",
              "      --hover-bg-color: #E2EBFA;\n",
              "      --hover-fill-color: #174EA6;\n",
              "      --disabled-fill-color: #AAA;\n",
              "      --disabled-bg-color: #DDD;\n",
              "  }\n",
              "\n",
              "  [theme=dark] .colab-df-quickchart {\n",
              "      --bg-color: #3B4455;\n",
              "      --fill-color: #D2E3FC;\n",
              "      --hover-bg-color: #434B5C;\n",
              "      --hover-fill-color: #FFFFFF;\n",
              "      --disabled-bg-color: #3B4455;\n",
              "      --disabled-fill-color: #666;\n",
              "  }\n",
              "\n",
              "  .colab-df-quickchart {\n",
              "    background-color: var(--bg-color);\n",
              "    border: none;\n",
              "    border-radius: 50%;\n",
              "    cursor: pointer;\n",
              "    display: none;\n",
              "    fill: var(--fill-color);\n",
              "    height: 32px;\n",
              "    padding: 0;\n",
              "    width: 32px;\n",
              "  }\n",
              "\n",
              "  .colab-df-quickchart:hover {\n",
              "    background-color: var(--hover-bg-color);\n",
              "    box-shadow: 0 1px 2px rgba(60, 64, 67, 0.3), 0 1px 3px 1px rgba(60, 64, 67, 0.15);\n",
              "    fill: var(--button-hover-fill-color);\n",
              "  }\n",
              "\n",
              "  .colab-df-quickchart-complete:disabled,\n",
              "  .colab-df-quickchart-complete:disabled:hover {\n",
              "    background-color: var(--disabled-bg-color);\n",
              "    fill: var(--disabled-fill-color);\n",
              "    box-shadow: none;\n",
              "  }\n",
              "\n",
              "  .colab-df-spinner {\n",
              "    border: 2px solid var(--fill-color);\n",
              "    border-color: transparent;\n",
              "    border-bottom-color: var(--fill-color);\n",
              "    animation:\n",
              "      spin 1s steps(1) infinite;\n",
              "  }\n",
              "\n",
              "  @keyframes spin {\n",
              "    0% {\n",
              "      border-color: transparent;\n",
              "      border-bottom-color: var(--fill-color);\n",
              "      border-left-color: var(--fill-color);\n",
              "    }\n",
              "    20% {\n",
              "      border-color: transparent;\n",
              "      border-left-color: var(--fill-color);\n",
              "      border-top-color: var(--fill-color);\n",
              "    }\n",
              "    30% {\n",
              "      border-color: transparent;\n",
              "      border-left-color: var(--fill-color);\n",
              "      border-top-color: var(--fill-color);\n",
              "      border-right-color: var(--fill-color);\n",
              "    }\n",
              "    40% {\n",
              "      border-color: transparent;\n",
              "      border-right-color: var(--fill-color);\n",
              "      border-top-color: var(--fill-color);\n",
              "    }\n",
              "    60% {\n",
              "      border-color: transparent;\n",
              "      border-right-color: var(--fill-color);\n",
              "    }\n",
              "    80% {\n",
              "      border-color: transparent;\n",
              "      border-right-color: var(--fill-color);\n",
              "      border-bottom-color: var(--fill-color);\n",
              "    }\n",
              "    90% {\n",
              "      border-color: transparent;\n",
              "      border-bottom-color: var(--fill-color);\n",
              "    }\n",
              "  }\n",
              "</style>\n",
              "\n",
              "  <script>\n",
              "    async function quickchart(key) {\n",
              "      const quickchartButtonEl =\n",
              "        document.querySelector('#' + key + ' button');\n",
              "      quickchartButtonEl.disabled = true;  // To prevent multiple clicks.\n",
              "      quickchartButtonEl.classList.add('colab-df-spinner');\n",
              "      try {\n",
              "        const charts = await google.colab.kernel.invokeFunction(\n",
              "            'suggestCharts', [key], {});\n",
              "      } catch (error) {\n",
              "        console.error('Error during call to suggestCharts:', error);\n",
              "      }\n",
              "      quickchartButtonEl.classList.remove('colab-df-spinner');\n",
              "      quickchartButtonEl.classList.add('colab-df-quickchart-complete');\n",
              "    }\n",
              "    (() => {\n",
              "      let quickchartButtonEl =\n",
              "        document.querySelector('#df-ad6f5ef5-c64d-4a8f-8b45-225c78de020d button');\n",
              "      quickchartButtonEl.style.display =\n",
              "        google.colab.kernel.accessAllowed ? 'block' : 'none';\n",
              "    })();\n",
              "  </script>\n",
              "</div>\n",
              "    </div>\n",
              "  </div>\n"
            ],
            "application/vnd.google.colaboratory.intrinsic+json": {
              "type": "dataframe",
              "summary": "{\n  \"name\": \"data\",\n  \"rows\": 2174,\n  \"fields\": [\n    {\n      \"column\": \"children\",\n      \"properties\": {\n        \"dtype\": \"number\",\n        \"std\": 1,\n        \"min\": -1,\n        \"max\": 20,\n        \"num_unique_values\": 8,\n        \"samples\": [\n          1,\n          4,\n          0\n        ],\n        \"semantic_type\": \"\",\n        \"description\": \"\"\n      }\n    },\n    {\n      \"column\": \"days_employed\",\n      \"properties\": {\n        \"dtype\": \"number\",\n        \"std\": null,\n        \"min\": null,\n        \"max\": null,\n        \"num_unique_values\": 0,\n        \"samples\": [],\n        \"semantic_type\": \"\",\n        \"description\": \"\"\n      }\n    },\n    {\n      \"column\": \"dob_years\",\n      \"properties\": {\n        \"dtype\": \"number\",\n        \"std\": 12,\n        \"min\": 0,\n        \"max\": 73,\n        \"num_unique_values\": 56,\n        \"samples\": [],\n        \"semantic_type\": \"\",\n        \"description\": \"\"\n      }\n    },\n    {\n      \"column\": \"education\",\n      \"properties\": {\n        \"dtype\": \"category\",\n        \"num_unique_values\": 12,\n        \"samples\": [],\n        \"semantic_type\": \"\",\n        \"description\": \"\"\n      }\n    },\n    {\n      \"column\": \"education_id\",\n      \"properties\": {\n        \"dtype\": \"number\",\n        \"std\": 0,\n        \"min\": 0,\n        \"max\": 3,\n        \"num_unique_values\": 4,\n        \"samples\": [],\n        \"semantic_type\": \"\",\n        \"description\": \"\"\n      }\n    },\n    {\n      \"column\": \"family_status\",\n      \"properties\": {\n        \"dtype\": \"category\",\n        \"num_unique_values\": 5,\n        \"samples\": [],\n        \"semantic_type\": \"\",\n        \"description\": \"\"\n      }\n    },\n    {\n      \"column\": \"family_status_id\",\n      \"properties\": {\n        \"dtype\": \"number\",\n        \"std\": 1,\n        \"min\": 0,\n        \"max\": 4,\n        \"num_unique_values\": 5,\n        \"samples\": [],\n        \"semantic_type\": \"\",\n        \"description\": \"\"\n      }\n    },\n    {\n      \"column\": \"gender\",\n      \"properties\": {\n        \"dtype\": \"category\",\n        \"num_unique_values\": 2,\n        \"samples\": [],\n        \"semantic_type\": \"\",\n        \"description\": \"\"\n      }\n    },\n    {\n      \"column\": \"income_type\",\n      \"properties\": {\n        \"dtype\": \"category\",\n        \"num_unique_values\": 5,\n        \"samples\": [],\n        \"semantic_type\": \"\",\n        \"description\": \"\"\n      }\n    },\n    {\n      \"column\": \"debt\",\n      \"properties\": {\n        \"dtype\": \"number\",\n        \"std\": 0,\n        \"min\": 0,\n        \"max\": 1,\n        \"num_unique_values\": 2,\n        \"samples\": [],\n        \"semantic_type\": \"\",\n        \"description\": \"\"\n      }\n    },\n    {\n      \"column\": \"total_income\",\n      \"properties\": {\n        \"dtype\": \"number\",\n        \"std\": null,\n        \"min\": null,\n        \"max\": null,\n        \"num_unique_values\": 0,\n        \"samples\": [],\n        \"semantic_type\": \"\",\n        \"description\": \"\"\n      }\n    },\n    {\n      \"column\": \"purpose\",\n      \"properties\": {\n        \"dtype\": \"category\",\n        \"num_unique_values\": 38,\n        \"samples\": [],\n        \"semantic_type\": \"\",\n        \"description\": \"\"\n      }\n    }\n  ]\n}"
            }
          },
          "metadata": {},
          "execution_count": 6
        }
      ],
      "source": [
        "data.loc[(data['days_employed'].isna()) & (data['total_income'].isna())]"
      ]
    },
    {
      "cell_type": "markdown",
      "id": "1dfab0f1",
      "metadata": {
        "id": "1dfab0f1"
      },
      "source": [
        "Мы обнаружили, что по столбцам days_employed,total_income одинаковое кол-во пропусков в 2174 ед. Вероятно имеется взаимосвязь наличия пропусков между данными колонками."
      ]
    },
    {
      "cell_type": "markdown",
      "id": "14f011b1",
      "metadata": {
        "deletable": false,
        "editable": false,
        "id": "14f011b1"
      },
      "source": [
        "Столбец с пропущенными значениями — `total_income` — хранит данные о доходах. На сумму дохода сильнее всего влияет тип занятости, поэтому заполнить пропуски в этом столбце нужно медианным значением по каждому типу из столбца `income_type`. Например, у человека с типом занятости `сотрудник` пропуск в столбце `total_income` должен быть заполнен медианным доходом среди всех записей с тем же типом."
      ]
    },
    {
      "cell_type": "code",
      "execution_count": 7,
      "id": "bdabfb6e",
      "metadata": {
        "deletable": false,
        "id": "bdabfb6e"
      },
      "outputs": [],
      "source": [
        "for t in data['income_type'].unique():\n",
        "    data.loc[(data['income_type'] == t) & (data['total_income'].isna()), 'total_income'] = \\\n",
        "    data.loc[(data['income_type'] == t), 'total_income'].median()"
      ]
    },
    {
      "cell_type": "markdown",
      "source": [
        "Теперь заполним пропуски в столбце `days_employed` медианными значениями по каждому типу занятости income_type."
      ],
      "metadata": {
        "id": "xdP7A_IYieBs"
      },
      "id": "xdP7A_IYieBs"
    },
    {
      "cell_type": "code",
      "source": [
        "for t in data['income_type'].unique():\n",
        "    data.loc[(data['income_type'] == t) & (data['days_employed'].isna()), 'days_employed'] = \\\n",
        "    data.loc[(data['income_type'] == t), 'days_employed'].median()"
      ],
      "metadata": {
        "id": "Afs5Lvrgi6Ui"
      },
      "id": "Afs5Lvrgi6Ui",
      "execution_count": 8,
      "outputs": []
    },
    {
      "cell_type": "markdown",
      "source": [
        "Убедимся, что все пропуски заполнены. Проверим себя и ещё раз выведем количество пропущенных значений для каждого столбца с помощью двух методов."
      ],
      "metadata": {
        "id": "ImC_wdsvjEnt"
      },
      "id": "ImC_wdsvjEnt"
    },
    {
      "cell_type": "code",
      "source": [
        "data.isna().sum()"
      ],
      "metadata": {
        "colab": {
          "base_uri": "https://localhost:8080/"
        },
        "id": "988pv9twjWTG",
        "outputId": "fc0c968f-3e10-4767-8ede-ee9b4f4cba73"
      },
      "id": "988pv9twjWTG",
      "execution_count": 9,
      "outputs": [
        {
          "output_type": "execute_result",
          "data": {
            "text/plain": [
              "children            0\n",
              "days_employed       0\n",
              "dob_years           0\n",
              "education           0\n",
              "education_id        0\n",
              "family_status       0\n",
              "family_status_id    0\n",
              "gender              0\n",
              "income_type         0\n",
              "debt                0\n",
              "total_income        0\n",
              "purpose             0\n",
              "dtype: int64"
            ]
          },
          "metadata": {},
          "execution_count": 9
        }
      ]
    },
    {
      "cell_type": "markdown",
      "id": "5be34059",
      "metadata": {
        "deletable": false,
        "editable": false,
        "id": "5be34059"
      },
      "source": [
        "### Обработка аномальных значений"
      ]
    },
    {
      "cell_type": "markdown",
      "id": "a87606cb",
      "metadata": {
        "deletable": false,
        "editable": false,
        "id": "a87606cb"
      },
      "source": [
        "В данных могут встречаться артефакты (аномалии) — значения, которые не отражают действительность и появились по какой-то ошибке. таким артефактом будет отрицательное количество дней трудового стажа в столбце `days_employed`. Для реальных данных это нормально. Обработаем значения в этом столбце: замените все отрицательные значения положительными с помощью метода `abs()`."
      ]
    },
    {
      "cell_type": "code",
      "execution_count": 10,
      "id": "020c46cc",
      "metadata": {
        "deletable": false,
        "id": "020c46cc"
      },
      "outputs": [],
      "source": [
        "data['days_employed'] = data['days_employed'].abs()"
      ]
    },
    {
      "cell_type": "markdown",
      "id": "45538a3a",
      "metadata": {
        "deletable": false,
        "editable": false,
        "id": "45538a3a"
      },
      "source": [
        "Для каждого типа занятости выведем медианное значение трудового стажа `days_employed` в днях."
      ]
    },
    {
      "cell_type": "code",
      "execution_count": 11,
      "id": "cd3e6328",
      "metadata": {
        "deletable": false,
        "id": "cd3e6328",
        "outputId": "3e16bee7-49d6-40eb-a356-a32bd2b2c079",
        "colab": {
          "base_uri": "https://localhost:8080/"
        }
      },
      "outputs": [
        {
          "output_type": "execute_result",
          "data": {
            "text/plain": [
              "income_type\n",
              "безработный        366413.652744\n",
              "в декрете            3296.759962\n",
              "госслужащий          2689.368353\n",
              "компаньон            1547.382223\n",
              "пенсионер          365213.306266\n",
              "предприниматель       520.848083\n",
              "сотрудник            1574.202821\n",
              "студент               578.751554\n",
              "Name: days_employed, dtype: float64"
            ]
          },
          "metadata": {},
          "execution_count": 11
        }
      ],
      "source": [
        "data.groupby('income_type')['days_employed'].agg('median')"
      ]
    },
    {
      "cell_type": "markdown",
      "id": "90c5f058",
      "metadata": {
        "deletable": false,
        "editable": false,
        "id": "90c5f058"
      },
      "source": [
        "У двух типов (безработные и пенсионеры) получатся аномально большие значения. Исправить такие значения сложно, поэтому оставим их как есть."
      ]
    },
    {
      "cell_type": "markdown",
      "id": "9652e50d",
      "metadata": {
        "deletable": false,
        "editable": false,
        "id": "9652e50d"
      },
      "source": [
        "Выведем перечень уникальных значений столбца `children`"
      ]
    },
    {
      "cell_type": "code",
      "execution_count": 12,
      "id": "dbb37b8e",
      "metadata": {
        "deletable": false,
        "id": "dbb37b8e",
        "outputId": "43261b46-1133-4fe9-fd62-bafd0381e9f7",
        "colab": {
          "base_uri": "https://localhost:8080/"
        }
      },
      "outputs": [
        {
          "output_type": "execute_result",
          "data": {
            "text/plain": [
              "array([ 1,  0,  3,  2, -1,  4, 20,  5])"
            ]
          },
          "metadata": {},
          "execution_count": 12
        }
      ],
      "source": [
        "data['children'].unique()"
      ]
    },
    {
      "cell_type": "markdown",
      "id": "2b8b0715",
      "metadata": {
        "deletable": false,
        "editable": false,
        "id": "2b8b0715"
      },
      "source": [
        "В столбце `children` есть два аномальных значения. Удалим строки, в которых встречаются такие аномальные значения из датафрейма `data`."
      ]
    },
    {
      "cell_type": "code",
      "execution_count": 13,
      "id": "20009df8",
      "metadata": {
        "deletable": false,
        "id": "20009df8"
      },
      "outputs": [],
      "source": [
        "data = data[(data['children'] != -1) & (data['children'] != 20)]"
      ]
    },
    {
      "cell_type": "markdown",
      "id": "8c6ac9f1",
      "metadata": {
        "deletable": false,
        "editable": false,
        "id": "8c6ac9f1"
      },
      "source": [
        "Ещё раз выведем перечень уникальных значений столбца `children`, чтобы убедиться, что артефакты удалены."
      ]
    },
    {
      "cell_type": "code",
      "execution_count": 14,
      "id": "07337b81",
      "metadata": {
        "deletable": false,
        "id": "07337b81",
        "outputId": "a64c4cd6-bddc-49c4-93a2-8ff53a6f7e3d",
        "colab": {
          "base_uri": "https://localhost:8080/"
        }
      },
      "outputs": [
        {
          "output_type": "execute_result",
          "data": {
            "text/plain": [
              "array([1, 0, 3, 2, 4, 5])"
            ]
          },
          "metadata": {},
          "execution_count": 14
        }
      ],
      "source": [
        "data['children'].unique()"
      ]
    },
    {
      "cell_type": "markdown",
      "id": "d522e295",
      "metadata": {
        "deletable": false,
        "editable": false,
        "id": "d522e295"
      },
      "source": [
        "### Изменение типов данных"
      ]
    },
    {
      "cell_type": "markdown",
      "id": "c229c581",
      "metadata": {
        "deletable": false,
        "editable": false,
        "id": "c229c581"
      },
      "source": [
        "Заменим вещественный тип данных в столбце `total_income` на целочисленный с помощью метода `astype()`."
      ]
    },
    {
      "cell_type": "code",
      "execution_count": 15,
      "id": "31036462",
      "metadata": {
        "deletable": false,
        "id": "31036462"
      },
      "outputs": [],
      "source": [
        "data['total_income'] = data['total_income'].astype(int)"
      ]
    },
    {
      "cell_type": "markdown",
      "id": "b8e3d1d9",
      "metadata": {
        "deletable": false,
        "editable": false,
        "id": "b8e3d1d9"
      },
      "source": [
        "### Обработка дубликатов"
      ]
    },
    {
      "cell_type": "markdown",
      "id": "9be53c49",
      "metadata": {
        "deletable": false,
        "editable": false,
        "id": "9be53c49"
      },
      "source": [
        "Обработаем неявные дубликаты в столбце `education`. В этом столбце есть одни и те же значения, но записанные по-разному: с использованием заглавных и строчных букв. Приведём их к нижнему регистру."
      ]
    },
    {
      "cell_type": "code",
      "execution_count": 16,
      "id": "d89e73e1",
      "metadata": {
        "deletable": false,
        "id": "d89e73e1"
      },
      "outputs": [],
      "source": [
        "data['education'] = data['education'].str.lower()"
      ]
    },
    {
      "cell_type": "markdown",
      "id": "01d4500e",
      "metadata": {
        "deletable": false,
        "editable": false,
        "id": "01d4500e"
      },
      "source": [
        "Выведем на экран количество явных дубликатов в данных. Если такие строки присутствуют, удалим их"
      ]
    },
    {
      "cell_type": "code",
      "execution_count": 17,
      "id": "e10efb23",
      "metadata": {
        "deletable": false,
        "id": "e10efb23",
        "outputId": "6ebc8325-183f-47ae-8e96-b50d3586a1a3",
        "colab": {
          "base_uri": "https://localhost:8080/"
        }
      },
      "outputs": [
        {
          "output_type": "execute_result",
          "data": {
            "text/plain": [
              "71"
            ]
          },
          "metadata": {},
          "execution_count": 17
        }
      ],
      "source": [
        "data.duplicated().sum()"
      ]
    },
    {
      "cell_type": "code",
      "execution_count": 18,
      "id": "df853f20",
      "metadata": {
        "deletable": false,
        "id": "df853f20"
      },
      "outputs": [],
      "source": [
        "data = data.drop_duplicates()"
      ]
    },
    {
      "cell_type": "markdown",
      "id": "627be38f",
      "metadata": {
        "deletable": false,
        "editable": false,
        "id": "627be38f"
      },
      "source": [
        "### Категоризация данных"
      ]
    },
    {
      "cell_type": "markdown",
      "id": "4684c3e0",
      "metadata": {
        "deletable": false,
        "editable": false,
        "id": "4684c3e0"
      },
      "source": [
        "Для дальнейшего исследования, на основании диапазонов, указанных ниже по столбцу `total_income`, создадим  в датафрейме `data` столбец `total_income_category` с категориями:\n",
        "\n",
        "- 0–30000 — `'E'`;\n",
        "- 30001–50000 — `'D'`;\n",
        "- 50001–200000 — `'C'`;\n",
        "- 200001–1000000 — `'B'`;\n",
        "- 1000001 и выше — `'A'`.\n",
        "\n",
        "По данным категориям мы сможем укрупнить группы по ежемесячным доходам клиентов банка\n",
        "\n"
      ]
    },
    {
      "cell_type": "markdown",
      "source": [
        "Используем собственную функцию с именем `categorize_income()` и метод `apply()`."
      ],
      "metadata": {
        "id": "Unv_gWKMqu8_"
      },
      "id": "Unv_gWKMqu8_"
    },
    {
      "cell_type": "code",
      "execution_count": 19,
      "id": "78965238",
      "metadata": {
        "deletable": false,
        "id": "78965238"
      },
      "outputs": [],
      "source": [
        "def categorize_income(income):\n",
        "    try:\n",
        "        if 0 <= income <= 30000:\n",
        "            return 'E'\n",
        "        elif 30001 <= income <= 50000:\n",
        "            return 'D'\n",
        "        elif 50001 <= income <= 200000:\n",
        "            return 'C'\n",
        "        elif 200001 <= income <= 1000000:\n",
        "            return 'B'\n",
        "        elif income >= 1000001:\n",
        "            return 'A'\n",
        "    except:\n",
        "        pass"
      ]
    },
    {
      "cell_type": "code",
      "execution_count": 32,
      "id": "0980ada1",
      "metadata": {
        "deletable": false,
        "id": "0980ada1",
        "colab": {
          "base_uri": "https://localhost:8080/"
        },
        "outputId": "91282fbe-b6eb-40bd-8ee9-29505b0e33e2"
      },
      "outputs": [
        {
          "output_type": "execute_result",
          "data": {
            "text/plain": [
              "total_income_category\n",
              "C    15921\n",
              "B     5014\n",
              "D      349\n",
              "A       25\n",
              "E       22\n",
              "Name: count, dtype: int64"
            ]
          },
          "metadata": {},
          "execution_count": 32
        }
      ],
      "source": [
        "data['total_income_category'] = data['total_income'].apply(categorize_income)\n",
        "data['total_income_category'].value_counts()"
      ]
    },
    {
      "cell_type": "markdown",
      "id": "9917bba0",
      "metadata": {
        "deletable": false,
        "editable": false,
        "id": "9917bba0"
      },
      "source": [
        "Выведем на экран перечень уникальных целей взятия кредита из столбца `purpose`"
      ]
    },
    {
      "cell_type": "code",
      "execution_count": 21,
      "id": "ee07b65e",
      "metadata": {
        "deletable": false,
        "id": "ee07b65e",
        "outputId": "e50bd2d1-b666-4c77-9834-d461f55e5a7e",
        "colab": {
          "base_uri": "https://localhost:8080/"
        }
      },
      "outputs": [
        {
          "output_type": "execute_result",
          "data": {
            "text/plain": [
              "array(['покупка жилья', 'приобретение автомобиля',\n",
              "       'дополнительное образование', 'сыграть свадьбу',\n",
              "       'операции с жильем', 'образование', 'на проведение свадьбы',\n",
              "       'покупка жилья для семьи', 'покупка недвижимости',\n",
              "       'покупка коммерческой недвижимости', 'покупка жилой недвижимости',\n",
              "       'строительство собственной недвижимости', 'недвижимость',\n",
              "       'строительство недвижимости', 'на покупку подержанного автомобиля',\n",
              "       'на покупку своего автомобиля',\n",
              "       'операции с коммерческой недвижимостью',\n",
              "       'строительство жилой недвижимости', 'жилье',\n",
              "       'операции со своей недвижимостью', 'автомобили',\n",
              "       'заняться образованием', 'сделка с подержанным автомобилем',\n",
              "       'получение образования', 'автомобиль', 'свадьба',\n",
              "       'получение дополнительного образования', 'покупка своего жилья',\n",
              "       'операции с недвижимостью', 'получение высшего образования',\n",
              "       'свой автомобиль', 'сделка с автомобилем',\n",
              "       'профильное образование', 'высшее образование',\n",
              "       'покупка жилья для сдачи', 'на покупку автомобиля', 'ремонт жилью',\n",
              "       'заняться высшим образованием'], dtype=object)"
            ]
          },
          "metadata": {},
          "execution_count": 21
        }
      ],
      "source": [
        "data['purpose'].unique()"
      ]
    },
    {
      "cell_type": "markdown",
      "id": "52b79d56",
      "metadata": {
        "deletable": false,
        "editable": false,
        "id": "52b79d56"
      },
      "source": [
        "Создадим функцию, которая на основании данных из столбца `purpose` сформирует новый столбец `purpose_category`, в который войдут следующие категории:\n",
        "\n",
        "- `'операции с автомобилем'`,\n",
        "- `'операции с недвижимостью'`,\n",
        "- `'проведение свадьбы'`,\n",
        "- `'получение образования'`.\n",
        "\n"
      ]
    },
    {
      "cell_type": "code",
      "execution_count": 22,
      "id": "be41da5d",
      "metadata": {
        "deletable": false,
        "id": "be41da5d"
      },
      "outputs": [],
      "source": [
        "def categorize_purpose(row):\n",
        "    try:\n",
        "        if 'автом' in row:\n",
        "            return 'операции с автомобилем'\n",
        "        elif 'жил' in row or 'недвиж' in row:\n",
        "            return 'операции с недвижимостью'\n",
        "        elif 'свад' in row:\n",
        "            return 'проведение свадьбы'\n",
        "        elif 'образов' in row:\n",
        "            return 'получение образования'\n",
        "    except:\n",
        "        return 'нет категории'"
      ]
    },
    {
      "cell_type": "code",
      "execution_count": 23,
      "id": "94c4a19a",
      "metadata": {
        "deletable": false,
        "id": "94c4a19a",
        "colab": {
          "base_uri": "https://localhost:8080/",
          "height": 556
        },
        "outputId": "02fd0301-4e96-4c5d-929e-fb98f55f486d"
      },
      "outputs": [
        {
          "output_type": "execute_result",
          "data": {
            "text/plain": [
              "   children  days_employed  dob_years education  education_id  \\\n",
              "0         1    8437.673028         42    высшее             0   \n",
              "1         1    4024.803754         36   среднее             1   \n",
              "2         0    5623.422610         33   среднее             1   \n",
              "3         3    4124.747207         32   среднее             1   \n",
              "4         0  340266.072047         53   среднее             1   \n",
              "5         0     926.185831         27    высшее             0   \n",
              "6         0    2879.202052         43    высшее             0   \n",
              "7         0     152.779569         50   среднее             1   \n",
              "8         2    6929.865299         35    высшее             0   \n",
              "9         0    2188.756445         41   среднее             1   \n",
              "\n",
              "      family_status  family_status_id gender income_type  debt  total_income  \\\n",
              "0   женат / замужем                 0      F   сотрудник     0        253875   \n",
              "1   женат / замужем                 0      F   сотрудник     0        112080   \n",
              "2   женат / замужем                 0      M   сотрудник     0        145885   \n",
              "3   женат / замужем                 0      M   сотрудник     0        267628   \n",
              "4  гражданский брак                 1      F   пенсионер     0        158616   \n",
              "5  гражданский брак                 1      M   компаньон     0        255763   \n",
              "6   женат / замужем                 0      F   компаньон     0        240525   \n",
              "7   женат / замужем                 0      M   сотрудник     0        135823   \n",
              "8  гражданский брак                 1      F   сотрудник     0         95856   \n",
              "9   женат / замужем                 0      M   сотрудник     0        144425   \n",
              "\n",
              "                      purpose total_income_category          purpose_category  \n",
              "0               покупка жилья                     B  операции с недвижимостью  \n",
              "1     приобретение автомобиля                     C    операции с автомобилем  \n",
              "2               покупка жилья                     C  операции с недвижимостью  \n",
              "3  дополнительное образование                     B     получение образования  \n",
              "4             сыграть свадьбу                     C        проведение свадьбы  \n",
              "5               покупка жилья                     B  операции с недвижимостью  \n",
              "6           операции с жильем                     B  операции с недвижимостью  \n",
              "7                 образование                     C     получение образования  \n",
              "8       на проведение свадьбы                     C        проведение свадьбы  \n",
              "9     покупка жилья для семьи                     C  операции с недвижимостью  "
            ],
            "text/html": [
              "\n",
              "  <div id=\"df-b3ddbe3e-810c-4e8e-b6c8-14ff10a43641\" class=\"colab-df-container\">\n",
              "    <div>\n",
              "<style scoped>\n",
              "    .dataframe tbody tr th:only-of-type {\n",
              "        vertical-align: middle;\n",
              "    }\n",
              "\n",
              "    .dataframe tbody tr th {\n",
              "        vertical-align: top;\n",
              "    }\n",
              "\n",
              "    .dataframe thead th {\n",
              "        text-align: right;\n",
              "    }\n",
              "</style>\n",
              "<table border=\"1\" class=\"dataframe\">\n",
              "  <thead>\n",
              "    <tr style=\"text-align: right;\">\n",
              "      <th></th>\n",
              "      <th>children</th>\n",
              "      <th>days_employed</th>\n",
              "      <th>dob_years</th>\n",
              "      <th>education</th>\n",
              "      <th>education_id</th>\n",
              "      <th>family_status</th>\n",
              "      <th>family_status_id</th>\n",
              "      <th>gender</th>\n",
              "      <th>income_type</th>\n",
              "      <th>debt</th>\n",
              "      <th>total_income</th>\n",
              "      <th>purpose</th>\n",
              "      <th>total_income_category</th>\n",
              "      <th>purpose_category</th>\n",
              "    </tr>\n",
              "  </thead>\n",
              "  <tbody>\n",
              "    <tr>\n",
              "      <th>0</th>\n",
              "      <td>1</td>\n",
              "      <td>8437.673028</td>\n",
              "      <td>42</td>\n",
              "      <td>высшее</td>\n",
              "      <td>0</td>\n",
              "      <td>женат / замужем</td>\n",
              "      <td>0</td>\n",
              "      <td>F</td>\n",
              "      <td>сотрудник</td>\n",
              "      <td>0</td>\n",
              "      <td>253875</td>\n",
              "      <td>покупка жилья</td>\n",
              "      <td>B</td>\n",
              "      <td>операции с недвижимостью</td>\n",
              "    </tr>\n",
              "    <tr>\n",
              "      <th>1</th>\n",
              "      <td>1</td>\n",
              "      <td>4024.803754</td>\n",
              "      <td>36</td>\n",
              "      <td>среднее</td>\n",
              "      <td>1</td>\n",
              "      <td>женат / замужем</td>\n",
              "      <td>0</td>\n",
              "      <td>F</td>\n",
              "      <td>сотрудник</td>\n",
              "      <td>0</td>\n",
              "      <td>112080</td>\n",
              "      <td>приобретение автомобиля</td>\n",
              "      <td>C</td>\n",
              "      <td>операции с автомобилем</td>\n",
              "    </tr>\n",
              "    <tr>\n",
              "      <th>2</th>\n",
              "      <td>0</td>\n",
              "      <td>5623.422610</td>\n",
              "      <td>33</td>\n",
              "      <td>среднее</td>\n",
              "      <td>1</td>\n",
              "      <td>женат / замужем</td>\n",
              "      <td>0</td>\n",
              "      <td>M</td>\n",
              "      <td>сотрудник</td>\n",
              "      <td>0</td>\n",
              "      <td>145885</td>\n",
              "      <td>покупка жилья</td>\n",
              "      <td>C</td>\n",
              "      <td>операции с недвижимостью</td>\n",
              "    </tr>\n",
              "    <tr>\n",
              "      <th>3</th>\n",
              "      <td>3</td>\n",
              "      <td>4124.747207</td>\n",
              "      <td>32</td>\n",
              "      <td>среднее</td>\n",
              "      <td>1</td>\n",
              "      <td>женат / замужем</td>\n",
              "      <td>0</td>\n",
              "      <td>M</td>\n",
              "      <td>сотрудник</td>\n",
              "      <td>0</td>\n",
              "      <td>267628</td>\n",
              "      <td>дополнительное образование</td>\n",
              "      <td>B</td>\n",
              "      <td>получение образования</td>\n",
              "    </tr>\n",
              "    <tr>\n",
              "      <th>4</th>\n",
              "      <td>0</td>\n",
              "      <td>340266.072047</td>\n",
              "      <td>53</td>\n",
              "      <td>среднее</td>\n",
              "      <td>1</td>\n",
              "      <td>гражданский брак</td>\n",
              "      <td>1</td>\n",
              "      <td>F</td>\n",
              "      <td>пенсионер</td>\n",
              "      <td>0</td>\n",
              "      <td>158616</td>\n",
              "      <td>сыграть свадьбу</td>\n",
              "      <td>C</td>\n",
              "      <td>проведение свадьбы</td>\n",
              "    </tr>\n",
              "    <tr>\n",
              "      <th>5</th>\n",
              "      <td>0</td>\n",
              "      <td>926.185831</td>\n",
              "      <td>27</td>\n",
              "      <td>высшее</td>\n",
              "      <td>0</td>\n",
              "      <td>гражданский брак</td>\n",
              "      <td>1</td>\n",
              "      <td>M</td>\n",
              "      <td>компаньон</td>\n",
              "      <td>0</td>\n",
              "      <td>255763</td>\n",
              "      <td>покупка жилья</td>\n",
              "      <td>B</td>\n",
              "      <td>операции с недвижимостью</td>\n",
              "    </tr>\n",
              "    <tr>\n",
              "      <th>6</th>\n",
              "      <td>0</td>\n",
              "      <td>2879.202052</td>\n",
              "      <td>43</td>\n",
              "      <td>высшее</td>\n",
              "      <td>0</td>\n",
              "      <td>женат / замужем</td>\n",
              "      <td>0</td>\n",
              "      <td>F</td>\n",
              "      <td>компаньон</td>\n",
              "      <td>0</td>\n",
              "      <td>240525</td>\n",
              "      <td>операции с жильем</td>\n",
              "      <td>B</td>\n",
              "      <td>операции с недвижимостью</td>\n",
              "    </tr>\n",
              "    <tr>\n",
              "      <th>7</th>\n",
              "      <td>0</td>\n",
              "      <td>152.779569</td>\n",
              "      <td>50</td>\n",
              "      <td>среднее</td>\n",
              "      <td>1</td>\n",
              "      <td>женат / замужем</td>\n",
              "      <td>0</td>\n",
              "      <td>M</td>\n",
              "      <td>сотрудник</td>\n",
              "      <td>0</td>\n",
              "      <td>135823</td>\n",
              "      <td>образование</td>\n",
              "      <td>C</td>\n",
              "      <td>получение образования</td>\n",
              "    </tr>\n",
              "    <tr>\n",
              "      <th>8</th>\n",
              "      <td>2</td>\n",
              "      <td>6929.865299</td>\n",
              "      <td>35</td>\n",
              "      <td>высшее</td>\n",
              "      <td>0</td>\n",
              "      <td>гражданский брак</td>\n",
              "      <td>1</td>\n",
              "      <td>F</td>\n",
              "      <td>сотрудник</td>\n",
              "      <td>0</td>\n",
              "      <td>95856</td>\n",
              "      <td>на проведение свадьбы</td>\n",
              "      <td>C</td>\n",
              "      <td>проведение свадьбы</td>\n",
              "    </tr>\n",
              "    <tr>\n",
              "      <th>9</th>\n",
              "      <td>0</td>\n",
              "      <td>2188.756445</td>\n",
              "      <td>41</td>\n",
              "      <td>среднее</td>\n",
              "      <td>1</td>\n",
              "      <td>женат / замужем</td>\n",
              "      <td>0</td>\n",
              "      <td>M</td>\n",
              "      <td>сотрудник</td>\n",
              "      <td>0</td>\n",
              "      <td>144425</td>\n",
              "      <td>покупка жилья для семьи</td>\n",
              "      <td>C</td>\n",
              "      <td>операции с недвижимостью</td>\n",
              "    </tr>\n",
              "  </tbody>\n",
              "</table>\n",
              "</div>\n",
              "    <div class=\"colab-df-buttons\">\n",
              "\n",
              "  <div class=\"colab-df-container\">\n",
              "    <button class=\"colab-df-convert\" onclick=\"convertToInteractive('df-b3ddbe3e-810c-4e8e-b6c8-14ff10a43641')\"\n",
              "            title=\"Convert this dataframe to an interactive table.\"\n",
              "            style=\"display:none;\">\n",
              "\n",
              "  <svg xmlns=\"http://www.w3.org/2000/svg\" height=\"24px\" viewBox=\"0 -960 960 960\">\n",
              "    <path d=\"M120-120v-720h720v720H120Zm60-500h600v-160H180v160Zm220 220h160v-160H400v160Zm0 220h160v-160H400v160ZM180-400h160v-160H180v160Zm440 0h160v-160H620v160ZM180-180h160v-160H180v160Zm440 0h160v-160H620v160Z\"/>\n",
              "  </svg>\n",
              "    </button>\n",
              "\n",
              "  <style>\n",
              "    .colab-df-container {\n",
              "      display:flex;\n",
              "      gap: 12px;\n",
              "    }\n",
              "\n",
              "    .colab-df-convert {\n",
              "      background-color: #E8F0FE;\n",
              "      border: none;\n",
              "      border-radius: 50%;\n",
              "      cursor: pointer;\n",
              "      display: none;\n",
              "      fill: #1967D2;\n",
              "      height: 32px;\n",
              "      padding: 0 0 0 0;\n",
              "      width: 32px;\n",
              "    }\n",
              "\n",
              "    .colab-df-convert:hover {\n",
              "      background-color: #E2EBFA;\n",
              "      box-shadow: 0px 1px 2px rgba(60, 64, 67, 0.3), 0px 1px 3px 1px rgba(60, 64, 67, 0.15);\n",
              "      fill: #174EA6;\n",
              "    }\n",
              "\n",
              "    .colab-df-buttons div {\n",
              "      margin-bottom: 4px;\n",
              "    }\n",
              "\n",
              "    [theme=dark] .colab-df-convert {\n",
              "      background-color: #3B4455;\n",
              "      fill: #D2E3FC;\n",
              "    }\n",
              "\n",
              "    [theme=dark] .colab-df-convert:hover {\n",
              "      background-color: #434B5C;\n",
              "      box-shadow: 0px 1px 3px 1px rgba(0, 0, 0, 0.15);\n",
              "      filter: drop-shadow(0px 1px 2px rgba(0, 0, 0, 0.3));\n",
              "      fill: #FFFFFF;\n",
              "    }\n",
              "  </style>\n",
              "\n",
              "    <script>\n",
              "      const buttonEl =\n",
              "        document.querySelector('#df-b3ddbe3e-810c-4e8e-b6c8-14ff10a43641 button.colab-df-convert');\n",
              "      buttonEl.style.display =\n",
              "        google.colab.kernel.accessAllowed ? 'block' : 'none';\n",
              "\n",
              "      async function convertToInteractive(key) {\n",
              "        const element = document.querySelector('#df-b3ddbe3e-810c-4e8e-b6c8-14ff10a43641');\n",
              "        const dataTable =\n",
              "          await google.colab.kernel.invokeFunction('convertToInteractive',\n",
              "                                                    [key], {});\n",
              "        if (!dataTable) return;\n",
              "\n",
              "        const docLinkHtml = 'Like what you see? Visit the ' +\n",
              "          '<a target=\"_blank\" href=https://colab.research.google.com/notebooks/data_table.ipynb>data table notebook</a>'\n",
              "          + ' to learn more about interactive tables.';\n",
              "        element.innerHTML = '';\n",
              "        dataTable['output_type'] = 'display_data';\n",
              "        await google.colab.output.renderOutput(dataTable, element);\n",
              "        const docLink = document.createElement('div');\n",
              "        docLink.innerHTML = docLinkHtml;\n",
              "        element.appendChild(docLink);\n",
              "      }\n",
              "    </script>\n",
              "  </div>\n",
              "\n",
              "\n",
              "<div id=\"df-393320aa-6a27-45ff-bdbb-12eb8149d0e1\">\n",
              "  <button class=\"colab-df-quickchart\" onclick=\"quickchart('df-393320aa-6a27-45ff-bdbb-12eb8149d0e1')\"\n",
              "            title=\"Suggest charts\"\n",
              "            style=\"display:none;\">\n",
              "\n",
              "<svg xmlns=\"http://www.w3.org/2000/svg\" height=\"24px\"viewBox=\"0 0 24 24\"\n",
              "     width=\"24px\">\n",
              "    <g>\n",
              "        <path d=\"M19 3H5c-1.1 0-2 .9-2 2v14c0 1.1.9 2 2 2h14c1.1 0 2-.9 2-2V5c0-1.1-.9-2-2-2zM9 17H7v-7h2v7zm4 0h-2V7h2v10zm4 0h-2v-4h2v4z\"/>\n",
              "    </g>\n",
              "</svg>\n",
              "  </button>\n",
              "\n",
              "<style>\n",
              "  .colab-df-quickchart {\n",
              "      --bg-color: #E8F0FE;\n",
              "      --fill-color: #1967D2;\n",
              "      --hover-bg-color: #E2EBFA;\n",
              "      --hover-fill-color: #174EA6;\n",
              "      --disabled-fill-color: #AAA;\n",
              "      --disabled-bg-color: #DDD;\n",
              "  }\n",
              "\n",
              "  [theme=dark] .colab-df-quickchart {\n",
              "      --bg-color: #3B4455;\n",
              "      --fill-color: #D2E3FC;\n",
              "      --hover-bg-color: #434B5C;\n",
              "      --hover-fill-color: #FFFFFF;\n",
              "      --disabled-bg-color: #3B4455;\n",
              "      --disabled-fill-color: #666;\n",
              "  }\n",
              "\n",
              "  .colab-df-quickchart {\n",
              "    background-color: var(--bg-color);\n",
              "    border: none;\n",
              "    border-radius: 50%;\n",
              "    cursor: pointer;\n",
              "    display: none;\n",
              "    fill: var(--fill-color);\n",
              "    height: 32px;\n",
              "    padding: 0;\n",
              "    width: 32px;\n",
              "  }\n",
              "\n",
              "  .colab-df-quickchart:hover {\n",
              "    background-color: var(--hover-bg-color);\n",
              "    box-shadow: 0 1px 2px rgba(60, 64, 67, 0.3), 0 1px 3px 1px rgba(60, 64, 67, 0.15);\n",
              "    fill: var(--button-hover-fill-color);\n",
              "  }\n",
              "\n",
              "  .colab-df-quickchart-complete:disabled,\n",
              "  .colab-df-quickchart-complete:disabled:hover {\n",
              "    background-color: var(--disabled-bg-color);\n",
              "    fill: var(--disabled-fill-color);\n",
              "    box-shadow: none;\n",
              "  }\n",
              "\n",
              "  .colab-df-spinner {\n",
              "    border: 2px solid var(--fill-color);\n",
              "    border-color: transparent;\n",
              "    border-bottom-color: var(--fill-color);\n",
              "    animation:\n",
              "      spin 1s steps(1) infinite;\n",
              "  }\n",
              "\n",
              "  @keyframes spin {\n",
              "    0% {\n",
              "      border-color: transparent;\n",
              "      border-bottom-color: var(--fill-color);\n",
              "      border-left-color: var(--fill-color);\n",
              "    }\n",
              "    20% {\n",
              "      border-color: transparent;\n",
              "      border-left-color: var(--fill-color);\n",
              "      border-top-color: var(--fill-color);\n",
              "    }\n",
              "    30% {\n",
              "      border-color: transparent;\n",
              "      border-left-color: var(--fill-color);\n",
              "      border-top-color: var(--fill-color);\n",
              "      border-right-color: var(--fill-color);\n",
              "    }\n",
              "    40% {\n",
              "      border-color: transparent;\n",
              "      border-right-color: var(--fill-color);\n",
              "      border-top-color: var(--fill-color);\n",
              "    }\n",
              "    60% {\n",
              "      border-color: transparent;\n",
              "      border-right-color: var(--fill-color);\n",
              "    }\n",
              "    80% {\n",
              "      border-color: transparent;\n",
              "      border-right-color: var(--fill-color);\n",
              "      border-bottom-color: var(--fill-color);\n",
              "    }\n",
              "    90% {\n",
              "      border-color: transparent;\n",
              "      border-bottom-color: var(--fill-color);\n",
              "    }\n",
              "  }\n",
              "</style>\n",
              "\n",
              "  <script>\n",
              "    async function quickchart(key) {\n",
              "      const quickchartButtonEl =\n",
              "        document.querySelector('#' + key + ' button');\n",
              "      quickchartButtonEl.disabled = true;  // To prevent multiple clicks.\n",
              "      quickchartButtonEl.classList.add('colab-df-spinner');\n",
              "      try {\n",
              "        const charts = await google.colab.kernel.invokeFunction(\n",
              "            'suggestCharts', [key], {});\n",
              "      } catch (error) {\n",
              "        console.error('Error during call to suggestCharts:', error);\n",
              "      }\n",
              "      quickchartButtonEl.classList.remove('colab-df-spinner');\n",
              "      quickchartButtonEl.classList.add('colab-df-quickchart-complete');\n",
              "    }\n",
              "    (() => {\n",
              "      let quickchartButtonEl =\n",
              "        document.querySelector('#df-393320aa-6a27-45ff-bdbb-12eb8149d0e1 button');\n",
              "      quickchartButtonEl.style.display =\n",
              "        google.colab.kernel.accessAllowed ? 'block' : 'none';\n",
              "    })();\n",
              "  </script>\n",
              "</div>\n",
              "    </div>\n",
              "  </div>\n"
            ],
            "application/vnd.google.colaboratory.intrinsic+json": {
              "type": "dataframe",
              "variable_name": "data",
              "summary": "{\n  \"name\": \"data\",\n  \"rows\": 21331,\n  \"fields\": [\n    {\n      \"column\": \"children\",\n      \"properties\": {\n        \"dtype\": \"number\",\n        \"std\": 0,\n        \"min\": 0,\n        \"max\": 5,\n        \"num_unique_values\": 6,\n        \"samples\": [\n          1,\n          0,\n          5\n        ],\n        \"semantic_type\": \"\",\n        \"description\": \"\"\n      }\n    },\n    {\n      \"column\": \"days_employed\",\n      \"properties\": {\n        \"dtype\": \"number\",\n        \"std\": 139278.37384237818,\n        \"min\": 24.14163324048118,\n        \"max\": 401755.40047533,\n        \"num_unique_values\": 19242,\n        \"samples\": [\n          6235.027410298441,\n          1342.5827353004129,\n          341289.50977290433\n        ],\n        \"semantic_type\": \"\",\n        \"description\": \"\"\n      }\n    },\n    {\n      \"column\": \"dob_years\",\n      \"properties\": {\n        \"dtype\": \"number\",\n        \"std\": 12,\n        \"min\": 0,\n        \"max\": 75,\n        \"num_unique_values\": 58,\n        \"samples\": [\n          42,\n          27,\n          64\n        ],\n        \"semantic_type\": \"\",\n        \"description\": \"\"\n      }\n    },\n    {\n      \"column\": \"education\",\n      \"properties\": {\n        \"dtype\": \"category\",\n        \"num_unique_values\": 5,\n        \"samples\": [\n          \"\\u0441\\u0440\\u0435\\u0434\\u043d\\u0435\\u0435\",\n          \"\\u0443\\u0447\\u0435\\u043d\\u0430\\u044f \\u0441\\u0442\\u0435\\u043f\\u0435\\u043d\\u044c\",\n          \"\\u043d\\u0435\\u043e\\u043a\\u043e\\u043d\\u0447\\u0435\\u043d\\u043d\\u043e\\u0435 \\u0432\\u044b\\u0441\\u0448\\u0435\\u0435\"\n        ],\n        \"semantic_type\": \"\",\n        \"description\": \"\"\n      }\n    },\n    {\n      \"column\": \"education_id\",\n      \"properties\": {\n        \"dtype\": \"number\",\n        \"std\": 0,\n        \"min\": 0,\n        \"max\": 4,\n        \"num_unique_values\": 5,\n        \"samples\": [\n          1,\n          4,\n          2\n        ],\n        \"semantic_type\": \"\",\n        \"description\": \"\"\n      }\n    },\n    {\n      \"column\": \"family_status\",\n      \"properties\": {\n        \"dtype\": \"category\",\n        \"num_unique_values\": 5,\n        \"samples\": [\n          \"\\u0433\\u0440\\u0430\\u0436\\u0434\\u0430\\u043d\\u0441\\u043a\\u0438\\u0439 \\u0431\\u0440\\u0430\\u043a\",\n          \"\\u041d\\u0435 \\u0436\\u0435\\u043d\\u0430\\u0442 / \\u043d\\u0435 \\u0437\\u0430\\u043c\\u0443\\u0436\\u0435\\u043c\",\n          \"\\u0432\\u0434\\u043e\\u0432\\u0435\\u0446 / \\u0432\\u0434\\u043e\\u0432\\u0430\"\n        ],\n        \"semantic_type\": \"\",\n        \"description\": \"\"\n      }\n    },\n    {\n      \"column\": \"family_status_id\",\n      \"properties\": {\n        \"dtype\": \"number\",\n        \"std\": 1,\n        \"min\": 0,\n        \"max\": 4,\n        \"num_unique_values\": 5,\n        \"samples\": [\n          1,\n          4,\n          2\n        ],\n        \"semantic_type\": \"\",\n        \"description\": \"\"\n      }\n    },\n    {\n      \"column\": \"gender\",\n      \"properties\": {\n        \"dtype\": \"category\",\n        \"num_unique_values\": 3,\n        \"samples\": [\n          \"F\",\n          \"M\",\n          \"XNA\"\n        ],\n        \"semantic_type\": \"\",\n        \"description\": \"\"\n      }\n    },\n    {\n      \"column\": \"income_type\",\n      \"properties\": {\n        \"dtype\": \"category\",\n        \"num_unique_values\": 8,\n        \"samples\": [\n          \"\\u043f\\u0435\\u043d\\u0441\\u0438\\u043e\\u043d\\u0435\\u0440\",\n          \"\\u043f\\u0440\\u0435\\u0434\\u043f\\u0440\\u0438\\u043d\\u0438\\u043c\\u0430\\u0442\\u0435\\u043b\\u044c\",\n          \"\\u0441\\u043e\\u0442\\u0440\\u0443\\u0434\\u043d\\u0438\\u043a\"\n        ],\n        \"semantic_type\": \"\",\n        \"description\": \"\"\n      }\n    },\n    {\n      \"column\": \"debt\",\n      \"properties\": {\n        \"dtype\": \"number\",\n        \"std\": 0,\n        \"min\": 0,\n        \"max\": 1,\n        \"num_unique_values\": 2,\n        \"samples\": [\n          1,\n          0\n        ],\n        \"semantic_type\": \"\",\n        \"description\": \"\"\n      }\n    },\n    {\n      \"column\": \"total_income\",\n      \"properties\": {\n        \"dtype\": \"number\",\n        \"std\": 98313,\n        \"min\": 20667,\n        \"max\": 2265604,\n        \"num_unique_values\": 18504,\n        \"samples\": [\n          84400,\n          236593\n        ],\n        \"semantic_type\": \"\",\n        \"description\": \"\"\n      }\n    },\n    {\n      \"column\": \"purpose\",\n      \"properties\": {\n        \"dtype\": \"category\",\n        \"num_unique_values\": 38,\n        \"samples\": [\n          \"\\u0432\\u044b\\u0441\\u0448\\u0435\\u0435 \\u043e\\u0431\\u0440\\u0430\\u0437\\u043e\\u0432\\u0430\\u043d\\u0438\\u0435\",\n          \"\\u0440\\u0435\\u043c\\u043e\\u043d\\u0442 \\u0436\\u0438\\u043b\\u044c\\u044e\"\n        ],\n        \"semantic_type\": \"\",\n        \"description\": \"\"\n      }\n    },\n    {\n      \"column\": \"total_income_category\",\n      \"properties\": {\n        \"dtype\": \"category\",\n        \"num_unique_values\": 5,\n        \"samples\": [\n          \"C\",\n          \"A\"\n        ],\n        \"semantic_type\": \"\",\n        \"description\": \"\"\n      }\n    },\n    {\n      \"column\": \"purpose_category\",\n      \"properties\": {\n        \"dtype\": \"category\",\n        \"num_unique_values\": 4,\n        \"samples\": [\n          \"\\u043e\\u043f\\u0435\\u0440\\u0430\\u0446\\u0438\\u0438 \\u0441 \\u0430\\u0432\\u0442\\u043e\\u043c\\u043e\\u0431\\u0438\\u043b\\u0435\\u043c\",\n          \"\\u043f\\u0440\\u043e\\u0432\\u0435\\u0434\\u0435\\u043d\\u0438\\u0435 \\u0441\\u0432\\u0430\\u0434\\u044c\\u0431\\u044b\"\n        ],\n        \"semantic_type\": \"\",\n        \"description\": \"\"\n      }\n    }\n  ]\n}"
            }
          },
          "metadata": {},
          "execution_count": 23
        }
      ],
      "source": [
        "data['purpose_category'] = data['purpose'].apply(categorize_purpose)\n",
        "data.head(10)"
      ]
    },
    {
      "cell_type": "markdown",
      "source": [
        "Столбцы с категориями успешно созданы"
      ],
      "metadata": {
        "id": "60A2bGczBdNa"
      },
      "id": "60A2bGczBdNa"
    },
    {
      "cell_type": "markdown",
      "id": "3d596c34",
      "metadata": {
        "deletable": false,
        "editable": false,
        "id": "3d596c34"
      },
      "source": [
        "## Исследовательский анализ"
      ]
    },
    {
      "cell_type": "markdown",
      "id": "648db036",
      "metadata": {
        "deletable": false,
        "editable": false,
        "id": "648db036"
      },
      "source": [
        "#### Есть ли зависимость между количеством детей и возвратом кредита в срок?"
      ]
    },
    {
      "cell_type": "markdown",
      "id": "e712c784",
      "metadata": {
        "id": "e712c784"
      },
      "source": [
        "Для начала обобщим  данные DataFrame `data` в виде сводной таблицы.\n",
        "\n",
        "- 1.Найдём общую численность заёмщиков по категории кол-ва детей.\n",
        "- 2.Найдём кол-во должников по категориям кол-ва детей."
      ]
    },
    {
      "cell_type": "code",
      "execution_count": 24,
      "id": "c03ddb92",
      "metadata": {
        "colab": {
          "base_uri": "https://localhost:8080/",
          "height": 269
        },
        "id": "c03ddb92",
        "outputId": "9bc6d0b1-b398-4fde-9b9b-1980c35ce021"
      },
      "outputs": [
        {
          "output_type": "execute_result",
          "data": {
            "text/plain": [
              "              Кол-во заёмщиков  Кол-во должников  Доля должников\n",
              "Кол-во детей                                                    \n",
              "0                        14091              1063        0.075438\n",
              "1                         4808               444        0.092346\n",
              "2                         2052               194        0.094542\n",
              "3                          330                27        0.081818\n",
              "4                           41                 4        0.097561\n",
              "5                            9                 0        0.000000"
            ],
            "text/html": [
              "\n",
              "  <div id=\"df-333e8632-3e5a-4b72-9fe0-d3029ace7b76\" class=\"colab-df-container\">\n",
              "    <div>\n",
              "<style scoped>\n",
              "    .dataframe tbody tr th:only-of-type {\n",
              "        vertical-align: middle;\n",
              "    }\n",
              "\n",
              "    .dataframe tbody tr th {\n",
              "        vertical-align: top;\n",
              "    }\n",
              "\n",
              "    .dataframe thead th {\n",
              "        text-align: right;\n",
              "    }\n",
              "</style>\n",
              "<table border=\"1\" class=\"dataframe\">\n",
              "  <thead>\n",
              "    <tr style=\"text-align: right;\">\n",
              "      <th></th>\n",
              "      <th>Кол-во заёмщиков</th>\n",
              "      <th>Кол-во должников</th>\n",
              "      <th>Доля должников</th>\n",
              "    </tr>\n",
              "    <tr>\n",
              "      <th>Кол-во детей</th>\n",
              "      <th></th>\n",
              "      <th></th>\n",
              "      <th></th>\n",
              "    </tr>\n",
              "  </thead>\n",
              "  <tbody>\n",
              "    <tr>\n",
              "      <th>0</th>\n",
              "      <td>14091</td>\n",
              "      <td>1063</td>\n",
              "      <td>0.075438</td>\n",
              "    </tr>\n",
              "    <tr>\n",
              "      <th>1</th>\n",
              "      <td>4808</td>\n",
              "      <td>444</td>\n",
              "      <td>0.092346</td>\n",
              "    </tr>\n",
              "    <tr>\n",
              "      <th>2</th>\n",
              "      <td>2052</td>\n",
              "      <td>194</td>\n",
              "      <td>0.094542</td>\n",
              "    </tr>\n",
              "    <tr>\n",
              "      <th>3</th>\n",
              "      <td>330</td>\n",
              "      <td>27</td>\n",
              "      <td>0.081818</td>\n",
              "    </tr>\n",
              "    <tr>\n",
              "      <th>4</th>\n",
              "      <td>41</td>\n",
              "      <td>4</td>\n",
              "      <td>0.097561</td>\n",
              "    </tr>\n",
              "    <tr>\n",
              "      <th>5</th>\n",
              "      <td>9</td>\n",
              "      <td>0</td>\n",
              "      <td>0.000000</td>\n",
              "    </tr>\n",
              "  </tbody>\n",
              "</table>\n",
              "</div>\n",
              "    <div class=\"colab-df-buttons\">\n",
              "\n",
              "  <div class=\"colab-df-container\">\n",
              "    <button class=\"colab-df-convert\" onclick=\"convertToInteractive('df-333e8632-3e5a-4b72-9fe0-d3029ace7b76')\"\n",
              "            title=\"Convert this dataframe to an interactive table.\"\n",
              "            style=\"display:none;\">\n",
              "\n",
              "  <svg xmlns=\"http://www.w3.org/2000/svg\" height=\"24px\" viewBox=\"0 -960 960 960\">\n",
              "    <path d=\"M120-120v-720h720v720H120Zm60-500h600v-160H180v160Zm220 220h160v-160H400v160Zm0 220h160v-160H400v160ZM180-400h160v-160H180v160Zm440 0h160v-160H620v160ZM180-180h160v-160H180v160Zm440 0h160v-160H620v160Z\"/>\n",
              "  </svg>\n",
              "    </button>\n",
              "\n",
              "  <style>\n",
              "    .colab-df-container {\n",
              "      display:flex;\n",
              "      gap: 12px;\n",
              "    }\n",
              "\n",
              "    .colab-df-convert {\n",
              "      background-color: #E8F0FE;\n",
              "      border: none;\n",
              "      border-radius: 50%;\n",
              "      cursor: pointer;\n",
              "      display: none;\n",
              "      fill: #1967D2;\n",
              "      height: 32px;\n",
              "      padding: 0 0 0 0;\n",
              "      width: 32px;\n",
              "    }\n",
              "\n",
              "    .colab-df-convert:hover {\n",
              "      background-color: #E2EBFA;\n",
              "      box-shadow: 0px 1px 2px rgba(60, 64, 67, 0.3), 0px 1px 3px 1px rgba(60, 64, 67, 0.15);\n",
              "      fill: #174EA6;\n",
              "    }\n",
              "\n",
              "    .colab-df-buttons div {\n",
              "      margin-bottom: 4px;\n",
              "    }\n",
              "\n",
              "    [theme=dark] .colab-df-convert {\n",
              "      background-color: #3B4455;\n",
              "      fill: #D2E3FC;\n",
              "    }\n",
              "\n",
              "    [theme=dark] .colab-df-convert:hover {\n",
              "      background-color: #434B5C;\n",
              "      box-shadow: 0px 1px 3px 1px rgba(0, 0, 0, 0.15);\n",
              "      filter: drop-shadow(0px 1px 2px rgba(0, 0, 0, 0.3));\n",
              "      fill: #FFFFFF;\n",
              "    }\n",
              "  </style>\n",
              "\n",
              "    <script>\n",
              "      const buttonEl =\n",
              "        document.querySelector('#df-333e8632-3e5a-4b72-9fe0-d3029ace7b76 button.colab-df-convert');\n",
              "      buttonEl.style.display =\n",
              "        google.colab.kernel.accessAllowed ? 'block' : 'none';\n",
              "\n",
              "      async function convertToInteractive(key) {\n",
              "        const element = document.querySelector('#df-333e8632-3e5a-4b72-9fe0-d3029ace7b76');\n",
              "        const dataTable =\n",
              "          await google.colab.kernel.invokeFunction('convertToInteractive',\n",
              "                                                    [key], {});\n",
              "        if (!dataTable) return;\n",
              "\n",
              "        const docLinkHtml = 'Like what you see? Visit the ' +\n",
              "          '<a target=\"_blank\" href=https://colab.research.google.com/notebooks/data_table.ipynb>data table notebook</a>'\n",
              "          + ' to learn more about interactive tables.';\n",
              "        element.innerHTML = '';\n",
              "        dataTable['output_type'] = 'display_data';\n",
              "        await google.colab.output.renderOutput(dataTable, element);\n",
              "        const docLink = document.createElement('div');\n",
              "        docLink.innerHTML = docLinkHtml;\n",
              "        element.appendChild(docLink);\n",
              "      }\n",
              "    </script>\n",
              "  </div>\n",
              "\n",
              "\n",
              "<div id=\"df-e3d61a4d-c282-4418-889c-96d13e764192\">\n",
              "  <button class=\"colab-df-quickchart\" onclick=\"quickchart('df-e3d61a4d-c282-4418-889c-96d13e764192')\"\n",
              "            title=\"Suggest charts\"\n",
              "            style=\"display:none;\">\n",
              "\n",
              "<svg xmlns=\"http://www.w3.org/2000/svg\" height=\"24px\"viewBox=\"0 0 24 24\"\n",
              "     width=\"24px\">\n",
              "    <g>\n",
              "        <path d=\"M19 3H5c-1.1 0-2 .9-2 2v14c0 1.1.9 2 2 2h14c1.1 0 2-.9 2-2V5c0-1.1-.9-2-2-2zM9 17H7v-7h2v7zm4 0h-2V7h2v10zm4 0h-2v-4h2v4z\"/>\n",
              "    </g>\n",
              "</svg>\n",
              "  </button>\n",
              "\n",
              "<style>\n",
              "  .colab-df-quickchart {\n",
              "      --bg-color: #E8F0FE;\n",
              "      --fill-color: #1967D2;\n",
              "      --hover-bg-color: #E2EBFA;\n",
              "      --hover-fill-color: #174EA6;\n",
              "      --disabled-fill-color: #AAA;\n",
              "      --disabled-bg-color: #DDD;\n",
              "  }\n",
              "\n",
              "  [theme=dark] .colab-df-quickchart {\n",
              "      --bg-color: #3B4455;\n",
              "      --fill-color: #D2E3FC;\n",
              "      --hover-bg-color: #434B5C;\n",
              "      --hover-fill-color: #FFFFFF;\n",
              "      --disabled-bg-color: #3B4455;\n",
              "      --disabled-fill-color: #666;\n",
              "  }\n",
              "\n",
              "  .colab-df-quickchart {\n",
              "    background-color: var(--bg-color);\n",
              "    border: none;\n",
              "    border-radius: 50%;\n",
              "    cursor: pointer;\n",
              "    display: none;\n",
              "    fill: var(--fill-color);\n",
              "    height: 32px;\n",
              "    padding: 0;\n",
              "    width: 32px;\n",
              "  }\n",
              "\n",
              "  .colab-df-quickchart:hover {\n",
              "    background-color: var(--hover-bg-color);\n",
              "    box-shadow: 0 1px 2px rgba(60, 64, 67, 0.3), 0 1px 3px 1px rgba(60, 64, 67, 0.15);\n",
              "    fill: var(--button-hover-fill-color);\n",
              "  }\n",
              "\n",
              "  .colab-df-quickchart-complete:disabled,\n",
              "  .colab-df-quickchart-complete:disabled:hover {\n",
              "    background-color: var(--disabled-bg-color);\n",
              "    fill: var(--disabled-fill-color);\n",
              "    box-shadow: none;\n",
              "  }\n",
              "\n",
              "  .colab-df-spinner {\n",
              "    border: 2px solid var(--fill-color);\n",
              "    border-color: transparent;\n",
              "    border-bottom-color: var(--fill-color);\n",
              "    animation:\n",
              "      spin 1s steps(1) infinite;\n",
              "  }\n",
              "\n",
              "  @keyframes spin {\n",
              "    0% {\n",
              "      border-color: transparent;\n",
              "      border-bottom-color: var(--fill-color);\n",
              "      border-left-color: var(--fill-color);\n",
              "    }\n",
              "    20% {\n",
              "      border-color: transparent;\n",
              "      border-left-color: var(--fill-color);\n",
              "      border-top-color: var(--fill-color);\n",
              "    }\n",
              "    30% {\n",
              "      border-color: transparent;\n",
              "      border-left-color: var(--fill-color);\n",
              "      border-top-color: var(--fill-color);\n",
              "      border-right-color: var(--fill-color);\n",
              "    }\n",
              "    40% {\n",
              "      border-color: transparent;\n",
              "      border-right-color: var(--fill-color);\n",
              "      border-top-color: var(--fill-color);\n",
              "    }\n",
              "    60% {\n",
              "      border-color: transparent;\n",
              "      border-right-color: var(--fill-color);\n",
              "    }\n",
              "    80% {\n",
              "      border-color: transparent;\n",
              "      border-right-color: var(--fill-color);\n",
              "      border-bottom-color: var(--fill-color);\n",
              "    }\n",
              "    90% {\n",
              "      border-color: transparent;\n",
              "      border-bottom-color: var(--fill-color);\n",
              "    }\n",
              "  }\n",
              "</style>\n",
              "\n",
              "  <script>\n",
              "    async function quickchart(key) {\n",
              "      const quickchartButtonEl =\n",
              "        document.querySelector('#' + key + ' button');\n",
              "      quickchartButtonEl.disabled = true;  // To prevent multiple clicks.\n",
              "      quickchartButtonEl.classList.add('colab-df-spinner');\n",
              "      try {\n",
              "        const charts = await google.colab.kernel.invokeFunction(\n",
              "            'suggestCharts', [key], {});\n",
              "      } catch (error) {\n",
              "        console.error('Error during call to suggestCharts:', error);\n",
              "      }\n",
              "      quickchartButtonEl.classList.remove('colab-df-spinner');\n",
              "      quickchartButtonEl.classList.add('colab-df-quickchart-complete');\n",
              "    }\n",
              "    (() => {\n",
              "      let quickchartButtonEl =\n",
              "        document.querySelector('#df-e3d61a4d-c282-4418-889c-96d13e764192 button');\n",
              "      quickchartButtonEl.style.display =\n",
              "        google.colab.kernel.accessAllowed ? 'block' : 'none';\n",
              "    })();\n",
              "  </script>\n",
              "</div>\n",
              "    </div>\n",
              "  </div>\n"
            ],
            "application/vnd.google.colaboratory.intrinsic+json": {
              "type": "dataframe",
              "variable_name": "data_pivot",
              "summary": "{\n  \"name\": \"data_pivot\",\n  \"rows\": 6,\n  \"fields\": [\n    {\n      \"column\": \"\\u041a\\u043e\\u043b-\\u0432\\u043e \\u0434\\u0435\\u0442\\u0435\\u0439\",\n      \"properties\": {\n        \"dtype\": \"number\",\n        \"std\": 1,\n        \"min\": 0,\n        \"max\": 5,\n        \"num_unique_values\": 6,\n        \"samples\": [\n          0,\n          1,\n          5\n        ],\n        \"semantic_type\": \"\",\n        \"description\": \"\"\n      }\n    },\n    {\n      \"column\": \"\\u041a\\u043e\\u043b-\\u0432\\u043e \\u0437\\u0430\\u0451\\u043c\\u0449\\u0438\\u043a\\u043e\\u0432\",\n      \"properties\": {\n        \"dtype\": \"number\",\n        \"std\": 5480,\n        \"min\": 9,\n        \"max\": 14091,\n        \"num_unique_values\": 6,\n        \"samples\": [\n          14091,\n          4808,\n          9\n        ],\n        \"semantic_type\": \"\",\n        \"description\": \"\"\n      }\n    },\n    {\n      \"column\": \"\\u041a\\u043e\\u043b-\\u0432\\u043e \\u0434\\u043e\\u043b\\u0436\\u043d\\u0438\\u043a\\u043e\\u0432\",\n      \"properties\": {\n        \"dtype\": \"number\",\n        \"std\": 416,\n        \"min\": 0,\n        \"max\": 1063,\n        \"num_unique_values\": 6,\n        \"samples\": [\n          1063,\n          444,\n          0\n        ],\n        \"semantic_type\": \"\",\n        \"description\": \"\"\n      }\n    },\n    {\n      \"column\": \"\\u0414\\u043e\\u043b\\u044f \\u0434\\u043e\\u043b\\u0436\\u043d\\u0438\\u043a\\u043e\\u0432\",\n      \"properties\": {\n        \"dtype\": \"number\",\n        \"std\": 0.037018869703020145,\n        \"min\": 0.0,\n        \"max\": 0.0975609756097561,\n        \"num_unique_values\": 6,\n        \"samples\": [\n          0.07543822297920659,\n          0.09234608985024959,\n          0.0\n        ],\n        \"semantic_type\": \"\",\n        \"description\": \"\"\n      }\n    }\n  ]\n}"
            }
          },
          "metadata": {},
          "execution_count": 24
        }
      ],
      "source": [
        "data_pivot = data.pivot_table(index = ['children'], values = 'debt', aggfunc = ['count', 'sum','mean']) # Создадаим сводную таблицу методом .pivot_table()\n",
        "data_pivot.columns = ['Кол-во заёмщиков','Кол-во должников','Доля должников'] # Переименуем многосоставные столбцы методом .columns['']\n",
        "data_pivot.index.name = 'Кол-во детей' # Переименуем столбец(он находится в индексе) по которому группировали данные, методом .index.name =  ''\n",
        "data_pivot # Вывод таблицы на экран\n"
      ]
    },
    {
      "cell_type": "markdown",
      "id": "925d8193",
      "metadata": {
        "id": "925d8193"
      },
      "source": [
        "- 3.В сводной таблице осуществим арифметические преобразования по столбцу 'Доля должников' и отсортируем таблицу по столбцу Доля должников"
      ]
    },
    {
      "cell_type": "code",
      "execution_count": 25,
      "id": "557774c7",
      "metadata": {
        "colab": {
          "base_uri": "https://localhost:8080/",
          "height": 269
        },
        "id": "557774c7",
        "outputId": "603f098a-1f19-4134-b75b-4b0f56bf347e"
      },
      "outputs": [
        {
          "output_type": "execute_result",
          "data": {
            "text/plain": [
              "              Кол-во заёмщиков  Кол-во должников Доля должников\n",
              "Кол-во детей                                                   \n",
              "5                            9                 0           0.0%\n",
              "0                        14091              1063          7.54%\n",
              "3                          330                27          8.18%\n",
              "1                         4808               444          9.23%\n",
              "2                         2052               194          9.45%\n",
              "4                           41                 4          9.76%"
            ],
            "text/html": [
              "\n",
              "  <div id=\"df-a18ec438-2257-472f-b0b6-e62a9d73df69\" class=\"colab-df-container\">\n",
              "    <div>\n",
              "<style scoped>\n",
              "    .dataframe tbody tr th:only-of-type {\n",
              "        vertical-align: middle;\n",
              "    }\n",
              "\n",
              "    .dataframe tbody tr th {\n",
              "        vertical-align: top;\n",
              "    }\n",
              "\n",
              "    .dataframe thead th {\n",
              "        text-align: right;\n",
              "    }\n",
              "</style>\n",
              "<table border=\"1\" class=\"dataframe\">\n",
              "  <thead>\n",
              "    <tr style=\"text-align: right;\">\n",
              "      <th></th>\n",
              "      <th>Кол-во заёмщиков</th>\n",
              "      <th>Кол-во должников</th>\n",
              "      <th>Доля должников</th>\n",
              "    </tr>\n",
              "    <tr>\n",
              "      <th>Кол-во детей</th>\n",
              "      <th></th>\n",
              "      <th></th>\n",
              "      <th></th>\n",
              "    </tr>\n",
              "  </thead>\n",
              "  <tbody>\n",
              "    <tr>\n",
              "      <th>5</th>\n",
              "      <td>9</td>\n",
              "      <td>0</td>\n",
              "      <td>0.0%</td>\n",
              "    </tr>\n",
              "    <tr>\n",
              "      <th>0</th>\n",
              "      <td>14091</td>\n",
              "      <td>1063</td>\n",
              "      <td>7.54%</td>\n",
              "    </tr>\n",
              "    <tr>\n",
              "      <th>3</th>\n",
              "      <td>330</td>\n",
              "      <td>27</td>\n",
              "      <td>8.18%</td>\n",
              "    </tr>\n",
              "    <tr>\n",
              "      <th>1</th>\n",
              "      <td>4808</td>\n",
              "      <td>444</td>\n",
              "      <td>9.23%</td>\n",
              "    </tr>\n",
              "    <tr>\n",
              "      <th>2</th>\n",
              "      <td>2052</td>\n",
              "      <td>194</td>\n",
              "      <td>9.45%</td>\n",
              "    </tr>\n",
              "    <tr>\n",
              "      <th>4</th>\n",
              "      <td>41</td>\n",
              "      <td>4</td>\n",
              "      <td>9.76%</td>\n",
              "    </tr>\n",
              "  </tbody>\n",
              "</table>\n",
              "</div>\n",
              "    <div class=\"colab-df-buttons\">\n",
              "\n",
              "  <div class=\"colab-df-container\">\n",
              "    <button class=\"colab-df-convert\" onclick=\"convertToInteractive('df-a18ec438-2257-472f-b0b6-e62a9d73df69')\"\n",
              "            title=\"Convert this dataframe to an interactive table.\"\n",
              "            style=\"display:none;\">\n",
              "\n",
              "  <svg xmlns=\"http://www.w3.org/2000/svg\" height=\"24px\" viewBox=\"0 -960 960 960\">\n",
              "    <path d=\"M120-120v-720h720v720H120Zm60-500h600v-160H180v160Zm220 220h160v-160H400v160Zm0 220h160v-160H400v160ZM180-400h160v-160H180v160Zm440 0h160v-160H620v160ZM180-180h160v-160H180v160Zm440 0h160v-160H620v160Z\"/>\n",
              "  </svg>\n",
              "    </button>\n",
              "\n",
              "  <style>\n",
              "    .colab-df-container {\n",
              "      display:flex;\n",
              "      gap: 12px;\n",
              "    }\n",
              "\n",
              "    .colab-df-convert {\n",
              "      background-color: #E8F0FE;\n",
              "      border: none;\n",
              "      border-radius: 50%;\n",
              "      cursor: pointer;\n",
              "      display: none;\n",
              "      fill: #1967D2;\n",
              "      height: 32px;\n",
              "      padding: 0 0 0 0;\n",
              "      width: 32px;\n",
              "    }\n",
              "\n",
              "    .colab-df-convert:hover {\n",
              "      background-color: #E2EBFA;\n",
              "      box-shadow: 0px 1px 2px rgba(60, 64, 67, 0.3), 0px 1px 3px 1px rgba(60, 64, 67, 0.15);\n",
              "      fill: #174EA6;\n",
              "    }\n",
              "\n",
              "    .colab-df-buttons div {\n",
              "      margin-bottom: 4px;\n",
              "    }\n",
              "\n",
              "    [theme=dark] .colab-df-convert {\n",
              "      background-color: #3B4455;\n",
              "      fill: #D2E3FC;\n",
              "    }\n",
              "\n",
              "    [theme=dark] .colab-df-convert:hover {\n",
              "      background-color: #434B5C;\n",
              "      box-shadow: 0px 1px 3px 1px rgba(0, 0, 0, 0.15);\n",
              "      filter: drop-shadow(0px 1px 2px rgba(0, 0, 0, 0.3));\n",
              "      fill: #FFFFFF;\n",
              "    }\n",
              "  </style>\n",
              "\n",
              "    <script>\n",
              "      const buttonEl =\n",
              "        document.querySelector('#df-a18ec438-2257-472f-b0b6-e62a9d73df69 button.colab-df-convert');\n",
              "      buttonEl.style.display =\n",
              "        google.colab.kernel.accessAllowed ? 'block' : 'none';\n",
              "\n",
              "      async function convertToInteractive(key) {\n",
              "        const element = document.querySelector('#df-a18ec438-2257-472f-b0b6-e62a9d73df69');\n",
              "        const dataTable =\n",
              "          await google.colab.kernel.invokeFunction('convertToInteractive',\n",
              "                                                    [key], {});\n",
              "        if (!dataTable) return;\n",
              "\n",
              "        const docLinkHtml = 'Like what you see? Visit the ' +\n",
              "          '<a target=\"_blank\" href=https://colab.research.google.com/notebooks/data_table.ipynb>data table notebook</a>'\n",
              "          + ' to learn more about interactive tables.';\n",
              "        element.innerHTML = '';\n",
              "        dataTable['output_type'] = 'display_data';\n",
              "        await google.colab.output.renderOutput(dataTable, element);\n",
              "        const docLink = document.createElement('div');\n",
              "        docLink.innerHTML = docLinkHtml;\n",
              "        element.appendChild(docLink);\n",
              "      }\n",
              "    </script>\n",
              "  </div>\n",
              "\n",
              "\n",
              "<div id=\"df-ba65215c-2ff9-4e7a-8576-6d56f25f7729\">\n",
              "  <button class=\"colab-df-quickchart\" onclick=\"quickchart('df-ba65215c-2ff9-4e7a-8576-6d56f25f7729')\"\n",
              "            title=\"Suggest charts\"\n",
              "            style=\"display:none;\">\n",
              "\n",
              "<svg xmlns=\"http://www.w3.org/2000/svg\" height=\"24px\"viewBox=\"0 0 24 24\"\n",
              "     width=\"24px\">\n",
              "    <g>\n",
              "        <path d=\"M19 3H5c-1.1 0-2 .9-2 2v14c0 1.1.9 2 2 2h14c1.1 0 2-.9 2-2V5c0-1.1-.9-2-2-2zM9 17H7v-7h2v7zm4 0h-2V7h2v10zm4 0h-2v-4h2v4z\"/>\n",
              "    </g>\n",
              "</svg>\n",
              "  </button>\n",
              "\n",
              "<style>\n",
              "  .colab-df-quickchart {\n",
              "      --bg-color: #E8F0FE;\n",
              "      --fill-color: #1967D2;\n",
              "      --hover-bg-color: #E2EBFA;\n",
              "      --hover-fill-color: #174EA6;\n",
              "      --disabled-fill-color: #AAA;\n",
              "      --disabled-bg-color: #DDD;\n",
              "  }\n",
              "\n",
              "  [theme=dark] .colab-df-quickchart {\n",
              "      --bg-color: #3B4455;\n",
              "      --fill-color: #D2E3FC;\n",
              "      --hover-bg-color: #434B5C;\n",
              "      --hover-fill-color: #FFFFFF;\n",
              "      --disabled-bg-color: #3B4455;\n",
              "      --disabled-fill-color: #666;\n",
              "  }\n",
              "\n",
              "  .colab-df-quickchart {\n",
              "    background-color: var(--bg-color);\n",
              "    border: none;\n",
              "    border-radius: 50%;\n",
              "    cursor: pointer;\n",
              "    display: none;\n",
              "    fill: var(--fill-color);\n",
              "    height: 32px;\n",
              "    padding: 0;\n",
              "    width: 32px;\n",
              "  }\n",
              "\n",
              "  .colab-df-quickchart:hover {\n",
              "    background-color: var(--hover-bg-color);\n",
              "    box-shadow: 0 1px 2px rgba(60, 64, 67, 0.3), 0 1px 3px 1px rgba(60, 64, 67, 0.15);\n",
              "    fill: var(--button-hover-fill-color);\n",
              "  }\n",
              "\n",
              "  .colab-df-quickchart-complete:disabled,\n",
              "  .colab-df-quickchart-complete:disabled:hover {\n",
              "    background-color: var(--disabled-bg-color);\n",
              "    fill: var(--disabled-fill-color);\n",
              "    box-shadow: none;\n",
              "  }\n",
              "\n",
              "  .colab-df-spinner {\n",
              "    border: 2px solid var(--fill-color);\n",
              "    border-color: transparent;\n",
              "    border-bottom-color: var(--fill-color);\n",
              "    animation:\n",
              "      spin 1s steps(1) infinite;\n",
              "  }\n",
              "\n",
              "  @keyframes spin {\n",
              "    0% {\n",
              "      border-color: transparent;\n",
              "      border-bottom-color: var(--fill-color);\n",
              "      border-left-color: var(--fill-color);\n",
              "    }\n",
              "    20% {\n",
              "      border-color: transparent;\n",
              "      border-left-color: var(--fill-color);\n",
              "      border-top-color: var(--fill-color);\n",
              "    }\n",
              "    30% {\n",
              "      border-color: transparent;\n",
              "      border-left-color: var(--fill-color);\n",
              "      border-top-color: var(--fill-color);\n",
              "      border-right-color: var(--fill-color);\n",
              "    }\n",
              "    40% {\n",
              "      border-color: transparent;\n",
              "      border-right-color: var(--fill-color);\n",
              "      border-top-color: var(--fill-color);\n",
              "    }\n",
              "    60% {\n",
              "      border-color: transparent;\n",
              "      border-right-color: var(--fill-color);\n",
              "    }\n",
              "    80% {\n",
              "      border-color: transparent;\n",
              "      border-right-color: var(--fill-color);\n",
              "      border-bottom-color: var(--fill-color);\n",
              "    }\n",
              "    90% {\n",
              "      border-color: transparent;\n",
              "      border-bottom-color: var(--fill-color);\n",
              "    }\n",
              "  }\n",
              "</style>\n",
              "\n",
              "  <script>\n",
              "    async function quickchart(key) {\n",
              "      const quickchartButtonEl =\n",
              "        document.querySelector('#' + key + ' button');\n",
              "      quickchartButtonEl.disabled = true;  // To prevent multiple clicks.\n",
              "      quickchartButtonEl.classList.add('colab-df-spinner');\n",
              "      try {\n",
              "        const charts = await google.colab.kernel.invokeFunction(\n",
              "            'suggestCharts', [key], {});\n",
              "      } catch (error) {\n",
              "        console.error('Error during call to suggestCharts:', error);\n",
              "      }\n",
              "      quickchartButtonEl.classList.remove('colab-df-spinner');\n",
              "      quickchartButtonEl.classList.add('colab-df-quickchart-complete');\n",
              "    }\n",
              "    (() => {\n",
              "      let quickchartButtonEl =\n",
              "        document.querySelector('#df-ba65215c-2ff9-4e7a-8576-6d56f25f7729 button');\n",
              "      quickchartButtonEl.style.display =\n",
              "        google.colab.kernel.accessAllowed ? 'block' : 'none';\n",
              "    })();\n",
              "  </script>\n",
              "</div>\n",
              "    </div>\n",
              "  </div>\n"
            ],
            "application/vnd.google.colaboratory.intrinsic+json": {
              "type": "dataframe",
              "variable_name": "data_pivot",
              "summary": "{\n  \"name\": \"data_pivot\",\n  \"rows\": 6,\n  \"fields\": [\n    {\n      \"column\": \"\\u041a\\u043e\\u043b-\\u0432\\u043e \\u0434\\u0435\\u0442\\u0435\\u0439\",\n      \"properties\": {\n        \"dtype\": \"number\",\n        \"std\": 1,\n        \"min\": 0,\n        \"max\": 5,\n        \"num_unique_values\": 6,\n        \"samples\": [\n          5,\n          0,\n          4\n        ],\n        \"semantic_type\": \"\",\n        \"description\": \"\"\n      }\n    },\n    {\n      \"column\": \"\\u041a\\u043e\\u043b-\\u0432\\u043e \\u0437\\u0430\\u0451\\u043c\\u0449\\u0438\\u043a\\u043e\\u0432\",\n      \"properties\": {\n        \"dtype\": \"number\",\n        \"std\": 5480,\n        \"min\": 9,\n        \"max\": 14091,\n        \"num_unique_values\": 6,\n        \"samples\": [\n          9,\n          14091,\n          41\n        ],\n        \"semantic_type\": \"\",\n        \"description\": \"\"\n      }\n    },\n    {\n      \"column\": \"\\u041a\\u043e\\u043b-\\u0432\\u043e \\u0434\\u043e\\u043b\\u0436\\u043d\\u0438\\u043a\\u043e\\u0432\",\n      \"properties\": {\n        \"dtype\": \"number\",\n        \"std\": 416,\n        \"min\": 0,\n        \"max\": 1063,\n        \"num_unique_values\": 6,\n        \"samples\": [\n          0,\n          1063,\n          4\n        ],\n        \"semantic_type\": \"\",\n        \"description\": \"\"\n      }\n    },\n    {\n      \"column\": \"\\u0414\\u043e\\u043b\\u044f \\u0434\\u043e\\u043b\\u0436\\u043d\\u0438\\u043a\\u043e\\u0432\",\n      \"properties\": {\n        \"dtype\": \"string\",\n        \"num_unique_values\": 6,\n        \"samples\": [\n          \"0.0%\",\n          \"7.54%\",\n          \"9.76%\"\n        ],\n        \"semantic_type\": \"\",\n        \"description\": \"\"\n      }\n    }\n  ]\n}"
            }
          },
          "metadata": {},
          "execution_count": 25
        }
      ],
      "source": [
        "data_pivot['Доля должников'] = (data_pivot['Доля должников'] *100).round(2).astype('str') # Переведём столбец в значения % в десятичную дробь с остатком до сотых 1. Для этого ужножем Series на 100 2.Методом .round() округлим значения Series до сотых 3.Изменим тип данных с float на str методом astype().\n",
        "data_pivot['Доля должников']= data_pivot['Доля должников'] + '%' # Добавим %\n",
        "data_pivot = data_pivot.sort_values(by = 'Доля должников') # Применим метод sort_values() для сортировки столбца 'Доля должников'\n",
        "data_pivot # Выведем таблицу на экран"
      ]
    },
    {
      "cell_type": "markdown",
      "id": "2eb9088e",
      "metadata": {
        "deletable": false,
        "id": "2eb9088e"
      },
      "source": [
        " **Вывод**:  \n",
        "\n",
        " Благодаря нахождению процентного соотношения доли должников по категориям кол-ва детей, мы можем сделать следующие выводы:\n",
        "- 1. Заемщик `не имеющий детей` самый ответственный и платёжеспособный, вероятность просрочки кредита 7.5 % по данной категории заёмщика.\n",
        "- 2. Хуже обстоит дело с должниками, кто имеет `одного или двух детей`, здесь доля невозврата составляет соответственно 9,2% и 9,4%   \n"
      ]
    },
    {
      "cell_type": "markdown",
      "id": "74c9b3a7",
      "metadata": {
        "deletable": false,
        "editable": false,
        "id": "74c9b3a7"
      },
      "source": [
        "#### Есть ли зависимость между семейным положением и возвратом кредита в срок?"
      ]
    },
    {
      "cell_type": "markdown",
      "id": "263fa950",
      "metadata": {
        "id": "263fa950"
      },
      "source": [
        "Для начала обобщим данные DataFrame data в виде сводной таблицы, используя методы: groupby() и agg()\n",
        "- 1.Найдём общую численность заёмщиков по\n",
        "категориям семейного положения.\n",
        "- 2.Найдём кол-во должников по категориям семейного положения."
      ]
    },
    {
      "cell_type": "code",
      "execution_count": 26,
      "id": "8098ab3b",
      "metadata": {
        "deletable": false,
        "id": "8098ab3b",
        "colab": {
          "base_uri": "https://localhost:8080/",
          "height": 237
        },
        "outputId": "7968844a-f690-4163-bf5f-45aa2c94a4dd"
      },
      "outputs": [
        {
          "output_type": "execute_result",
          "data": {
            "text/plain": [
              "                       Кол-во заёмщиков  Кол-во должников\n",
              "Семейное положение                                       \n",
              "Не женат / не замужем              2796               273\n",
              "в разводе                          1189                84\n",
              "вдовец / вдова                      951                63\n",
              "гражданский брак                   4134               385\n",
              "женат / замужем                   12261               927"
            ],
            "text/html": [
              "\n",
              "  <div id=\"df-2f8932a7-9238-4e84-96b8-50d781db41be\" class=\"colab-df-container\">\n",
              "    <div>\n",
              "<style scoped>\n",
              "    .dataframe tbody tr th:only-of-type {\n",
              "        vertical-align: middle;\n",
              "    }\n",
              "\n",
              "    .dataframe tbody tr th {\n",
              "        vertical-align: top;\n",
              "    }\n",
              "\n",
              "    .dataframe thead th {\n",
              "        text-align: right;\n",
              "    }\n",
              "</style>\n",
              "<table border=\"1\" class=\"dataframe\">\n",
              "  <thead>\n",
              "    <tr style=\"text-align: right;\">\n",
              "      <th></th>\n",
              "      <th>Кол-во заёмщиков</th>\n",
              "      <th>Кол-во должников</th>\n",
              "    </tr>\n",
              "    <tr>\n",
              "      <th>Семейное положение</th>\n",
              "      <th></th>\n",
              "      <th></th>\n",
              "    </tr>\n",
              "  </thead>\n",
              "  <tbody>\n",
              "    <tr>\n",
              "      <th>Не женат / не замужем</th>\n",
              "      <td>2796</td>\n",
              "      <td>273</td>\n",
              "    </tr>\n",
              "    <tr>\n",
              "      <th>в разводе</th>\n",
              "      <td>1189</td>\n",
              "      <td>84</td>\n",
              "    </tr>\n",
              "    <tr>\n",
              "      <th>вдовец / вдова</th>\n",
              "      <td>951</td>\n",
              "      <td>63</td>\n",
              "    </tr>\n",
              "    <tr>\n",
              "      <th>гражданский брак</th>\n",
              "      <td>4134</td>\n",
              "      <td>385</td>\n",
              "    </tr>\n",
              "    <tr>\n",
              "      <th>женат / замужем</th>\n",
              "      <td>12261</td>\n",
              "      <td>927</td>\n",
              "    </tr>\n",
              "  </tbody>\n",
              "</table>\n",
              "</div>\n",
              "    <div class=\"colab-df-buttons\">\n",
              "\n",
              "  <div class=\"colab-df-container\">\n",
              "    <button class=\"colab-df-convert\" onclick=\"convertToInteractive('df-2f8932a7-9238-4e84-96b8-50d781db41be')\"\n",
              "            title=\"Convert this dataframe to an interactive table.\"\n",
              "            style=\"display:none;\">\n",
              "\n",
              "  <svg xmlns=\"http://www.w3.org/2000/svg\" height=\"24px\" viewBox=\"0 -960 960 960\">\n",
              "    <path d=\"M120-120v-720h720v720H120Zm60-500h600v-160H180v160Zm220 220h160v-160H400v160Zm0 220h160v-160H400v160ZM180-400h160v-160H180v160Zm440 0h160v-160H620v160ZM180-180h160v-160H180v160Zm440 0h160v-160H620v160Z\"/>\n",
              "  </svg>\n",
              "    </button>\n",
              "\n",
              "  <style>\n",
              "    .colab-df-container {\n",
              "      display:flex;\n",
              "      gap: 12px;\n",
              "    }\n",
              "\n",
              "    .colab-df-convert {\n",
              "      background-color: #E8F0FE;\n",
              "      border: none;\n",
              "      border-radius: 50%;\n",
              "      cursor: pointer;\n",
              "      display: none;\n",
              "      fill: #1967D2;\n",
              "      height: 32px;\n",
              "      padding: 0 0 0 0;\n",
              "      width: 32px;\n",
              "    }\n",
              "\n",
              "    .colab-df-convert:hover {\n",
              "      background-color: #E2EBFA;\n",
              "      box-shadow: 0px 1px 2px rgba(60, 64, 67, 0.3), 0px 1px 3px 1px rgba(60, 64, 67, 0.15);\n",
              "      fill: #174EA6;\n",
              "    }\n",
              "\n",
              "    .colab-df-buttons div {\n",
              "      margin-bottom: 4px;\n",
              "    }\n",
              "\n",
              "    [theme=dark] .colab-df-convert {\n",
              "      background-color: #3B4455;\n",
              "      fill: #D2E3FC;\n",
              "    }\n",
              "\n",
              "    [theme=dark] .colab-df-convert:hover {\n",
              "      background-color: #434B5C;\n",
              "      box-shadow: 0px 1px 3px 1px rgba(0, 0, 0, 0.15);\n",
              "      filter: drop-shadow(0px 1px 2px rgba(0, 0, 0, 0.3));\n",
              "      fill: #FFFFFF;\n",
              "    }\n",
              "  </style>\n",
              "\n",
              "    <script>\n",
              "      const buttonEl =\n",
              "        document.querySelector('#df-2f8932a7-9238-4e84-96b8-50d781db41be button.colab-df-convert');\n",
              "      buttonEl.style.display =\n",
              "        google.colab.kernel.accessAllowed ? 'block' : 'none';\n",
              "\n",
              "      async function convertToInteractive(key) {\n",
              "        const element = document.querySelector('#df-2f8932a7-9238-4e84-96b8-50d781db41be');\n",
              "        const dataTable =\n",
              "          await google.colab.kernel.invokeFunction('convertToInteractive',\n",
              "                                                    [key], {});\n",
              "        if (!dataTable) return;\n",
              "\n",
              "        const docLinkHtml = 'Like what you see? Visit the ' +\n",
              "          '<a target=\"_blank\" href=https://colab.research.google.com/notebooks/data_table.ipynb>data table notebook</a>'\n",
              "          + ' to learn more about interactive tables.';\n",
              "        element.innerHTML = '';\n",
              "        dataTable['output_type'] = 'display_data';\n",
              "        await google.colab.output.renderOutput(dataTable, element);\n",
              "        const docLink = document.createElement('div');\n",
              "        docLink.innerHTML = docLinkHtml;\n",
              "        element.appendChild(docLink);\n",
              "      }\n",
              "    </script>\n",
              "  </div>\n",
              "\n",
              "\n",
              "<div id=\"df-b6f1082f-58d4-416c-a3ef-43d722907ceb\">\n",
              "  <button class=\"colab-df-quickchart\" onclick=\"quickchart('df-b6f1082f-58d4-416c-a3ef-43d722907ceb')\"\n",
              "            title=\"Suggest charts\"\n",
              "            style=\"display:none;\">\n",
              "\n",
              "<svg xmlns=\"http://www.w3.org/2000/svg\" height=\"24px\"viewBox=\"0 0 24 24\"\n",
              "     width=\"24px\">\n",
              "    <g>\n",
              "        <path d=\"M19 3H5c-1.1 0-2 .9-2 2v14c0 1.1.9 2 2 2h14c1.1 0 2-.9 2-2V5c0-1.1-.9-2-2-2zM9 17H7v-7h2v7zm4 0h-2V7h2v10zm4 0h-2v-4h2v4z\"/>\n",
              "    </g>\n",
              "</svg>\n",
              "  </button>\n",
              "\n",
              "<style>\n",
              "  .colab-df-quickchart {\n",
              "      --bg-color: #E8F0FE;\n",
              "      --fill-color: #1967D2;\n",
              "      --hover-bg-color: #E2EBFA;\n",
              "      --hover-fill-color: #174EA6;\n",
              "      --disabled-fill-color: #AAA;\n",
              "      --disabled-bg-color: #DDD;\n",
              "  }\n",
              "\n",
              "  [theme=dark] .colab-df-quickchart {\n",
              "      --bg-color: #3B4455;\n",
              "      --fill-color: #D2E3FC;\n",
              "      --hover-bg-color: #434B5C;\n",
              "      --hover-fill-color: #FFFFFF;\n",
              "      --disabled-bg-color: #3B4455;\n",
              "      --disabled-fill-color: #666;\n",
              "  }\n",
              "\n",
              "  .colab-df-quickchart {\n",
              "    background-color: var(--bg-color);\n",
              "    border: none;\n",
              "    border-radius: 50%;\n",
              "    cursor: pointer;\n",
              "    display: none;\n",
              "    fill: var(--fill-color);\n",
              "    height: 32px;\n",
              "    padding: 0;\n",
              "    width: 32px;\n",
              "  }\n",
              "\n",
              "  .colab-df-quickchart:hover {\n",
              "    background-color: var(--hover-bg-color);\n",
              "    box-shadow: 0 1px 2px rgba(60, 64, 67, 0.3), 0 1px 3px 1px rgba(60, 64, 67, 0.15);\n",
              "    fill: var(--button-hover-fill-color);\n",
              "  }\n",
              "\n",
              "  .colab-df-quickchart-complete:disabled,\n",
              "  .colab-df-quickchart-complete:disabled:hover {\n",
              "    background-color: var(--disabled-bg-color);\n",
              "    fill: var(--disabled-fill-color);\n",
              "    box-shadow: none;\n",
              "  }\n",
              "\n",
              "  .colab-df-spinner {\n",
              "    border: 2px solid var(--fill-color);\n",
              "    border-color: transparent;\n",
              "    border-bottom-color: var(--fill-color);\n",
              "    animation:\n",
              "      spin 1s steps(1) infinite;\n",
              "  }\n",
              "\n",
              "  @keyframes spin {\n",
              "    0% {\n",
              "      border-color: transparent;\n",
              "      border-bottom-color: var(--fill-color);\n",
              "      border-left-color: var(--fill-color);\n",
              "    }\n",
              "    20% {\n",
              "      border-color: transparent;\n",
              "      border-left-color: var(--fill-color);\n",
              "      border-top-color: var(--fill-color);\n",
              "    }\n",
              "    30% {\n",
              "      border-color: transparent;\n",
              "      border-left-color: var(--fill-color);\n",
              "      border-top-color: var(--fill-color);\n",
              "      border-right-color: var(--fill-color);\n",
              "    }\n",
              "    40% {\n",
              "      border-color: transparent;\n",
              "      border-right-color: var(--fill-color);\n",
              "      border-top-color: var(--fill-color);\n",
              "    }\n",
              "    60% {\n",
              "      border-color: transparent;\n",
              "      border-right-color: var(--fill-color);\n",
              "    }\n",
              "    80% {\n",
              "      border-color: transparent;\n",
              "      border-right-color: var(--fill-color);\n",
              "      border-bottom-color: var(--fill-color);\n",
              "    }\n",
              "    90% {\n",
              "      border-color: transparent;\n",
              "      border-bottom-color: var(--fill-color);\n",
              "    }\n",
              "  }\n",
              "</style>\n",
              "\n",
              "  <script>\n",
              "    async function quickchart(key) {\n",
              "      const quickchartButtonEl =\n",
              "        document.querySelector('#' + key + ' button');\n",
              "      quickchartButtonEl.disabled = true;  // To prevent multiple clicks.\n",
              "      quickchartButtonEl.classList.add('colab-df-spinner');\n",
              "      try {\n",
              "        const charts = await google.colab.kernel.invokeFunction(\n",
              "            'suggestCharts', [key], {});\n",
              "      } catch (error) {\n",
              "        console.error('Error during call to suggestCharts:', error);\n",
              "      }\n",
              "      quickchartButtonEl.classList.remove('colab-df-spinner');\n",
              "      quickchartButtonEl.classList.add('colab-df-quickchart-complete');\n",
              "    }\n",
              "    (() => {\n",
              "      let quickchartButtonEl =\n",
              "        document.querySelector('#df-b6f1082f-58d4-416c-a3ef-43d722907ceb button');\n",
              "      quickchartButtonEl.style.display =\n",
              "        google.colab.kernel.accessAllowed ? 'block' : 'none';\n",
              "    })();\n",
              "  </script>\n",
              "</div>\n",
              "    </div>\n",
              "  </div>\n"
            ],
            "application/vnd.google.colaboratory.intrinsic+json": {
              "type": "dataframe",
              "variable_name": "groupby_data",
              "summary": "{\n  \"name\": \"groupby_data\",\n  \"rows\": 5,\n  \"fields\": [\n    {\n      \"column\": \"\\u0421\\u0435\\u043c\\u0435\\u0439\\u043d\\u043e\\u0435 \\u043f\\u043e\\u043b\\u043e\\u0436\\u0435\\u043d\\u0438\\u0435\",\n      \"properties\": {\n        \"dtype\": \"string\",\n        \"num_unique_values\": 5,\n        \"samples\": [\n          \"\\u0432 \\u0440\\u0430\\u0437\\u0432\\u043e\\u0434\\u0435\",\n          \"\\u0436\\u0435\\u043d\\u0430\\u0442 / \\u0437\\u0430\\u043c\\u0443\\u0436\\u0435\\u043c\",\n          \"\\u0432\\u0434\\u043e\\u0432\\u0435\\u0446 / \\u0432\\u0434\\u043e\\u0432\\u0430\"\n        ],\n        \"semantic_type\": \"\",\n        \"description\": \"\"\n      }\n    },\n    {\n      \"column\": \"\\u041a\\u043e\\u043b-\\u0432\\u043e \\u0437\\u0430\\u0451\\u043c\\u0449\\u0438\\u043a\\u043e\\u0432\",\n      \"properties\": {\n        \"dtype\": \"number\",\n        \"std\": 4651,\n        \"min\": 951,\n        \"max\": 12261,\n        \"num_unique_values\": 5,\n        \"samples\": [\n          1189,\n          12261,\n          951\n        ],\n        \"semantic_type\": \"\",\n        \"description\": \"\"\n      }\n    },\n    {\n      \"column\": \"\\u041a\\u043e\\u043b-\\u0432\\u043e \\u0434\\u043e\\u043b\\u0436\\u043d\\u0438\\u043a\\u043e\\u0432\",\n      \"properties\": {\n        \"dtype\": \"number\",\n        \"std\": 351,\n        \"min\": 63,\n        \"max\": 927,\n        \"num_unique_values\": 5,\n        \"samples\": [\n          84,\n          927,\n          63\n        ],\n        \"semantic_type\": \"\",\n        \"description\": \"\"\n      }\n    }\n  ]\n}"
            }
          },
          "metadata": {},
          "execution_count": 26
        }
      ],
      "source": [
        "groupby_data = data.groupby('family_status').agg({'debt':['count','sum']})  # Создадаим сводную таблицу методом .groupby() и .agg()\n",
        "groupby_data.columns = ['Кол-во заёмщиков','Кол-во должников']  # Переименуем многосоставные столбцы методом .columns['']\n",
        "groupby_data.index.name = 'Семейное положение' # Переименуем столбец(он находится в индексе) по которому группировали данные методом .index.name =  ''\n",
        "groupby_data # Вывод таблицы на экран"
      ]
    },
    {
      "cell_type": "markdown",
      "id": "92914ac9",
      "metadata": {
        "id": "92914ac9"
      },
      "source": [
        "- 3.В сводной таблице создадим столбец 'Доля должников' для нахождения отношения численности должников к общей численности заёмщиков по категориям семейного положения."
      ]
    },
    {
      "cell_type": "code",
      "execution_count": 27,
      "id": "c9ec8b93",
      "metadata": {
        "colab": {
          "base_uri": "https://localhost:8080/",
          "height": 237
        },
        "id": "c9ec8b93",
        "outputId": "f9c40709-5953-4863-d4cb-c1a25c8d8017"
      },
      "outputs": [
        {
          "output_type": "execute_result",
          "data": {
            "text/plain": [
              "                       Кол-во заёмщиков  Кол-во должников Доля должников\n",
              "Семейное положение                                                      \n",
              "вдовец / вдова                      951                63          6.62%\n",
              "в разводе                          1189                84          7.06%\n",
              "женат / замужем                   12261               927          7.56%\n",
              "гражданский брак                   4134               385          9.31%\n",
              "Не женат / не замужем              2796               273          9.76%"
            ],
            "text/html": [
              "\n",
              "  <div id=\"df-dfe40b5e-dc59-49c7-81e2-820a0e54ac70\" class=\"colab-df-container\">\n",
              "    <div>\n",
              "<style scoped>\n",
              "    .dataframe tbody tr th:only-of-type {\n",
              "        vertical-align: middle;\n",
              "    }\n",
              "\n",
              "    .dataframe tbody tr th {\n",
              "        vertical-align: top;\n",
              "    }\n",
              "\n",
              "    .dataframe thead th {\n",
              "        text-align: right;\n",
              "    }\n",
              "</style>\n",
              "<table border=\"1\" class=\"dataframe\">\n",
              "  <thead>\n",
              "    <tr style=\"text-align: right;\">\n",
              "      <th></th>\n",
              "      <th>Кол-во заёмщиков</th>\n",
              "      <th>Кол-во должников</th>\n",
              "      <th>Доля должников</th>\n",
              "    </tr>\n",
              "    <tr>\n",
              "      <th>Семейное положение</th>\n",
              "      <th></th>\n",
              "      <th></th>\n",
              "      <th></th>\n",
              "    </tr>\n",
              "  </thead>\n",
              "  <tbody>\n",
              "    <tr>\n",
              "      <th>вдовец / вдова</th>\n",
              "      <td>951</td>\n",
              "      <td>63</td>\n",
              "      <td>6.62%</td>\n",
              "    </tr>\n",
              "    <tr>\n",
              "      <th>в разводе</th>\n",
              "      <td>1189</td>\n",
              "      <td>84</td>\n",
              "      <td>7.06%</td>\n",
              "    </tr>\n",
              "    <tr>\n",
              "      <th>женат / замужем</th>\n",
              "      <td>12261</td>\n",
              "      <td>927</td>\n",
              "      <td>7.56%</td>\n",
              "    </tr>\n",
              "    <tr>\n",
              "      <th>гражданский брак</th>\n",
              "      <td>4134</td>\n",
              "      <td>385</td>\n",
              "      <td>9.31%</td>\n",
              "    </tr>\n",
              "    <tr>\n",
              "      <th>Не женат / не замужем</th>\n",
              "      <td>2796</td>\n",
              "      <td>273</td>\n",
              "      <td>9.76%</td>\n",
              "    </tr>\n",
              "  </tbody>\n",
              "</table>\n",
              "</div>\n",
              "    <div class=\"colab-df-buttons\">\n",
              "\n",
              "  <div class=\"colab-df-container\">\n",
              "    <button class=\"colab-df-convert\" onclick=\"convertToInteractive('df-dfe40b5e-dc59-49c7-81e2-820a0e54ac70')\"\n",
              "            title=\"Convert this dataframe to an interactive table.\"\n",
              "            style=\"display:none;\">\n",
              "\n",
              "  <svg xmlns=\"http://www.w3.org/2000/svg\" height=\"24px\" viewBox=\"0 -960 960 960\">\n",
              "    <path d=\"M120-120v-720h720v720H120Zm60-500h600v-160H180v160Zm220 220h160v-160H400v160Zm0 220h160v-160H400v160ZM180-400h160v-160H180v160Zm440 0h160v-160H620v160ZM180-180h160v-160H180v160Zm440 0h160v-160H620v160Z\"/>\n",
              "  </svg>\n",
              "    </button>\n",
              "\n",
              "  <style>\n",
              "    .colab-df-container {\n",
              "      display:flex;\n",
              "      gap: 12px;\n",
              "    }\n",
              "\n",
              "    .colab-df-convert {\n",
              "      background-color: #E8F0FE;\n",
              "      border: none;\n",
              "      border-radius: 50%;\n",
              "      cursor: pointer;\n",
              "      display: none;\n",
              "      fill: #1967D2;\n",
              "      height: 32px;\n",
              "      padding: 0 0 0 0;\n",
              "      width: 32px;\n",
              "    }\n",
              "\n",
              "    .colab-df-convert:hover {\n",
              "      background-color: #E2EBFA;\n",
              "      box-shadow: 0px 1px 2px rgba(60, 64, 67, 0.3), 0px 1px 3px 1px rgba(60, 64, 67, 0.15);\n",
              "      fill: #174EA6;\n",
              "    }\n",
              "\n",
              "    .colab-df-buttons div {\n",
              "      margin-bottom: 4px;\n",
              "    }\n",
              "\n",
              "    [theme=dark] .colab-df-convert {\n",
              "      background-color: #3B4455;\n",
              "      fill: #D2E3FC;\n",
              "    }\n",
              "\n",
              "    [theme=dark] .colab-df-convert:hover {\n",
              "      background-color: #434B5C;\n",
              "      box-shadow: 0px 1px 3px 1px rgba(0, 0, 0, 0.15);\n",
              "      filter: drop-shadow(0px 1px 2px rgba(0, 0, 0, 0.3));\n",
              "      fill: #FFFFFF;\n",
              "    }\n",
              "  </style>\n",
              "\n",
              "    <script>\n",
              "      const buttonEl =\n",
              "        document.querySelector('#df-dfe40b5e-dc59-49c7-81e2-820a0e54ac70 button.colab-df-convert');\n",
              "      buttonEl.style.display =\n",
              "        google.colab.kernel.accessAllowed ? 'block' : 'none';\n",
              "\n",
              "      async function convertToInteractive(key) {\n",
              "        const element = document.querySelector('#df-dfe40b5e-dc59-49c7-81e2-820a0e54ac70');\n",
              "        const dataTable =\n",
              "          await google.colab.kernel.invokeFunction('convertToInteractive',\n",
              "                                                    [key], {});\n",
              "        if (!dataTable) return;\n",
              "\n",
              "        const docLinkHtml = 'Like what you see? Visit the ' +\n",
              "          '<a target=\"_blank\" href=https://colab.research.google.com/notebooks/data_table.ipynb>data table notebook</a>'\n",
              "          + ' to learn more about interactive tables.';\n",
              "        element.innerHTML = '';\n",
              "        dataTable['output_type'] = 'display_data';\n",
              "        await google.colab.output.renderOutput(dataTable, element);\n",
              "        const docLink = document.createElement('div');\n",
              "        docLink.innerHTML = docLinkHtml;\n",
              "        element.appendChild(docLink);\n",
              "      }\n",
              "    </script>\n",
              "  </div>\n",
              "\n",
              "\n",
              "<div id=\"df-f2e60192-1ebd-4303-8436-0895683fb914\">\n",
              "  <button class=\"colab-df-quickchart\" onclick=\"quickchart('df-f2e60192-1ebd-4303-8436-0895683fb914')\"\n",
              "            title=\"Suggest charts\"\n",
              "            style=\"display:none;\">\n",
              "\n",
              "<svg xmlns=\"http://www.w3.org/2000/svg\" height=\"24px\"viewBox=\"0 0 24 24\"\n",
              "     width=\"24px\">\n",
              "    <g>\n",
              "        <path d=\"M19 3H5c-1.1 0-2 .9-2 2v14c0 1.1.9 2 2 2h14c1.1 0 2-.9 2-2V5c0-1.1-.9-2-2-2zM9 17H7v-7h2v7zm4 0h-2V7h2v10zm4 0h-2v-4h2v4z\"/>\n",
              "    </g>\n",
              "</svg>\n",
              "  </button>\n",
              "\n",
              "<style>\n",
              "  .colab-df-quickchart {\n",
              "      --bg-color: #E8F0FE;\n",
              "      --fill-color: #1967D2;\n",
              "      --hover-bg-color: #E2EBFA;\n",
              "      --hover-fill-color: #174EA6;\n",
              "      --disabled-fill-color: #AAA;\n",
              "      --disabled-bg-color: #DDD;\n",
              "  }\n",
              "\n",
              "  [theme=dark] .colab-df-quickchart {\n",
              "      --bg-color: #3B4455;\n",
              "      --fill-color: #D2E3FC;\n",
              "      --hover-bg-color: #434B5C;\n",
              "      --hover-fill-color: #FFFFFF;\n",
              "      --disabled-bg-color: #3B4455;\n",
              "      --disabled-fill-color: #666;\n",
              "  }\n",
              "\n",
              "  .colab-df-quickchart {\n",
              "    background-color: var(--bg-color);\n",
              "    border: none;\n",
              "    border-radius: 50%;\n",
              "    cursor: pointer;\n",
              "    display: none;\n",
              "    fill: var(--fill-color);\n",
              "    height: 32px;\n",
              "    padding: 0;\n",
              "    width: 32px;\n",
              "  }\n",
              "\n",
              "  .colab-df-quickchart:hover {\n",
              "    background-color: var(--hover-bg-color);\n",
              "    box-shadow: 0 1px 2px rgba(60, 64, 67, 0.3), 0 1px 3px 1px rgba(60, 64, 67, 0.15);\n",
              "    fill: var(--button-hover-fill-color);\n",
              "  }\n",
              "\n",
              "  .colab-df-quickchart-complete:disabled,\n",
              "  .colab-df-quickchart-complete:disabled:hover {\n",
              "    background-color: var(--disabled-bg-color);\n",
              "    fill: var(--disabled-fill-color);\n",
              "    box-shadow: none;\n",
              "  }\n",
              "\n",
              "  .colab-df-spinner {\n",
              "    border: 2px solid var(--fill-color);\n",
              "    border-color: transparent;\n",
              "    border-bottom-color: var(--fill-color);\n",
              "    animation:\n",
              "      spin 1s steps(1) infinite;\n",
              "  }\n",
              "\n",
              "  @keyframes spin {\n",
              "    0% {\n",
              "      border-color: transparent;\n",
              "      border-bottom-color: var(--fill-color);\n",
              "      border-left-color: var(--fill-color);\n",
              "    }\n",
              "    20% {\n",
              "      border-color: transparent;\n",
              "      border-left-color: var(--fill-color);\n",
              "      border-top-color: var(--fill-color);\n",
              "    }\n",
              "    30% {\n",
              "      border-color: transparent;\n",
              "      border-left-color: var(--fill-color);\n",
              "      border-top-color: var(--fill-color);\n",
              "      border-right-color: var(--fill-color);\n",
              "    }\n",
              "    40% {\n",
              "      border-color: transparent;\n",
              "      border-right-color: var(--fill-color);\n",
              "      border-top-color: var(--fill-color);\n",
              "    }\n",
              "    60% {\n",
              "      border-color: transparent;\n",
              "      border-right-color: var(--fill-color);\n",
              "    }\n",
              "    80% {\n",
              "      border-color: transparent;\n",
              "      border-right-color: var(--fill-color);\n",
              "      border-bottom-color: var(--fill-color);\n",
              "    }\n",
              "    90% {\n",
              "      border-color: transparent;\n",
              "      border-bottom-color: var(--fill-color);\n",
              "    }\n",
              "  }\n",
              "</style>\n",
              "\n",
              "  <script>\n",
              "    async function quickchart(key) {\n",
              "      const quickchartButtonEl =\n",
              "        document.querySelector('#' + key + ' button');\n",
              "      quickchartButtonEl.disabled = true;  // To prevent multiple clicks.\n",
              "      quickchartButtonEl.classList.add('colab-df-spinner');\n",
              "      try {\n",
              "        const charts = await google.colab.kernel.invokeFunction(\n",
              "            'suggestCharts', [key], {});\n",
              "      } catch (error) {\n",
              "        console.error('Error during call to suggestCharts:', error);\n",
              "      }\n",
              "      quickchartButtonEl.classList.remove('colab-df-spinner');\n",
              "      quickchartButtonEl.classList.add('colab-df-quickchart-complete');\n",
              "    }\n",
              "    (() => {\n",
              "      let quickchartButtonEl =\n",
              "        document.querySelector('#df-f2e60192-1ebd-4303-8436-0895683fb914 button');\n",
              "      quickchartButtonEl.style.display =\n",
              "        google.colab.kernel.accessAllowed ? 'block' : 'none';\n",
              "    })();\n",
              "  </script>\n",
              "</div>\n",
              "    </div>\n",
              "  </div>\n"
            ],
            "application/vnd.google.colaboratory.intrinsic+json": {
              "type": "dataframe",
              "variable_name": "groupby_data",
              "summary": "{\n  \"name\": \"groupby_data\",\n  \"rows\": 5,\n  \"fields\": [\n    {\n      \"column\": \"\\u0421\\u0435\\u043c\\u0435\\u0439\\u043d\\u043e\\u0435 \\u043f\\u043e\\u043b\\u043e\\u0436\\u0435\\u043d\\u0438\\u0435\",\n      \"properties\": {\n        \"dtype\": \"string\",\n        \"num_unique_values\": 5,\n        \"samples\": [\n          \"\\u0432 \\u0440\\u0430\\u0437\\u0432\\u043e\\u0434\\u0435\",\n          \"\\u041d\\u0435 \\u0436\\u0435\\u043d\\u0430\\u0442 / \\u043d\\u0435 \\u0437\\u0430\\u043c\\u0443\\u0436\\u0435\\u043c\",\n          \"\\u0436\\u0435\\u043d\\u0430\\u0442 / \\u0437\\u0430\\u043c\\u0443\\u0436\\u0435\\u043c\"\n        ],\n        \"semantic_type\": \"\",\n        \"description\": \"\"\n      }\n    },\n    {\n      \"column\": \"\\u041a\\u043e\\u043b-\\u0432\\u043e \\u0437\\u0430\\u0451\\u043c\\u0449\\u0438\\u043a\\u043e\\u0432\",\n      \"properties\": {\n        \"dtype\": \"number\",\n        \"std\": 4651,\n        \"min\": 951,\n        \"max\": 12261,\n        \"num_unique_values\": 5,\n        \"samples\": [\n          1189,\n          2796,\n          12261\n        ],\n        \"semantic_type\": \"\",\n        \"description\": \"\"\n      }\n    },\n    {\n      \"column\": \"\\u041a\\u043e\\u043b-\\u0432\\u043e \\u0434\\u043e\\u043b\\u0436\\u043d\\u0438\\u043a\\u043e\\u0432\",\n      \"properties\": {\n        \"dtype\": \"number\",\n        \"std\": 351,\n        \"min\": 63,\n        \"max\": 927,\n        \"num_unique_values\": 5,\n        \"samples\": [\n          84,\n          273,\n          927\n        ],\n        \"semantic_type\": \"\",\n        \"description\": \"\"\n      }\n    },\n    {\n      \"column\": \"\\u0414\\u043e\\u043b\\u044f \\u0434\\u043e\\u043b\\u0436\\u043d\\u0438\\u043a\\u043e\\u0432\",\n      \"properties\": {\n        \"dtype\": \"string\",\n        \"num_unique_values\": 5,\n        \"samples\": [\n          \"7.06%\",\n          \"9.76%\",\n          \"7.56%\"\n        ],\n        \"semantic_type\": \"\",\n        \"description\": \"\"\n      }\n    }\n  ]\n}"
            }
          },
          "metadata": {},
          "execution_count": 27
        }
      ],
      "source": [
        "groupby_data['Доля должников'] = groupby_data['Кол-во должников']/groupby_data['Кол-во заёмщиков'] #Создадим столбец и запишем в него отношения численности должников к общей численности заёмщиков\n",
        "groupby_data['Доля должников'] = (groupby_data['Доля должников'] *100).round(2).astype('str') # Переведём столбец в значения % в десятичную дробь с остатком до сотых 1. Для этого ужножем Series на 100 2.Методом .round() округлим значения Series до сотых 3.Изменим тип данных с float на str методом astype().\n",
        "groupby_data['Доля должников']= groupby_data['Доля должников'] + '%' # Добавим %\n",
        "groupby_data = groupby_data.sort_values(by = 'Доля должников') # Применим метод sort_values() для сортировки столбца 'Доля должников'\n",
        "groupby_data # выведем  таблицу на экран"
      ]
    },
    {
      "cell_type": "markdown",
      "id": "c389ca63",
      "metadata": {
        "deletable": false,
        "id": "c389ca63"
      },
      "source": [
        "**Вывод:**\n",
        "\n",
        "Благодаря нахождению процентного соотношения доли должников по категориям семейного положения, мы можем сделать следующие выводы:  \n",
        "- 1. Заемщик с семейным положением `женат/замужем` достаточно ответственный и платёжеспособный, вероятность просрочки кредита 7.5 % по данной категории заёмщика.  \n",
        "- 2. Хуже обстоит дело с должниками, кто находится в статусе семейного положения `гражданский брак`, вероятность просрочки кредита 9.3 % по данной категории заёмщика.\n",
        "- 3. Заёмщик с семейным положением `Не женат/не замужем` составил антирейтинг возврата кредита в срок, вероятность просрочки кредита 9.7 % по данной категории заёмщика.\n"
      ]
    },
    {
      "cell_type": "markdown",
      "id": "9529de68",
      "metadata": {
        "deletable": false,
        "editable": false,
        "id": "9529de68"
      },
      "source": [
        "#### Есть ли зависимость между уровнем дохода и возвратом кредита в срок?"
      ]
    },
    {
      "cell_type": "markdown",
      "id": "68bcb23a",
      "metadata": {
        "deletable": false,
        "id": "68bcb23a"
      },
      "source": [
        "Для начала обобщим  данные DataFrame 'data' в виде сводной таблицы, используя метод pivot_table.\n",
        "- 1.Найдём общую численность заёмщиков по категории дохода.\n",
        "- 2.Найдём кол-во должников по категории дохода."
      ]
    },
    {
      "cell_type": "code",
      "execution_count": 28,
      "id": "d685bb2b",
      "metadata": {
        "colab": {
          "base_uri": "https://localhost:8080/",
          "height": 237
        },
        "id": "d685bb2b",
        "outputId": "1a6058f1-1326-4c70-eefd-c2978591a6c1"
      },
      "outputs": [
        {
          "output_type": "execute_result",
          "data": {
            "text/plain": [
              "                            Кол-во заёмщиков  Кол-во должников\n",
              "Категория дохода заёмщиков                                    \n",
              "A                                         25                 2\n",
              "B                                       5014               354\n",
              "C                                      15921              1353\n",
              "D                                        349                21\n",
              "E                                         22                 2"
            ],
            "text/html": [
              "\n",
              "  <div id=\"df-ac98982f-9fb3-4790-bb61-5d3f0288e09c\" class=\"colab-df-container\">\n",
              "    <div>\n",
              "<style scoped>\n",
              "    .dataframe tbody tr th:only-of-type {\n",
              "        vertical-align: middle;\n",
              "    }\n",
              "\n",
              "    .dataframe tbody tr th {\n",
              "        vertical-align: top;\n",
              "    }\n",
              "\n",
              "    .dataframe thead th {\n",
              "        text-align: right;\n",
              "    }\n",
              "</style>\n",
              "<table border=\"1\" class=\"dataframe\">\n",
              "  <thead>\n",
              "    <tr style=\"text-align: right;\">\n",
              "      <th></th>\n",
              "      <th>Кол-во заёмщиков</th>\n",
              "      <th>Кол-во должников</th>\n",
              "    </tr>\n",
              "    <tr>\n",
              "      <th>Категория дохода заёмщиков</th>\n",
              "      <th></th>\n",
              "      <th></th>\n",
              "    </tr>\n",
              "  </thead>\n",
              "  <tbody>\n",
              "    <tr>\n",
              "      <th>A</th>\n",
              "      <td>25</td>\n",
              "      <td>2</td>\n",
              "    </tr>\n",
              "    <tr>\n",
              "      <th>B</th>\n",
              "      <td>5014</td>\n",
              "      <td>354</td>\n",
              "    </tr>\n",
              "    <tr>\n",
              "      <th>C</th>\n",
              "      <td>15921</td>\n",
              "      <td>1353</td>\n",
              "    </tr>\n",
              "    <tr>\n",
              "      <th>D</th>\n",
              "      <td>349</td>\n",
              "      <td>21</td>\n",
              "    </tr>\n",
              "    <tr>\n",
              "      <th>E</th>\n",
              "      <td>22</td>\n",
              "      <td>2</td>\n",
              "    </tr>\n",
              "  </tbody>\n",
              "</table>\n",
              "</div>\n",
              "    <div class=\"colab-df-buttons\">\n",
              "\n",
              "  <div class=\"colab-df-container\">\n",
              "    <button class=\"colab-df-convert\" onclick=\"convertToInteractive('df-ac98982f-9fb3-4790-bb61-5d3f0288e09c')\"\n",
              "            title=\"Convert this dataframe to an interactive table.\"\n",
              "            style=\"display:none;\">\n",
              "\n",
              "  <svg xmlns=\"http://www.w3.org/2000/svg\" height=\"24px\" viewBox=\"0 -960 960 960\">\n",
              "    <path d=\"M120-120v-720h720v720H120Zm60-500h600v-160H180v160Zm220 220h160v-160H400v160Zm0 220h160v-160H400v160ZM180-400h160v-160H180v160Zm440 0h160v-160H620v160ZM180-180h160v-160H180v160Zm440 0h160v-160H620v160Z\"/>\n",
              "  </svg>\n",
              "    </button>\n",
              "\n",
              "  <style>\n",
              "    .colab-df-container {\n",
              "      display:flex;\n",
              "      gap: 12px;\n",
              "    }\n",
              "\n",
              "    .colab-df-convert {\n",
              "      background-color: #E8F0FE;\n",
              "      border: none;\n",
              "      border-radius: 50%;\n",
              "      cursor: pointer;\n",
              "      display: none;\n",
              "      fill: #1967D2;\n",
              "      height: 32px;\n",
              "      padding: 0 0 0 0;\n",
              "      width: 32px;\n",
              "    }\n",
              "\n",
              "    .colab-df-convert:hover {\n",
              "      background-color: #E2EBFA;\n",
              "      box-shadow: 0px 1px 2px rgba(60, 64, 67, 0.3), 0px 1px 3px 1px rgba(60, 64, 67, 0.15);\n",
              "      fill: #174EA6;\n",
              "    }\n",
              "\n",
              "    .colab-df-buttons div {\n",
              "      margin-bottom: 4px;\n",
              "    }\n",
              "\n",
              "    [theme=dark] .colab-df-convert {\n",
              "      background-color: #3B4455;\n",
              "      fill: #D2E3FC;\n",
              "    }\n",
              "\n",
              "    [theme=dark] .colab-df-convert:hover {\n",
              "      background-color: #434B5C;\n",
              "      box-shadow: 0px 1px 3px 1px rgba(0, 0, 0, 0.15);\n",
              "      filter: drop-shadow(0px 1px 2px rgba(0, 0, 0, 0.3));\n",
              "      fill: #FFFFFF;\n",
              "    }\n",
              "  </style>\n",
              "\n",
              "    <script>\n",
              "      const buttonEl =\n",
              "        document.querySelector('#df-ac98982f-9fb3-4790-bb61-5d3f0288e09c button.colab-df-convert');\n",
              "      buttonEl.style.display =\n",
              "        google.colab.kernel.accessAllowed ? 'block' : 'none';\n",
              "\n",
              "      async function convertToInteractive(key) {\n",
              "        const element = document.querySelector('#df-ac98982f-9fb3-4790-bb61-5d3f0288e09c');\n",
              "        const dataTable =\n",
              "          await google.colab.kernel.invokeFunction('convertToInteractive',\n",
              "                                                    [key], {});\n",
              "        if (!dataTable) return;\n",
              "\n",
              "        const docLinkHtml = 'Like what you see? Visit the ' +\n",
              "          '<a target=\"_blank\" href=https://colab.research.google.com/notebooks/data_table.ipynb>data table notebook</a>'\n",
              "          + ' to learn more about interactive tables.';\n",
              "        element.innerHTML = '';\n",
              "        dataTable['output_type'] = 'display_data';\n",
              "        await google.colab.output.renderOutput(dataTable, element);\n",
              "        const docLink = document.createElement('div');\n",
              "        docLink.innerHTML = docLinkHtml;\n",
              "        element.appendChild(docLink);\n",
              "      }\n",
              "    </script>\n",
              "  </div>\n",
              "\n",
              "\n",
              "<div id=\"df-43c951ce-0a12-42b8-9c0a-27287f836ae3\">\n",
              "  <button class=\"colab-df-quickchart\" onclick=\"quickchart('df-43c951ce-0a12-42b8-9c0a-27287f836ae3')\"\n",
              "            title=\"Suggest charts\"\n",
              "            style=\"display:none;\">\n",
              "\n",
              "<svg xmlns=\"http://www.w3.org/2000/svg\" height=\"24px\"viewBox=\"0 0 24 24\"\n",
              "     width=\"24px\">\n",
              "    <g>\n",
              "        <path d=\"M19 3H5c-1.1 0-2 .9-2 2v14c0 1.1.9 2 2 2h14c1.1 0 2-.9 2-2V5c0-1.1-.9-2-2-2zM9 17H7v-7h2v7zm4 0h-2V7h2v10zm4 0h-2v-4h2v4z\"/>\n",
              "    </g>\n",
              "</svg>\n",
              "  </button>\n",
              "\n",
              "<style>\n",
              "  .colab-df-quickchart {\n",
              "      --bg-color: #E8F0FE;\n",
              "      --fill-color: #1967D2;\n",
              "      --hover-bg-color: #E2EBFA;\n",
              "      --hover-fill-color: #174EA6;\n",
              "      --disabled-fill-color: #AAA;\n",
              "      --disabled-bg-color: #DDD;\n",
              "  }\n",
              "\n",
              "  [theme=dark] .colab-df-quickchart {\n",
              "      --bg-color: #3B4455;\n",
              "      --fill-color: #D2E3FC;\n",
              "      --hover-bg-color: #434B5C;\n",
              "      --hover-fill-color: #FFFFFF;\n",
              "      --disabled-bg-color: #3B4455;\n",
              "      --disabled-fill-color: #666;\n",
              "  }\n",
              "\n",
              "  .colab-df-quickchart {\n",
              "    background-color: var(--bg-color);\n",
              "    border: none;\n",
              "    border-radius: 50%;\n",
              "    cursor: pointer;\n",
              "    display: none;\n",
              "    fill: var(--fill-color);\n",
              "    height: 32px;\n",
              "    padding: 0;\n",
              "    width: 32px;\n",
              "  }\n",
              "\n",
              "  .colab-df-quickchart:hover {\n",
              "    background-color: var(--hover-bg-color);\n",
              "    box-shadow: 0 1px 2px rgba(60, 64, 67, 0.3), 0 1px 3px 1px rgba(60, 64, 67, 0.15);\n",
              "    fill: var(--button-hover-fill-color);\n",
              "  }\n",
              "\n",
              "  .colab-df-quickchart-complete:disabled,\n",
              "  .colab-df-quickchart-complete:disabled:hover {\n",
              "    background-color: var(--disabled-bg-color);\n",
              "    fill: var(--disabled-fill-color);\n",
              "    box-shadow: none;\n",
              "  }\n",
              "\n",
              "  .colab-df-spinner {\n",
              "    border: 2px solid var(--fill-color);\n",
              "    border-color: transparent;\n",
              "    border-bottom-color: var(--fill-color);\n",
              "    animation:\n",
              "      spin 1s steps(1) infinite;\n",
              "  }\n",
              "\n",
              "  @keyframes spin {\n",
              "    0% {\n",
              "      border-color: transparent;\n",
              "      border-bottom-color: var(--fill-color);\n",
              "      border-left-color: var(--fill-color);\n",
              "    }\n",
              "    20% {\n",
              "      border-color: transparent;\n",
              "      border-left-color: var(--fill-color);\n",
              "      border-top-color: var(--fill-color);\n",
              "    }\n",
              "    30% {\n",
              "      border-color: transparent;\n",
              "      border-left-color: var(--fill-color);\n",
              "      border-top-color: var(--fill-color);\n",
              "      border-right-color: var(--fill-color);\n",
              "    }\n",
              "    40% {\n",
              "      border-color: transparent;\n",
              "      border-right-color: var(--fill-color);\n",
              "      border-top-color: var(--fill-color);\n",
              "    }\n",
              "    60% {\n",
              "      border-color: transparent;\n",
              "      border-right-color: var(--fill-color);\n",
              "    }\n",
              "    80% {\n",
              "      border-color: transparent;\n",
              "      border-right-color: var(--fill-color);\n",
              "      border-bottom-color: var(--fill-color);\n",
              "    }\n",
              "    90% {\n",
              "      border-color: transparent;\n",
              "      border-bottom-color: var(--fill-color);\n",
              "    }\n",
              "  }\n",
              "</style>\n",
              "\n",
              "  <script>\n",
              "    async function quickchart(key) {\n",
              "      const quickchartButtonEl =\n",
              "        document.querySelector('#' + key + ' button');\n",
              "      quickchartButtonEl.disabled = true;  // To prevent multiple clicks.\n",
              "      quickchartButtonEl.classList.add('colab-df-spinner');\n",
              "      try {\n",
              "        const charts = await google.colab.kernel.invokeFunction(\n",
              "            'suggestCharts', [key], {});\n",
              "      } catch (error) {\n",
              "        console.error('Error during call to suggestCharts:', error);\n",
              "      }\n",
              "      quickchartButtonEl.classList.remove('colab-df-spinner');\n",
              "      quickchartButtonEl.classList.add('colab-df-quickchart-complete');\n",
              "    }\n",
              "    (() => {\n",
              "      let quickchartButtonEl =\n",
              "        document.querySelector('#df-43c951ce-0a12-42b8-9c0a-27287f836ae3 button');\n",
              "      quickchartButtonEl.style.display =\n",
              "        google.colab.kernel.accessAllowed ? 'block' : 'none';\n",
              "    })();\n",
              "  </script>\n",
              "</div>\n",
              "    </div>\n",
              "  </div>\n"
            ],
            "application/vnd.google.colaboratory.intrinsic+json": {
              "type": "dataframe",
              "variable_name": "data_pivot_income",
              "summary": "{\n  \"name\": \"data_pivot_income\",\n  \"rows\": 5,\n  \"fields\": [\n    {\n      \"column\": \"\\u041a\\u0430\\u0442\\u0435\\u0433\\u043e\\u0440\\u0438\\u044f \\u0434\\u043e\\u0445\\u043e\\u0434\\u0430 \\u0437\\u0430\\u0451\\u043c\\u0449\\u0438\\u043a\\u043e\\u0432\",\n      \"properties\": {\n        \"dtype\": \"string\",\n        \"num_unique_values\": 5,\n        \"samples\": [\n          \"B\",\n          \"E\",\n          \"C\"\n        ],\n        \"semantic_type\": \"\",\n        \"description\": \"\"\n      }\n    },\n    {\n      \"column\": \"\\u041a\\u043e\\u043b-\\u0432\\u043e \\u0437\\u0430\\u0451\\u043c\\u0449\\u0438\\u043a\\u043e\\u0432\",\n      \"properties\": {\n        \"dtype\": \"number\",\n        \"std\": 6850,\n        \"min\": 22,\n        \"max\": 15921,\n        \"num_unique_values\": 5,\n        \"samples\": [\n          5014,\n          22,\n          15921\n        ],\n        \"semantic_type\": \"\",\n        \"description\": \"\"\n      }\n    },\n    {\n      \"column\": \"\\u041a\\u043e\\u043b-\\u0432\\u043e \\u0434\\u043e\\u043b\\u0436\\u043d\\u0438\\u043a\\u043e\\u0432\",\n      \"properties\": {\n        \"dtype\": \"number\",\n        \"std\": 582,\n        \"min\": 2,\n        \"max\": 1353,\n        \"num_unique_values\": 4,\n        \"samples\": [\n          354,\n          21,\n          2\n        ],\n        \"semantic_type\": \"\",\n        \"description\": \"\"\n      }\n    }\n  ]\n}"
            }
          },
          "metadata": {},
          "execution_count": 28
        }
      ],
      "source": [
        "data_pivot_income = data.pivot_table(index = ['total_income_category'], values = 'debt', aggfunc = ['count','sum']) # Создадаим сводную таблицу методом .pivot_table()\n",
        "data_pivot_income.columns = ['Кол-во заёмщиков','Кол-во должников'] # Переименуем многосоставные столбцы методом .columns['']\n",
        "data_pivot_income.index.name = 'Категория дохода заёмщиков' # Переименуем столбец(он находится в индексе) по которому группировали данные методом .index.name =  ''\n",
        "data_pivot_income # Вывод таблицы на экран"
      ]
    },
    {
      "cell_type": "markdown",
      "id": "12b9906d",
      "metadata": {
        "id": "12b9906d"
      },
      "source": [
        "- 3.В сводной таблице создадим столбец 'Доля должников' для нахождения отношения численности должников к общей численности заёмщиков по категориям дохода."
      ]
    },
    {
      "cell_type": "code",
      "execution_count": 29,
      "id": "4f8580de",
      "metadata": {
        "colab": {
          "base_uri": "https://localhost:8080/",
          "height": 237
        },
        "id": "4f8580de",
        "outputId": "22a676c6-d271-41a8-b56f-2eff998e7efd"
      },
      "outputs": [
        {
          "output_type": "execute_result",
          "data": {
            "text/plain": [
              "                            Кол-во заёмщиков  Кол-во должников Доля должников\n",
              "Категория дохода заёмщиков                                                   \n",
              "D                                        349                21          6.02%\n",
              "B                                       5014               354          7.06%\n",
              "A                                         25                 2           8.0%\n",
              "C                                      15921              1353           8.5%\n",
              "E                                         22                 2          9.09%"
            ],
            "text/html": [
              "\n",
              "  <div id=\"df-e7798915-66cf-4912-8506-06ea292f0225\" class=\"colab-df-container\">\n",
              "    <div>\n",
              "<style scoped>\n",
              "    .dataframe tbody tr th:only-of-type {\n",
              "        vertical-align: middle;\n",
              "    }\n",
              "\n",
              "    .dataframe tbody tr th {\n",
              "        vertical-align: top;\n",
              "    }\n",
              "\n",
              "    .dataframe thead th {\n",
              "        text-align: right;\n",
              "    }\n",
              "</style>\n",
              "<table border=\"1\" class=\"dataframe\">\n",
              "  <thead>\n",
              "    <tr style=\"text-align: right;\">\n",
              "      <th></th>\n",
              "      <th>Кол-во заёмщиков</th>\n",
              "      <th>Кол-во должников</th>\n",
              "      <th>Доля должников</th>\n",
              "    </tr>\n",
              "    <tr>\n",
              "      <th>Категория дохода заёмщиков</th>\n",
              "      <th></th>\n",
              "      <th></th>\n",
              "      <th></th>\n",
              "    </tr>\n",
              "  </thead>\n",
              "  <tbody>\n",
              "    <tr>\n",
              "      <th>D</th>\n",
              "      <td>349</td>\n",
              "      <td>21</td>\n",
              "      <td>6.02%</td>\n",
              "    </tr>\n",
              "    <tr>\n",
              "      <th>B</th>\n",
              "      <td>5014</td>\n",
              "      <td>354</td>\n",
              "      <td>7.06%</td>\n",
              "    </tr>\n",
              "    <tr>\n",
              "      <th>A</th>\n",
              "      <td>25</td>\n",
              "      <td>2</td>\n",
              "      <td>8.0%</td>\n",
              "    </tr>\n",
              "    <tr>\n",
              "      <th>C</th>\n",
              "      <td>15921</td>\n",
              "      <td>1353</td>\n",
              "      <td>8.5%</td>\n",
              "    </tr>\n",
              "    <tr>\n",
              "      <th>E</th>\n",
              "      <td>22</td>\n",
              "      <td>2</td>\n",
              "      <td>9.09%</td>\n",
              "    </tr>\n",
              "  </tbody>\n",
              "</table>\n",
              "</div>\n",
              "    <div class=\"colab-df-buttons\">\n",
              "\n",
              "  <div class=\"colab-df-container\">\n",
              "    <button class=\"colab-df-convert\" onclick=\"convertToInteractive('df-e7798915-66cf-4912-8506-06ea292f0225')\"\n",
              "            title=\"Convert this dataframe to an interactive table.\"\n",
              "            style=\"display:none;\">\n",
              "\n",
              "  <svg xmlns=\"http://www.w3.org/2000/svg\" height=\"24px\" viewBox=\"0 -960 960 960\">\n",
              "    <path d=\"M120-120v-720h720v720H120Zm60-500h600v-160H180v160Zm220 220h160v-160H400v160Zm0 220h160v-160H400v160ZM180-400h160v-160H180v160Zm440 0h160v-160H620v160ZM180-180h160v-160H180v160Zm440 0h160v-160H620v160Z\"/>\n",
              "  </svg>\n",
              "    </button>\n",
              "\n",
              "  <style>\n",
              "    .colab-df-container {\n",
              "      display:flex;\n",
              "      gap: 12px;\n",
              "    }\n",
              "\n",
              "    .colab-df-convert {\n",
              "      background-color: #E8F0FE;\n",
              "      border: none;\n",
              "      border-radius: 50%;\n",
              "      cursor: pointer;\n",
              "      display: none;\n",
              "      fill: #1967D2;\n",
              "      height: 32px;\n",
              "      padding: 0 0 0 0;\n",
              "      width: 32px;\n",
              "    }\n",
              "\n",
              "    .colab-df-convert:hover {\n",
              "      background-color: #E2EBFA;\n",
              "      box-shadow: 0px 1px 2px rgba(60, 64, 67, 0.3), 0px 1px 3px 1px rgba(60, 64, 67, 0.15);\n",
              "      fill: #174EA6;\n",
              "    }\n",
              "\n",
              "    .colab-df-buttons div {\n",
              "      margin-bottom: 4px;\n",
              "    }\n",
              "\n",
              "    [theme=dark] .colab-df-convert {\n",
              "      background-color: #3B4455;\n",
              "      fill: #D2E3FC;\n",
              "    }\n",
              "\n",
              "    [theme=dark] .colab-df-convert:hover {\n",
              "      background-color: #434B5C;\n",
              "      box-shadow: 0px 1px 3px 1px rgba(0, 0, 0, 0.15);\n",
              "      filter: drop-shadow(0px 1px 2px rgba(0, 0, 0, 0.3));\n",
              "      fill: #FFFFFF;\n",
              "    }\n",
              "  </style>\n",
              "\n",
              "    <script>\n",
              "      const buttonEl =\n",
              "        document.querySelector('#df-e7798915-66cf-4912-8506-06ea292f0225 button.colab-df-convert');\n",
              "      buttonEl.style.display =\n",
              "        google.colab.kernel.accessAllowed ? 'block' : 'none';\n",
              "\n",
              "      async function convertToInteractive(key) {\n",
              "        const element = document.querySelector('#df-e7798915-66cf-4912-8506-06ea292f0225');\n",
              "        const dataTable =\n",
              "          await google.colab.kernel.invokeFunction('convertToInteractive',\n",
              "                                                    [key], {});\n",
              "        if (!dataTable) return;\n",
              "\n",
              "        const docLinkHtml = 'Like what you see? Visit the ' +\n",
              "          '<a target=\"_blank\" href=https://colab.research.google.com/notebooks/data_table.ipynb>data table notebook</a>'\n",
              "          + ' to learn more about interactive tables.';\n",
              "        element.innerHTML = '';\n",
              "        dataTable['output_type'] = 'display_data';\n",
              "        await google.colab.output.renderOutput(dataTable, element);\n",
              "        const docLink = document.createElement('div');\n",
              "        docLink.innerHTML = docLinkHtml;\n",
              "        element.appendChild(docLink);\n",
              "      }\n",
              "    </script>\n",
              "  </div>\n",
              "\n",
              "\n",
              "<div id=\"df-0f711c4e-bb63-4eef-9164-fc7d44f3b3fc\">\n",
              "  <button class=\"colab-df-quickchart\" onclick=\"quickchart('df-0f711c4e-bb63-4eef-9164-fc7d44f3b3fc')\"\n",
              "            title=\"Suggest charts\"\n",
              "            style=\"display:none;\">\n",
              "\n",
              "<svg xmlns=\"http://www.w3.org/2000/svg\" height=\"24px\"viewBox=\"0 0 24 24\"\n",
              "     width=\"24px\">\n",
              "    <g>\n",
              "        <path d=\"M19 3H5c-1.1 0-2 .9-2 2v14c0 1.1.9 2 2 2h14c1.1 0 2-.9 2-2V5c0-1.1-.9-2-2-2zM9 17H7v-7h2v7zm4 0h-2V7h2v10zm4 0h-2v-4h2v4z\"/>\n",
              "    </g>\n",
              "</svg>\n",
              "  </button>\n",
              "\n",
              "<style>\n",
              "  .colab-df-quickchart {\n",
              "      --bg-color: #E8F0FE;\n",
              "      --fill-color: #1967D2;\n",
              "      --hover-bg-color: #E2EBFA;\n",
              "      --hover-fill-color: #174EA6;\n",
              "      --disabled-fill-color: #AAA;\n",
              "      --disabled-bg-color: #DDD;\n",
              "  }\n",
              "\n",
              "  [theme=dark] .colab-df-quickchart {\n",
              "      --bg-color: #3B4455;\n",
              "      --fill-color: #D2E3FC;\n",
              "      --hover-bg-color: #434B5C;\n",
              "      --hover-fill-color: #FFFFFF;\n",
              "      --disabled-bg-color: #3B4455;\n",
              "      --disabled-fill-color: #666;\n",
              "  }\n",
              "\n",
              "  .colab-df-quickchart {\n",
              "    background-color: var(--bg-color);\n",
              "    border: none;\n",
              "    border-radius: 50%;\n",
              "    cursor: pointer;\n",
              "    display: none;\n",
              "    fill: var(--fill-color);\n",
              "    height: 32px;\n",
              "    padding: 0;\n",
              "    width: 32px;\n",
              "  }\n",
              "\n",
              "  .colab-df-quickchart:hover {\n",
              "    background-color: var(--hover-bg-color);\n",
              "    box-shadow: 0 1px 2px rgba(60, 64, 67, 0.3), 0 1px 3px 1px rgba(60, 64, 67, 0.15);\n",
              "    fill: var(--button-hover-fill-color);\n",
              "  }\n",
              "\n",
              "  .colab-df-quickchart-complete:disabled,\n",
              "  .colab-df-quickchart-complete:disabled:hover {\n",
              "    background-color: var(--disabled-bg-color);\n",
              "    fill: var(--disabled-fill-color);\n",
              "    box-shadow: none;\n",
              "  }\n",
              "\n",
              "  .colab-df-spinner {\n",
              "    border: 2px solid var(--fill-color);\n",
              "    border-color: transparent;\n",
              "    border-bottom-color: var(--fill-color);\n",
              "    animation:\n",
              "      spin 1s steps(1) infinite;\n",
              "  }\n",
              "\n",
              "  @keyframes spin {\n",
              "    0% {\n",
              "      border-color: transparent;\n",
              "      border-bottom-color: var(--fill-color);\n",
              "      border-left-color: var(--fill-color);\n",
              "    }\n",
              "    20% {\n",
              "      border-color: transparent;\n",
              "      border-left-color: var(--fill-color);\n",
              "      border-top-color: var(--fill-color);\n",
              "    }\n",
              "    30% {\n",
              "      border-color: transparent;\n",
              "      border-left-color: var(--fill-color);\n",
              "      border-top-color: var(--fill-color);\n",
              "      border-right-color: var(--fill-color);\n",
              "    }\n",
              "    40% {\n",
              "      border-color: transparent;\n",
              "      border-right-color: var(--fill-color);\n",
              "      border-top-color: var(--fill-color);\n",
              "    }\n",
              "    60% {\n",
              "      border-color: transparent;\n",
              "      border-right-color: var(--fill-color);\n",
              "    }\n",
              "    80% {\n",
              "      border-color: transparent;\n",
              "      border-right-color: var(--fill-color);\n",
              "      border-bottom-color: var(--fill-color);\n",
              "    }\n",
              "    90% {\n",
              "      border-color: transparent;\n",
              "      border-bottom-color: var(--fill-color);\n",
              "    }\n",
              "  }\n",
              "</style>\n",
              "\n",
              "  <script>\n",
              "    async function quickchart(key) {\n",
              "      const quickchartButtonEl =\n",
              "        document.querySelector('#' + key + ' button');\n",
              "      quickchartButtonEl.disabled = true;  // To prevent multiple clicks.\n",
              "      quickchartButtonEl.classList.add('colab-df-spinner');\n",
              "      try {\n",
              "        const charts = await google.colab.kernel.invokeFunction(\n",
              "            'suggestCharts', [key], {});\n",
              "      } catch (error) {\n",
              "        console.error('Error during call to suggestCharts:', error);\n",
              "      }\n",
              "      quickchartButtonEl.classList.remove('colab-df-spinner');\n",
              "      quickchartButtonEl.classList.add('colab-df-quickchart-complete');\n",
              "    }\n",
              "    (() => {\n",
              "      let quickchartButtonEl =\n",
              "        document.querySelector('#df-0f711c4e-bb63-4eef-9164-fc7d44f3b3fc button');\n",
              "      quickchartButtonEl.style.display =\n",
              "        google.colab.kernel.accessAllowed ? 'block' : 'none';\n",
              "    })();\n",
              "  </script>\n",
              "</div>\n",
              "    </div>\n",
              "  </div>\n"
            ],
            "application/vnd.google.colaboratory.intrinsic+json": {
              "type": "dataframe",
              "variable_name": "data_pivot_income",
              "summary": "{\n  \"name\": \"data_pivot_income\",\n  \"rows\": 5,\n  \"fields\": [\n    {\n      \"column\": \"\\u041a\\u0430\\u0442\\u0435\\u0433\\u043e\\u0440\\u0438\\u044f \\u0434\\u043e\\u0445\\u043e\\u0434\\u0430 \\u0437\\u0430\\u0451\\u043c\\u0449\\u0438\\u043a\\u043e\\u0432\",\n      \"properties\": {\n        \"dtype\": \"string\",\n        \"num_unique_values\": 5,\n        \"samples\": [\n          \"B\",\n          \"E\",\n          \"A\"\n        ],\n        \"semantic_type\": \"\",\n        \"description\": \"\"\n      }\n    },\n    {\n      \"column\": \"\\u041a\\u043e\\u043b-\\u0432\\u043e \\u0437\\u0430\\u0451\\u043c\\u0449\\u0438\\u043a\\u043e\\u0432\",\n      \"properties\": {\n        \"dtype\": \"number\",\n        \"std\": 6850,\n        \"min\": 22,\n        \"max\": 15921,\n        \"num_unique_values\": 5,\n        \"samples\": [\n          5014,\n          22,\n          25\n        ],\n        \"semantic_type\": \"\",\n        \"description\": \"\"\n      }\n    },\n    {\n      \"column\": \"\\u041a\\u043e\\u043b-\\u0432\\u043e \\u0434\\u043e\\u043b\\u0436\\u043d\\u0438\\u043a\\u043e\\u0432\",\n      \"properties\": {\n        \"dtype\": \"number\",\n        \"std\": 582,\n        \"min\": 2,\n        \"max\": 1353,\n        \"num_unique_values\": 4,\n        \"samples\": [\n          354,\n          1353,\n          21\n        ],\n        \"semantic_type\": \"\",\n        \"description\": \"\"\n      }\n    },\n    {\n      \"column\": \"\\u0414\\u043e\\u043b\\u044f \\u0434\\u043e\\u043b\\u0436\\u043d\\u0438\\u043a\\u043e\\u0432\",\n      \"properties\": {\n        \"dtype\": \"string\",\n        \"num_unique_values\": 5,\n        \"samples\": [\n          \"7.06%\",\n          \"9.09%\",\n          \"8.0%\"\n        ],\n        \"semantic_type\": \"\",\n        \"description\": \"\"\n      }\n    }\n  ]\n}"
            }
          },
          "metadata": {},
          "execution_count": 29
        }
      ],
      "source": [
        "data_pivot_income['Доля должников'] = data_pivot_income['Кол-во должников']/data_pivot_income['Кол-во заёмщиков'] #Создадим столбец и запишем в него отношения численности должников к общей численности заёмщиков\n",
        "data_pivot_income['Доля должников'] = (data_pivot_income['Доля должников']*100).round(2).astype('str') # Переведём столбец в значения % в десятичную дробь с остатком до сотых 1. Для этого ужножем Series на 100 2.Методом .round() округлим значения Series до сотых 3.Изменим тип данных с float на str методом astype(). 4.Добавим %\n",
        "data_pivot_income['Доля должников'] = data_pivot_income['Доля должников'] + '%'\n",
        "data_pivot_income = data_pivot_income.sort_values(by = 'Доля должников') # Применим метод sort_values() для сортировки столбца 'Доля должников'\n",
        "data_pivot_income # выведем  таблицу на экран"
      ]
    },
    {
      "cell_type": "markdown",
      "id": "6dd14b57",
      "metadata": {
        "deletable": false,
        "id": "6dd14b57"
      },
      "source": [
        "**Вывод:**\n",
        "\n",
        "Благодаря нахождению процентного соотношения доли должников по категориям дохода заёмщиков, мы можем сделать следующие выводы:\n",
        "- 1. Заемщики `категории B` (от 200001 до 1000000) одни из самых ответственных и платёжеспособных, вероятность просрочки кредита 7 % по данной категории заёмщика.\n",
        "- 2. Заёмщики `категории С` (от 50001 до 200000) зачастую не выплачивают кредит в срок, вероятность просрочки кредита 8.5 % по данной категории заёмщика.\n"
      ]
    },
    {
      "cell_type": "markdown",
      "id": "1dcc9b12",
      "metadata": {
        "deletable": false,
        "editable": false,
        "id": "1dcc9b12"
      },
      "source": [
        "#### Как разные цели кредита влияют на его возврат в срок?"
      ]
    },
    {
      "cell_type": "markdown",
      "id": "be08e03f",
      "metadata": {
        "deletable": false,
        "id": "be08e03f"
      },
      "source": [
        "Для начала обобщим  данные DataFrame 'data' в виде сводной таблицы, используя методы: groupby() и agg().\n",
        "- 1.Найдём общую численность заёмщиков по целям кредита.\n",
        "- 2.Найдём кол-во должников по целям кредита."
      ]
    },
    {
      "cell_type": "code",
      "execution_count": 30,
      "id": "a6b0cba5",
      "metadata": {
        "colab": {
          "base_uri": "https://localhost:8080/",
          "height": 206
        },
        "id": "a6b0cba5",
        "outputId": "dd1666f0-4338-4af2-a714-4a0ee7e6c195"
      },
      "outputs": [
        {
          "output_type": "execute_result",
          "data": {
            "text/plain": [
              "                          Кол-во заёмщиков  Кол-во должников\n",
              "Цель кредита                                                \n",
              "операции с автомобилем                4279               400\n",
              "операции с недвижимостью             10751               780\n",
              "получение образования                 3988               369\n",
              "проведение свадьбы                    2313               183"
            ],
            "text/html": [
              "\n",
              "  <div id=\"df-6e6081a9-f6f3-442f-b436-70c817e8b6a8\" class=\"colab-df-container\">\n",
              "    <div>\n",
              "<style scoped>\n",
              "    .dataframe tbody tr th:only-of-type {\n",
              "        vertical-align: middle;\n",
              "    }\n",
              "\n",
              "    .dataframe tbody tr th {\n",
              "        vertical-align: top;\n",
              "    }\n",
              "\n",
              "    .dataframe thead th {\n",
              "        text-align: right;\n",
              "    }\n",
              "</style>\n",
              "<table border=\"1\" class=\"dataframe\">\n",
              "  <thead>\n",
              "    <tr style=\"text-align: right;\">\n",
              "      <th></th>\n",
              "      <th>Кол-во заёмщиков</th>\n",
              "      <th>Кол-во должников</th>\n",
              "    </tr>\n",
              "    <tr>\n",
              "      <th>Цель кредита</th>\n",
              "      <th></th>\n",
              "      <th></th>\n",
              "    </tr>\n",
              "  </thead>\n",
              "  <tbody>\n",
              "    <tr>\n",
              "      <th>операции с автомобилем</th>\n",
              "      <td>4279</td>\n",
              "      <td>400</td>\n",
              "    </tr>\n",
              "    <tr>\n",
              "      <th>операции с недвижимостью</th>\n",
              "      <td>10751</td>\n",
              "      <td>780</td>\n",
              "    </tr>\n",
              "    <tr>\n",
              "      <th>получение образования</th>\n",
              "      <td>3988</td>\n",
              "      <td>369</td>\n",
              "    </tr>\n",
              "    <tr>\n",
              "      <th>проведение свадьбы</th>\n",
              "      <td>2313</td>\n",
              "      <td>183</td>\n",
              "    </tr>\n",
              "  </tbody>\n",
              "</table>\n",
              "</div>\n",
              "    <div class=\"colab-df-buttons\">\n",
              "\n",
              "  <div class=\"colab-df-container\">\n",
              "    <button class=\"colab-df-convert\" onclick=\"convertToInteractive('df-6e6081a9-f6f3-442f-b436-70c817e8b6a8')\"\n",
              "            title=\"Convert this dataframe to an interactive table.\"\n",
              "            style=\"display:none;\">\n",
              "\n",
              "  <svg xmlns=\"http://www.w3.org/2000/svg\" height=\"24px\" viewBox=\"0 -960 960 960\">\n",
              "    <path d=\"M120-120v-720h720v720H120Zm60-500h600v-160H180v160Zm220 220h160v-160H400v160Zm0 220h160v-160H400v160ZM180-400h160v-160H180v160Zm440 0h160v-160H620v160ZM180-180h160v-160H180v160Zm440 0h160v-160H620v160Z\"/>\n",
              "  </svg>\n",
              "    </button>\n",
              "\n",
              "  <style>\n",
              "    .colab-df-container {\n",
              "      display:flex;\n",
              "      gap: 12px;\n",
              "    }\n",
              "\n",
              "    .colab-df-convert {\n",
              "      background-color: #E8F0FE;\n",
              "      border: none;\n",
              "      border-radius: 50%;\n",
              "      cursor: pointer;\n",
              "      display: none;\n",
              "      fill: #1967D2;\n",
              "      height: 32px;\n",
              "      padding: 0 0 0 0;\n",
              "      width: 32px;\n",
              "    }\n",
              "\n",
              "    .colab-df-convert:hover {\n",
              "      background-color: #E2EBFA;\n",
              "      box-shadow: 0px 1px 2px rgba(60, 64, 67, 0.3), 0px 1px 3px 1px rgba(60, 64, 67, 0.15);\n",
              "      fill: #174EA6;\n",
              "    }\n",
              "\n",
              "    .colab-df-buttons div {\n",
              "      margin-bottom: 4px;\n",
              "    }\n",
              "\n",
              "    [theme=dark] .colab-df-convert {\n",
              "      background-color: #3B4455;\n",
              "      fill: #D2E3FC;\n",
              "    }\n",
              "\n",
              "    [theme=dark] .colab-df-convert:hover {\n",
              "      background-color: #434B5C;\n",
              "      box-shadow: 0px 1px 3px 1px rgba(0, 0, 0, 0.15);\n",
              "      filter: drop-shadow(0px 1px 2px rgba(0, 0, 0, 0.3));\n",
              "      fill: #FFFFFF;\n",
              "    }\n",
              "  </style>\n",
              "\n",
              "    <script>\n",
              "      const buttonEl =\n",
              "        document.querySelector('#df-6e6081a9-f6f3-442f-b436-70c817e8b6a8 button.colab-df-convert');\n",
              "      buttonEl.style.display =\n",
              "        google.colab.kernel.accessAllowed ? 'block' : 'none';\n",
              "\n",
              "      async function convertToInteractive(key) {\n",
              "        const element = document.querySelector('#df-6e6081a9-f6f3-442f-b436-70c817e8b6a8');\n",
              "        const dataTable =\n",
              "          await google.colab.kernel.invokeFunction('convertToInteractive',\n",
              "                                                    [key], {});\n",
              "        if (!dataTable) return;\n",
              "\n",
              "        const docLinkHtml = 'Like what you see? Visit the ' +\n",
              "          '<a target=\"_blank\" href=https://colab.research.google.com/notebooks/data_table.ipynb>data table notebook</a>'\n",
              "          + ' to learn more about interactive tables.';\n",
              "        element.innerHTML = '';\n",
              "        dataTable['output_type'] = 'display_data';\n",
              "        await google.colab.output.renderOutput(dataTable, element);\n",
              "        const docLink = document.createElement('div');\n",
              "        docLink.innerHTML = docLinkHtml;\n",
              "        element.appendChild(docLink);\n",
              "      }\n",
              "    </script>\n",
              "  </div>\n",
              "\n",
              "\n",
              "<div id=\"df-72fdf4bc-02eb-49c6-825e-4c486c34975c\">\n",
              "  <button class=\"colab-df-quickchart\" onclick=\"quickchart('df-72fdf4bc-02eb-49c6-825e-4c486c34975c')\"\n",
              "            title=\"Suggest charts\"\n",
              "            style=\"display:none;\">\n",
              "\n",
              "<svg xmlns=\"http://www.w3.org/2000/svg\" height=\"24px\"viewBox=\"0 0 24 24\"\n",
              "     width=\"24px\">\n",
              "    <g>\n",
              "        <path d=\"M19 3H5c-1.1 0-2 .9-2 2v14c0 1.1.9 2 2 2h14c1.1 0 2-.9 2-2V5c0-1.1-.9-2-2-2zM9 17H7v-7h2v7zm4 0h-2V7h2v10zm4 0h-2v-4h2v4z\"/>\n",
              "    </g>\n",
              "</svg>\n",
              "  </button>\n",
              "\n",
              "<style>\n",
              "  .colab-df-quickchart {\n",
              "      --bg-color: #E8F0FE;\n",
              "      --fill-color: #1967D2;\n",
              "      --hover-bg-color: #E2EBFA;\n",
              "      --hover-fill-color: #174EA6;\n",
              "      --disabled-fill-color: #AAA;\n",
              "      --disabled-bg-color: #DDD;\n",
              "  }\n",
              "\n",
              "  [theme=dark] .colab-df-quickchart {\n",
              "      --bg-color: #3B4455;\n",
              "      --fill-color: #D2E3FC;\n",
              "      --hover-bg-color: #434B5C;\n",
              "      --hover-fill-color: #FFFFFF;\n",
              "      --disabled-bg-color: #3B4455;\n",
              "      --disabled-fill-color: #666;\n",
              "  }\n",
              "\n",
              "  .colab-df-quickchart {\n",
              "    background-color: var(--bg-color);\n",
              "    border: none;\n",
              "    border-radius: 50%;\n",
              "    cursor: pointer;\n",
              "    display: none;\n",
              "    fill: var(--fill-color);\n",
              "    height: 32px;\n",
              "    padding: 0;\n",
              "    width: 32px;\n",
              "  }\n",
              "\n",
              "  .colab-df-quickchart:hover {\n",
              "    background-color: var(--hover-bg-color);\n",
              "    box-shadow: 0 1px 2px rgba(60, 64, 67, 0.3), 0 1px 3px 1px rgba(60, 64, 67, 0.15);\n",
              "    fill: var(--button-hover-fill-color);\n",
              "  }\n",
              "\n",
              "  .colab-df-quickchart-complete:disabled,\n",
              "  .colab-df-quickchart-complete:disabled:hover {\n",
              "    background-color: var(--disabled-bg-color);\n",
              "    fill: var(--disabled-fill-color);\n",
              "    box-shadow: none;\n",
              "  }\n",
              "\n",
              "  .colab-df-spinner {\n",
              "    border: 2px solid var(--fill-color);\n",
              "    border-color: transparent;\n",
              "    border-bottom-color: var(--fill-color);\n",
              "    animation:\n",
              "      spin 1s steps(1) infinite;\n",
              "  }\n",
              "\n",
              "  @keyframes spin {\n",
              "    0% {\n",
              "      border-color: transparent;\n",
              "      border-bottom-color: var(--fill-color);\n",
              "      border-left-color: var(--fill-color);\n",
              "    }\n",
              "    20% {\n",
              "      border-color: transparent;\n",
              "      border-left-color: var(--fill-color);\n",
              "      border-top-color: var(--fill-color);\n",
              "    }\n",
              "    30% {\n",
              "      border-color: transparent;\n",
              "      border-left-color: var(--fill-color);\n",
              "      border-top-color: var(--fill-color);\n",
              "      border-right-color: var(--fill-color);\n",
              "    }\n",
              "    40% {\n",
              "      border-color: transparent;\n",
              "      border-right-color: var(--fill-color);\n",
              "      border-top-color: var(--fill-color);\n",
              "    }\n",
              "    60% {\n",
              "      border-color: transparent;\n",
              "      border-right-color: var(--fill-color);\n",
              "    }\n",
              "    80% {\n",
              "      border-color: transparent;\n",
              "      border-right-color: var(--fill-color);\n",
              "      border-bottom-color: var(--fill-color);\n",
              "    }\n",
              "    90% {\n",
              "      border-color: transparent;\n",
              "      border-bottom-color: var(--fill-color);\n",
              "    }\n",
              "  }\n",
              "</style>\n",
              "\n",
              "  <script>\n",
              "    async function quickchart(key) {\n",
              "      const quickchartButtonEl =\n",
              "        document.querySelector('#' + key + ' button');\n",
              "      quickchartButtonEl.disabled = true;  // To prevent multiple clicks.\n",
              "      quickchartButtonEl.classList.add('colab-df-spinner');\n",
              "      try {\n",
              "        const charts = await google.colab.kernel.invokeFunction(\n",
              "            'suggestCharts', [key], {});\n",
              "      } catch (error) {\n",
              "        console.error('Error during call to suggestCharts:', error);\n",
              "      }\n",
              "      quickchartButtonEl.classList.remove('colab-df-spinner');\n",
              "      quickchartButtonEl.classList.add('colab-df-quickchart-complete');\n",
              "    }\n",
              "    (() => {\n",
              "      let quickchartButtonEl =\n",
              "        document.querySelector('#df-72fdf4bc-02eb-49c6-825e-4c486c34975c button');\n",
              "      quickchartButtonEl.style.display =\n",
              "        google.colab.kernel.accessAllowed ? 'block' : 'none';\n",
              "    })();\n",
              "  </script>\n",
              "</div>\n",
              "    </div>\n",
              "  </div>\n"
            ],
            "application/vnd.google.colaboratory.intrinsic+json": {
              "type": "dataframe",
              "variable_name": "groupby_data_purpose",
              "summary": "{\n  \"name\": \"groupby_data_purpose\",\n  \"rows\": 4,\n  \"fields\": [\n    {\n      \"column\": \"\\u0426\\u0435\\u043b\\u044c \\u043a\\u0440\\u0435\\u0434\\u0438\\u0442\\u0430\",\n      \"properties\": {\n        \"dtype\": \"string\",\n        \"num_unique_values\": 4,\n        \"samples\": [\n          \"\\u043e\\u043f\\u0435\\u0440\\u0430\\u0446\\u0438\\u0438 \\u0441 \\u043d\\u0435\\u0434\\u0432\\u0438\\u0436\\u0438\\u043c\\u043e\\u0441\\u0442\\u044c\\u044e\",\n          \"\\u043f\\u0440\\u043e\\u0432\\u0435\\u0434\\u0435\\u043d\\u0438\\u0435 \\u0441\\u0432\\u0430\\u0434\\u044c\\u0431\\u044b\",\n          \"\\u043e\\u043f\\u0435\\u0440\\u0430\\u0446\\u0438\\u0438 \\u0441 \\u0430\\u0432\\u0442\\u043e\\u043c\\u043e\\u0431\\u0438\\u043b\\u0435\\u043c\"\n        ],\n        \"semantic_type\": \"\",\n        \"description\": \"\"\n      }\n    },\n    {\n      \"column\": \"\\u041a\\u043e\\u043b-\\u0432\\u043e \\u0437\\u0430\\u0451\\u043c\\u0449\\u0438\\u043a\\u043e\\u0432\",\n      \"properties\": {\n        \"dtype\": \"number\",\n        \"std\": 3714,\n        \"min\": 2313,\n        \"max\": 10751,\n        \"num_unique_values\": 4,\n        \"samples\": [\n          10751,\n          2313,\n          4279\n        ],\n        \"semantic_type\": \"\",\n        \"description\": \"\"\n      }\n    },\n    {\n      \"column\": \"\\u041a\\u043e\\u043b-\\u0432\\u043e \\u0434\\u043e\\u043b\\u0436\\u043d\\u0438\\u043a\\u043e\\u0432\",\n      \"properties\": {\n        \"dtype\": \"number\",\n        \"std\": 250,\n        \"min\": 183,\n        \"max\": 780,\n        \"num_unique_values\": 4,\n        \"samples\": [\n          780,\n          183,\n          400\n        ],\n        \"semantic_type\": \"\",\n        \"description\": \"\"\n      }\n    }\n  ]\n}"
            }
          },
          "metadata": {},
          "execution_count": 30
        }
      ],
      "source": [
        "groupby_data_purpose = data.groupby('purpose_category').agg({'debt':['count','sum']})  # Создадим сводную таблицу методом .groupby() и .agg()\n",
        "groupby_data_purpose.columns = ['Кол-во заёмщиков','Кол-во должников']  # Переименуем многосоставные столбцы методом .columns['']\n",
        "groupby_data_purpose.index.name = 'Цель кредита' # Переименуем столбец(он находится в индексе) по которому группировали данные методом .index.name =  ''\n",
        "groupby_data_purpose # Вывод таблицы на экран"
      ]
    },
    {
      "cell_type": "markdown",
      "id": "12a87e94",
      "metadata": {
        "id": "12a87e94"
      },
      "source": [
        "- 3.В сводной таблице создадим столбец 'Доля должников' для нахождения отношения численности должников к общей численности заёмщиков по целям кредита."
      ]
    },
    {
      "cell_type": "code",
      "execution_count": 31,
      "id": "29a849d0",
      "metadata": {
        "colab": {
          "base_uri": "https://localhost:8080/",
          "height": 206
        },
        "id": "29a849d0",
        "outputId": "17f02956-87b4-4e6c-9642-cc0cfc34d1ae"
      },
      "outputs": [
        {
          "output_type": "execute_result",
          "data": {
            "text/plain": [
              "                          Кол-во заёмщиков  Кол-во должников Доля должников\n",
              "Цель кредита                                                               \n",
              "операции с недвижимостью             10751               780          7.26%\n",
              "проведение свадьбы                    2313               183          7.91%\n",
              "получение образования                 3988               369          9.25%\n",
              "операции с автомобилем                4279               400          9.35%"
            ],
            "text/html": [
              "\n",
              "  <div id=\"df-ad8ad5ad-59fa-48d0-9e25-93980166d959\" class=\"colab-df-container\">\n",
              "    <div>\n",
              "<style scoped>\n",
              "    .dataframe tbody tr th:only-of-type {\n",
              "        vertical-align: middle;\n",
              "    }\n",
              "\n",
              "    .dataframe tbody tr th {\n",
              "        vertical-align: top;\n",
              "    }\n",
              "\n",
              "    .dataframe thead th {\n",
              "        text-align: right;\n",
              "    }\n",
              "</style>\n",
              "<table border=\"1\" class=\"dataframe\">\n",
              "  <thead>\n",
              "    <tr style=\"text-align: right;\">\n",
              "      <th></th>\n",
              "      <th>Кол-во заёмщиков</th>\n",
              "      <th>Кол-во должников</th>\n",
              "      <th>Доля должников</th>\n",
              "    </tr>\n",
              "    <tr>\n",
              "      <th>Цель кредита</th>\n",
              "      <th></th>\n",
              "      <th></th>\n",
              "      <th></th>\n",
              "    </tr>\n",
              "  </thead>\n",
              "  <tbody>\n",
              "    <tr>\n",
              "      <th>операции с недвижимостью</th>\n",
              "      <td>10751</td>\n",
              "      <td>780</td>\n",
              "      <td>7.26%</td>\n",
              "    </tr>\n",
              "    <tr>\n",
              "      <th>проведение свадьбы</th>\n",
              "      <td>2313</td>\n",
              "      <td>183</td>\n",
              "      <td>7.91%</td>\n",
              "    </tr>\n",
              "    <tr>\n",
              "      <th>получение образования</th>\n",
              "      <td>3988</td>\n",
              "      <td>369</td>\n",
              "      <td>9.25%</td>\n",
              "    </tr>\n",
              "    <tr>\n",
              "      <th>операции с автомобилем</th>\n",
              "      <td>4279</td>\n",
              "      <td>400</td>\n",
              "      <td>9.35%</td>\n",
              "    </tr>\n",
              "  </tbody>\n",
              "</table>\n",
              "</div>\n",
              "    <div class=\"colab-df-buttons\">\n",
              "\n",
              "  <div class=\"colab-df-container\">\n",
              "    <button class=\"colab-df-convert\" onclick=\"convertToInteractive('df-ad8ad5ad-59fa-48d0-9e25-93980166d959')\"\n",
              "            title=\"Convert this dataframe to an interactive table.\"\n",
              "            style=\"display:none;\">\n",
              "\n",
              "  <svg xmlns=\"http://www.w3.org/2000/svg\" height=\"24px\" viewBox=\"0 -960 960 960\">\n",
              "    <path d=\"M120-120v-720h720v720H120Zm60-500h600v-160H180v160Zm220 220h160v-160H400v160Zm0 220h160v-160H400v160ZM180-400h160v-160H180v160Zm440 0h160v-160H620v160ZM180-180h160v-160H180v160Zm440 0h160v-160H620v160Z\"/>\n",
              "  </svg>\n",
              "    </button>\n",
              "\n",
              "  <style>\n",
              "    .colab-df-container {\n",
              "      display:flex;\n",
              "      gap: 12px;\n",
              "    }\n",
              "\n",
              "    .colab-df-convert {\n",
              "      background-color: #E8F0FE;\n",
              "      border: none;\n",
              "      border-radius: 50%;\n",
              "      cursor: pointer;\n",
              "      display: none;\n",
              "      fill: #1967D2;\n",
              "      height: 32px;\n",
              "      padding: 0 0 0 0;\n",
              "      width: 32px;\n",
              "    }\n",
              "\n",
              "    .colab-df-convert:hover {\n",
              "      background-color: #E2EBFA;\n",
              "      box-shadow: 0px 1px 2px rgba(60, 64, 67, 0.3), 0px 1px 3px 1px rgba(60, 64, 67, 0.15);\n",
              "      fill: #174EA6;\n",
              "    }\n",
              "\n",
              "    .colab-df-buttons div {\n",
              "      margin-bottom: 4px;\n",
              "    }\n",
              "\n",
              "    [theme=dark] .colab-df-convert {\n",
              "      background-color: #3B4455;\n",
              "      fill: #D2E3FC;\n",
              "    }\n",
              "\n",
              "    [theme=dark] .colab-df-convert:hover {\n",
              "      background-color: #434B5C;\n",
              "      box-shadow: 0px 1px 3px 1px rgba(0, 0, 0, 0.15);\n",
              "      filter: drop-shadow(0px 1px 2px rgba(0, 0, 0, 0.3));\n",
              "      fill: #FFFFFF;\n",
              "    }\n",
              "  </style>\n",
              "\n",
              "    <script>\n",
              "      const buttonEl =\n",
              "        document.querySelector('#df-ad8ad5ad-59fa-48d0-9e25-93980166d959 button.colab-df-convert');\n",
              "      buttonEl.style.display =\n",
              "        google.colab.kernel.accessAllowed ? 'block' : 'none';\n",
              "\n",
              "      async function convertToInteractive(key) {\n",
              "        const element = document.querySelector('#df-ad8ad5ad-59fa-48d0-9e25-93980166d959');\n",
              "        const dataTable =\n",
              "          await google.colab.kernel.invokeFunction('convertToInteractive',\n",
              "                                                    [key], {});\n",
              "        if (!dataTable) return;\n",
              "\n",
              "        const docLinkHtml = 'Like what you see? Visit the ' +\n",
              "          '<a target=\"_blank\" href=https://colab.research.google.com/notebooks/data_table.ipynb>data table notebook</a>'\n",
              "          + ' to learn more about interactive tables.';\n",
              "        element.innerHTML = '';\n",
              "        dataTable['output_type'] = 'display_data';\n",
              "        await google.colab.output.renderOutput(dataTable, element);\n",
              "        const docLink = document.createElement('div');\n",
              "        docLink.innerHTML = docLinkHtml;\n",
              "        element.appendChild(docLink);\n",
              "      }\n",
              "    </script>\n",
              "  </div>\n",
              "\n",
              "\n",
              "<div id=\"df-907291b5-04ed-4d6a-b703-49a11efd13d0\">\n",
              "  <button class=\"colab-df-quickchart\" onclick=\"quickchart('df-907291b5-04ed-4d6a-b703-49a11efd13d0')\"\n",
              "            title=\"Suggest charts\"\n",
              "            style=\"display:none;\">\n",
              "\n",
              "<svg xmlns=\"http://www.w3.org/2000/svg\" height=\"24px\"viewBox=\"0 0 24 24\"\n",
              "     width=\"24px\">\n",
              "    <g>\n",
              "        <path d=\"M19 3H5c-1.1 0-2 .9-2 2v14c0 1.1.9 2 2 2h14c1.1 0 2-.9 2-2V5c0-1.1-.9-2-2-2zM9 17H7v-7h2v7zm4 0h-2V7h2v10zm4 0h-2v-4h2v4z\"/>\n",
              "    </g>\n",
              "</svg>\n",
              "  </button>\n",
              "\n",
              "<style>\n",
              "  .colab-df-quickchart {\n",
              "      --bg-color: #E8F0FE;\n",
              "      --fill-color: #1967D2;\n",
              "      --hover-bg-color: #E2EBFA;\n",
              "      --hover-fill-color: #174EA6;\n",
              "      --disabled-fill-color: #AAA;\n",
              "      --disabled-bg-color: #DDD;\n",
              "  }\n",
              "\n",
              "  [theme=dark] .colab-df-quickchart {\n",
              "      --bg-color: #3B4455;\n",
              "      --fill-color: #D2E3FC;\n",
              "      --hover-bg-color: #434B5C;\n",
              "      --hover-fill-color: #FFFFFF;\n",
              "      --disabled-bg-color: #3B4455;\n",
              "      --disabled-fill-color: #666;\n",
              "  }\n",
              "\n",
              "  .colab-df-quickchart {\n",
              "    background-color: var(--bg-color);\n",
              "    border: none;\n",
              "    border-radius: 50%;\n",
              "    cursor: pointer;\n",
              "    display: none;\n",
              "    fill: var(--fill-color);\n",
              "    height: 32px;\n",
              "    padding: 0;\n",
              "    width: 32px;\n",
              "  }\n",
              "\n",
              "  .colab-df-quickchart:hover {\n",
              "    background-color: var(--hover-bg-color);\n",
              "    box-shadow: 0 1px 2px rgba(60, 64, 67, 0.3), 0 1px 3px 1px rgba(60, 64, 67, 0.15);\n",
              "    fill: var(--button-hover-fill-color);\n",
              "  }\n",
              "\n",
              "  .colab-df-quickchart-complete:disabled,\n",
              "  .colab-df-quickchart-complete:disabled:hover {\n",
              "    background-color: var(--disabled-bg-color);\n",
              "    fill: var(--disabled-fill-color);\n",
              "    box-shadow: none;\n",
              "  }\n",
              "\n",
              "  .colab-df-spinner {\n",
              "    border: 2px solid var(--fill-color);\n",
              "    border-color: transparent;\n",
              "    border-bottom-color: var(--fill-color);\n",
              "    animation:\n",
              "      spin 1s steps(1) infinite;\n",
              "  }\n",
              "\n",
              "  @keyframes spin {\n",
              "    0% {\n",
              "      border-color: transparent;\n",
              "      border-bottom-color: var(--fill-color);\n",
              "      border-left-color: var(--fill-color);\n",
              "    }\n",
              "    20% {\n",
              "      border-color: transparent;\n",
              "      border-left-color: var(--fill-color);\n",
              "      border-top-color: var(--fill-color);\n",
              "    }\n",
              "    30% {\n",
              "      border-color: transparent;\n",
              "      border-left-color: var(--fill-color);\n",
              "      border-top-color: var(--fill-color);\n",
              "      border-right-color: var(--fill-color);\n",
              "    }\n",
              "    40% {\n",
              "      border-color: transparent;\n",
              "      border-right-color: var(--fill-color);\n",
              "      border-top-color: var(--fill-color);\n",
              "    }\n",
              "    60% {\n",
              "      border-color: transparent;\n",
              "      border-right-color: var(--fill-color);\n",
              "    }\n",
              "    80% {\n",
              "      border-color: transparent;\n",
              "      border-right-color: var(--fill-color);\n",
              "      border-bottom-color: var(--fill-color);\n",
              "    }\n",
              "    90% {\n",
              "      border-color: transparent;\n",
              "      border-bottom-color: var(--fill-color);\n",
              "    }\n",
              "  }\n",
              "</style>\n",
              "\n",
              "  <script>\n",
              "    async function quickchart(key) {\n",
              "      const quickchartButtonEl =\n",
              "        document.querySelector('#' + key + ' button');\n",
              "      quickchartButtonEl.disabled = true;  // To prevent multiple clicks.\n",
              "      quickchartButtonEl.classList.add('colab-df-spinner');\n",
              "      try {\n",
              "        const charts = await google.colab.kernel.invokeFunction(\n",
              "            'suggestCharts', [key], {});\n",
              "      } catch (error) {\n",
              "        console.error('Error during call to suggestCharts:', error);\n",
              "      }\n",
              "      quickchartButtonEl.classList.remove('colab-df-spinner');\n",
              "      quickchartButtonEl.classList.add('colab-df-quickchart-complete');\n",
              "    }\n",
              "    (() => {\n",
              "      let quickchartButtonEl =\n",
              "        document.querySelector('#df-907291b5-04ed-4d6a-b703-49a11efd13d0 button');\n",
              "      quickchartButtonEl.style.display =\n",
              "        google.colab.kernel.accessAllowed ? 'block' : 'none';\n",
              "    })();\n",
              "  </script>\n",
              "</div>\n",
              "    </div>\n",
              "  </div>\n"
            ],
            "application/vnd.google.colaboratory.intrinsic+json": {
              "type": "dataframe",
              "variable_name": "groupby_data_purpose",
              "summary": "{\n  \"name\": \"groupby_data_purpose\",\n  \"rows\": 4,\n  \"fields\": [\n    {\n      \"column\": \"\\u0426\\u0435\\u043b\\u044c \\u043a\\u0440\\u0435\\u0434\\u0438\\u0442\\u0430\",\n      \"properties\": {\n        \"dtype\": \"string\",\n        \"num_unique_values\": 4,\n        \"samples\": [\n          \"\\u043f\\u0440\\u043e\\u0432\\u0435\\u0434\\u0435\\u043d\\u0438\\u0435 \\u0441\\u0432\\u0430\\u0434\\u044c\\u0431\\u044b\",\n          \"\\u043e\\u043f\\u0435\\u0440\\u0430\\u0446\\u0438\\u0438 \\u0441 \\u0430\\u0432\\u0442\\u043e\\u043c\\u043e\\u0431\\u0438\\u043b\\u0435\\u043c\",\n          \"\\u043e\\u043f\\u0435\\u0440\\u0430\\u0446\\u0438\\u0438 \\u0441 \\u043d\\u0435\\u0434\\u0432\\u0438\\u0436\\u0438\\u043c\\u043e\\u0441\\u0442\\u044c\\u044e\"\n        ],\n        \"semantic_type\": \"\",\n        \"description\": \"\"\n      }\n    },\n    {\n      \"column\": \"\\u041a\\u043e\\u043b-\\u0432\\u043e \\u0437\\u0430\\u0451\\u043c\\u0449\\u0438\\u043a\\u043e\\u0432\",\n      \"properties\": {\n        \"dtype\": \"number\",\n        \"std\": 3714,\n        \"min\": 2313,\n        \"max\": 10751,\n        \"num_unique_values\": 4,\n        \"samples\": [\n          2313,\n          4279,\n          10751\n        ],\n        \"semantic_type\": \"\",\n        \"description\": \"\"\n      }\n    },\n    {\n      \"column\": \"\\u041a\\u043e\\u043b-\\u0432\\u043e \\u0434\\u043e\\u043b\\u0436\\u043d\\u0438\\u043a\\u043e\\u0432\",\n      \"properties\": {\n        \"dtype\": \"number\",\n        \"std\": 250,\n        \"min\": 183,\n        \"max\": 780,\n        \"num_unique_values\": 4,\n        \"samples\": [\n          183,\n          400,\n          780\n        ],\n        \"semantic_type\": \"\",\n        \"description\": \"\"\n      }\n    },\n    {\n      \"column\": \"\\u0414\\u043e\\u043b\\u044f \\u0434\\u043e\\u043b\\u0436\\u043d\\u0438\\u043a\\u043e\\u0432\",\n      \"properties\": {\n        \"dtype\": \"string\",\n        \"num_unique_values\": 4,\n        \"samples\": [\n          \"7.91%\",\n          \"9.35%\",\n          \"7.26%\"\n        ],\n        \"semantic_type\": \"\",\n        \"description\": \"\"\n      }\n    }\n  ]\n}"
            }
          },
          "metadata": {},
          "execution_count": 31
        }
      ],
      "source": [
        "groupby_data_purpose['Доля должников'] = groupby_data_purpose['Кол-во должников']/groupby_data_purpose['Кол-во заёмщиков'] #Создадим столбец и запишем в него отношения численности должников к общей численности заёмщиков\n",
        "groupby_data_purpose['Доля должников'] = (groupby_data_purpose['Доля должников'] *100).round(2).astype('str') # Переведём столбец в значения % в десятичную дробь с остатком до сотых 1. Для этого ужножем Series на 100 2.Методом .round() округлим значения Series до сотых 3.Изменим тип данных с float на str методом astype().\n",
        "groupby_data_purpose['Доля должников']= groupby_data_purpose['Доля должников'] + '%' # Добавим %\n",
        "groupby_data_purpose = groupby_data_purpose.sort_values(by = 'Доля должников') # Применим метод sort_values() для сортировки столбца 'Доля должников'\n",
        "groupby_data_purpose #groupby_data_purpose"
      ]
    },
    {
      "cell_type": "markdown",
      "id": "cf05ed63",
      "metadata": {
        "deletable": false,
        "id": "cf05ed63"
      },
      "source": [
        "**Вывод:**\n",
        "\n",
        "Благодаря нахождению процентного соотношения доли должников по целям кредита, мы можем сделать следующие выводы:\n",
        "- 1. Заемщик с `ипотечным кредитом` самый  ответственный и исполнительный, вероятность просрочки кредита 7.2 % по данной категории заёмщика.Связано это с тем, что покупка недвижимости зачастую является жизненной необходимостью. Базовая потребность человека иметь собственный угол побуждает людей оформлять ипотеку, а страх конфискации побуждает исправно платить ежемесячные взносы.\n",
        "- 2. Заёмщик с `автокредитом` составил антирейтинг возврата кредита в срок, вероятность просрочки кредита 9.3 % по данной категории заёмщика.\n",
        "- 3. Примечательно, что болле половины всех кредитов были оформлены на цели связанные с недвижимостью."
      ]
    },
    {
      "cell_type": "markdown",
      "id": "57bc304e",
      "metadata": {
        "deletable": false,
        "editable": false,
        "id": "57bc304e"
      },
      "source": [
        "## Общий вывод"
      ]
    },
    {
      "cell_type": "markdown",
      "id": "873ef8f3",
      "metadata": {
        "id": "873ef8f3"
      },
      "source": [
        "**Отвечая на вопросы кредитного отдела банка, мы можем констатировать:**"
      ]
    },
    {
      "cell_type": "markdown",
      "id": "069be769",
      "metadata": {
        "id": "069be769"
      },
      "source": [
        "**1.**\n",
        "- Зависимость между количеством детей и возвратом кредита в срок определённо есть. Рассматривая самые многочисленные категории   заёмщиков было обнаружено, что каждый последующий ребёнок в семье увеличивает потенциальный риск просрочки платежа. В\n",
        "  процентном соотношении это выглядит следующим образом:\n",
        "-  `не имеющий детей 7.5 %`\n",
        "-  `с одним ребёнком 9.2 %`\n",
        "-  `с двумя детьми   9.4 %`\n"
      ]
    },
    {
      "cell_type": "markdown",
      "id": "8de52776",
      "metadata": {
        "id": "8de52776"
      },
      "source": [
        "**2.**\n",
        "- Зависимость между семейным положением и возвратом кредита в срок определённо есть. Рассматривая самые многочисленные категории заёмщиков было обнаружено, что заёмщики с  более 'серьёзным' статусом семейного положения, менее склонны просрочке платежа.В\n",
        "  процентном соотношении это выглядит следующим образом:\n",
        "-  `женат/замужем 7.5 %`\n",
        "-  `гражданский брак 9.3 %`\n",
        "-  `Не женат/не замужем 9.7%`"
      ]
    },
    {
      "cell_type": "markdown",
      "id": "6093679d",
      "metadata": {
        "id": "6093679d"
      },
      "source": [
        "**3.**\n",
        "- Зависимость между уровнем дохода и возвратом кредита в срок определённо есть. Рассматривая самые многочисленные категории заёмщиков было обнаружено, что заёмщики c более высоким доходом менее склонны просрочке платежа. В процентном соотношении это выглядит следующим образом:\n",
        "-  `Заёмщики с уровнем дохода от 200001 до 1000000: 7 %`\n",
        "-  `Заёмщики с уровнем дохода от 50001 до 200000: 8.5 %`"
      ]
    },
    {
      "cell_type": "markdown",
      "id": "c1f4fdee",
      "metadata": {
        "id": "c1f4fdee"
      },
      "source": [
        "**4.**\n",
        "- Зависимость между целями кредита и его возвратом в срок определённо есть. Рассматривая самые многочисленные категории заёмщиков было обнаружено, что заёмщики, котрые берут кредит на операции с недвижимостью  менее склонны к просрочке платежа. Страх остаться без жилья побуждает исправно платить ежемесячные взносы.  В процентном соотношении по остальным категориям  это выглядит следующим образом:\n",
        "-  `операции с недвижимостью: 7.2 %`\n",
        "-  `проведение свадьбы: 7.9 %`\n",
        "-  `получение образования: 9.2%`\n",
        "-  `операции с автомобилем: 9.3%`"
      ]
    },
    {
      "cell_type": "markdown",
      "id": "ac218dfa",
      "metadata": {
        "id": "ac218dfa"
      },
      "source": [
        "**Рекомендации по улучшению системы кредитного скоринга**"
      ]
    },
    {
      "cell_type": "markdown",
      "id": "7f92cbdd",
      "metadata": {
        "id": "7f92cbdd"
      },
      "source": [
        "1. В качестве рекомендаций  хотел бы посоветовать более внимательно относится к выгружаемой информацией в файлах. Произошла техническая ошибка при формировании таблицы с исходными данными, что привело к наличию пропусков в датасете. Стоит обозначить данную проблему отвественному лицу и попытаться предотвратить появление технических сбоев.\n",
        "2. Для улучшения системы кредитного скоринга есть необходимость в добавлении дополнительных параметров и критерий оценки заемщика. Например: ежемесячный расход,должность,кол-во выданных ранее кредитов, сумма выданных кредитов."
      ]
    }
  ],
  "metadata": {
    "ExecuteTimeLog": [
      {
        "duration": 50,
        "start_time": "2023-04-10T17:58:46.626Z"
      },
      {
        "duration": 531,
        "start_time": "2023-04-10T17:59:00.556Z"
      },
      {
        "duration": 23,
        "start_time": "2023-04-10T17:59:01.089Z"
      },
      {
        "duration": 15,
        "start_time": "2023-04-10T17:59:01.114Z"
      },
      {
        "duration": 19,
        "start_time": "2023-04-10T17:59:01.131Z"
      },
      {
        "duration": 56,
        "start_time": "2023-04-10T17:59:01.152Z"
      },
      {
        "duration": 4,
        "start_time": "2023-04-10T17:59:01.210Z"
      },
      {
        "duration": 37,
        "start_time": "2023-04-10T17:59:01.216Z"
      },
      {
        "duration": 36,
        "start_time": "2023-04-10T17:59:01.255Z"
      },
      {
        "duration": 41,
        "start_time": "2023-04-10T17:59:01.293Z"
      },
      {
        "duration": 23,
        "start_time": "2023-04-10T17:59:01.337Z"
      },
      {
        "duration": 68,
        "start_time": "2023-04-10T17:59:01.362Z"
      },
      {
        "duration": 10,
        "start_time": "2023-04-10T17:59:01.432Z"
      },
      {
        "duration": 29,
        "start_time": "2023-04-10T17:59:01.443Z"
      },
      {
        "duration": 27,
        "start_time": "2023-04-10T17:59:01.473Z"
      },
      {
        "duration": 55,
        "start_time": "2023-04-10T17:59:01.501Z"
      },
      {
        "duration": 19,
        "start_time": "2023-04-10T17:59:01.557Z"
      },
      {
        "duration": 21,
        "start_time": "2023-04-10T17:59:01.578Z"
      },
      {
        "duration": 39,
        "start_time": "2023-04-10T17:59:01.601Z"
      },
      {
        "duration": 35,
        "start_time": "2023-04-10T17:59:01.642Z"
      },
      {
        "duration": 23,
        "start_time": "2023-04-10T17:59:01.678Z"
      },
      {
        "duration": 59,
        "start_time": "2023-04-10T17:59:01.703Z"
      },
      {
        "duration": 44,
        "start_time": "2023-04-10T17:59:01.764Z"
      },
      {
        "duration": 25,
        "start_time": "2023-04-10T17:59:01.810Z"
      },
      {
        "duration": 36,
        "start_time": "2023-04-10T17:59:01.837Z"
      },
      {
        "duration": 40,
        "start_time": "2023-04-10T17:59:01.875Z"
      },
      {
        "duration": 7,
        "start_time": "2023-04-10T18:41:06.692Z"
      },
      {
        "duration": 7,
        "start_time": "2023-04-10T18:41:19.004Z"
      },
      {
        "duration": 6,
        "start_time": "2023-04-10T18:43:49.182Z"
      },
      {
        "duration": 8,
        "start_time": "2023-04-10T18:45:47.656Z"
      },
      {
        "duration": 9,
        "start_time": "2023-04-10T18:45:50.727Z"
      },
      {
        "duration": 90,
        "start_time": "2023-04-11T07:27:21.297Z"
      },
      {
        "duration": 860,
        "start_time": "2023-04-11T07:27:33.288Z"
      },
      {
        "duration": 33,
        "start_time": "2023-04-11T07:27:34.151Z"
      },
      {
        "duration": 24,
        "start_time": "2023-04-11T07:27:34.187Z"
      },
      {
        "duration": 17,
        "start_time": "2023-04-11T07:27:34.214Z"
      },
      {
        "duration": 81,
        "start_time": "2023-04-11T07:27:34.233Z"
      },
      {
        "duration": 4,
        "start_time": "2023-04-11T07:27:34.316Z"
      },
      {
        "duration": 21,
        "start_time": "2023-04-11T07:27:34.322Z"
      },
      {
        "duration": 4,
        "start_time": "2023-04-11T07:27:34.346Z"
      },
      {
        "duration": 15,
        "start_time": "2023-04-11T07:27:34.352Z"
      },
      {
        "duration": 7,
        "start_time": "2023-04-11T07:27:34.388Z"
      },
      {
        "duration": 42,
        "start_time": "2023-04-11T07:27:34.397Z"
      },
      {
        "duration": 13,
        "start_time": "2023-04-11T07:27:34.440Z"
      },
      {
        "duration": 11,
        "start_time": "2023-04-11T07:27:34.455Z"
      },
      {
        "duration": 19,
        "start_time": "2023-04-11T07:27:34.489Z"
      },
      {
        "duration": 38,
        "start_time": "2023-04-11T07:27:34.513Z"
      },
      {
        "duration": 37,
        "start_time": "2023-04-11T07:27:34.553Z"
      },
      {
        "duration": 5,
        "start_time": "2023-04-11T07:27:34.593Z"
      },
      {
        "duration": 27,
        "start_time": "2023-04-11T07:27:34.600Z"
      },
      {
        "duration": 15,
        "start_time": "2023-04-11T07:27:34.629Z"
      },
      {
        "duration": 6,
        "start_time": "2023-04-11T07:27:34.647Z"
      },
      {
        "duration": 50,
        "start_time": "2023-04-11T07:27:34.655Z"
      },
      {
        "duration": 12,
        "start_time": "2023-04-11T07:27:34.707Z"
      },
      {
        "duration": 3,
        "start_time": "2023-04-11T07:27:34.721Z"
      },
      {
        "duration": 16,
        "start_time": "2023-04-11T07:27:34.726Z"
      },
      {
        "duration": 5,
        "start_time": "2023-04-11T07:27:34.746Z"
      },
      {
        "duration": 10,
        "start_time": "2023-04-11T07:28:12.998Z"
      },
      {
        "duration": 9,
        "start_time": "2023-04-11T07:30:51.508Z"
      },
      {
        "duration": 8,
        "start_time": "2023-04-11T07:33:59.276Z"
      },
      {
        "duration": 9,
        "start_time": "2023-04-11T08:17:05.255Z"
      },
      {
        "duration": 17,
        "start_time": "2023-04-11T08:21:16.509Z"
      },
      {
        "duration": 4,
        "start_time": "2023-04-11T08:21:20.108Z"
      },
      {
        "duration": 13,
        "start_time": "2023-04-11T08:21:20.540Z"
      },
      {
        "duration": 78,
        "start_time": "2023-04-11T08:56:51.166Z"
      },
      {
        "duration": 246,
        "start_time": "2023-04-11T08:59:04.090Z"
      },
      {
        "duration": 5,
        "start_time": "2023-04-11T09:49:40.505Z"
      },
      {
        "duration": 6,
        "start_time": "2023-04-11T09:49:57.453Z"
      },
      {
        "duration": 84,
        "start_time": "2023-04-11T13:05:52.095Z"
      },
      {
        "duration": 788,
        "start_time": "2023-04-11T13:06:01.944Z"
      },
      {
        "duration": 32,
        "start_time": "2023-04-11T13:06:02.735Z"
      },
      {
        "duration": 91,
        "start_time": "2023-04-11T13:06:02.769Z"
      },
      {
        "duration": 25,
        "start_time": "2023-04-11T13:06:02.862Z"
      },
      {
        "duration": 43,
        "start_time": "2023-04-11T13:06:02.890Z"
      },
      {
        "duration": 21,
        "start_time": "2023-04-11T13:06:02.935Z"
      },
      {
        "duration": 35,
        "start_time": "2023-04-11T13:06:02.958Z"
      },
      {
        "duration": 21,
        "start_time": "2023-04-11T13:06:02.995Z"
      },
      {
        "duration": 44,
        "start_time": "2023-04-11T13:06:03.017Z"
      },
      {
        "duration": 25,
        "start_time": "2023-04-11T13:06:03.062Z"
      },
      {
        "duration": 49,
        "start_time": "2023-04-11T13:06:03.089Z"
      },
      {
        "duration": 10,
        "start_time": "2023-04-11T13:06:03.140Z"
      },
      {
        "duration": 10,
        "start_time": "2023-04-11T13:06:03.152Z"
      },
      {
        "duration": 29,
        "start_time": "2023-04-11T13:06:03.165Z"
      },
      {
        "duration": 31,
        "start_time": "2023-04-11T13:06:03.196Z"
      },
      {
        "duration": 23,
        "start_time": "2023-04-11T13:06:03.229Z"
      },
      {
        "duration": 5,
        "start_time": "2023-04-11T13:06:03.254Z"
      },
      {
        "duration": 43,
        "start_time": "2023-04-11T13:06:03.261Z"
      },
      {
        "duration": 41,
        "start_time": "2023-04-11T13:06:03.305Z"
      },
      {
        "duration": 36,
        "start_time": "2023-04-11T13:06:03.348Z"
      },
      {
        "duration": 43,
        "start_time": "2023-04-11T13:06:03.387Z"
      },
      {
        "duration": 72,
        "start_time": "2023-04-11T13:06:03.433Z"
      },
      {
        "duration": 0,
        "start_time": "2023-04-11T13:06:03.517Z"
      },
      {
        "duration": 0,
        "start_time": "2023-04-11T13:06:03.519Z"
      },
      {
        "duration": 0,
        "start_time": "2023-04-11T13:06:03.521Z"
      },
      {
        "duration": 16,
        "start_time": "2023-04-11T13:07:27.830Z"
      },
      {
        "duration": 17,
        "start_time": "2023-04-11T13:07:31.165Z"
      },
      {
        "duration": 163,
        "start_time": "2023-04-11T13:07:44.269Z"
      },
      {
        "duration": 97,
        "start_time": "2023-04-11T13:08:44.356Z"
      },
      {
        "duration": 24,
        "start_time": "2023-04-11T13:09:58.884Z"
      },
      {
        "duration": 31,
        "start_time": "2023-04-11T13:12:24.238Z"
      },
      {
        "duration": 22,
        "start_time": "2023-04-11T13:13:42.016Z"
      },
      {
        "duration": 33,
        "start_time": "2023-04-11T13:13:54.150Z"
      },
      {
        "duration": 16,
        "start_time": "2023-04-11T13:14:07.268Z"
      },
      {
        "duration": 13,
        "start_time": "2023-04-11T13:14:14.847Z"
      },
      {
        "duration": 8,
        "start_time": "2023-04-11T13:14:41.015Z"
      },
      {
        "duration": 11,
        "start_time": "2023-04-11T13:18:31.372Z"
      },
      {
        "duration": 13,
        "start_time": "2023-04-11T13:18:45.139Z"
      },
      {
        "duration": 4,
        "start_time": "2023-04-11T13:19:15.453Z"
      },
      {
        "duration": 13,
        "start_time": "2023-04-11T13:19:16.173Z"
      },
      {
        "duration": 126,
        "start_time": "2023-04-11T13:19:40.966Z"
      },
      {
        "duration": 6,
        "start_time": "2023-04-11T13:19:54.959Z"
      },
      {
        "duration": 15,
        "start_time": "2023-04-11T13:19:57.454Z"
      },
      {
        "duration": 18,
        "start_time": "2023-04-11T13:21:34.749Z"
      },
      {
        "duration": 17,
        "start_time": "2023-04-11T14:02:06.079Z"
      },
      {
        "duration": 17,
        "start_time": "2023-04-11T14:05:39.664Z"
      },
      {
        "duration": 16,
        "start_time": "2023-04-11T14:06:32.905Z"
      },
      {
        "duration": 37,
        "start_time": "2023-04-11T14:06:38.715Z"
      },
      {
        "duration": 14,
        "start_time": "2023-04-11T14:10:19.466Z"
      },
      {
        "duration": 12,
        "start_time": "2023-04-11T14:12:43.969Z"
      },
      {
        "duration": 17,
        "start_time": "2023-04-11T14:12:53.836Z"
      },
      {
        "duration": 12,
        "start_time": "2023-04-11T16:37:36.689Z"
      },
      {
        "duration": 7,
        "start_time": "2023-04-11T16:38:05.613Z"
      },
      {
        "duration": 10,
        "start_time": "2023-04-11T16:39:59.365Z"
      },
      {
        "duration": 9,
        "start_time": "2023-04-11T16:40:18.938Z"
      },
      {
        "duration": 6,
        "start_time": "2023-04-11T16:41:48.664Z"
      },
      {
        "duration": 7,
        "start_time": "2023-04-11T16:53:26.698Z"
      },
      {
        "duration": 8,
        "start_time": "2023-04-11T16:53:29.654Z"
      },
      {
        "duration": 10,
        "start_time": "2023-04-11T16:56:01.694Z"
      },
      {
        "duration": 14,
        "start_time": "2023-04-11T16:56:02.474Z"
      },
      {
        "duration": 10,
        "start_time": "2023-04-11T17:01:36.796Z"
      },
      {
        "duration": 12,
        "start_time": "2023-04-11T17:04:38.914Z"
      },
      {
        "duration": 8,
        "start_time": "2023-04-11T17:04:39.536Z"
      },
      {
        "duration": 12,
        "start_time": "2023-04-11T17:05:56.816Z"
      },
      {
        "duration": 505,
        "start_time": "2023-04-11T17:06:11.846Z"
      },
      {
        "duration": 24,
        "start_time": "2023-04-11T17:06:12.353Z"
      },
      {
        "duration": 48,
        "start_time": "2023-04-11T17:06:12.378Z"
      },
      {
        "duration": 36,
        "start_time": "2023-04-11T17:06:12.430Z"
      },
      {
        "duration": 75,
        "start_time": "2023-04-11T17:06:12.468Z"
      },
      {
        "duration": 5,
        "start_time": "2023-04-11T17:06:12.545Z"
      },
      {
        "duration": 23,
        "start_time": "2023-04-11T17:06:12.552Z"
      },
      {
        "duration": 34,
        "start_time": "2023-04-11T17:06:12.577Z"
      },
      {
        "duration": 35,
        "start_time": "2023-04-11T17:06:12.613Z"
      },
      {
        "duration": 9,
        "start_time": "2023-04-11T17:06:12.652Z"
      },
      {
        "duration": 74,
        "start_time": "2023-04-11T17:06:12.663Z"
      },
      {
        "duration": 16,
        "start_time": "2023-04-11T17:06:12.740Z"
      },
      {
        "duration": 23,
        "start_time": "2023-04-11T17:06:12.758Z"
      },
      {
        "duration": 20,
        "start_time": "2023-04-11T17:06:12.783Z"
      },
      {
        "duration": 28,
        "start_time": "2023-04-11T17:06:12.805Z"
      },
      {
        "duration": 20,
        "start_time": "2023-04-11T17:06:12.835Z"
      },
      {
        "duration": 4,
        "start_time": "2023-04-11T17:06:12.857Z"
      },
      {
        "duration": 18,
        "start_time": "2023-04-11T17:06:12.862Z"
      },
      {
        "duration": 35,
        "start_time": "2023-04-11T17:06:12.881Z"
      },
      {
        "duration": 18,
        "start_time": "2023-04-11T17:06:12.928Z"
      },
      {
        "duration": 51,
        "start_time": "2023-04-11T17:06:12.948Z"
      },
      {
        "duration": 53,
        "start_time": "2023-04-11T17:06:13.001Z"
      },
      {
        "duration": 93,
        "start_time": "2023-04-11T17:06:13.055Z"
      },
      {
        "duration": 0,
        "start_time": "2023-04-11T17:06:13.149Z"
      },
      {
        "duration": 0,
        "start_time": "2023-04-11T17:06:13.151Z"
      },
      {
        "duration": 0,
        "start_time": "2023-04-11T17:06:13.153Z"
      },
      {
        "duration": 0,
        "start_time": "2023-04-11T17:06:13.155Z"
      },
      {
        "duration": 0,
        "start_time": "2023-04-11T17:06:13.156Z"
      },
      {
        "duration": 8,
        "start_time": "2023-04-11T17:07:09.785Z"
      },
      {
        "duration": 9,
        "start_time": "2023-04-11T17:07:13.085Z"
      },
      {
        "duration": 8,
        "start_time": "2023-04-11T17:07:13.533Z"
      },
      {
        "duration": 8,
        "start_time": "2023-04-11T17:07:30.520Z"
      },
      {
        "duration": 10,
        "start_time": "2023-04-11T17:07:33.040Z"
      },
      {
        "duration": 12,
        "start_time": "2023-04-11T17:07:33.416Z"
      },
      {
        "duration": 10,
        "start_time": "2023-04-11T17:08:02.748Z"
      },
      {
        "duration": 9,
        "start_time": "2023-04-11T17:08:03.288Z"
      },
      {
        "duration": 12,
        "start_time": "2023-04-11T17:08:29.975Z"
      },
      {
        "duration": 18,
        "start_time": "2023-04-11T17:08:30.509Z"
      },
      {
        "duration": 21,
        "start_time": "2023-04-11T17:09:57.513Z"
      },
      {
        "duration": 4,
        "start_time": "2023-04-11T17:09:57.984Z"
      },
      {
        "duration": 12,
        "start_time": "2023-04-11T17:10:00.299Z"
      },
      {
        "duration": 10,
        "start_time": "2023-04-11T17:12:54.373Z"
      },
      {
        "duration": 3,
        "start_time": "2023-04-11T17:12:55.498Z"
      },
      {
        "duration": 31,
        "start_time": "2023-04-11T17:12:58.146Z"
      },
      {
        "duration": 12,
        "start_time": "2023-04-11T17:13:07.929Z"
      },
      {
        "duration": 10,
        "start_time": "2023-04-11T17:13:46.532Z"
      },
      {
        "duration": 1841,
        "start_time": "2023-04-11T17:13:47.568Z"
      },
      {
        "duration": 15,
        "start_time": "2023-04-11T17:15:07.813Z"
      },
      {
        "duration": 10,
        "start_time": "2023-04-11T17:36:08.069Z"
      },
      {
        "duration": 1459,
        "start_time": "2023-04-11T17:36:11.823Z"
      },
      {
        "duration": 10,
        "start_time": "2023-04-11T17:36:35.568Z"
      },
      {
        "duration": 1352,
        "start_time": "2023-04-11T17:36:36.730Z"
      },
      {
        "duration": 93,
        "start_time": "2023-04-11T17:47:11.433Z"
      },
      {
        "duration": 9,
        "start_time": "2023-04-11T17:57:16.707Z"
      },
      {
        "duration": 11,
        "start_time": "2023-04-11T17:59:57.658Z"
      },
      {
        "duration": 10,
        "start_time": "2023-04-11T18:07:50.950Z"
      },
      {
        "duration": 9,
        "start_time": "2023-04-11T18:09:29.408Z"
      },
      {
        "duration": 1256,
        "start_time": "2023-04-11T18:09:31.478Z"
      },
      {
        "duration": 738,
        "start_time": "2023-04-11T18:11:10.418Z"
      },
      {
        "duration": 4,
        "start_time": "2023-04-11T18:18:09.268Z"
      },
      {
        "duration": 4,
        "start_time": "2023-04-11T18:18:15.266Z"
      },
      {
        "duration": 5,
        "start_time": "2023-04-11T18:18:28.599Z"
      },
      {
        "duration": 10,
        "start_time": "2023-04-11T18:18:59.243Z"
      },
      {
        "duration": 9,
        "start_time": "2023-04-11T18:21:47.464Z"
      },
      {
        "duration": 3,
        "start_time": "2023-04-11T18:21:47.889Z"
      },
      {
        "duration": 10,
        "start_time": "2023-04-11T18:22:08.168Z"
      },
      {
        "duration": 4,
        "start_time": "2023-04-11T18:22:08.584Z"
      },
      {
        "duration": 4,
        "start_time": "2023-04-11T18:22:09.123Z"
      },
      {
        "duration": 786,
        "start_time": "2023-04-11T18:25:06.892Z"
      },
      {
        "duration": 10,
        "start_time": "2023-04-11T18:25:18.942Z"
      },
      {
        "duration": 4,
        "start_time": "2023-04-11T18:25:19.322Z"
      },
      {
        "duration": 19,
        "start_time": "2023-04-11T18:25:19.898Z"
      },
      {
        "duration": 9,
        "start_time": "2023-04-11T18:25:47.318Z"
      },
      {
        "duration": 4,
        "start_time": "2023-04-11T18:25:47.723Z"
      },
      {
        "duration": 607,
        "start_time": "2023-04-11T18:25:48.302Z"
      },
      {
        "duration": 19,
        "start_time": "2023-04-11T18:25:59.628Z"
      },
      {
        "duration": 17,
        "start_time": "2023-04-11T18:26:01.278Z"
      },
      {
        "duration": 13,
        "start_time": "2023-04-11T18:27:16.742Z"
      },
      {
        "duration": 4,
        "start_time": "2023-04-11T18:27:17.406Z"
      },
      {
        "duration": 19,
        "start_time": "2023-04-11T18:27:17.734Z"
      },
      {
        "duration": 8,
        "start_time": "2023-04-11T18:28:00.542Z"
      },
      {
        "duration": 4,
        "start_time": "2023-04-11T18:28:01.139Z"
      },
      {
        "duration": 20,
        "start_time": "2023-04-11T18:28:01.678Z"
      },
      {
        "duration": 8,
        "start_time": "2023-04-11T18:30:57.119Z"
      },
      {
        "duration": 4,
        "start_time": "2023-04-11T18:30:57.613Z"
      },
      {
        "duration": 5,
        "start_time": "2023-04-11T18:31:05.691Z"
      },
      {
        "duration": 9,
        "start_time": "2023-04-11T18:31:35.181Z"
      },
      {
        "duration": 3,
        "start_time": "2023-04-11T18:31:39.086Z"
      },
      {
        "duration": 10,
        "start_time": "2023-04-11T18:31:39.471Z"
      },
      {
        "duration": 8,
        "start_time": "2023-04-11T18:32:15.059Z"
      },
      {
        "duration": 3,
        "start_time": "2023-04-11T18:32:15.715Z"
      },
      {
        "duration": 4,
        "start_time": "2023-04-11T18:32:16.773Z"
      },
      {
        "duration": 10,
        "start_time": "2023-04-11T18:32:35.677Z"
      },
      {
        "duration": 10,
        "start_time": "2023-04-11T18:32:36.035Z"
      },
      {
        "duration": 10,
        "start_time": "2023-04-11T18:33:23.007Z"
      },
      {
        "duration": 243,
        "start_time": "2023-04-11T18:33:24.868Z"
      },
      {
        "duration": 5,
        "start_time": "2023-04-11T18:33:25.492Z"
      },
      {
        "duration": 10,
        "start_time": "2023-04-11T18:33:46.185Z"
      },
      {
        "duration": 4,
        "start_time": "2023-04-11T18:33:46.927Z"
      },
      {
        "duration": 8,
        "start_time": "2023-04-11T18:35:57.793Z"
      },
      {
        "duration": 9,
        "start_time": "2023-04-11T18:35:58.577Z"
      },
      {
        "duration": 8,
        "start_time": "2023-04-11T18:36:15.573Z"
      },
      {
        "duration": 4,
        "start_time": "2023-04-11T18:36:16.103Z"
      },
      {
        "duration": 3,
        "start_time": "2023-04-11T18:36:16.923Z"
      },
      {
        "duration": 5,
        "start_time": "2023-04-11T18:36:23.105Z"
      },
      {
        "duration": 4,
        "start_time": "2023-04-11T18:36:48.135Z"
      },
      {
        "duration": 3,
        "start_time": "2023-04-11T18:36:48.837Z"
      },
      {
        "duration": 4,
        "start_time": "2023-04-11T18:36:53.194Z"
      },
      {
        "duration": 3,
        "start_time": "2023-04-11T18:36:53.737Z"
      },
      {
        "duration": 67,
        "start_time": "2023-04-11T18:37:07.187Z"
      },
      {
        "duration": 3,
        "start_time": "2023-04-11T18:37:29.360Z"
      },
      {
        "duration": 3,
        "start_time": "2023-04-11T18:37:29.891Z"
      },
      {
        "duration": 2,
        "start_time": "2023-04-11T18:37:42.667Z"
      },
      {
        "duration": 3,
        "start_time": "2023-04-11T18:38:03.057Z"
      },
      {
        "duration": 3,
        "start_time": "2023-04-11T18:38:03.481Z"
      },
      {
        "duration": 17,
        "start_time": "2023-04-11T18:38:05.057Z"
      },
      {
        "duration": 3,
        "start_time": "2023-04-11T18:38:10.791Z"
      },
      {
        "duration": 2,
        "start_time": "2023-04-11T18:38:11.051Z"
      },
      {
        "duration": 3,
        "start_time": "2023-04-11T18:38:55.721Z"
      },
      {
        "duration": 3,
        "start_time": "2023-04-11T18:38:56.181Z"
      },
      {
        "duration": 3,
        "start_time": "2023-04-11T18:38:56.657Z"
      },
      {
        "duration": 4,
        "start_time": "2023-04-11T18:39:22.647Z"
      },
      {
        "duration": 2,
        "start_time": "2023-04-11T18:39:23.242Z"
      },
      {
        "duration": 3,
        "start_time": "2023-04-11T18:39:23.771Z"
      },
      {
        "duration": 4,
        "start_time": "2023-04-11T18:40:06.137Z"
      },
      {
        "duration": 3,
        "start_time": "2023-04-11T18:40:06.645Z"
      },
      {
        "duration": 2,
        "start_time": "2023-04-11T18:40:07.052Z"
      },
      {
        "duration": 15,
        "start_time": "2023-04-11T18:40:07.773Z"
      },
      {
        "duration": 4,
        "start_time": "2023-04-11T18:40:17.351Z"
      },
      {
        "duration": 3,
        "start_time": "2023-04-11T18:40:17.795Z"
      },
      {
        "duration": 2,
        "start_time": "2023-04-11T18:40:18.207Z"
      },
      {
        "duration": 5,
        "start_time": "2023-04-11T18:40:23.269Z"
      },
      {
        "duration": 2,
        "start_time": "2023-04-11T18:40:23.651Z"
      },
      {
        "duration": 2,
        "start_time": "2023-04-11T18:40:24.037Z"
      },
      {
        "duration": 8,
        "start_time": "2023-04-11T18:41:51.807Z"
      },
      {
        "duration": 64,
        "start_time": "2023-04-11T18:41:52.201Z"
      },
      {
        "duration": 3,
        "start_time": "2023-04-11T18:41:52.590Z"
      },
      {
        "duration": 9,
        "start_time": "2023-04-11T18:42:00.980Z"
      },
      {
        "duration": 243,
        "start_time": "2023-04-11T18:42:01.379Z"
      },
      {
        "duration": 3,
        "start_time": "2023-04-11T18:42:02.281Z"
      },
      {
        "duration": 8,
        "start_time": "2023-04-11T18:43:31.048Z"
      },
      {
        "duration": 4,
        "start_time": "2023-04-11T18:43:31.605Z"
      },
      {
        "duration": 13,
        "start_time": "2023-04-11T18:43:32.233Z"
      },
      {
        "duration": 3,
        "start_time": "2023-04-11T18:43:32.947Z"
      },
      {
        "duration": 5,
        "start_time": "2023-04-11T18:44:05.152Z"
      },
      {
        "duration": 12,
        "start_time": "2023-04-11T18:44:05.570Z"
      },
      {
        "duration": 12,
        "start_time": "2023-04-11T18:47:32.253Z"
      },
      {
        "duration": 131,
        "start_time": "2023-04-11T18:47:32.641Z"
      },
      {
        "duration": 19,
        "start_time": "2023-04-11T18:47:34.740Z"
      },
      {
        "duration": 10,
        "start_time": "2023-04-11T18:48:20.979Z"
      },
      {
        "duration": 60,
        "start_time": "2023-04-11T18:48:21.385Z"
      },
      {
        "duration": 22,
        "start_time": "2023-04-11T18:48:21.852Z"
      },
      {
        "duration": 49,
        "start_time": "2023-04-12T07:38:45.764Z"
      },
      {
        "duration": 523,
        "start_time": "2023-04-12T07:39:03.935Z"
      },
      {
        "duration": 26,
        "start_time": "2023-04-12T07:39:04.460Z"
      },
      {
        "duration": 15,
        "start_time": "2023-04-12T07:39:04.488Z"
      },
      {
        "duration": 13,
        "start_time": "2023-04-12T07:39:04.505Z"
      },
      {
        "duration": 45,
        "start_time": "2023-04-12T07:39:04.520Z"
      },
      {
        "duration": 3,
        "start_time": "2023-04-12T07:39:04.567Z"
      },
      {
        "duration": 20,
        "start_time": "2023-04-12T07:39:04.572Z"
      },
      {
        "duration": 5,
        "start_time": "2023-04-12T07:39:04.593Z"
      },
      {
        "duration": 10,
        "start_time": "2023-04-12T07:39:04.600Z"
      },
      {
        "duration": 5,
        "start_time": "2023-04-12T07:39:04.613Z"
      },
      {
        "duration": 40,
        "start_time": "2023-04-12T07:39:04.619Z"
      },
      {
        "duration": 29,
        "start_time": "2023-04-12T07:39:04.661Z"
      },
      {
        "duration": 12,
        "start_time": "2023-04-12T07:39:04.692Z"
      },
      {
        "duration": 26,
        "start_time": "2023-04-12T07:39:04.706Z"
      },
      {
        "duration": 26,
        "start_time": "2023-04-12T07:39:04.734Z"
      },
      {
        "duration": 20,
        "start_time": "2023-04-12T07:39:04.762Z"
      },
      {
        "duration": 6,
        "start_time": "2023-04-12T07:39:04.784Z"
      },
      {
        "duration": 12,
        "start_time": "2023-04-12T07:39:04.792Z"
      },
      {
        "duration": 10,
        "start_time": "2023-04-12T07:39:04.806Z"
      },
      {
        "duration": 5,
        "start_time": "2023-04-12T07:39:04.818Z"
      },
      {
        "duration": 20,
        "start_time": "2023-04-12T07:39:04.824Z"
      },
      {
        "duration": 12,
        "start_time": "2023-04-12T07:39:04.847Z"
      },
      {
        "duration": 71,
        "start_time": "2023-04-12T07:39:04.861Z"
      },
      {
        "duration": 0,
        "start_time": "2023-04-12T07:39:04.934Z"
      },
      {
        "duration": 0,
        "start_time": "2023-04-12T07:39:04.936Z"
      },
      {
        "duration": 0,
        "start_time": "2023-04-12T07:39:04.937Z"
      },
      {
        "duration": 0,
        "start_time": "2023-04-12T07:39:04.939Z"
      },
      {
        "duration": 0,
        "start_time": "2023-04-12T07:39:04.941Z"
      },
      {
        "duration": 1,
        "start_time": "2023-04-12T07:39:04.942Z"
      },
      {
        "duration": 9,
        "start_time": "2023-04-12T07:39:51.263Z"
      },
      {
        "duration": 7,
        "start_time": "2023-04-12T07:39:53.039Z"
      },
      {
        "duration": 8,
        "start_time": "2023-04-12T07:54:32.202Z"
      },
      {
        "duration": 78,
        "start_time": "2023-04-12T07:55:10.802Z"
      },
      {
        "duration": 1476,
        "start_time": "2023-04-12T07:55:11.285Z"
      },
      {
        "duration": 0,
        "start_time": "2023-04-12T07:55:12.763Z"
      },
      {
        "duration": 18,
        "start_time": "2023-04-12T07:55:13.157Z"
      },
      {
        "duration": 7,
        "start_time": "2023-04-12T08:06:27.445Z"
      },
      {
        "duration": 10,
        "start_time": "2023-04-12T08:06:27.883Z"
      },
      {
        "duration": 1300,
        "start_time": "2023-04-12T08:06:28.675Z"
      },
      {
        "duration": 7,
        "start_time": "2023-04-12T08:06:59.439Z"
      },
      {
        "duration": 4,
        "start_time": "2023-04-12T08:06:59.933Z"
      },
      {
        "duration": 1542,
        "start_time": "2023-04-12T08:07:00.569Z"
      },
      {
        "duration": 1,
        "start_time": "2023-04-12T08:07:02.113Z"
      },
      {
        "duration": 10,
        "start_time": "2023-04-12T08:08:52.270Z"
      },
      {
        "duration": 5,
        "start_time": "2023-04-12T08:08:52.853Z"
      },
      {
        "duration": 2813,
        "start_time": "2023-04-12T08:08:53.404Z"
      },
      {
        "duration": 5,
        "start_time": "2023-04-12T08:09:23.753Z"
      },
      {
        "duration": 10,
        "start_time": "2023-04-12T08:09:24.168Z"
      },
      {
        "duration": 8,
        "start_time": "2023-04-12T08:09:25.715Z"
      },
      {
        "duration": 5,
        "start_time": "2023-04-12T08:09:26.231Z"
      },
      {
        "duration": 2408,
        "start_time": "2023-04-12T08:09:26.804Z"
      },
      {
        "duration": 11,
        "start_time": "2023-04-12T08:16:19.542Z"
      },
      {
        "duration": 3,
        "start_time": "2023-04-12T08:16:20.191Z"
      },
      {
        "duration": 1227,
        "start_time": "2023-04-12T08:16:20.736Z"
      },
      {
        "duration": 52,
        "start_time": "2023-04-12T10:41:08.018Z"
      },
      {
        "duration": 814,
        "start_time": "2023-04-12T10:41:29.312Z"
      },
      {
        "duration": 23,
        "start_time": "2023-04-12T10:41:30.128Z"
      },
      {
        "duration": 66,
        "start_time": "2023-04-12T10:41:30.153Z"
      },
      {
        "duration": 63,
        "start_time": "2023-04-12T10:41:30.221Z"
      },
      {
        "duration": 147,
        "start_time": "2023-04-12T10:41:30.287Z"
      },
      {
        "duration": 90,
        "start_time": "2023-04-12T10:41:30.437Z"
      },
      {
        "duration": 50,
        "start_time": "2023-04-12T10:41:30.529Z"
      },
      {
        "duration": 65,
        "start_time": "2023-04-12T10:41:30.581Z"
      },
      {
        "duration": 48,
        "start_time": "2023-04-12T10:41:30.648Z"
      },
      {
        "duration": 35,
        "start_time": "2023-04-12T10:41:30.698Z"
      },
      {
        "duration": 89,
        "start_time": "2023-04-12T10:41:30.735Z"
      },
      {
        "duration": 21,
        "start_time": "2023-04-12T10:41:30.826Z"
      },
      {
        "duration": 36,
        "start_time": "2023-04-12T10:41:30.848Z"
      },
      {
        "duration": 61,
        "start_time": "2023-04-12T10:41:30.887Z"
      },
      {
        "duration": 51,
        "start_time": "2023-04-12T10:41:30.950Z"
      },
      {
        "duration": 40,
        "start_time": "2023-04-12T10:41:31.003Z"
      },
      {
        "duration": 28,
        "start_time": "2023-04-12T10:41:31.044Z"
      },
      {
        "duration": 47,
        "start_time": "2023-04-12T10:41:31.074Z"
      },
      {
        "duration": 32,
        "start_time": "2023-04-12T10:41:31.123Z"
      },
      {
        "duration": 57,
        "start_time": "2023-04-12T10:41:31.156Z"
      },
      {
        "duration": 114,
        "start_time": "2023-04-12T10:41:31.214Z"
      },
      {
        "duration": 0,
        "start_time": "2023-04-12T10:41:31.329Z"
      },
      {
        "duration": 0,
        "start_time": "2023-04-12T10:41:31.331Z"
      },
      {
        "duration": 0,
        "start_time": "2023-04-12T10:41:31.332Z"
      },
      {
        "duration": 0,
        "start_time": "2023-04-12T10:41:31.333Z"
      },
      {
        "duration": 0,
        "start_time": "2023-04-12T10:41:31.334Z"
      },
      {
        "duration": 0,
        "start_time": "2023-04-12T10:41:31.335Z"
      },
      {
        "duration": 0,
        "start_time": "2023-04-12T10:41:31.336Z"
      },
      {
        "duration": 7,
        "start_time": "2023-04-12T10:41:53.559Z"
      },
      {
        "duration": 9,
        "start_time": "2023-04-12T10:42:03.950Z"
      },
      {
        "duration": 12,
        "start_time": "2023-04-12T10:42:23.416Z"
      },
      {
        "duration": 21,
        "start_time": "2023-04-12T10:42:35.414Z"
      },
      {
        "duration": 14,
        "start_time": "2023-04-12T10:45:41.330Z"
      },
      {
        "duration": 9,
        "start_time": "2023-04-12T10:45:43.409Z"
      },
      {
        "duration": 8,
        "start_time": "2023-04-12T10:45:58.563Z"
      },
      {
        "duration": 12,
        "start_time": "2023-04-12T10:46:12.933Z"
      },
      {
        "duration": 12,
        "start_time": "2023-04-12T10:46:23.649Z"
      },
      {
        "duration": 8,
        "start_time": "2023-04-12T10:46:24.609Z"
      },
      {
        "duration": 100,
        "start_time": "2023-04-12T10:46:49.200Z"
      },
      {
        "duration": 10,
        "start_time": "2023-04-12T10:46:59.309Z"
      },
      {
        "duration": 255,
        "start_time": "2023-04-12T10:47:35.341Z"
      },
      {
        "duration": 13,
        "start_time": "2023-04-12T10:47:35.943Z"
      },
      {
        "duration": 12,
        "start_time": "2023-04-12T10:47:58.483Z"
      },
      {
        "duration": 11,
        "start_time": "2023-04-12T10:47:59.269Z"
      },
      {
        "duration": 25,
        "start_time": "2023-04-12T10:48:19.813Z"
      },
      {
        "duration": 20,
        "start_time": "2023-04-12T10:49:16.714Z"
      },
      {
        "duration": 9,
        "start_time": "2023-04-12T10:49:17.279Z"
      },
      {
        "duration": 12,
        "start_time": "2023-04-12T10:51:19.151Z"
      },
      {
        "duration": 9,
        "start_time": "2023-04-12T10:51:37.149Z"
      },
      {
        "duration": 8,
        "start_time": "2023-04-12T10:51:38.009Z"
      },
      {
        "duration": 11,
        "start_time": "2023-04-12T10:52:39.245Z"
      },
      {
        "duration": 14,
        "start_time": "2023-04-12T10:53:53.005Z"
      },
      {
        "duration": 4,
        "start_time": "2023-04-12T10:53:53.509Z"
      },
      {
        "duration": 12,
        "start_time": "2023-04-12T10:54:05.464Z"
      },
      {
        "duration": 13,
        "start_time": "2023-04-12T10:54:06.005Z"
      },
      {
        "duration": 13,
        "start_time": "2023-04-12T10:56:16.067Z"
      },
      {
        "duration": 13,
        "start_time": "2023-04-12T10:56:16.580Z"
      },
      {
        "duration": 12,
        "start_time": "2023-04-12T11:02:55.227Z"
      },
      {
        "duration": 13,
        "start_time": "2023-04-12T11:03:18.869Z"
      },
      {
        "duration": 26,
        "start_time": "2023-04-12T11:03:59.763Z"
      },
      {
        "duration": 19,
        "start_time": "2023-04-12T11:04:26.820Z"
      },
      {
        "duration": 16,
        "start_time": "2023-04-12T11:29:22.110Z"
      },
      {
        "duration": 8,
        "start_time": "2023-04-12T11:31:34.879Z"
      },
      {
        "duration": 7,
        "start_time": "2023-04-12T11:32:02.037Z"
      },
      {
        "duration": 8,
        "start_time": "2023-04-12T11:32:15.094Z"
      },
      {
        "duration": 5,
        "start_time": "2023-04-12T11:33:36.095Z"
      },
      {
        "duration": 8,
        "start_time": "2023-04-12T11:34:42.365Z"
      },
      {
        "duration": 7,
        "start_time": "2023-04-12T11:34:42.868Z"
      },
      {
        "duration": 13,
        "start_time": "2023-04-12T11:35:35.264Z"
      },
      {
        "duration": 7,
        "start_time": "2023-04-12T11:46:55.704Z"
      },
      {
        "duration": 7,
        "start_time": "2023-04-12T11:47:35.936Z"
      },
      {
        "duration": 489,
        "start_time": "2023-04-12T11:47:49.040Z"
      },
      {
        "duration": 34,
        "start_time": "2023-04-12T11:47:49.532Z"
      },
      {
        "duration": 16,
        "start_time": "2023-04-12T11:47:49.568Z"
      },
      {
        "duration": 32,
        "start_time": "2023-04-12T11:47:49.586Z"
      },
      {
        "duration": 39,
        "start_time": "2023-04-12T11:47:49.620Z"
      },
      {
        "duration": 3,
        "start_time": "2023-04-12T11:47:49.661Z"
      },
      {
        "duration": 23,
        "start_time": "2023-04-12T11:47:49.666Z"
      },
      {
        "duration": 13,
        "start_time": "2023-04-12T11:47:49.690Z"
      },
      {
        "duration": 8,
        "start_time": "2023-04-12T11:47:49.719Z"
      },
      {
        "duration": 9,
        "start_time": "2023-04-12T11:47:49.728Z"
      },
      {
        "duration": 58,
        "start_time": "2023-04-12T11:47:49.738Z"
      },
      {
        "duration": 11,
        "start_time": "2023-04-12T11:47:49.798Z"
      },
      {
        "duration": 20,
        "start_time": "2023-04-12T11:47:49.810Z"
      },
      {
        "duration": 15,
        "start_time": "2023-04-12T11:47:49.833Z"
      },
      {
        "duration": 32,
        "start_time": "2023-04-12T11:47:49.849Z"
      },
      {
        "duration": 21,
        "start_time": "2023-04-12T11:47:49.883Z"
      },
      {
        "duration": 12,
        "start_time": "2023-04-12T11:47:49.906Z"
      },
      {
        "duration": 10,
        "start_time": "2023-04-12T11:47:49.919Z"
      },
      {
        "duration": 18,
        "start_time": "2023-04-12T11:47:49.930Z"
      },
      {
        "duration": 25,
        "start_time": "2023-04-12T11:47:49.950Z"
      },
      {
        "duration": 28,
        "start_time": "2023-04-12T11:47:49.977Z"
      },
      {
        "duration": 23,
        "start_time": "2023-04-12T11:47:50.007Z"
      },
      {
        "duration": 13,
        "start_time": "2023-04-12T11:47:50.032Z"
      },
      {
        "duration": 20,
        "start_time": "2023-04-12T11:47:50.047Z"
      },
      {
        "duration": 15,
        "start_time": "2023-04-12T11:47:50.069Z"
      },
      {
        "duration": 3406,
        "start_time": "2023-04-12T11:47:50.086Z"
      },
      {
        "duration": 0,
        "start_time": "2023-04-12T11:47:53.493Z"
      },
      {
        "duration": 0,
        "start_time": "2023-04-12T11:47:53.495Z"
      },
      {
        "duration": 0,
        "start_time": "2023-04-12T11:47:53.496Z"
      },
      {
        "duration": 0,
        "start_time": "2023-04-12T11:47:53.498Z"
      },
      {
        "duration": 7,
        "start_time": "2023-04-12T11:48:01.106Z"
      },
      {
        "duration": 20,
        "start_time": "2023-04-12T11:48:30.667Z"
      },
      {
        "duration": 250,
        "start_time": "2023-04-12T11:48:50.345Z"
      },
      {
        "duration": 99,
        "start_time": "2023-04-12T11:49:15.353Z"
      },
      {
        "duration": 325,
        "start_time": "2023-04-12T11:49:22.508Z"
      },
      {
        "duration": 18,
        "start_time": "2023-04-12T11:49:43.751Z"
      },
      {
        "duration": 10,
        "start_time": "2023-04-12T11:49:44.636Z"
      },
      {
        "duration": 14,
        "start_time": "2023-04-12T11:50:14.955Z"
      },
      {
        "duration": 6,
        "start_time": "2023-04-12T11:50:15.556Z"
      },
      {
        "duration": 15,
        "start_time": "2023-04-12T11:50:24.559Z"
      },
      {
        "duration": 7,
        "start_time": "2023-04-12T11:50:25.106Z"
      },
      {
        "duration": 9,
        "start_time": "2023-04-12T11:50:30.979Z"
      },
      {
        "duration": 6,
        "start_time": "2023-04-12T11:50:31.343Z"
      },
      {
        "duration": 324,
        "start_time": "2023-04-12T11:51:17.758Z"
      },
      {
        "duration": 234,
        "start_time": "2023-04-12T11:51:59.746Z"
      },
      {
        "duration": 305,
        "start_time": "2023-04-12T11:52:22.931Z"
      },
      {
        "duration": 219,
        "start_time": "2023-04-12T11:52:29.736Z"
      },
      {
        "duration": 18,
        "start_time": "2023-04-12T11:52:36.528Z"
      },
      {
        "duration": 13,
        "start_time": "2023-04-12T11:52:38.228Z"
      },
      {
        "duration": 15,
        "start_time": "2023-04-12T11:53:44.055Z"
      },
      {
        "duration": 9,
        "start_time": "2023-04-12T11:53:44.424Z"
      },
      {
        "duration": 27,
        "start_time": "2023-04-12T11:56:02.780Z"
      },
      {
        "duration": 17,
        "start_time": "2023-04-12T12:02:12.823Z"
      },
      {
        "duration": 16,
        "start_time": "2023-04-12T12:02:15.433Z"
      },
      {
        "duration": 17,
        "start_time": "2023-04-12T12:02:21.508Z"
      },
      {
        "duration": 27,
        "start_time": "2023-04-12T12:02:21.911Z"
      },
      {
        "duration": 16,
        "start_time": "2023-04-12T12:03:18.549Z"
      },
      {
        "duration": 18,
        "start_time": "2023-04-12T12:03:20.850Z"
      },
      {
        "duration": 16,
        "start_time": "2023-04-12T12:03:21.198Z"
      },
      {
        "duration": 511,
        "start_time": "2023-04-12T12:06:00.954Z"
      },
      {
        "duration": 24,
        "start_time": "2023-04-12T12:06:01.467Z"
      },
      {
        "duration": 44,
        "start_time": "2023-04-12T12:06:01.493Z"
      },
      {
        "duration": 80,
        "start_time": "2023-04-12T12:06:01.539Z"
      },
      {
        "duration": 106,
        "start_time": "2023-04-12T12:06:01.620Z"
      },
      {
        "duration": 20,
        "start_time": "2023-04-12T12:06:01.728Z"
      },
      {
        "duration": 51,
        "start_time": "2023-04-12T12:06:01.750Z"
      },
      {
        "duration": 30,
        "start_time": "2023-04-12T12:06:01.803Z"
      },
      {
        "duration": 85,
        "start_time": "2023-04-12T12:06:01.835Z"
      },
      {
        "duration": 47,
        "start_time": "2023-04-12T12:06:01.923Z"
      },
      {
        "duration": 59,
        "start_time": "2023-04-12T12:06:01.971Z"
      },
      {
        "duration": 13,
        "start_time": "2023-04-12T12:06:02.032Z"
      },
      {
        "duration": 70,
        "start_time": "2023-04-12T12:06:02.047Z"
      },
      {
        "duration": 47,
        "start_time": "2023-04-12T12:06:02.119Z"
      },
      {
        "duration": 87,
        "start_time": "2023-04-12T12:06:02.168Z"
      },
      {
        "duration": 37,
        "start_time": "2023-04-12T12:06:02.257Z"
      },
      {
        "duration": 73,
        "start_time": "2023-04-12T12:06:02.296Z"
      },
      {
        "duration": 33,
        "start_time": "2023-04-12T12:06:02.372Z"
      },
      {
        "duration": 15,
        "start_time": "2023-04-12T12:06:02.407Z"
      },
      {
        "duration": 26,
        "start_time": "2023-04-12T12:06:02.424Z"
      },
      {
        "duration": 40,
        "start_time": "2023-04-12T12:06:02.452Z"
      },
      {
        "duration": 9,
        "start_time": "2023-04-12T12:06:02.493Z"
      },
      {
        "duration": 20,
        "start_time": "2023-04-12T12:06:02.504Z"
      },
      {
        "duration": 13,
        "start_time": "2023-04-12T12:06:02.525Z"
      },
      {
        "duration": 63,
        "start_time": "2023-04-12T12:06:02.539Z"
      },
      {
        "duration": 143,
        "start_time": "2023-04-12T12:06:02.603Z"
      },
      {
        "duration": 53,
        "start_time": "2023-04-12T12:06:02.748Z"
      },
      {
        "duration": 7,
        "start_time": "2023-04-12T12:08:59.986Z"
      },
      {
        "duration": 16,
        "start_time": "2023-04-12T12:09:34.219Z"
      },
      {
        "duration": 9,
        "start_time": "2023-04-12T12:19:05.975Z"
      },
      {
        "duration": 37,
        "start_time": "2023-04-12T12:19:05.986Z"
      },
      {
        "duration": 28,
        "start_time": "2023-04-12T12:19:06.026Z"
      },
      {
        "duration": 3,
        "start_time": "2023-04-12T12:19:06.056Z"
      },
      {
        "duration": 9,
        "start_time": "2023-04-12T12:19:06.061Z"
      },
      {
        "duration": 7,
        "start_time": "2023-04-12T12:19:06.072Z"
      },
      {
        "duration": 9,
        "start_time": "2023-04-12T12:21:46.946Z"
      },
      {
        "duration": 3015,
        "start_time": "2023-04-12T12:21:47.637Z"
      },
      {
        "duration": 5431,
        "start_time": "2023-04-12T12:23:36.817Z"
      },
      {
        "duration": 2843,
        "start_time": "2023-04-12T12:23:59.621Z"
      },
      {
        "duration": 4832,
        "start_time": "2023-04-12T12:24:25.218Z"
      },
      {
        "duration": 4549,
        "start_time": "2023-04-12T12:24:38.627Z"
      },
      {
        "duration": 640,
        "start_time": "2023-04-12T13:55:23.036Z"
      },
      {
        "duration": 21,
        "start_time": "2023-04-12T13:55:23.678Z"
      },
      {
        "duration": 17,
        "start_time": "2023-04-12T13:55:23.702Z"
      },
      {
        "duration": 11,
        "start_time": "2023-04-12T13:55:23.720Z"
      },
      {
        "duration": 53,
        "start_time": "2023-04-12T13:55:23.732Z"
      },
      {
        "duration": 4,
        "start_time": "2023-04-12T13:55:23.787Z"
      },
      {
        "duration": 15,
        "start_time": "2023-04-12T13:55:23.793Z"
      },
      {
        "duration": 6,
        "start_time": "2023-04-12T13:55:23.810Z"
      },
      {
        "duration": 7,
        "start_time": "2023-04-12T13:55:23.819Z"
      },
      {
        "duration": 4,
        "start_time": "2023-04-12T13:55:23.828Z"
      },
      {
        "duration": 64,
        "start_time": "2023-04-12T13:55:23.833Z"
      },
      {
        "duration": 9,
        "start_time": "2023-04-12T13:55:23.898Z"
      },
      {
        "duration": 5,
        "start_time": "2023-04-12T13:55:23.909Z"
      },
      {
        "duration": 14,
        "start_time": "2023-04-12T13:55:23.916Z"
      },
      {
        "duration": 21,
        "start_time": "2023-04-12T13:55:23.932Z"
      },
      {
        "duration": 32,
        "start_time": "2023-04-12T13:55:23.954Z"
      },
      {
        "duration": 4,
        "start_time": "2023-04-12T13:55:23.987Z"
      },
      {
        "duration": 13,
        "start_time": "2023-04-12T13:55:23.992Z"
      },
      {
        "duration": 11,
        "start_time": "2023-04-12T13:55:24.006Z"
      },
      {
        "duration": 20,
        "start_time": "2023-04-12T13:55:24.018Z"
      },
      {
        "duration": 19,
        "start_time": "2023-04-12T13:55:24.040Z"
      },
      {
        "duration": 28,
        "start_time": "2023-04-12T13:55:24.061Z"
      },
      {
        "duration": 13,
        "start_time": "2023-04-12T13:55:24.091Z"
      },
      {
        "duration": 2912,
        "start_time": "2023-04-12T13:55:24.106Z"
      },
      {
        "duration": 0,
        "start_time": "2023-04-12T13:55:27.020Z"
      },
      {
        "duration": 0,
        "start_time": "2023-04-12T13:55:27.022Z"
      },
      {
        "duration": 0,
        "start_time": "2023-04-12T13:55:27.024Z"
      },
      {
        "duration": 0,
        "start_time": "2023-04-12T13:55:27.025Z"
      },
      {
        "duration": 0,
        "start_time": "2023-04-12T13:55:27.027Z"
      },
      {
        "duration": 18,
        "start_time": "2023-04-12T14:10:13.188Z"
      },
      {
        "duration": 185,
        "start_time": "2023-04-12T14:15:08.661Z"
      },
      {
        "duration": 9,
        "start_time": "2023-04-12T14:16:00.640Z"
      },
      {
        "duration": 18,
        "start_time": "2023-04-12T14:30:00.814Z"
      },
      {
        "duration": 16,
        "start_time": "2023-04-12T14:31:52.471Z"
      },
      {
        "duration": 9,
        "start_time": "2023-04-12T14:42:11.496Z"
      },
      {
        "duration": 8,
        "start_time": "2023-04-12T14:42:11.902Z"
      },
      {
        "duration": 7,
        "start_time": "2023-04-12T14:43:57.114Z"
      },
      {
        "duration": 8,
        "start_time": "2023-04-12T14:43:57.582Z"
      },
      {
        "duration": 17,
        "start_time": "2023-04-12T14:44:21.996Z"
      },
      {
        "duration": 23,
        "start_time": "2023-04-12T14:44:44.190Z"
      },
      {
        "duration": 9,
        "start_time": "2023-04-12T14:44:45.115Z"
      },
      {
        "duration": 8,
        "start_time": "2023-04-12T14:44:45.844Z"
      },
      {
        "duration": 18,
        "start_time": "2023-04-12T14:45:03.807Z"
      },
      {
        "duration": 17,
        "start_time": "2023-04-12T14:45:16.396Z"
      },
      {
        "duration": 9,
        "start_time": "2023-04-12T14:45:19.708Z"
      },
      {
        "duration": 7,
        "start_time": "2023-04-12T14:45:20.282Z"
      },
      {
        "duration": 18,
        "start_time": "2023-04-12T14:45:37.906Z"
      },
      {
        "duration": 18,
        "start_time": "2023-04-12T14:45:53.590Z"
      },
      {
        "duration": 13,
        "start_time": "2023-04-12T14:45:56.121Z"
      },
      {
        "duration": 8,
        "start_time": "2023-04-12T14:45:57.141Z"
      },
      {
        "duration": 18,
        "start_time": "2023-04-12T14:47:30.144Z"
      },
      {
        "duration": 9,
        "start_time": "2023-04-12T14:47:31.715Z"
      },
      {
        "duration": 8,
        "start_time": "2023-04-12T14:48:17.782Z"
      },
      {
        "duration": 1163,
        "start_time": "2023-04-12T14:57:46.920Z"
      },
      {
        "duration": 0,
        "start_time": "2023-04-12T14:57:48.084Z"
      },
      {
        "duration": 17,
        "start_time": "2023-04-12T14:58:06.623Z"
      },
      {
        "duration": 1740,
        "start_time": "2023-04-12T14:58:08.006Z"
      },
      {
        "duration": 17,
        "start_time": "2023-04-12T14:59:14.241Z"
      },
      {
        "duration": 1828,
        "start_time": "2023-04-12T14:59:15.500Z"
      },
      {
        "duration": 18,
        "start_time": "2023-04-12T15:00:13.169Z"
      },
      {
        "duration": 3,
        "start_time": "2023-04-12T15:00:14.147Z"
      },
      {
        "duration": 8,
        "start_time": "2023-04-12T15:00:29.784Z"
      },
      {
        "duration": 17,
        "start_time": "2023-04-12T15:00:47.336Z"
      },
      {
        "duration": 9,
        "start_time": "2023-04-12T15:00:48.104Z"
      },
      {
        "duration": 15,
        "start_time": "2023-04-12T15:05:36.961Z"
      },
      {
        "duration": 21,
        "start_time": "2023-04-12T15:05:45.621Z"
      },
      {
        "duration": 17,
        "start_time": "2023-04-12T15:17:54.679Z"
      },
      {
        "duration": 7,
        "start_time": "2023-04-12T15:17:58.228Z"
      },
      {
        "duration": 59,
        "start_time": "2023-04-12T17:23:46.839Z"
      },
      {
        "duration": 766,
        "start_time": "2023-04-12T17:24:08.098Z"
      },
      {
        "duration": 38,
        "start_time": "2023-04-12T17:24:08.866Z"
      },
      {
        "duration": 15,
        "start_time": "2023-04-12T17:24:08.906Z"
      },
      {
        "duration": 10,
        "start_time": "2023-04-12T17:24:08.923Z"
      },
      {
        "duration": 61,
        "start_time": "2023-04-12T17:24:08.936Z"
      },
      {
        "duration": 4,
        "start_time": "2023-04-12T17:24:08.999Z"
      },
      {
        "duration": 16,
        "start_time": "2023-04-12T17:24:09.004Z"
      },
      {
        "duration": 5,
        "start_time": "2023-04-12T17:24:09.021Z"
      },
      {
        "duration": 10,
        "start_time": "2023-04-12T17:24:09.028Z"
      },
      {
        "duration": 5,
        "start_time": "2023-04-12T17:24:09.039Z"
      },
      {
        "duration": 70,
        "start_time": "2023-04-12T17:24:09.046Z"
      },
      {
        "duration": 15,
        "start_time": "2023-04-12T17:24:09.117Z"
      },
      {
        "duration": 5,
        "start_time": "2023-04-12T17:24:09.134Z"
      },
      {
        "duration": 23,
        "start_time": "2023-04-12T17:24:09.142Z"
      },
      {
        "duration": 40,
        "start_time": "2023-04-12T17:24:09.167Z"
      },
      {
        "duration": 17,
        "start_time": "2023-04-12T17:24:09.209Z"
      },
      {
        "duration": 3,
        "start_time": "2023-04-12T17:24:09.228Z"
      },
      {
        "duration": 13,
        "start_time": "2023-04-12T17:24:09.233Z"
      },
      {
        "duration": 5,
        "start_time": "2023-04-12T17:24:09.248Z"
      },
      {
        "duration": 43,
        "start_time": "2023-04-12T17:24:09.255Z"
      },
      {
        "duration": 24,
        "start_time": "2023-04-12T17:24:09.300Z"
      },
      {
        "duration": 8,
        "start_time": "2023-04-12T17:24:09.325Z"
      },
      {
        "duration": 5,
        "start_time": "2023-04-12T17:24:09.335Z"
      },
      {
        "duration": 7,
        "start_time": "2023-04-12T17:24:09.341Z"
      },
      {
        "duration": 8,
        "start_time": "2023-04-12T17:24:09.350Z"
      },
      {
        "duration": 20,
        "start_time": "2023-04-12T17:26:49.198Z"
      },
      {
        "duration": 8,
        "start_time": "2023-04-12T17:26:50.263Z"
      },
      {
        "duration": 11,
        "start_time": "2023-04-12T17:32:13.349Z"
      },
      {
        "duration": 195,
        "start_time": "2023-04-12T17:32:40.765Z"
      },
      {
        "duration": 9,
        "start_time": "2023-04-12T17:32:49.941Z"
      },
      {
        "duration": 9,
        "start_time": "2023-04-12T17:33:09.263Z"
      },
      {
        "duration": 225,
        "start_time": "2023-04-12T17:34:33.833Z"
      },
      {
        "duration": 9,
        "start_time": "2023-04-12T17:34:53.515Z"
      },
      {
        "duration": 54,
        "start_time": "2023-04-12T17:36:20.900Z"
      },
      {
        "duration": 68,
        "start_time": "2023-04-12T17:36:43.672Z"
      },
      {
        "duration": 181,
        "start_time": "2023-04-12T17:37:08.677Z"
      },
      {
        "duration": 55,
        "start_time": "2023-04-12T17:37:38.797Z"
      },
      {
        "duration": 88,
        "start_time": "2023-04-12T17:43:23.153Z"
      },
      {
        "duration": 71,
        "start_time": "2023-04-12T17:43:33.340Z"
      },
      {
        "duration": 25,
        "start_time": "2023-04-12T17:58:51.890Z"
      },
      {
        "duration": 11,
        "start_time": "2023-04-12T17:58:53.144Z"
      },
      {
        "duration": 50,
        "start_time": "2023-04-12T17:59:18.046Z"
      },
      {
        "duration": 9,
        "start_time": "2023-04-12T17:59:25.312Z"
      },
      {
        "duration": 92,
        "start_time": "2023-04-12T18:02:04.596Z"
      },
      {
        "duration": 10,
        "start_time": "2023-04-12T18:02:44.967Z"
      },
      {
        "duration": 102,
        "start_time": "2023-04-13T07:07:36.841Z"
      },
      {
        "duration": 45,
        "start_time": "2023-04-13T07:08:01.620Z"
      },
      {
        "duration": 785,
        "start_time": "2023-04-13T07:08:19.648Z"
      },
      {
        "duration": 26,
        "start_time": "2023-04-13T07:08:20.438Z"
      },
      {
        "duration": 46,
        "start_time": "2023-04-13T07:08:20.466Z"
      },
      {
        "duration": 43,
        "start_time": "2023-04-13T07:08:20.516Z"
      },
      {
        "duration": 70,
        "start_time": "2023-04-13T07:08:20.562Z"
      },
      {
        "duration": 5,
        "start_time": "2023-04-13T07:08:20.637Z"
      },
      {
        "duration": 26,
        "start_time": "2023-04-13T07:08:20.643Z"
      },
      {
        "duration": 8,
        "start_time": "2023-04-13T07:08:20.671Z"
      },
      {
        "duration": 39,
        "start_time": "2023-04-13T07:08:20.681Z"
      },
      {
        "duration": 9,
        "start_time": "2023-04-13T07:08:20.724Z"
      },
      {
        "duration": 48,
        "start_time": "2023-04-13T07:08:20.734Z"
      },
      {
        "duration": 16,
        "start_time": "2023-04-13T07:08:20.784Z"
      },
      {
        "duration": 33,
        "start_time": "2023-04-13T07:08:20.802Z"
      },
      {
        "duration": 26,
        "start_time": "2023-04-13T07:08:20.837Z"
      },
      {
        "duration": 55,
        "start_time": "2023-04-13T07:08:20.866Z"
      },
      {
        "duration": 19,
        "start_time": "2023-04-13T07:08:20.923Z"
      },
      {
        "duration": 4,
        "start_time": "2023-04-13T07:08:20.944Z"
      },
      {
        "duration": 15,
        "start_time": "2023-04-13T07:08:20.949Z"
      },
      {
        "duration": 4,
        "start_time": "2023-04-13T07:08:20.966Z"
      },
      {
        "duration": 59,
        "start_time": "2023-04-13T07:08:20.971Z"
      },
      {
        "duration": 25,
        "start_time": "2023-04-13T07:08:21.032Z"
      },
      {
        "duration": 10,
        "start_time": "2023-04-13T07:08:21.059Z"
      },
      {
        "duration": 49,
        "start_time": "2023-04-13T07:08:21.070Z"
      },
      {
        "duration": 2,
        "start_time": "2023-04-13T07:08:21.121Z"
      },
      {
        "duration": 14,
        "start_time": "2023-04-13T07:08:21.125Z"
      },
      {
        "duration": 19,
        "start_time": "2023-04-13T07:08:34.294Z"
      },
      {
        "duration": 12,
        "start_time": "2023-04-13T07:08:45.324Z"
      },
      {
        "duration": 93,
        "start_time": "2023-04-13T07:17:08.843Z"
      },
      {
        "duration": 14,
        "start_time": "2023-04-13T07:17:18.326Z"
      },
      {
        "duration": 138,
        "start_time": "2023-04-13T07:22:17.076Z"
      },
      {
        "duration": 17,
        "start_time": "2023-04-13T07:22:28.465Z"
      },
      {
        "duration": 18,
        "start_time": "2023-04-13T07:22:35.862Z"
      },
      {
        "duration": 18,
        "start_time": "2023-04-13T07:24:36.035Z"
      },
      {
        "duration": 628,
        "start_time": "2023-04-13T07:24:44.582Z"
      },
      {
        "duration": 38,
        "start_time": "2023-04-13T07:24:45.216Z"
      },
      {
        "duration": 16,
        "start_time": "2023-04-13T07:24:45.256Z"
      },
      {
        "duration": 13,
        "start_time": "2023-04-13T07:24:45.274Z"
      },
      {
        "duration": 96,
        "start_time": "2023-04-13T07:24:45.295Z"
      },
      {
        "duration": 9,
        "start_time": "2023-04-13T07:24:45.393Z"
      },
      {
        "duration": 37,
        "start_time": "2023-04-13T07:24:45.403Z"
      },
      {
        "duration": 11,
        "start_time": "2023-04-13T07:24:45.442Z"
      },
      {
        "duration": 13,
        "start_time": "2023-04-13T07:24:45.455Z"
      },
      {
        "duration": 5,
        "start_time": "2023-04-13T07:24:45.470Z"
      },
      {
        "duration": 63,
        "start_time": "2023-04-13T07:24:45.477Z"
      },
      {
        "duration": 18,
        "start_time": "2023-04-13T07:24:45.544Z"
      },
      {
        "duration": 10,
        "start_time": "2023-04-13T07:24:45.564Z"
      },
      {
        "duration": 76,
        "start_time": "2023-04-13T07:24:45.578Z"
      },
      {
        "duration": 61,
        "start_time": "2023-04-13T07:24:45.656Z"
      },
      {
        "duration": 40,
        "start_time": "2023-04-13T07:24:45.719Z"
      },
      {
        "duration": 5,
        "start_time": "2023-04-13T07:24:45.762Z"
      },
      {
        "duration": 21,
        "start_time": "2023-04-13T07:24:45.769Z"
      },
      {
        "duration": 49,
        "start_time": "2023-04-13T07:24:45.792Z"
      },
      {
        "duration": 16,
        "start_time": "2023-04-13T07:24:45.842Z"
      },
      {
        "duration": 32,
        "start_time": "2023-04-13T07:24:45.860Z"
      },
      {
        "duration": 59,
        "start_time": "2023-04-13T07:24:45.900Z"
      },
      {
        "duration": 144,
        "start_time": "2023-04-13T07:24:45.961Z"
      },
      {
        "duration": 0,
        "start_time": "2023-04-13T07:24:46.108Z"
      },
      {
        "duration": 2,
        "start_time": "2023-04-13T07:24:46.125Z"
      },
      {
        "duration": 65,
        "start_time": "2023-04-13T07:25:53.718Z"
      },
      {
        "duration": 21,
        "start_time": "2023-04-13T07:26:05.914Z"
      },
      {
        "duration": 22,
        "start_time": "2023-04-13T07:28:00.547Z"
      },
      {
        "duration": 17,
        "start_time": "2023-04-13T07:28:32.107Z"
      },
      {
        "duration": 1119,
        "start_time": "2023-04-13T07:29:11.507Z"
      },
      {
        "duration": 9,
        "start_time": "2023-04-13T07:29:35.046Z"
      },
      {
        "duration": 16,
        "start_time": "2023-04-13T07:32:01.718Z"
      },
      {
        "duration": 16,
        "start_time": "2023-04-13T07:33:41.607Z"
      },
      {
        "duration": 14,
        "start_time": "2023-04-13T07:34:32.416Z"
      },
      {
        "duration": 14,
        "start_time": "2023-04-13T07:34:47.163Z"
      },
      {
        "duration": 0,
        "start_time": "2023-04-13T07:42:05.749Z"
      },
      {
        "duration": 2932,
        "start_time": "2023-04-13T07:42:37.581Z"
      },
      {
        "duration": 2981,
        "start_time": "2023-04-13T07:45:09.504Z"
      },
      {
        "duration": 15,
        "start_time": "2023-04-13T07:47:12.737Z"
      },
      {
        "duration": 17,
        "start_time": "2023-04-13T07:57:44.621Z"
      },
      {
        "duration": 4474,
        "start_time": "2023-04-13T07:58:06.975Z"
      },
      {
        "duration": 19,
        "start_time": "2023-04-13T07:58:51.973Z"
      },
      {
        "duration": 14,
        "start_time": "2023-04-13T08:02:45.659Z"
      },
      {
        "duration": 13,
        "start_time": "2023-04-13T08:03:14.015Z"
      },
      {
        "duration": 10,
        "start_time": "2023-04-13T08:05:17.769Z"
      },
      {
        "duration": 19,
        "start_time": "2023-04-13T08:06:21.831Z"
      },
      {
        "duration": 20,
        "start_time": "2023-04-13T08:06:36.966Z"
      },
      {
        "duration": 19,
        "start_time": "2023-04-13T08:06:56.430Z"
      },
      {
        "duration": 20,
        "start_time": "2023-04-13T08:09:58.715Z"
      },
      {
        "duration": 12,
        "start_time": "2023-04-13T08:10:02.673Z"
      },
      {
        "duration": 1764,
        "start_time": "2023-04-13T08:13:16.952Z"
      },
      {
        "duration": 10,
        "start_time": "2023-04-13T08:14:05.728Z"
      },
      {
        "duration": 14,
        "start_time": "2023-04-13T08:14:32.710Z"
      },
      {
        "duration": 12,
        "start_time": "2023-04-13T08:15:23.148Z"
      },
      {
        "duration": 9,
        "start_time": "2023-04-13T08:15:25.442Z"
      },
      {
        "duration": 10,
        "start_time": "2023-04-13T08:20:10.435Z"
      },
      {
        "duration": 14,
        "start_time": "2023-04-13T08:22:13.277Z"
      },
      {
        "duration": 10,
        "start_time": "2023-04-13T08:32:59.339Z"
      },
      {
        "duration": 13,
        "start_time": "2023-04-13T08:43:26.183Z"
      },
      {
        "duration": 64,
        "start_time": "2023-04-13T11:09:41.739Z"
      },
      {
        "duration": 7,
        "start_time": "2023-04-13T11:09:44.632Z"
      },
      {
        "duration": 561,
        "start_time": "2023-04-13T11:09:59.316Z"
      },
      {
        "duration": 26,
        "start_time": "2023-04-13T11:09:59.879Z"
      },
      {
        "duration": 24,
        "start_time": "2023-04-13T11:09:59.907Z"
      },
      {
        "duration": 23,
        "start_time": "2023-04-13T11:09:59.934Z"
      },
      {
        "duration": 48,
        "start_time": "2023-04-13T11:09:59.959Z"
      },
      {
        "duration": 5,
        "start_time": "2023-04-13T11:10:00.009Z"
      },
      {
        "duration": 36,
        "start_time": "2023-04-13T11:10:00.016Z"
      },
      {
        "duration": 45,
        "start_time": "2023-04-13T11:10:00.054Z"
      },
      {
        "duration": 40,
        "start_time": "2023-04-13T11:10:00.101Z"
      },
      {
        "duration": 17,
        "start_time": "2023-04-13T11:10:00.145Z"
      },
      {
        "duration": 48,
        "start_time": "2023-04-13T11:10:00.164Z"
      },
      {
        "duration": 50,
        "start_time": "2023-04-13T11:10:00.214Z"
      },
      {
        "duration": 17,
        "start_time": "2023-04-13T11:10:00.265Z"
      },
      {
        "duration": 41,
        "start_time": "2023-04-13T11:10:00.284Z"
      },
      {
        "duration": 57,
        "start_time": "2023-04-13T11:10:00.328Z"
      },
      {
        "duration": 29,
        "start_time": "2023-04-13T11:10:00.387Z"
      },
      {
        "duration": 5,
        "start_time": "2023-04-13T11:10:00.418Z"
      },
      {
        "duration": 34,
        "start_time": "2023-04-13T11:10:00.425Z"
      },
      {
        "duration": 54,
        "start_time": "2023-04-13T11:10:00.461Z"
      },
      {
        "duration": 18,
        "start_time": "2023-04-13T11:10:00.517Z"
      },
      {
        "duration": 40,
        "start_time": "2023-04-13T11:10:00.537Z"
      },
      {
        "duration": 13,
        "start_time": "2023-04-13T11:10:00.579Z"
      },
      {
        "duration": 20,
        "start_time": "2023-04-13T11:10:00.594Z"
      },
      {
        "duration": 15,
        "start_time": "2023-04-13T11:10:00.617Z"
      },
      {
        "duration": 58,
        "start_time": "2023-04-13T11:10:00.656Z"
      },
      {
        "duration": 25,
        "start_time": "2023-04-13T11:10:00.715Z"
      },
      {
        "duration": 10,
        "start_time": "2023-04-13T11:11:03.357Z"
      },
      {
        "duration": 7,
        "start_time": "2023-04-13T11:33:15.212Z"
      },
      {
        "duration": 8,
        "start_time": "2023-04-13T11:33:25.290Z"
      },
      {
        "duration": 5,
        "start_time": "2023-04-13T11:33:43.461Z"
      },
      {
        "duration": 6,
        "start_time": "2023-04-13T11:33:51.678Z"
      },
      {
        "duration": 9,
        "start_time": "2023-04-13T11:35:11.319Z"
      },
      {
        "duration": 5,
        "start_time": "2023-04-13T11:41:49.328Z"
      },
      {
        "duration": 72,
        "start_time": "2023-04-13T11:49:47.319Z"
      },
      {
        "duration": 110,
        "start_time": "2023-04-13T11:50:12.276Z"
      },
      {
        "duration": 70,
        "start_time": "2023-04-13T11:50:16.612Z"
      },
      {
        "duration": 6,
        "start_time": "2023-04-13T11:50:21.958Z"
      },
      {
        "duration": 12,
        "start_time": "2023-04-13T11:50:36.808Z"
      },
      {
        "duration": 74,
        "start_time": "2023-04-13T11:53:25.012Z"
      },
      {
        "duration": 13,
        "start_time": "2023-04-13T11:53:43.589Z"
      },
      {
        "duration": 9,
        "start_time": "2023-04-13T12:11:16.161Z"
      },
      {
        "duration": 4,
        "start_time": "2023-04-13T12:11:18.581Z"
      },
      {
        "duration": 11,
        "start_time": "2023-04-13T12:14:19.089Z"
      },
      {
        "duration": 10,
        "start_time": "2023-04-13T12:14:27.538Z"
      },
      {
        "duration": 36,
        "start_time": "2023-04-13T12:14:34.338Z"
      },
      {
        "duration": 26,
        "start_time": "2023-04-13T13:00:35.381Z"
      },
      {
        "duration": 24,
        "start_time": "2023-04-13T13:00:49.502Z"
      },
      {
        "duration": 74,
        "start_time": "2023-04-13T13:02:01.448Z"
      },
      {
        "duration": 17,
        "start_time": "2023-04-13T13:02:19.236Z"
      },
      {
        "duration": 25,
        "start_time": "2023-04-13T13:02:35.075Z"
      },
      {
        "duration": 29,
        "start_time": "2023-04-13T13:04:13.563Z"
      },
      {
        "duration": 24,
        "start_time": "2023-04-13T13:04:28.716Z"
      },
      {
        "duration": 427,
        "start_time": "2023-04-13T13:04:44.606Z"
      },
      {
        "duration": 23,
        "start_time": "2023-04-13T13:04:45.034Z"
      },
      {
        "duration": 18,
        "start_time": "2023-04-13T13:04:45.059Z"
      },
      {
        "duration": 10,
        "start_time": "2023-04-13T13:04:45.079Z"
      },
      {
        "duration": 43,
        "start_time": "2023-04-13T13:04:45.091Z"
      },
      {
        "duration": 4,
        "start_time": "2023-04-13T13:04:45.135Z"
      },
      {
        "duration": 21,
        "start_time": "2023-04-13T13:04:45.140Z"
      },
      {
        "duration": 5,
        "start_time": "2023-04-13T13:04:45.163Z"
      },
      {
        "duration": 11,
        "start_time": "2023-04-13T13:04:45.170Z"
      },
      {
        "duration": 5,
        "start_time": "2023-04-13T13:04:45.183Z"
      },
      {
        "duration": 39,
        "start_time": "2023-04-13T13:04:45.189Z"
      },
      {
        "duration": 33,
        "start_time": "2023-04-13T13:04:45.230Z"
      },
      {
        "duration": 4,
        "start_time": "2023-04-13T13:04:45.265Z"
      },
      {
        "duration": 14,
        "start_time": "2023-04-13T13:04:45.271Z"
      },
      {
        "duration": 25,
        "start_time": "2023-04-13T13:04:45.288Z"
      },
      {
        "duration": 48,
        "start_time": "2023-04-13T13:04:45.315Z"
      },
      {
        "duration": 3,
        "start_time": "2023-04-13T13:04:45.365Z"
      },
      {
        "duration": 10,
        "start_time": "2023-04-13T13:04:45.370Z"
      },
      {
        "duration": 3,
        "start_time": "2023-04-13T13:04:45.382Z"
      },
      {
        "duration": 15,
        "start_time": "2023-04-13T13:04:45.387Z"
      },
      {
        "duration": 24,
        "start_time": "2023-04-13T13:04:45.405Z"
      },
      {
        "duration": 30,
        "start_time": "2023-04-13T13:04:45.431Z"
      },
      {
        "duration": 19,
        "start_time": "2023-04-13T13:04:45.462Z"
      },
      {
        "duration": 10,
        "start_time": "2023-04-13T13:04:45.483Z"
      },
      {
        "duration": 30,
        "start_time": "2023-04-13T13:04:45.495Z"
      },
      {
        "duration": 38,
        "start_time": "2023-04-13T13:04:45.526Z"
      },
      {
        "duration": 79,
        "start_time": "2023-04-13T13:04:45.566Z"
      },
      {
        "duration": 0,
        "start_time": "2023-04-13T13:04:45.646Z"
      },
      {
        "duration": 20,
        "start_time": "2023-04-13T13:05:21.907Z"
      },
      {
        "duration": 24,
        "start_time": "2023-04-13T13:05:36.048Z"
      },
      {
        "duration": 21,
        "start_time": "2023-04-13T13:05:43.450Z"
      },
      {
        "duration": 20,
        "start_time": "2023-04-13T13:09:31.298Z"
      },
      {
        "duration": 22,
        "start_time": "2023-04-13T13:09:53.210Z"
      },
      {
        "duration": 118,
        "start_time": "2023-04-13T13:16:17.343Z"
      },
      {
        "duration": 76,
        "start_time": "2023-04-13T13:18:03.484Z"
      },
      {
        "duration": 9,
        "start_time": "2023-04-13T13:21:48.854Z"
      },
      {
        "duration": 47,
        "start_time": "2023-04-13T14:53:21.804Z"
      },
      {
        "duration": 548,
        "start_time": "2023-04-13T14:53:37.805Z"
      },
      {
        "duration": 20,
        "start_time": "2023-04-13T14:53:38.356Z"
      },
      {
        "duration": 22,
        "start_time": "2023-04-13T14:53:38.378Z"
      },
      {
        "duration": 9,
        "start_time": "2023-04-13T14:53:38.403Z"
      },
      {
        "duration": 75,
        "start_time": "2023-04-13T14:53:38.414Z"
      },
      {
        "duration": 4,
        "start_time": "2023-04-13T14:53:38.491Z"
      },
      {
        "duration": 28,
        "start_time": "2023-04-13T14:53:38.497Z"
      },
      {
        "duration": 12,
        "start_time": "2023-04-13T14:53:38.527Z"
      },
      {
        "duration": 24,
        "start_time": "2023-04-13T14:53:38.540Z"
      },
      {
        "duration": 22,
        "start_time": "2023-04-13T14:53:38.566Z"
      },
      {
        "duration": 59,
        "start_time": "2023-04-13T14:53:38.590Z"
      },
      {
        "duration": 10,
        "start_time": "2023-04-13T14:53:38.650Z"
      },
      {
        "duration": 15,
        "start_time": "2023-04-13T14:53:38.661Z"
      },
      {
        "duration": 16,
        "start_time": "2023-04-13T14:53:38.680Z"
      },
      {
        "duration": 28,
        "start_time": "2023-04-13T14:53:38.699Z"
      },
      {
        "duration": 16,
        "start_time": "2023-04-13T14:53:38.729Z"
      },
      {
        "duration": 3,
        "start_time": "2023-04-13T14:53:38.747Z"
      },
      {
        "duration": 15,
        "start_time": "2023-04-13T14:53:38.751Z"
      },
      {
        "duration": 21,
        "start_time": "2023-04-13T14:53:38.768Z"
      },
      {
        "duration": 14,
        "start_time": "2023-04-13T14:53:38.790Z"
      },
      {
        "duration": 21,
        "start_time": "2023-04-13T14:53:38.805Z"
      },
      {
        "duration": 9,
        "start_time": "2023-04-13T14:53:38.828Z"
      },
      {
        "duration": 35,
        "start_time": "2023-04-13T14:53:38.839Z"
      },
      {
        "duration": 17,
        "start_time": "2023-04-13T14:53:38.876Z"
      },
      {
        "duration": 16,
        "start_time": "2023-04-13T14:53:38.895Z"
      },
      {
        "duration": 32,
        "start_time": "2023-04-13T14:53:38.912Z"
      },
      {
        "duration": 41,
        "start_time": "2023-04-13T14:53:38.946Z"
      },
      {
        "duration": 16,
        "start_time": "2023-04-13T14:53:38.989Z"
      },
      {
        "duration": 14,
        "start_time": "2023-04-13T14:53:39.006Z"
      },
      {
        "duration": 12,
        "start_time": "2023-04-13T15:11:38.786Z"
      },
      {
        "duration": 6,
        "start_time": "2023-04-13T15:31:10.934Z"
      },
      {
        "duration": 9,
        "start_time": "2023-04-13T15:52:32.465Z"
      },
      {
        "duration": 44,
        "start_time": "2023-04-13T15:52:48.264Z"
      },
      {
        "duration": 12,
        "start_time": "2023-04-13T16:17:43.107Z"
      },
      {
        "duration": 12,
        "start_time": "2023-04-13T16:23:47.724Z"
      },
      {
        "duration": 10,
        "start_time": "2023-04-13T16:28:32.621Z"
      },
      {
        "duration": 29,
        "start_time": "2023-04-13T17:01:14.985Z"
      },
      {
        "duration": 71,
        "start_time": "2023-04-13T17:02:32.381Z"
      },
      {
        "duration": 55,
        "start_time": "2023-04-14T07:17:41.784Z"
      },
      {
        "duration": 546,
        "start_time": "2023-04-14T07:17:50.150Z"
      },
      {
        "duration": 37,
        "start_time": "2023-04-14T07:17:50.699Z"
      },
      {
        "duration": 20,
        "start_time": "2023-04-14T07:17:50.739Z"
      },
      {
        "duration": 44,
        "start_time": "2023-04-14T07:17:50.762Z"
      },
      {
        "duration": 44,
        "start_time": "2023-04-14T07:17:50.810Z"
      },
      {
        "duration": 4,
        "start_time": "2023-04-14T07:17:50.856Z"
      },
      {
        "duration": 40,
        "start_time": "2023-04-14T07:17:50.862Z"
      },
      {
        "duration": 10,
        "start_time": "2023-04-14T07:17:50.904Z"
      },
      {
        "duration": 23,
        "start_time": "2023-04-14T07:17:50.917Z"
      },
      {
        "duration": 40,
        "start_time": "2023-04-14T07:17:50.944Z"
      },
      {
        "duration": 52,
        "start_time": "2023-04-14T07:17:50.986Z"
      },
      {
        "duration": 12,
        "start_time": "2023-04-14T07:17:51.040Z"
      },
      {
        "duration": 18,
        "start_time": "2023-04-14T07:17:51.054Z"
      },
      {
        "duration": 29,
        "start_time": "2023-04-14T07:17:51.074Z"
      },
      {
        "duration": 29,
        "start_time": "2023-04-14T07:17:51.106Z"
      },
      {
        "duration": 16,
        "start_time": "2023-04-14T07:17:51.137Z"
      },
      {
        "duration": 6,
        "start_time": "2023-04-14T07:17:51.154Z"
      },
      {
        "duration": 45,
        "start_time": "2023-04-14T07:17:51.162Z"
      },
      {
        "duration": 38,
        "start_time": "2023-04-14T07:17:51.209Z"
      },
      {
        "duration": 23,
        "start_time": "2023-04-14T07:17:51.249Z"
      },
      {
        "duration": 68,
        "start_time": "2023-04-14T07:17:51.274Z"
      },
      {
        "duration": 33,
        "start_time": "2023-04-14T07:17:51.344Z"
      },
      {
        "duration": 11,
        "start_time": "2023-04-14T07:17:51.380Z"
      },
      {
        "duration": 46,
        "start_time": "2023-04-14T07:17:51.392Z"
      },
      {
        "duration": 12,
        "start_time": "2023-04-14T07:17:51.440Z"
      },
      {
        "duration": 55,
        "start_time": "2023-04-14T07:17:51.454Z"
      },
      {
        "duration": 92,
        "start_time": "2023-04-14T07:17:51.512Z"
      },
      {
        "duration": 0,
        "start_time": "2023-04-14T07:17:51.606Z"
      },
      {
        "duration": 0,
        "start_time": "2023-04-14T07:17:51.607Z"
      },
      {
        "duration": 0,
        "start_time": "2023-04-14T07:17:51.609Z"
      },
      {
        "duration": 0,
        "start_time": "2023-04-14T07:17:51.611Z"
      },
      {
        "duration": 0,
        "start_time": "2023-04-14T07:17:51.612Z"
      },
      {
        "duration": 24,
        "start_time": "2023-04-14T07:18:40.314Z"
      },
      {
        "duration": 22,
        "start_time": "2023-04-14T07:18:44.480Z"
      },
      {
        "duration": 19,
        "start_time": "2023-04-14T07:24:46.223Z"
      },
      {
        "duration": 75,
        "start_time": "2023-04-14T07:25:09.102Z"
      },
      {
        "duration": 27,
        "start_time": "2023-04-14T07:26:44.502Z"
      },
      {
        "duration": 10,
        "start_time": "2023-04-14T07:29:02.840Z"
      },
      {
        "duration": 92,
        "start_time": "2023-04-14T07:40:50.605Z"
      },
      {
        "duration": 74,
        "start_time": "2023-04-14T07:42:42.499Z"
      },
      {
        "duration": 24,
        "start_time": "2023-04-14T07:42:46.891Z"
      },
      {
        "duration": 11,
        "start_time": "2023-04-14T07:44:29.891Z"
      },
      {
        "duration": 10,
        "start_time": "2023-04-14T07:45:36.135Z"
      },
      {
        "duration": 17,
        "start_time": "2023-04-14T08:10:41.412Z"
      },
      {
        "duration": 11,
        "start_time": "2023-04-14T08:25:00.582Z"
      },
      {
        "duration": 21,
        "start_time": "2023-04-14T09:02:50.050Z"
      },
      {
        "duration": 15,
        "start_time": "2023-04-14T09:02:57.348Z"
      },
      {
        "duration": 15,
        "start_time": "2023-04-14T09:04:38.160Z"
      },
      {
        "duration": 11,
        "start_time": "2023-04-14T10:30:47.833Z"
      },
      {
        "duration": 11,
        "start_time": "2023-04-14T10:31:06.780Z"
      },
      {
        "duration": 8,
        "start_time": "2023-04-14T10:31:25.979Z"
      },
      {
        "duration": 460,
        "start_time": "2023-04-14T10:32:18.300Z"
      },
      {
        "duration": 21,
        "start_time": "2023-04-14T10:32:18.762Z"
      },
      {
        "duration": 14,
        "start_time": "2023-04-14T10:32:18.785Z"
      },
      {
        "duration": 8,
        "start_time": "2023-04-14T10:32:18.801Z"
      },
      {
        "duration": 11,
        "start_time": "2023-04-14T10:32:18.811Z"
      },
      {
        "duration": 39,
        "start_time": "2023-04-14T10:32:18.824Z"
      },
      {
        "duration": 3,
        "start_time": "2023-04-14T10:32:18.865Z"
      },
      {
        "duration": 27,
        "start_time": "2023-04-14T10:32:18.869Z"
      },
      {
        "duration": 6,
        "start_time": "2023-04-14T10:32:18.898Z"
      },
      {
        "duration": 14,
        "start_time": "2023-04-14T10:32:18.906Z"
      },
      {
        "duration": 5,
        "start_time": "2023-04-14T10:32:18.923Z"
      },
      {
        "duration": 38,
        "start_time": "2023-04-14T10:32:18.929Z"
      },
      {
        "duration": 26,
        "start_time": "2023-04-14T10:32:18.969Z"
      },
      {
        "duration": 4,
        "start_time": "2023-04-14T10:32:18.998Z"
      },
      {
        "duration": 35,
        "start_time": "2023-04-14T10:32:19.004Z"
      },
      {
        "duration": 50,
        "start_time": "2023-04-14T10:32:19.041Z"
      },
      {
        "duration": 17,
        "start_time": "2023-04-14T10:32:19.093Z"
      },
      {
        "duration": 4,
        "start_time": "2023-04-14T10:32:19.112Z"
      },
      {
        "duration": 21,
        "start_time": "2023-04-14T10:32:19.118Z"
      },
      {
        "duration": 9,
        "start_time": "2023-04-14T10:32:19.141Z"
      },
      {
        "duration": 7,
        "start_time": "2023-04-14T10:32:19.152Z"
      },
      {
        "duration": 50,
        "start_time": "2023-04-14T10:32:19.161Z"
      },
      {
        "duration": 23,
        "start_time": "2023-04-14T10:32:19.213Z"
      },
      {
        "duration": 12,
        "start_time": "2023-04-14T10:32:19.238Z"
      },
      {
        "duration": 14,
        "start_time": "2023-04-14T10:32:19.252Z"
      },
      {
        "duration": 35,
        "start_time": "2023-04-14T10:32:19.267Z"
      },
      {
        "duration": 30,
        "start_time": "2023-04-14T10:32:19.304Z"
      },
      {
        "duration": 20,
        "start_time": "2023-04-14T10:32:19.338Z"
      },
      {
        "duration": 46,
        "start_time": "2023-04-14T10:32:19.360Z"
      },
      {
        "duration": 14,
        "start_time": "2023-04-14T10:32:19.408Z"
      },
      {
        "duration": 948,
        "start_time": "2023-04-14T10:32:59.682Z"
      },
      {
        "duration": 6,
        "start_time": "2023-04-14T10:33:10.337Z"
      },
      {
        "duration": 11,
        "start_time": "2023-04-14T10:33:25.391Z"
      },
      {
        "duration": 28,
        "start_time": "2023-04-14T10:33:31.594Z"
      },
      {
        "duration": 28,
        "start_time": "2023-04-14T10:34:05.680Z"
      },
      {
        "duration": 7,
        "start_time": "2023-04-14T10:34:25.984Z"
      },
      {
        "duration": 5,
        "start_time": "2023-04-14T10:34:39.284Z"
      },
      {
        "duration": 5,
        "start_time": "2023-04-14T10:34:46.480Z"
      },
      {
        "duration": 6,
        "start_time": "2023-04-14T10:34:57.388Z"
      },
      {
        "duration": 6,
        "start_time": "2023-04-14T10:35:05.385Z"
      },
      {
        "duration": 18,
        "start_time": "2023-04-14T10:35:28.283Z"
      },
      {
        "duration": 9,
        "start_time": "2023-04-14T10:36:50.602Z"
      },
      {
        "duration": 479,
        "start_time": "2023-04-14T10:37:21.873Z"
      },
      {
        "duration": 21,
        "start_time": "2023-04-14T10:37:22.354Z"
      },
      {
        "duration": 13,
        "start_time": "2023-04-14T10:37:22.377Z"
      },
      {
        "duration": 9,
        "start_time": "2023-04-14T10:37:22.392Z"
      },
      {
        "duration": 23,
        "start_time": "2023-04-14T10:37:22.403Z"
      },
      {
        "duration": 34,
        "start_time": "2023-04-14T10:37:22.427Z"
      },
      {
        "duration": 3,
        "start_time": "2023-04-14T10:37:22.462Z"
      },
      {
        "duration": 32,
        "start_time": "2023-04-14T10:37:22.467Z"
      },
      {
        "duration": 4,
        "start_time": "2023-04-14T10:37:22.500Z"
      },
      {
        "duration": 21,
        "start_time": "2023-04-14T10:37:22.507Z"
      },
      {
        "duration": 9,
        "start_time": "2023-04-14T10:37:22.530Z"
      },
      {
        "duration": 53,
        "start_time": "2023-04-14T10:37:22.541Z"
      },
      {
        "duration": 9,
        "start_time": "2023-04-14T10:37:22.595Z"
      },
      {
        "duration": 4,
        "start_time": "2023-04-14T10:37:22.606Z"
      },
      {
        "duration": 24,
        "start_time": "2023-04-14T10:37:22.611Z"
      },
      {
        "duration": 26,
        "start_time": "2023-04-14T10:37:22.636Z"
      },
      {
        "duration": 16,
        "start_time": "2023-04-14T10:37:22.664Z"
      },
      {
        "duration": 3,
        "start_time": "2023-04-14T10:37:22.681Z"
      },
      {
        "duration": 33,
        "start_time": "2023-04-14T10:37:22.695Z"
      },
      {
        "duration": 29,
        "start_time": "2023-04-14T10:37:22.730Z"
      },
      {
        "duration": 43,
        "start_time": "2023-04-14T10:37:22.761Z"
      },
      {
        "duration": 28,
        "start_time": "2023-04-14T10:37:22.806Z"
      },
      {
        "duration": 39,
        "start_time": "2023-04-14T10:37:22.836Z"
      },
      {
        "duration": 12,
        "start_time": "2023-04-14T10:37:22.877Z"
      },
      {
        "duration": 34,
        "start_time": "2023-04-14T10:37:22.890Z"
      },
      {
        "duration": 14,
        "start_time": "2023-04-14T10:37:22.926Z"
      },
      {
        "duration": 23,
        "start_time": "2023-04-14T10:37:22.941Z"
      },
      {
        "duration": 12,
        "start_time": "2023-04-14T10:37:22.967Z"
      },
      {
        "duration": 21,
        "start_time": "2023-04-14T10:37:22.981Z"
      },
      {
        "duration": 12,
        "start_time": "2023-04-14T10:37:23.004Z"
      },
      {
        "duration": 665,
        "start_time": "2023-04-14T10:40:58.519Z"
      },
      {
        "duration": 582,
        "start_time": "2023-04-14T10:41:34.483Z"
      },
      {
        "duration": 599,
        "start_time": "2023-04-14T10:41:36.632Z"
      },
      {
        "duration": 9,
        "start_time": "2023-04-14T10:43:05.297Z"
      },
      {
        "duration": 584,
        "start_time": "2023-04-14T10:43:19.899Z"
      },
      {
        "duration": 533,
        "start_time": "2023-04-14T10:43:40.615Z"
      },
      {
        "duration": 11,
        "start_time": "2023-04-14T10:46:05.952Z"
      },
      {
        "duration": 13,
        "start_time": "2023-04-14T10:46:21.282Z"
      },
      {
        "duration": 563,
        "start_time": "2023-04-14T10:46:36.442Z"
      },
      {
        "duration": 70,
        "start_time": "2023-04-14T10:47:46.907Z"
      },
      {
        "duration": 73,
        "start_time": "2023-04-14T10:48:07.042Z"
      },
      {
        "duration": 84,
        "start_time": "2023-04-14T10:48:13.370Z"
      },
      {
        "duration": 72,
        "start_time": "2023-04-14T10:48:20.508Z"
      },
      {
        "duration": 70,
        "start_time": "2023-04-14T10:48:33.722Z"
      },
      {
        "duration": 9,
        "start_time": "2023-04-14T10:48:44.894Z"
      },
      {
        "duration": 28,
        "start_time": "2023-04-14T10:48:58.190Z"
      },
      {
        "duration": 76,
        "start_time": "2023-04-14T10:49:31.235Z"
      },
      {
        "duration": 26,
        "start_time": "2023-04-14T10:49:38.174Z"
      },
      {
        "duration": 424,
        "start_time": "2023-04-14T10:49:45.734Z"
      },
      {
        "duration": 21,
        "start_time": "2023-04-14T10:49:46.160Z"
      },
      {
        "duration": 18,
        "start_time": "2023-04-14T10:49:46.182Z"
      },
      {
        "duration": 8,
        "start_time": "2023-04-14T10:49:46.202Z"
      },
      {
        "duration": 89,
        "start_time": "2023-04-14T10:49:46.212Z"
      },
      {
        "duration": 0,
        "start_time": "2023-04-14T10:49:46.303Z"
      },
      {
        "duration": 0,
        "start_time": "2023-04-14T10:49:46.304Z"
      },
      {
        "duration": 0,
        "start_time": "2023-04-14T10:49:46.307Z"
      },
      {
        "duration": 0,
        "start_time": "2023-04-14T10:49:46.308Z"
      },
      {
        "duration": 0,
        "start_time": "2023-04-14T10:49:46.309Z"
      },
      {
        "duration": 0,
        "start_time": "2023-04-14T10:49:46.310Z"
      },
      {
        "duration": 0,
        "start_time": "2023-04-14T10:49:46.311Z"
      },
      {
        "duration": 0,
        "start_time": "2023-04-14T10:49:46.312Z"
      },
      {
        "duration": 0,
        "start_time": "2023-04-14T10:49:46.313Z"
      },
      {
        "duration": 0,
        "start_time": "2023-04-14T10:49:46.314Z"
      },
      {
        "duration": 0,
        "start_time": "2023-04-14T10:49:46.316Z"
      },
      {
        "duration": 0,
        "start_time": "2023-04-14T10:49:46.317Z"
      },
      {
        "duration": 0,
        "start_time": "2023-04-14T10:49:46.319Z"
      },
      {
        "duration": 0,
        "start_time": "2023-04-14T10:49:46.320Z"
      },
      {
        "duration": 0,
        "start_time": "2023-04-14T10:49:46.321Z"
      },
      {
        "duration": 0,
        "start_time": "2023-04-14T10:49:46.322Z"
      },
      {
        "duration": 0,
        "start_time": "2023-04-14T10:49:46.323Z"
      },
      {
        "duration": 0,
        "start_time": "2023-04-14T10:49:46.324Z"
      },
      {
        "duration": 0,
        "start_time": "2023-04-14T10:49:46.325Z"
      },
      {
        "duration": 0,
        "start_time": "2023-04-14T10:49:46.326Z"
      },
      {
        "duration": 0,
        "start_time": "2023-04-14T10:49:46.328Z"
      },
      {
        "duration": 0,
        "start_time": "2023-04-14T10:49:46.329Z"
      },
      {
        "duration": 0,
        "start_time": "2023-04-14T10:49:46.330Z"
      },
      {
        "duration": 0,
        "start_time": "2023-04-14T10:49:46.332Z"
      },
      {
        "duration": 0,
        "start_time": "2023-04-14T10:49:46.333Z"
      },
      {
        "duration": 18,
        "start_time": "2023-04-14T10:50:05.842Z"
      },
      {
        "duration": 22,
        "start_time": "2023-04-14T10:50:25.121Z"
      },
      {
        "duration": 31,
        "start_time": "2023-04-14T10:51:34.122Z"
      },
      {
        "duration": 21,
        "start_time": "2023-04-14T10:52:32.331Z"
      },
      {
        "duration": 23,
        "start_time": "2023-04-14T10:52:39.305Z"
      },
      {
        "duration": 8,
        "start_time": "2023-04-14T10:58:43.810Z"
      },
      {
        "duration": 4,
        "start_time": "2023-04-14T10:58:52.734Z"
      },
      {
        "duration": 10,
        "start_time": "2023-04-14T10:58:54.563Z"
      },
      {
        "duration": 30,
        "start_time": "2023-04-14T11:03:36.814Z"
      },
      {
        "duration": 79,
        "start_time": "2023-04-14T11:12:09.418Z"
      },
      {
        "duration": 77,
        "start_time": "2023-04-14T11:19:35.856Z"
      },
      {
        "duration": 11,
        "start_time": "2023-04-14T11:20:00.014Z"
      },
      {
        "duration": 79,
        "start_time": "2023-04-14T11:20:41.495Z"
      },
      {
        "duration": 69,
        "start_time": "2023-04-14T11:26:36.704Z"
      },
      {
        "duration": 79,
        "start_time": "2023-04-14T11:27:18.900Z"
      },
      {
        "duration": 17,
        "start_time": "2023-04-14T11:27:18.981Z"
      },
      {
        "duration": 16,
        "start_time": "2023-04-14T11:27:18.999Z"
      },
      {
        "duration": 10,
        "start_time": "2023-04-14T11:27:19.017Z"
      },
      {
        "duration": 22,
        "start_time": "2023-04-14T11:27:19.029Z"
      },
      {
        "duration": 69,
        "start_time": "2023-04-14T11:27:19.052Z"
      },
      {
        "duration": 4,
        "start_time": "2023-04-14T11:27:19.122Z"
      },
      {
        "duration": 14,
        "start_time": "2023-04-14T11:27:19.128Z"
      },
      {
        "duration": 5,
        "start_time": "2023-04-14T11:27:19.143Z"
      },
      {
        "duration": 8,
        "start_time": "2023-04-14T11:27:19.149Z"
      },
      {
        "duration": 5,
        "start_time": "2023-04-14T11:27:19.158Z"
      },
      {
        "duration": 43,
        "start_time": "2023-04-14T11:27:19.195Z"
      },
      {
        "duration": 12,
        "start_time": "2023-04-14T11:27:19.239Z"
      },
      {
        "duration": 4,
        "start_time": "2023-04-14T11:27:19.254Z"
      },
      {
        "duration": 34,
        "start_time": "2023-04-14T11:27:19.260Z"
      },
      {
        "duration": 26,
        "start_time": "2023-04-14T11:27:19.297Z"
      },
      {
        "duration": 25,
        "start_time": "2023-04-14T11:27:19.324Z"
      },
      {
        "duration": 4,
        "start_time": "2023-04-14T11:27:19.352Z"
      },
      {
        "duration": 45,
        "start_time": "2023-04-14T11:27:19.358Z"
      },
      {
        "duration": 8,
        "start_time": "2023-04-14T11:27:19.405Z"
      },
      {
        "duration": 4,
        "start_time": "2023-04-14T11:27:19.415Z"
      },
      {
        "duration": 27,
        "start_time": "2023-04-14T11:27:19.422Z"
      },
      {
        "duration": 54,
        "start_time": "2023-04-14T11:27:19.451Z"
      },
      {
        "duration": 12,
        "start_time": "2023-04-14T11:27:19.507Z"
      },
      {
        "duration": 12,
        "start_time": "2023-04-14T11:27:19.521Z"
      },
      {
        "duration": 14,
        "start_time": "2023-04-14T11:27:19.535Z"
      },
      {
        "duration": 61,
        "start_time": "2023-04-14T11:27:19.551Z"
      },
      {
        "duration": 14,
        "start_time": "2023-04-14T11:27:19.614Z"
      },
      {
        "duration": 11,
        "start_time": "2023-04-14T11:27:19.630Z"
      },
      {
        "duration": 10,
        "start_time": "2023-04-14T11:27:19.643Z"
      },
      {
        "duration": 9,
        "start_time": "2023-04-14T11:37:38.775Z"
      },
      {
        "duration": 57,
        "start_time": "2023-04-14T11:37:38.786Z"
      },
      {
        "duration": 4,
        "start_time": "2023-04-14T11:37:38.844Z"
      },
      {
        "duration": 13,
        "start_time": "2023-04-14T11:37:38.849Z"
      },
      {
        "duration": 4,
        "start_time": "2023-04-14T11:37:38.864Z"
      },
      {
        "duration": 6,
        "start_time": "2023-04-14T11:37:38.870Z"
      },
      {
        "duration": 4,
        "start_time": "2023-04-14T11:37:38.877Z"
      },
      {
        "duration": 33,
        "start_time": "2023-04-14T11:37:38.882Z"
      },
      {
        "duration": 10,
        "start_time": "2023-04-14T11:37:38.916Z"
      },
      {
        "duration": 9,
        "start_time": "2023-04-14T11:37:38.927Z"
      },
      {
        "duration": 29,
        "start_time": "2023-04-14T11:37:38.939Z"
      },
      {
        "duration": 25,
        "start_time": "2023-04-14T11:37:38.969Z"
      },
      {
        "duration": 19,
        "start_time": "2023-04-14T11:37:38.996Z"
      },
      {
        "duration": 4,
        "start_time": "2023-04-14T11:37:39.017Z"
      },
      {
        "duration": 19,
        "start_time": "2023-04-14T11:37:39.022Z"
      },
      {
        "duration": 4,
        "start_time": "2023-04-14T11:37:39.043Z"
      },
      {
        "duration": 16,
        "start_time": "2023-04-14T11:37:39.049Z"
      },
      {
        "duration": 29,
        "start_time": "2023-04-14T11:37:39.066Z"
      },
      {
        "duration": 16,
        "start_time": "2023-04-14T11:37:39.097Z"
      },
      {
        "duration": 8,
        "start_time": "2023-04-14T11:37:39.115Z"
      },
      {
        "duration": 17,
        "start_time": "2023-04-14T11:37:39.124Z"
      },
      {
        "duration": 8,
        "start_time": "2023-04-14T11:37:39.143Z"
      },
      {
        "duration": 42,
        "start_time": "2023-04-14T11:37:39.153Z"
      },
      {
        "duration": 9,
        "start_time": "2023-04-14T11:37:39.196Z"
      },
      {
        "duration": 16,
        "start_time": "2023-04-14T11:37:39.206Z"
      },
      {
        "duration": 9,
        "start_time": "2023-04-14T11:37:39.223Z"
      },
      {
        "duration": 10,
        "start_time": "2023-04-14T11:38:29.272Z"
      },
      {
        "duration": 29,
        "start_time": "2023-04-14T11:38:41.261Z"
      },
      {
        "duration": 3,
        "start_time": "2023-04-14T11:38:41.292Z"
      },
      {
        "duration": 9,
        "start_time": "2023-04-14T11:38:41.296Z"
      },
      {
        "duration": 4,
        "start_time": "2023-04-14T11:38:41.307Z"
      },
      {
        "duration": 5,
        "start_time": "2023-04-14T11:38:41.313Z"
      },
      {
        "duration": 3,
        "start_time": "2023-04-14T11:38:41.320Z"
      },
      {
        "duration": 29,
        "start_time": "2023-04-14T11:38:41.325Z"
      },
      {
        "duration": 9,
        "start_time": "2023-04-14T11:38:41.356Z"
      },
      {
        "duration": 31,
        "start_time": "2023-04-14T11:38:41.366Z"
      },
      {
        "duration": 11,
        "start_time": "2023-04-14T11:38:41.399Z"
      },
      {
        "duration": 26,
        "start_time": "2023-04-14T11:38:41.412Z"
      },
      {
        "duration": 24,
        "start_time": "2023-04-14T11:38:41.440Z"
      },
      {
        "duration": 3,
        "start_time": "2023-04-14T11:38:41.466Z"
      },
      {
        "duration": 17,
        "start_time": "2023-04-14T11:38:41.495Z"
      },
      {
        "duration": 6,
        "start_time": "2023-04-14T11:38:41.514Z"
      },
      {
        "duration": 3,
        "start_time": "2023-04-14T11:38:41.521Z"
      },
      {
        "duration": 16,
        "start_time": "2023-04-14T11:38:41.526Z"
      },
      {
        "duration": 16,
        "start_time": "2023-04-14T11:38:41.544Z"
      },
      {
        "duration": 37,
        "start_time": "2023-04-14T11:38:41.561Z"
      },
      {
        "duration": 13,
        "start_time": "2023-04-14T11:38:41.599Z"
      },
      {
        "duration": 8,
        "start_time": "2023-04-14T11:38:41.613Z"
      },
      {
        "duration": 22,
        "start_time": "2023-04-14T11:38:41.623Z"
      },
      {
        "duration": 9,
        "start_time": "2023-04-14T11:38:41.647Z"
      },
      {
        "duration": 42,
        "start_time": "2023-04-14T11:38:41.657Z"
      },
      {
        "duration": 10,
        "start_time": "2023-04-14T11:38:42.057Z"
      },
      {
        "duration": 60,
        "start_time": "2023-04-14T11:38:46.134Z"
      },
      {
        "duration": 15,
        "start_time": "2023-04-14T11:38:46.195Z"
      },
      {
        "duration": 20,
        "start_time": "2023-04-14T11:38:46.211Z"
      },
      {
        "duration": 8,
        "start_time": "2023-04-14T11:38:46.233Z"
      },
      {
        "duration": 23,
        "start_time": "2023-04-14T11:38:46.243Z"
      },
      {
        "duration": 48,
        "start_time": "2023-04-14T11:38:46.268Z"
      },
      {
        "duration": 4,
        "start_time": "2023-04-14T11:38:46.317Z"
      },
      {
        "duration": 10,
        "start_time": "2023-04-14T11:38:46.322Z"
      },
      {
        "duration": 4,
        "start_time": "2023-04-14T11:38:46.333Z"
      },
      {
        "duration": 5,
        "start_time": "2023-04-14T11:38:46.339Z"
      },
      {
        "duration": 4,
        "start_time": "2023-04-14T11:38:46.345Z"
      },
      {
        "duration": 55,
        "start_time": "2023-04-14T11:38:46.350Z"
      },
      {
        "duration": 8,
        "start_time": "2023-04-14T11:38:46.407Z"
      },
      {
        "duration": 19,
        "start_time": "2023-04-14T11:38:46.416Z"
      },
      {
        "duration": 18,
        "start_time": "2023-04-14T11:38:46.437Z"
      },
      {
        "duration": 31,
        "start_time": "2023-04-14T11:38:46.457Z"
      },
      {
        "duration": 15,
        "start_time": "2023-04-14T11:38:46.490Z"
      },
      {
        "duration": 3,
        "start_time": "2023-04-14T11:38:46.507Z"
      },
      {
        "duration": 32,
        "start_time": "2023-04-14T11:38:46.511Z"
      },
      {
        "duration": 5,
        "start_time": "2023-04-14T11:38:46.545Z"
      },
      {
        "duration": 8,
        "start_time": "2023-04-14T11:38:46.552Z"
      },
      {
        "duration": 19,
        "start_time": "2023-04-14T11:38:46.562Z"
      },
      {
        "duration": 22,
        "start_time": "2023-04-14T11:38:46.582Z"
      },
      {
        "duration": 9,
        "start_time": "2023-04-14T11:38:46.605Z"
      },
      {
        "duration": 16,
        "start_time": "2023-04-14T11:38:46.615Z"
      },
      {
        "duration": 13,
        "start_time": "2023-04-14T11:38:46.632Z"
      },
      {
        "duration": 20,
        "start_time": "2023-04-14T11:38:46.646Z"
      },
      {
        "duration": 27,
        "start_time": "2023-04-14T11:38:46.668Z"
      },
      {
        "duration": 10,
        "start_time": "2023-04-14T11:38:46.697Z"
      },
      {
        "duration": 13,
        "start_time": "2023-04-14T11:38:46.709Z"
      },
      {
        "duration": 8,
        "start_time": "2023-04-14T11:39:42.456Z"
      },
      {
        "duration": 62,
        "start_time": "2023-04-14T11:39:55.569Z"
      },
      {
        "duration": 14,
        "start_time": "2023-04-14T11:39:55.633Z"
      },
      {
        "duration": 18,
        "start_time": "2023-04-14T11:39:55.648Z"
      },
      {
        "duration": 27,
        "start_time": "2023-04-14T11:39:55.668Z"
      },
      {
        "duration": 17,
        "start_time": "2023-04-14T11:39:55.697Z"
      },
      {
        "duration": 14,
        "start_time": "2023-04-14T11:39:55.716Z"
      },
      {
        "duration": 18,
        "start_time": "2023-04-14T11:40:54.583Z"
      },
      {
        "duration": 7,
        "start_time": "2023-04-14T11:40:55.284Z"
      },
      {
        "duration": 11,
        "start_time": "2023-04-14T11:41:27.891Z"
      },
      {
        "duration": 7,
        "start_time": "2023-04-14T11:41:51.556Z"
      },
      {
        "duration": 9,
        "start_time": "2023-04-14T11:42:04.958Z"
      },
      {
        "duration": 5,
        "start_time": "2023-04-14T11:42:17.795Z"
      },
      {
        "duration": 7,
        "start_time": "2023-04-14T11:43:34.473Z"
      },
      {
        "duration": 64,
        "start_time": "2023-04-14T14:25:31.281Z"
      },
      {
        "duration": 14,
        "start_time": "2023-04-14T14:25:31.347Z"
      },
      {
        "duration": 50,
        "start_time": "2023-04-14T14:25:31.362Z"
      },
      {
        "duration": 36,
        "start_time": "2023-04-14T14:25:31.415Z"
      },
      {
        "duration": 43,
        "start_time": "2023-04-14T14:25:31.453Z"
      },
      {
        "duration": 8,
        "start_time": "2023-04-14T14:25:31.498Z"
      },
      {
        "duration": 53,
        "start_time": "2023-04-14T14:25:31.508Z"
      },
      {
        "duration": 9,
        "start_time": "2023-04-14T14:25:31.563Z"
      },
      {
        "duration": 38,
        "start_time": "2023-04-14T14:25:31.573Z"
      },
      {
        "duration": 33,
        "start_time": "2023-04-14T14:25:31.614Z"
      },
      {
        "duration": 30,
        "start_time": "2023-04-14T14:25:31.649Z"
      },
      {
        "duration": 47,
        "start_time": "2023-04-14T14:25:31.680Z"
      },
      {
        "duration": 52,
        "start_time": "2023-04-14T14:25:31.728Z"
      },
      {
        "duration": 9,
        "start_time": "2023-04-14T14:25:31.782Z"
      },
      {
        "duration": 15,
        "start_time": "2023-04-14T14:25:31.793Z"
      },
      {
        "duration": 23,
        "start_time": "2023-04-14T14:25:31.810Z"
      },
      {
        "duration": 41,
        "start_time": "2023-04-14T14:25:31.835Z"
      },
      {
        "duration": 22,
        "start_time": "2023-04-14T14:25:31.878Z"
      },
      {
        "duration": 28,
        "start_time": "2023-04-14T14:25:31.901Z"
      },
      {
        "duration": 44,
        "start_time": "2023-04-14T14:25:31.930Z"
      },
      {
        "duration": 26,
        "start_time": "2023-04-14T14:25:31.975Z"
      },
      {
        "duration": 22,
        "start_time": "2023-04-14T14:25:32.002Z"
      },
      {
        "duration": 36,
        "start_time": "2023-04-14T14:25:32.026Z"
      },
      {
        "duration": 29,
        "start_time": "2023-04-14T14:25:32.064Z"
      },
      {
        "duration": 10,
        "start_time": "2023-04-14T14:25:32.094Z"
      },
      {
        "duration": 28,
        "start_time": "2023-04-14T14:25:32.106Z"
      },
      {
        "duration": 10,
        "start_time": "2023-04-14T14:25:32.136Z"
      },
      {
        "duration": 24,
        "start_time": "2023-04-14T14:25:32.149Z"
      },
      {
        "duration": 9,
        "start_time": "2023-04-14T14:25:32.175Z"
      },
      {
        "duration": 14,
        "start_time": "2023-04-14T14:25:32.185Z"
      },
      {
        "duration": 9,
        "start_time": "2023-04-14T14:25:32.201Z"
      },
      {
        "duration": 12,
        "start_time": "2023-04-14T15:39:21.177Z"
      },
      {
        "duration": 8,
        "start_time": "2023-04-14T15:43:41.540Z"
      },
      {
        "duration": 18,
        "start_time": "2023-04-14T15:45:05.180Z"
      },
      {
        "duration": 9,
        "start_time": "2023-04-14T15:45:22.247Z"
      },
      {
        "duration": 9,
        "start_time": "2023-04-14T15:46:22.128Z"
      },
      {
        "duration": 9,
        "start_time": "2023-04-14T15:47:02.747Z"
      },
      {
        "duration": 9,
        "start_time": "2023-04-14T15:47:25.622Z"
      },
      {
        "duration": 6,
        "start_time": "2023-04-14T15:59:59.950Z"
      },
      {
        "duration": 7,
        "start_time": "2023-04-14T16:00:28.180Z"
      },
      {
        "duration": 10,
        "start_time": "2023-04-14T16:00:46.471Z"
      },
      {
        "duration": 9,
        "start_time": "2023-04-14T16:03:16.883Z"
      },
      {
        "duration": 67,
        "start_time": "2023-04-14T16:04:56.979Z"
      },
      {
        "duration": 100,
        "start_time": "2023-04-14T16:05:18.240Z"
      },
      {
        "duration": 4,
        "start_time": "2023-04-14T16:05:28.651Z"
      },
      {
        "duration": 9,
        "start_time": "2023-04-14T16:05:39.430Z"
      },
      {
        "duration": 9,
        "start_time": "2023-04-14T16:06:40.241Z"
      },
      {
        "duration": 10,
        "start_time": "2023-04-14T16:06:50.633Z"
      },
      {
        "duration": 9,
        "start_time": "2023-04-14T16:19:05.652Z"
      },
      {
        "duration": 9,
        "start_time": "2023-04-14T16:23:57.104Z"
      },
      {
        "duration": 55,
        "start_time": "2023-04-14T16:25:10.039Z"
      },
      {
        "duration": 10,
        "start_time": "2023-04-14T16:25:52.763Z"
      },
      {
        "duration": 7,
        "start_time": "2023-04-14T16:28:06.139Z"
      },
      {
        "duration": 7,
        "start_time": "2023-04-14T16:28:21.100Z"
      },
      {
        "duration": 9,
        "start_time": "2023-04-14T16:28:43.177Z"
      },
      {
        "duration": 62,
        "start_time": "2023-04-14T16:29:02.679Z"
      },
      {
        "duration": 14,
        "start_time": "2023-04-14T16:29:02.743Z"
      },
      {
        "duration": 15,
        "start_time": "2023-04-14T16:29:02.758Z"
      },
      {
        "duration": 24,
        "start_time": "2023-04-14T16:29:02.774Z"
      },
      {
        "duration": 19,
        "start_time": "2023-04-14T16:29:02.800Z"
      },
      {
        "duration": 5,
        "start_time": "2023-04-14T16:29:02.820Z"
      },
      {
        "duration": 29,
        "start_time": "2023-04-14T16:29:02.826Z"
      },
      {
        "duration": 3,
        "start_time": "2023-04-14T16:29:02.856Z"
      },
      {
        "duration": 36,
        "start_time": "2023-04-14T16:29:02.860Z"
      },
      {
        "duration": 4,
        "start_time": "2023-04-14T16:29:02.898Z"
      },
      {
        "duration": 6,
        "start_time": "2023-04-14T16:29:02.904Z"
      },
      {
        "duration": 6,
        "start_time": "2023-04-14T16:29:02.912Z"
      },
      {
        "duration": 33,
        "start_time": "2023-04-14T16:29:02.919Z"
      },
      {
        "duration": 9,
        "start_time": "2023-04-14T16:29:02.955Z"
      },
      {
        "duration": 32,
        "start_time": "2023-04-14T16:29:02.965Z"
      },
      {
        "duration": 11,
        "start_time": "2023-04-14T16:29:02.998Z"
      },
      {
        "duration": 17,
        "start_time": "2023-04-14T16:29:03.011Z"
      },
      {
        "duration": 16,
        "start_time": "2023-04-14T16:29:03.030Z"
      },
      {
        "duration": 3,
        "start_time": "2023-04-14T16:29:03.047Z"
      },
      {
        "duration": 43,
        "start_time": "2023-04-14T16:29:03.052Z"
      },
      {
        "duration": 6,
        "start_time": "2023-04-14T16:29:03.097Z"
      },
      {
        "duration": 5,
        "start_time": "2023-04-14T16:29:03.104Z"
      },
      {
        "duration": 19,
        "start_time": "2023-04-14T16:29:03.111Z"
      },
      {
        "duration": 19,
        "start_time": "2023-04-14T16:29:03.131Z"
      },
      {
        "duration": 10,
        "start_time": "2023-04-14T16:29:03.151Z"
      },
      {
        "duration": 42,
        "start_time": "2023-04-14T16:29:03.163Z"
      },
      {
        "duration": 10,
        "start_time": "2023-04-14T16:29:03.207Z"
      },
      {
        "duration": 20,
        "start_time": "2023-04-14T16:29:03.218Z"
      },
      {
        "duration": 10,
        "start_time": "2023-04-14T16:29:03.240Z"
      },
      {
        "duration": 16,
        "start_time": "2023-04-14T16:29:03.251Z"
      },
      {
        "duration": 11,
        "start_time": "2023-04-14T16:29:03.295Z"
      },
      {
        "duration": 10,
        "start_time": "2023-04-14T16:29:03.308Z"
      },
      {
        "duration": 11,
        "start_time": "2023-04-14T16:29:53.779Z"
      },
      {
        "duration": 14,
        "start_time": "2023-04-14T16:30:32.066Z"
      },
      {
        "duration": 10,
        "start_time": "2023-04-14T16:31:33.535Z"
      },
      {
        "duration": 11,
        "start_time": "2023-04-14T16:32:06.918Z"
      },
      {
        "duration": 10,
        "start_time": "2023-04-14T16:33:12.799Z"
      },
      {
        "duration": 19,
        "start_time": "2023-04-14T16:34:28.183Z"
      },
      {
        "duration": 11,
        "start_time": "2023-04-14T16:35:25.089Z"
      },
      {
        "duration": 11,
        "start_time": "2023-04-14T16:35:57.884Z"
      },
      {
        "duration": 10,
        "start_time": "2023-04-14T16:37:14.284Z"
      },
      {
        "duration": 61,
        "start_time": "2023-04-14T16:37:25.471Z"
      },
      {
        "duration": 13,
        "start_time": "2023-04-14T16:37:25.534Z"
      },
      {
        "duration": 16,
        "start_time": "2023-04-14T16:37:25.549Z"
      },
      {
        "duration": 29,
        "start_time": "2023-04-14T16:37:25.566Z"
      },
      {
        "duration": 21,
        "start_time": "2023-04-14T16:37:25.597Z"
      },
      {
        "duration": 5,
        "start_time": "2023-04-14T16:37:25.619Z"
      },
      {
        "duration": 30,
        "start_time": "2023-04-14T16:37:25.626Z"
      },
      {
        "duration": 3,
        "start_time": "2023-04-14T16:37:25.658Z"
      },
      {
        "duration": 37,
        "start_time": "2023-04-14T16:37:25.662Z"
      },
      {
        "duration": 5,
        "start_time": "2023-04-14T16:37:25.700Z"
      },
      {
        "duration": 33,
        "start_time": "2023-04-14T16:37:25.706Z"
      },
      {
        "duration": 30,
        "start_time": "2023-04-14T16:37:25.740Z"
      },
      {
        "duration": 41,
        "start_time": "2023-04-14T16:37:25.771Z"
      },
      {
        "duration": 9,
        "start_time": "2023-04-14T16:37:25.815Z"
      },
      {
        "duration": 5,
        "start_time": "2023-04-14T16:37:25.825Z"
      },
      {
        "duration": 12,
        "start_time": "2023-04-14T16:37:25.831Z"
      },
      {
        "duration": 24,
        "start_time": "2023-04-14T16:37:25.844Z"
      },
      {
        "duration": 32,
        "start_time": "2023-04-14T16:37:25.870Z"
      },
      {
        "duration": 3,
        "start_time": "2023-04-14T16:37:25.904Z"
      },
      {
        "duration": 22,
        "start_time": "2023-04-14T16:37:25.909Z"
      },
      {
        "duration": 5,
        "start_time": "2023-04-14T16:37:25.932Z"
      },
      {
        "duration": 7,
        "start_time": "2023-04-14T16:37:25.939Z"
      },
      {
        "duration": 19,
        "start_time": "2023-04-14T16:37:25.947Z"
      },
      {
        "duration": 33,
        "start_time": "2023-04-14T16:37:25.967Z"
      },
      {
        "duration": 11,
        "start_time": "2023-04-14T16:37:26.001Z"
      },
      {
        "duration": 23,
        "start_time": "2023-04-14T16:37:26.014Z"
      },
      {
        "duration": 11,
        "start_time": "2023-04-14T16:37:26.038Z"
      },
      {
        "duration": 23,
        "start_time": "2023-04-14T16:37:26.051Z"
      },
      {
        "duration": 26,
        "start_time": "2023-04-14T16:37:26.076Z"
      },
      {
        "duration": 13,
        "start_time": "2023-04-14T16:37:26.104Z"
      },
      {
        "duration": 10,
        "start_time": "2023-04-14T16:37:26.119Z"
      },
      {
        "duration": 11,
        "start_time": "2023-04-14T16:37:26.131Z"
      },
      {
        "duration": 9,
        "start_time": "2023-04-14T17:17:05.774Z"
      },
      {
        "duration": 8,
        "start_time": "2023-04-14T17:17:13.930Z"
      },
      {
        "duration": 71,
        "start_time": "2023-04-14T17:19:11.090Z"
      },
      {
        "duration": 75,
        "start_time": "2023-04-14T17:30:11.669Z"
      },
      {
        "duration": 63,
        "start_time": "2023-04-14T17:40:49.465Z"
      },
      {
        "duration": 13,
        "start_time": "2023-04-14T17:40:49.530Z"
      },
      {
        "duration": 17,
        "start_time": "2023-04-14T17:40:49.545Z"
      },
      {
        "duration": 38,
        "start_time": "2023-04-14T17:40:49.564Z"
      },
      {
        "duration": 29,
        "start_time": "2023-04-14T17:40:49.603Z"
      },
      {
        "duration": 7,
        "start_time": "2023-04-14T17:40:49.634Z"
      },
      {
        "duration": 29,
        "start_time": "2023-04-14T17:40:49.643Z"
      },
      {
        "duration": 22,
        "start_time": "2023-04-14T17:40:49.674Z"
      },
      {
        "duration": 22,
        "start_time": "2023-04-14T17:40:49.697Z"
      },
      {
        "duration": 7,
        "start_time": "2023-04-14T17:40:49.721Z"
      },
      {
        "duration": 5,
        "start_time": "2023-04-14T17:40:49.729Z"
      },
      {
        "duration": 4,
        "start_time": "2023-04-14T17:40:49.736Z"
      },
      {
        "duration": 31,
        "start_time": "2023-04-14T17:40:49.741Z"
      },
      {
        "duration": 27,
        "start_time": "2023-04-14T17:40:49.773Z"
      },
      {
        "duration": 3,
        "start_time": "2023-04-14T17:40:49.802Z"
      },
      {
        "duration": 16,
        "start_time": "2023-04-14T17:40:49.807Z"
      },
      {
        "duration": 19,
        "start_time": "2023-04-14T17:40:49.825Z"
      },
      {
        "duration": 17,
        "start_time": "2023-04-14T17:40:49.846Z"
      },
      {
        "duration": 30,
        "start_time": "2023-04-14T17:40:49.865Z"
      },
      {
        "duration": 24,
        "start_time": "2023-04-14T17:40:49.896Z"
      },
      {
        "duration": 10,
        "start_time": "2023-04-14T17:40:49.922Z"
      },
      {
        "duration": 24,
        "start_time": "2023-04-14T17:40:49.933Z"
      },
      {
        "duration": 19,
        "start_time": "2023-04-14T17:40:49.958Z"
      },
      {
        "duration": 19,
        "start_time": "2023-04-14T17:40:49.979Z"
      },
      {
        "duration": 11,
        "start_time": "2023-04-14T17:40:50.000Z"
      },
      {
        "duration": 23,
        "start_time": "2023-04-14T17:40:50.013Z"
      },
      {
        "duration": 15,
        "start_time": "2023-04-14T17:40:50.038Z"
      },
      {
        "duration": 20,
        "start_time": "2023-04-14T17:40:50.056Z"
      },
      {
        "duration": 26,
        "start_time": "2023-04-14T17:40:50.078Z"
      },
      {
        "duration": 18,
        "start_time": "2023-04-14T17:40:50.106Z"
      },
      {
        "duration": 15,
        "start_time": "2023-04-14T17:40:50.125Z"
      },
      {
        "duration": 21,
        "start_time": "2023-04-14T17:40:50.141Z"
      },
      {
        "duration": 451,
        "start_time": "2023-04-14T17:58:58.499Z"
      },
      {
        "duration": 30,
        "start_time": "2023-04-14T17:58:58.952Z"
      },
      {
        "duration": 14,
        "start_time": "2023-04-14T17:58:58.983Z"
      },
      {
        "duration": 10,
        "start_time": "2023-04-14T17:58:58.999Z"
      },
      {
        "duration": 28,
        "start_time": "2023-04-14T17:58:59.011Z"
      },
      {
        "duration": 6,
        "start_time": "2023-04-14T17:58:59.041Z"
      },
      {
        "duration": 53,
        "start_time": "2023-04-14T17:58:59.048Z"
      },
      {
        "duration": 3,
        "start_time": "2023-04-14T17:58:59.103Z"
      },
      {
        "duration": 30,
        "start_time": "2023-04-14T17:58:59.108Z"
      },
      {
        "duration": 8,
        "start_time": "2023-04-14T17:58:59.141Z"
      },
      {
        "duration": 21,
        "start_time": "2023-04-14T17:58:59.150Z"
      },
      {
        "duration": 14,
        "start_time": "2023-04-14T17:58:59.173Z"
      },
      {
        "duration": 44,
        "start_time": "2023-04-14T17:58:59.189Z"
      },
      {
        "duration": 9,
        "start_time": "2023-04-14T17:58:59.235Z"
      },
      {
        "duration": 5,
        "start_time": "2023-04-14T17:58:59.245Z"
      },
      {
        "duration": 30,
        "start_time": "2023-04-14T17:58:59.251Z"
      },
      {
        "duration": 25,
        "start_time": "2023-04-14T17:58:59.283Z"
      },
      {
        "duration": 17,
        "start_time": "2023-04-14T17:58:59.310Z"
      },
      {
        "duration": 4,
        "start_time": "2023-04-14T17:58:59.328Z"
      },
      {
        "duration": 34,
        "start_time": "2023-04-14T17:58:59.334Z"
      },
      {
        "duration": 26,
        "start_time": "2023-04-14T17:58:59.369Z"
      },
      {
        "duration": 5,
        "start_time": "2023-04-14T17:58:59.396Z"
      },
      {
        "duration": 24,
        "start_time": "2023-04-14T17:58:59.403Z"
      },
      {
        "duration": 24,
        "start_time": "2023-04-14T17:58:59.428Z"
      },
      {
        "duration": 11,
        "start_time": "2023-04-14T17:58:59.454Z"
      },
      {
        "duration": 13,
        "start_time": "2023-04-14T17:58:59.495Z"
      },
      {
        "duration": 16,
        "start_time": "2023-04-14T17:58:59.509Z"
      },
      {
        "duration": 32,
        "start_time": "2023-04-14T17:58:59.529Z"
      },
      {
        "duration": 12,
        "start_time": "2023-04-14T17:58:59.563Z"
      },
      {
        "duration": 23,
        "start_time": "2023-04-14T17:58:59.593Z"
      },
      {
        "duration": 12,
        "start_time": "2023-04-14T17:58:59.618Z"
      },
      {
        "duration": 37,
        "start_time": "2023-04-14T17:58:59.631Z"
      },
      {
        "duration": 19,
        "start_time": "2023-04-14T18:01:08.676Z"
      },
      {
        "duration": 55,
        "start_time": "2023-04-15T07:00:30.526Z"
      },
      {
        "duration": 792,
        "start_time": "2023-04-15T07:00:55.208Z"
      },
      {
        "duration": 35,
        "start_time": "2023-04-15T07:00:56.003Z"
      },
      {
        "duration": 24,
        "start_time": "2023-04-15T07:00:56.040Z"
      },
      {
        "duration": 29,
        "start_time": "2023-04-15T07:00:56.067Z"
      },
      {
        "duration": 41,
        "start_time": "2023-04-15T07:00:56.100Z"
      },
      {
        "duration": 19,
        "start_time": "2023-04-15T07:00:56.144Z"
      },
      {
        "duration": 64,
        "start_time": "2023-04-15T07:00:56.165Z"
      },
      {
        "duration": 6,
        "start_time": "2023-04-15T07:00:56.231Z"
      },
      {
        "duration": 42,
        "start_time": "2023-04-15T07:00:56.239Z"
      },
      {
        "duration": 23,
        "start_time": "2023-04-15T07:00:56.285Z"
      },
      {
        "duration": 31,
        "start_time": "2023-04-15T07:00:56.309Z"
      },
      {
        "duration": 15,
        "start_time": "2023-04-15T07:00:56.342Z"
      },
      {
        "duration": 59,
        "start_time": "2023-04-15T07:00:56.358Z"
      },
      {
        "duration": 12,
        "start_time": "2023-04-15T07:00:56.419Z"
      },
      {
        "duration": 21,
        "start_time": "2023-04-15T07:00:56.434Z"
      },
      {
        "duration": 41,
        "start_time": "2023-04-15T07:00:56.457Z"
      },
      {
        "duration": 48,
        "start_time": "2023-04-15T07:00:56.500Z"
      },
      {
        "duration": 20,
        "start_time": "2023-04-15T07:00:56.550Z"
      },
      {
        "duration": 10,
        "start_time": "2023-04-15T07:00:56.572Z"
      },
      {
        "duration": 53,
        "start_time": "2023-04-15T07:00:56.585Z"
      },
      {
        "duration": 23,
        "start_time": "2023-04-15T07:00:56.639Z"
      },
      {
        "duration": 23,
        "start_time": "2023-04-15T07:00:56.665Z"
      },
      {
        "duration": 63,
        "start_time": "2023-04-15T07:00:56.690Z"
      },
      {
        "duration": 38,
        "start_time": "2023-04-15T07:00:56.755Z"
      },
      {
        "duration": 26,
        "start_time": "2023-04-15T07:00:56.795Z"
      },
      {
        "duration": 37,
        "start_time": "2023-04-15T07:00:56.823Z"
      },
      {
        "duration": 13,
        "start_time": "2023-04-15T07:00:56.861Z"
      },
      {
        "duration": 42,
        "start_time": "2023-04-15T07:00:56.877Z"
      },
      {
        "duration": 24,
        "start_time": "2023-04-15T07:00:56.921Z"
      },
      {
        "duration": 30,
        "start_time": "2023-04-15T07:00:56.947Z"
      },
      {
        "duration": 20,
        "start_time": "2023-04-15T07:00:56.979Z"
      },
      {
        "duration": 36,
        "start_time": "2023-04-15T07:00:57.002Z"
      },
      {
        "duration": 402,
        "start_time": "2023-04-15T07:04:49.325Z"
      },
      {
        "duration": 240,
        "start_time": "2023-04-15T07:05:46.310Z"
      },
      {
        "duration": 26,
        "start_time": "2023-04-15T07:06:23.611Z"
      },
      {
        "duration": 557,
        "start_time": "2023-04-15T07:24:29.982Z"
      },
      {
        "duration": 26,
        "start_time": "2023-04-15T07:24:42.151Z"
      },
      {
        "duration": 19,
        "start_time": "2023-04-15T07:26:14.013Z"
      },
      {
        "duration": 26,
        "start_time": "2023-04-15T07:26:24.735Z"
      },
      {
        "duration": 26,
        "start_time": "2023-04-15T08:03:52.082Z"
      },
      {
        "duration": 31,
        "start_time": "2023-04-15T08:05:19.814Z"
      },
      {
        "duration": 29,
        "start_time": "2023-04-15T08:07:31.218Z"
      },
      {
        "duration": 30,
        "start_time": "2023-04-15T08:08:44.440Z"
      },
      {
        "duration": 31,
        "start_time": "2023-04-15T08:09:45.540Z"
      },
      {
        "duration": 31,
        "start_time": "2023-04-15T08:10:38.849Z"
      },
      {
        "duration": 29,
        "start_time": "2023-04-15T08:11:00.513Z"
      },
      {
        "duration": 23,
        "start_time": "2023-04-15T08:11:27.007Z"
      },
      {
        "duration": 406,
        "start_time": "2023-04-15T08:11:47.717Z"
      },
      {
        "duration": 37,
        "start_time": "2023-04-15T08:11:56.145Z"
      },
      {
        "duration": 28,
        "start_time": "2023-04-15T08:23:51.805Z"
      },
      {
        "duration": 19,
        "start_time": "2023-04-15T08:29:06.001Z"
      },
      {
        "duration": 498,
        "start_time": "2023-04-15T09:40:37.865Z"
      },
      {
        "duration": 26,
        "start_time": "2023-04-15T09:40:38.365Z"
      },
      {
        "duration": 43,
        "start_time": "2023-04-15T09:40:38.393Z"
      },
      {
        "duration": 23,
        "start_time": "2023-04-15T09:40:38.439Z"
      },
      {
        "duration": 36,
        "start_time": "2023-04-15T09:40:38.465Z"
      },
      {
        "duration": 10,
        "start_time": "2023-04-15T09:40:38.503Z"
      },
      {
        "duration": 62,
        "start_time": "2023-04-15T09:40:38.515Z"
      },
      {
        "duration": 4,
        "start_time": "2023-04-15T09:40:38.580Z"
      },
      {
        "duration": 27,
        "start_time": "2023-04-15T09:40:38.586Z"
      },
      {
        "duration": 6,
        "start_time": "2023-04-15T09:40:38.616Z"
      },
      {
        "duration": 7,
        "start_time": "2023-04-15T09:40:38.642Z"
      },
      {
        "duration": 8,
        "start_time": "2023-04-15T09:40:38.651Z"
      },
      {
        "duration": 44,
        "start_time": "2023-04-15T09:40:38.661Z"
      },
      {
        "duration": 35,
        "start_time": "2023-04-15T09:40:38.707Z"
      },
      {
        "duration": 27,
        "start_time": "2023-04-15T09:40:38.744Z"
      },
      {
        "duration": 79,
        "start_time": "2023-04-15T09:40:38.773Z"
      },
      {
        "duration": 50,
        "start_time": "2023-04-15T09:40:38.854Z"
      },
      {
        "duration": 29,
        "start_time": "2023-04-15T09:40:38.905Z"
      },
      {
        "duration": 6,
        "start_time": "2023-04-15T09:40:38.936Z"
      },
      {
        "duration": 35,
        "start_time": "2023-04-15T09:40:38.944Z"
      },
      {
        "duration": 21,
        "start_time": "2023-04-15T09:40:38.981Z"
      },
      {
        "duration": 31,
        "start_time": "2023-04-15T09:40:39.003Z"
      },
      {
        "duration": 50,
        "start_time": "2023-04-15T09:40:39.036Z"
      },
      {
        "duration": 41,
        "start_time": "2023-04-15T09:40:39.087Z"
      },
      {
        "duration": 40,
        "start_time": "2023-04-15T09:40:39.130Z"
      },
      {
        "duration": 29,
        "start_time": "2023-04-15T09:40:39.173Z"
      },
      {
        "duration": 17,
        "start_time": "2023-04-15T09:40:39.204Z"
      },
      {
        "duration": 27,
        "start_time": "2023-04-15T09:40:39.226Z"
      },
      {
        "duration": 26,
        "start_time": "2023-04-15T09:40:39.256Z"
      },
      {
        "duration": 24,
        "start_time": "2023-04-15T09:40:39.284Z"
      },
      {
        "duration": 19,
        "start_time": "2023-04-15T09:40:39.310Z"
      },
      {
        "duration": 19,
        "start_time": "2023-04-15T09:40:39.331Z"
      },
      {
        "duration": 26,
        "start_time": "2023-04-15T09:52:34.286Z"
      },
      {
        "duration": 954,
        "start_time": "2023-04-15T11:10:40.681Z"
      },
      {
        "duration": 39,
        "start_time": "2023-04-15T11:10:41.638Z"
      },
      {
        "duration": 35,
        "start_time": "2023-04-15T11:10:41.679Z"
      },
      {
        "duration": 56,
        "start_time": "2023-04-15T11:10:41.717Z"
      },
      {
        "duration": 38,
        "start_time": "2023-04-15T11:10:41.776Z"
      },
      {
        "duration": 16,
        "start_time": "2023-04-15T11:10:41.817Z"
      },
      {
        "duration": 93,
        "start_time": "2023-04-15T11:10:41.840Z"
      },
      {
        "duration": 11,
        "start_time": "2023-04-15T11:10:41.942Z"
      },
      {
        "duration": 44,
        "start_time": "2023-04-15T11:10:41.955Z"
      },
      {
        "duration": 81,
        "start_time": "2023-04-15T11:10:42.005Z"
      },
      {
        "duration": 28,
        "start_time": "2023-04-15T11:10:42.089Z"
      },
      {
        "duration": 58,
        "start_time": "2023-04-15T11:10:42.119Z"
      },
      {
        "duration": 89,
        "start_time": "2023-04-15T11:10:42.179Z"
      },
      {
        "duration": 20,
        "start_time": "2023-04-15T11:10:42.270Z"
      },
      {
        "duration": 33,
        "start_time": "2023-04-15T11:10:42.292Z"
      },
      {
        "duration": 57,
        "start_time": "2023-04-15T11:10:42.328Z"
      },
      {
        "duration": 58,
        "start_time": "2023-04-15T11:10:42.387Z"
      },
      {
        "duration": 44,
        "start_time": "2023-04-15T11:10:42.448Z"
      },
      {
        "duration": 6,
        "start_time": "2023-04-15T11:10:42.494Z"
      },
      {
        "duration": 53,
        "start_time": "2023-04-15T11:10:42.505Z"
      },
      {
        "duration": 48,
        "start_time": "2023-04-15T11:10:42.560Z"
      },
      {
        "duration": 28,
        "start_time": "2023-04-15T11:10:42.610Z"
      },
      {
        "duration": 87,
        "start_time": "2023-04-15T11:10:42.640Z"
      },
      {
        "duration": 80,
        "start_time": "2023-04-15T11:10:42.729Z"
      },
      {
        "duration": 15,
        "start_time": "2023-04-15T11:10:42.812Z"
      },
      {
        "duration": 66,
        "start_time": "2023-04-15T11:10:42.830Z"
      },
      {
        "duration": 32,
        "start_time": "2023-04-15T11:10:42.898Z"
      },
      {
        "duration": 121,
        "start_time": "2023-04-15T11:10:42.935Z"
      },
      {
        "duration": 28,
        "start_time": "2023-04-15T11:10:43.061Z"
      },
      {
        "duration": 97,
        "start_time": "2023-04-15T11:10:43.091Z"
      },
      {
        "duration": 41,
        "start_time": "2023-04-15T11:10:43.191Z"
      },
      {
        "duration": 84,
        "start_time": "2023-04-15T11:10:43.237Z"
      },
      {
        "duration": 64,
        "start_time": "2023-04-15T11:56:18.124Z"
      },
      {
        "duration": 77,
        "start_time": "2023-04-15T12:17:12.685Z"
      },
      {
        "duration": 130,
        "start_time": "2023-04-16T12:36:16.184Z"
      },
      {
        "duration": 580,
        "start_time": "2023-04-16T12:46:18.980Z"
      },
      {
        "duration": 29,
        "start_time": "2023-04-16T12:46:19.563Z"
      },
      {
        "duration": 30,
        "start_time": "2023-04-16T12:46:19.595Z"
      },
      {
        "duration": 12,
        "start_time": "2023-04-16T12:46:19.627Z"
      },
      {
        "duration": 28,
        "start_time": "2023-04-16T12:46:19.642Z"
      },
      {
        "duration": 5,
        "start_time": "2023-04-16T12:46:19.672Z"
      },
      {
        "duration": 56,
        "start_time": "2023-04-16T12:46:19.678Z"
      },
      {
        "duration": 5,
        "start_time": "2023-04-16T12:46:19.736Z"
      },
      {
        "duration": 8,
        "start_time": "2023-04-16T12:46:19.742Z"
      },
      {
        "duration": 6,
        "start_time": "2023-04-16T12:46:19.752Z"
      },
      {
        "duration": 7,
        "start_time": "2023-04-16T12:46:19.759Z"
      },
      {
        "duration": 29,
        "start_time": "2023-04-16T12:46:19.768Z"
      },
      {
        "duration": 43,
        "start_time": "2023-04-16T12:46:19.800Z"
      },
      {
        "duration": 9,
        "start_time": "2023-04-16T12:46:19.847Z"
      },
      {
        "duration": 5,
        "start_time": "2023-04-16T12:46:19.857Z"
      },
      {
        "duration": 35,
        "start_time": "2023-04-16T12:46:19.864Z"
      },
      {
        "duration": 26,
        "start_time": "2023-04-16T12:46:19.907Z"
      },
      {
        "duration": 19,
        "start_time": "2023-04-16T12:46:19.935Z"
      },
      {
        "duration": 5,
        "start_time": "2023-04-16T12:46:19.957Z"
      },
      {
        "duration": 14,
        "start_time": "2023-04-16T12:46:19.964Z"
      },
      {
        "duration": 8,
        "start_time": "2023-04-16T12:46:19.994Z"
      },
      {
        "duration": 8,
        "start_time": "2023-04-16T12:46:20.004Z"
      },
      {
        "duration": 37,
        "start_time": "2023-04-16T12:46:20.015Z"
      },
      {
        "duration": 29,
        "start_time": "2023-04-16T12:46:20.054Z"
      },
      {
        "duration": 23,
        "start_time": "2023-04-16T12:46:20.084Z"
      },
      {
        "duration": 97,
        "start_time": "2023-04-16T12:46:20.111Z"
      },
      {
        "duration": 0,
        "start_time": "2023-04-16T12:46:20.209Z"
      },
      {
        "duration": 0,
        "start_time": "2023-04-16T12:46:20.211Z"
      },
      {
        "duration": 0,
        "start_time": "2023-04-16T12:46:20.212Z"
      },
      {
        "duration": 0,
        "start_time": "2023-04-16T12:46:20.213Z"
      },
      {
        "duration": 0,
        "start_time": "2023-04-16T12:46:20.214Z"
      },
      {
        "duration": 0,
        "start_time": "2023-04-16T12:46:20.215Z"
      },
      {
        "duration": 24,
        "start_time": "2023-04-16T12:46:29.738Z"
      },
      {
        "duration": 27,
        "start_time": "2023-04-16T12:46:39.737Z"
      },
      {
        "duration": 56,
        "start_time": "2023-04-16T12:47:45.513Z"
      },
      {
        "duration": 56,
        "start_time": "2023-04-16T12:48:16.312Z"
      },
      {
        "duration": 48,
        "start_time": "2023-04-16T12:49:40.833Z"
      },
      {
        "duration": 50,
        "start_time": "2023-06-07T07:14:56.211Z"
      },
      {
        "duration": 7,
        "start_time": "2023-06-07T07:14:57.008Z"
      },
      {
        "duration": 542,
        "start_time": "2023-06-07T07:15:31.778Z"
      },
      {
        "duration": 21,
        "start_time": "2023-06-07T07:15:32.322Z"
      },
      {
        "duration": 18,
        "start_time": "2023-06-07T07:15:32.345Z"
      },
      {
        "duration": 10,
        "start_time": "2023-06-07T07:15:32.365Z"
      },
      {
        "duration": 24,
        "start_time": "2023-06-07T07:15:32.376Z"
      },
      {
        "duration": 11,
        "start_time": "2023-06-07T07:15:32.402Z"
      },
      {
        "duration": 44,
        "start_time": "2023-06-07T07:15:32.414Z"
      },
      {
        "duration": 3,
        "start_time": "2023-06-07T07:15:32.460Z"
      },
      {
        "duration": 17,
        "start_time": "2023-06-07T07:15:32.465Z"
      },
      {
        "duration": 10,
        "start_time": "2023-06-07T07:15:32.484Z"
      },
      {
        "duration": 7,
        "start_time": "2023-06-07T07:15:32.495Z"
      },
      {
        "duration": 10,
        "start_time": "2023-06-07T07:15:32.504Z"
      },
      {
        "duration": 43,
        "start_time": "2023-06-07T07:15:32.516Z"
      },
      {
        "duration": 9,
        "start_time": "2023-06-07T07:15:32.560Z"
      },
      {
        "duration": 13,
        "start_time": "2023-06-07T07:15:32.575Z"
      },
      {
        "duration": 35,
        "start_time": "2023-06-07T07:15:32.590Z"
      },
      {
        "duration": 20,
        "start_time": "2023-06-07T07:15:32.628Z"
      },
      {
        "duration": 17,
        "start_time": "2023-06-07T07:15:32.650Z"
      },
      {
        "duration": 6,
        "start_time": "2023-06-07T07:15:32.670Z"
      },
      {
        "duration": 17,
        "start_time": "2023-06-07T07:15:32.678Z"
      },
      {
        "duration": 6,
        "start_time": "2023-06-07T07:15:32.697Z"
      },
      {
        "duration": 4,
        "start_time": "2023-06-07T07:15:32.704Z"
      },
      {
        "duration": 26,
        "start_time": "2023-06-07T07:15:32.709Z"
      },
      {
        "duration": 46,
        "start_time": "2023-06-07T07:15:32.737Z"
      },
      {
        "duration": 9,
        "start_time": "2023-06-07T07:15:32.785Z"
      },
      {
        "duration": 62,
        "start_time": "2023-06-07T07:15:32.796Z"
      },
      {
        "duration": 21,
        "start_time": "2023-06-07T07:15:32.860Z"
      },
      {
        "duration": 10,
        "start_time": "2023-06-07T07:15:32.885Z"
      },
      {
        "duration": 42,
        "start_time": "2023-06-07T07:15:32.896Z"
      },
      {
        "duration": 11,
        "start_time": "2023-06-07T07:15:32.940Z"
      },
      {
        "duration": 27,
        "start_time": "2023-06-07T07:15:32.952Z"
      },
      {
        "duration": 11,
        "start_time": "2023-06-07T07:15:32.980Z"
      }
    ],
    "colab": {
      "provenance": []
    },
    "kernelspec": {
      "display_name": "Python 3 (ipykernel)",
      "language": "python",
      "name": "python3"
    },
    "language_info": {
      "codemirror_mode": {
        "name": "ipython",
        "version": 3
      },
      "file_extension": ".py",
      "mimetype": "text/x-python",
      "name": "python",
      "nbconvert_exporter": "python",
      "pygments_lexer": "ipython3",
      "version": "3.9.16"
    },
    "toc": {
      "base_numbering": 1,
      "nav_menu": {},
      "number_sections": true,
      "sideBar": true,
      "skip_h1_title": true,
      "title_cell": "Table of Contents",
      "title_sidebar": "Contents",
      "toc_cell": false,
      "toc_position": {
        "height": "calc(100% - 180px)",
        "left": "10px",
        "top": "150px",
        "width": "297.6px"
      },
      "toc_section_display": true,
      "toc_window_display": false
    }
  },
  "nbformat": 4,
  "nbformat_minor": 5
}